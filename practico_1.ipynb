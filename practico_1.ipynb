{
 "cells": [
  {
   "cell_type": "markdown",
   "metadata": {},
   "source": [
    "# Mentoría 'de cómo clasificar en géneros a las canciones'\n",
    "## Práctico I : Análisis de features de audio"
   ]
  },
  {
   "cell_type": "markdown",
   "metadata": {},
   "source": [
    "**Consideraciones:**\n",
    "- Se evalúa el estilo y prolijidad del código.\n",
    "- Se permite hacer trabajo extra, siempre y cuando las actividades básicas estén resueltas."
   ]
  },
  {
   "cell_type": "markdown",
   "metadata": {},
   "source": [
    "### Librerías"
   ]
  },
  {
   "cell_type": "code",
   "execution_count": null,
   "metadata": {},
   "outputs": [],
   "source": [
    "!pip3 install spotipy\n",
    "!pip3 install pandas\n",
    "\n",
    "# Agregar las librerías extra que se utilicen en esta celda y la siguiente"
   ]
  },
  {
   "cell_type": "markdown",
   "metadata": {},
   "source": [
    "### Dependencias y acceso al API"
   ]
  },
  {
   "cell_type": "code",
   "execution_count": 17,
   "metadata": {},
   "outputs": [],
   "source": [
    "import pandas as pd\n",
    "import numpy as np\n",
    "import spotipy\n",
    "from spotipy.oauth2 import SpotifyClientCredentials\n",
    "\n",
    "client_id = '46b333d567314a89a6254b6c6b054be6'\n",
    "client_secret = '9d922c3613e441518349dcf55f7d5853'\n",
    "client_credentials_manager = SpotifyClientCredentials(client_id=client_id, client_secret=client_secret)\n",
    "\n",
    "sp = spotipy.Spotify(client_credentials_manager=client_credentials_manager)\n",
    "#dir(sp)"
   ]
  },
  {
   "cell_type": "markdown",
   "metadata": {},
   "source": [
    "### 1) Plantear una pregunta que quieran responder con estos datos\n",
    "\n",
    "Las preguntas pueden ser por ejemplo: \n",
    "- ¿Por qué este artista destaca dentro de su género?\n",
    "- ¿Por qué no lo hace?\n",
    "- ¿Por qué un género musical es más escuchado que otro?\n",
    "\n",
    "Sin embargo, pueden usar cualquier afirmación que hayan leído en internet y que se pueda responder con los datos este trabajo para validarla o rechazarla.\n",
    "- ¿Por qué este artista es underground/nicho?"
   ]
  },
  {
   "cell_type": "markdown",
   "metadata": {},
   "source": []
  },
  {
   "cell_type": "markdown",
   "metadata": {},
   "source": [
    "### 2) Obtener datos para responder la pregunta\n",
    "\n",
    "Para esto hay que hacer pedidos a la API para obtener una lista de canciones de sus artistas, de las cuáles se obtienen sus features de audio como en este [ejemplo](https://developer.spotify.com/console/get-audio-features-track/?id=17VP4tofJ3evJbtY8Tk1Qi) de la versión web de la API. Una vez obtenidos los datos, seleccionar un subconjunto de 5 o 6 features de audio y agrupar los datos en un [DataFrame de pandas](https://pandas.pydata.org/pandas-docs/stable/reference/api/pandas.DataFrame.html).\n",
    "\n",
    "**Recomendación** : Usar un dataframe para su artista y otro para la competencia si es que eligierone esa opción, les va a ahorrar tiempo.\n",
    "\n",
    "**Aclaración** : Si plantearon una pregunta que no requiera los datos de la consigna, obtengan esos datos."
   ]
  },
  {
   "cell_type": "code",
   "execution_count": 107,
   "metadata": {},
   "outputs": [
    {
     "data": {
      "text/plain": [
       "([{'song_id': '3klBAH0wi8hR1kvRmiHRvw', 'song_name': 'Piel'},\n",
       "  {'song_id': '1cwTMSQeMaA9fVKEF1iWeD', 'song_name': 'Anoche'},\n",
       "  {'song_id': '7821evdNgB6lfrGm85OUx8', 'song_name': 'Saunter'},\n",
       "  {'song_id': '6o3fcBmZ6TyQaWku5mgtoJ', 'song_name': 'Urchin'},\n",
       "  {'song_id': '5XR2r8uYYnUNVyks8X6CUa', 'song_name': 'Reverie'},\n",
       "  {'song_id': '6K28lktZ092hzvLqtsJNBa', 'song_name': 'Castration'},\n",
       "  {'song_id': '0aL27vskbMpwsMGUkHm3Zf', 'song_name': 'Sin Rumbo'},\n",
       "  {'song_id': '70MJjaS7zLo4pdC95z2PmE', 'song_name': 'Coraje'},\n",
       "  {'song_id': '29BE4bBrio1O4BD5FQkvTz', 'song_name': 'Whip'},\n",
       "  {'song_id': '7j9DYPyCuvSAtPcevpAkzb', 'song_name': 'Desafío'},\n",
       "  {'song_id': '64hxMTTqC5QVJDVHF8nybG', 'song_name': 'Fugaces'},\n",
       "  {'song_id': '6710gBUhQfgmGb27S91PlZ', 'song_name': 'Miel'},\n",
       "  {'song_id': '3hBhimrgcgZtlrYze3bbDf', 'song_name': 'Child'},\n",
       "  {'song_id': '2qEzmk3ZOiP6IqTVDX5f2k', 'song_name': 'Alive'},\n",
       "  {'song_id': '0HKbPGvbA4eSNra29Ilpal', 'song_name': 'Mutant'},\n",
       "  {'song_id': '1CBmOQhbeKAJUMAdhCdtYg', 'song_name': 'Vanity'},\n",
       "  {'song_id': '5nxVJ5LbDO4xmNUSbF5ktW', 'song_name': 'Sinner'},\n",
       "  {'song_id': '1QofoyawKCfWd5lZXwE02k', 'song_name': 'Anger'},\n",
       "  {'song_id': '1k1G04TRopiq5v6PqenKE1', 'song_name': 'Sever'},\n",
       "  {'song_id': '78zjcyfax8t24IizIIgTwJ', 'song_name': 'Beacon'},\n",
       "  {'song_id': '1TFrBYANAAMqSZs7CzPZMX', 'song_name': 'Snakes'},\n",
       "  {'song_id': '2vKsfcKTTUTZJtTEdn4X14', 'song_name': 'Else'},\n",
       "  {'song_id': '4SfFlSwO4VJYLRy3HyVRH7', 'song_name': 'Umbilical'},\n",
       "  {'song_id': '6CW6Jy10hWBnpSAfBcYETf', 'song_name': 'Hymn'},\n",
       "  {'song_id': '7m10CrbWqryqcvEedx3lGR', 'song_name': 'Front Load'},\n",
       "  {'song_id': '1nN4n7IAbK8HkFhQgdvYJa', 'song_name': 'Gratitud'},\n",
       "  {'song_id': '7j3fo4LYxHD71hd3dMlU49', 'song_name': 'En'},\n",
       "  {'song_id': '3NYM0fM2xnsEmqCpMSmxre', 'song_name': 'Siren Interlude'},\n",
       "  {'song_id': '7u2YvD7FTiuwZjpQtqbBez', 'song_name': 'Extent'},\n",
       "  {'song_id': '1E8p8OTJFFnrCHctQD9Hwk', 'song_name': 'Enveloped'},\n",
       "  {'song_id': '5tpBo3vx1Ml5nrSBIRmq8t', 'song_name': 'Faggot'},\n",
       "  {'song_id': '4zsfqkM7X1ZYcMAXpGkOO5', 'song_name': 'Soichiro'},\n",
       "  {'song_id': '6qtkYnWEkqme3Wwzks7zVH', 'song_name': 'Peonies'},\n",
       "  {'song_id': '1RUmUj7ayraeUdattLtiNk', 'song_name': 'Now You Know'},\n",
       "  {'song_id': '40OJsO4Ai59TSi1tI88QKk', 'song_name': 'Held Apart'},\n",
       "  {'song_id': '39zfKARxXEboHxYgpFHE8L', 'song_name': 'Xen'},\n",
       "  {'song_id': '3T60lTwPqldZEVhpI0f7Sl', 'song_name': 'Sad Bitch'},\n",
       "  {'song_id': '3IZ4RDLtNW4uZ67q0ixX58', 'song_name': 'Sisters'},\n",
       "  {'song_id': '3WHblt9xuh9t35aikjbHwo', 'song_name': 'Slit Thru'},\n",
       "  {'song_id': '4VX0PUQpKVkO43G5kcdeoA', 'song_name': 'Failed'},\n",
       "  {'song_id': '5cXq4ndLrOCOdcTQrIxpGL', 'song_name': 'Family Violence'},\n",
       "  {'song_id': '6WPEDxLDjOM9pcyaCMYDDM', 'song_name': 'Thievery'},\n",
       "  {'song_id': '3jbU1TQ0hTCzXApWIN82qT', 'song_name': 'Lonely Thugg'},\n",
       "  {'song_id': '0tOR8zvHEctMGJxeoB1l0e', 'song_name': 'Fish'},\n",
       "  {'song_id': '4sG00e5gH3aE1e997E8ukb', 'song_name': 'Wound'},\n",
       "  {'song_id': '4F5oJRPDI6lZ03PxN8VhhN', 'song_name': 'Bullet Chained'},\n",
       "  {'song_id': '7BQ1jwMAf1QsDA6zYsTAKl', 'song_name': 'Tongue'},\n",
       "  {'song_id': '02llUrf2xrB96rfGDYDIol', 'song_name': 'Promise'},\n",
       "  {'song_id': '3SL17r0E2fxL1baF19QLk3', 'song_name': '????? A'},\n",
       "  {'song_id': '3zsgnDmIpV5cS9TiDjg5PM', 'song_name': '????? B'}],\n",
       " ['art pop',\n",
       "  'dance pop',\n",
       "  'electropop',\n",
       "  'escape room',\n",
       "  'experimental pop',\n",
       "  'fluxwork',\n",
       "  'indietronica'])"
      ]
     },
     "execution_count": 107,
     "metadata": {},
     "output_type": "execute_result"
    }
   ],
   "source": [
    "arca_artist = sp.artist(\"4SQdUpG4f7UbkJG3cJ2Iyj\")\n",
    "genres = arca_artist['genres']\n",
    "#albums\n",
    "arca_album = sp.album(\"1MQO4j8QExVgmnplbIodEU\")\n",
    "mutant_album = sp.album(\"3fwSyVNEGlsbX9B1M26hAl\")\n",
    "xen_album = sp.album(\"464zvUkFelizqhQwnxJS3V\")\n",
    "#dict con song_name, song_id, album_id, \n",
    "songs = []\n",
    "def get_songs_from_album(album):\n",
    "    for i in range(album['total_tracks']):\n",
    "        track = {}\n",
    "        track[\"song_name\"] = album['tracks']['items'][i]['name']\n",
    "        track[\"song_id\"] = album['tracks']['items'][i]['id']\n",
    "        songs.append(track)\n",
    "    #print( arca_album['tracks']['items'][i])\n",
    "    #artist_name.append(t['artists'][0]['name'])\n",
    "for album in [arca_album,mutant_album,xen_album]:\n",
    "    get_songs_from_album(album)\n",
    "\n",
    "songs,genres"
   ]
  },
  {
   "cell_type": "markdown",
   "metadata": {},
   "source": [
    "### 3) Hacer un gráfico de estilo [radar chart](https://en.wikipedia.org/wiki/Radar_chart)  comparando a su artista o banda con 'la competencia'\n",
    "En esta parte tienen que hacer los gráficos tomando como parámetros las features de audio que eligieron. Pueden usar la librería que quieran para hacer los gráficos.\n",
    "\n",
    "**Recomendaciones** : \n",
    "- Hacer ambos gráficos en una misma figura.\n",
    "- Antes de graficar, obtener los valores medios o medianos para los valores de las features. \n",
    "- Chequear los rangos de valores para cada feature antes de hacer los gráficos.\n",
    "\n",
    "**Aclaración**: pueden usar otro tipo de gráfico si lo consideran particularmente útil para resolver su pregunta."
   ]
  },
  {
   "cell_type": "code",
   "execution_count": null,
   "metadata": {},
   "outputs": [],
   "source": []
  },
  {
   "cell_type": "markdown",
   "metadata": {},
   "source": [
    "### 4) Escribir un informe"
   ]
  },
  {
   "cell_type": "markdown",
   "metadata": {},
   "source": [
    "Este informe tiene que describir qué datos que obtuvieron, el volumen de estos (# de canciones del artista, # de canciones de la competencia, etc), una explicación de cómo estos se relacionan con la pregunta planteada, cómo ayudan a responderla y los resultados que obtuvieron. Usar la celda de abajo con formato markdown."
   ]
  },
  {
   "cell_type": "markdown",
   "metadata": {},
   "source": []
  }
 ],
 "metadata": {
  "kernelspec": {
   "display_name": "Python 3",
   "language": "python",
   "name": "python3"
  },
  "language_info": {
   "codemirror_mode": {
    "name": "ipython",
    "version": 3
   },
   "file_extension": ".py",
   "mimetype": "text/x-python",
   "name": "python",
   "nbconvert_exporter": "python",
   "pygments_lexer": "ipython3",
   "version": "3.6.9"
  }
 },
 "nbformat": 4,
 "nbformat_minor": 2
}
