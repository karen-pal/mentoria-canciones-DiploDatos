{
 "cells": [
  {
   "cell_type": "markdown",
   "metadata": {},
   "source": [
    "# Mentoría 'de cómo clasificar en géneros a las canciones'\n",
    "## Práctico I : Análisis de features de audio"
   ]
  },
  {
   "cell_type": "markdown",
   "metadata": {},
   "source": [
    "**Consideraciones:**\n",
    "- Se evalúa el estilo y prolijidad del código.\n",
    "- Se permite hacer trabajo extra, siempre y cuando las actividades básicas estén resueltas."
   ]
  },
  {
   "cell_type": "markdown",
   "metadata": {},
   "source": [
    "### Librerías"
   ]
  },
  {
   "cell_type": "code",
   "execution_count": null,
   "metadata": {},
   "outputs": [],
   "source": [
    "!pip3 install spotipy\n",
    "!pip3 install pandas\n",
    "\n",
    "# Agregar las librerías extra que se utilicen en esta celda y la siguiente"
   ]
  },
  {
   "cell_type": "markdown",
   "metadata": {},
   "source": [
    "### Dependencias y acceso al API"
   ]
  },
  {
   "cell_type": "code",
   "execution_count": 1,
   "metadata": {},
   "outputs": [],
   "source": [
    "import pandas as pd\n",
    "import numpy as np\n",
    "import spotipy\n",
    "from spotipy.oauth2 import SpotifyClientCredentials\n",
    "\n",
    "client_id = '46b333d567314a89a6254b6c6b054be6'\n",
    "client_secret = '9d922c3613e441518349dcf55f7d5853'\n",
    "client_credentials_manager = SpotifyClientCredentials(client_id=client_id, client_secret=client_secret)\n",
    "\n",
    "sp = spotipy.Spotify(client_credentials_manager=client_credentials_manager)\n",
    "#dir(sp)"
   ]
  },
  {
   "cell_type": "markdown",
   "metadata": {},
   "source": [
    "### 1) Plantear una pregunta que quieran responder con estos datos\n",
    "\n",
    "Las preguntas pueden ser por ejemplo: \n",
    "- ¿Por qué este artista destaca dentro de su género?\n",
    "- ¿Por qué no lo hace?\n",
    "- ¿Por qué un género musical es más escuchado que otro?\n",
    "\n",
    "Sin embargo, pueden usar cualquier afirmación que hayan leído en internet y que se pueda responder con los datos este trabajo para validarla o rechazarla.\n",
    "\n",
    "### Pregunta: Qué tan bien representan las features de audio de Spotify las características de canciones experimentales?\n",
    "\n",
    "- Cómo se comportan las features ante la música experimental? Son capaces de representar lo que se escucha o dan resultados erróneos?\n",
    "\n"
   ]
  },
  {
   "cell_type": "markdown",
   "metadata": {},
   "source": [
    "### 2) Obtener datos para responder la pregunta\n",
    "\n",
    "Para esto hay que hacer pedidos a la API para obtener una lista de canciones de sus artistas, de las cuáles se obtienen sus features de audio como en este [ejemplo](https://developer.spotify.com/console/get-audio-features-track/?id=17VP4tofJ3evJbtY8Tk1Qi) de la versión web de la API. Una vez obtenidos los datos, seleccionar un subconjunto de 5 o 6 features de audio y agrupar los datos en un [DataFrame de pandas](https://pandas.pydata.org/pandas-docs/stable/reference/api/pandas.DataFrame.html).\n",
    "\n",
    "**Recomendación** : Usar un dataframe para su artista y otro para la competencia si es que eligierone esa opción, les va a ahorrar tiempo.\n",
    "\n",
    "**Aclaración** : Si plantearon una pregunta que no requiera los datos de la consigna, obtengan esos datos."
   ]
  },
  {
   "cell_type": "code",
   "execution_count": 28,
   "metadata": {},
   "outputs": [],
   "source": [
    "# aux functions\n",
    "def genres_by_artist_id(id):\n",
    "    artist = sp.artist(id)\n",
    "    genres = artist['genres']\n",
    "    return genres\n",
    "\n",
    "def songs_from_album_id(album_id): #album_id : str\n",
    "    songs = []\n",
    "    album = sp.album(album_id)\n",
    "    for i in range(album['total_tracks']):\n",
    "        track = {}\n",
    "        track[\"song_name\"] = album['tracks']['items'][i]['name']\n",
    "        track[\"song_id\"] = album['tracks']['items'][i]['id']\n",
    "        track[\"album_name\"] = album['name']\n",
    "        track[\"album_id\"] = album[\"id\"]\n",
    "        songs.append(track)\n",
    "    return songs\n",
    "\n",
    "def add_track(track_id, songs): #track_id:str, songs:List[dict]\n",
    "    track = sp.track(track_id)\n",
    "    audio_features = sp.audio_features(track_id)\n",
    "    row = {}\n",
    "    row[\"song_name\"] =track['name']\n",
    "    row[\"song_id\"] = track['id']\n",
    "    row[\"album_name\"] = track['album']['name']\n",
    "    row[\"album_id\"] = album['album']['id']\n",
    "    row[\"audio_features\"] = audio_features[0]\n",
    "    songs.append(row)\n",
    "    return songs\n",
    "\n",
    "def add_audio_features(songs): #songs: List[dict]\n",
    "    for i in range(len(songs)):\n",
    "        songs[i][\"audio_features\"] = sp.audio_features(songs[i][\"song_id\"])[0]\n",
    "    return songs"
   ]
  },
  {
   "cell_type": "code",
   "execution_count": 73,
   "metadata": {},
   "outputs": [
    {
     "data": {
      "text/plain": [
       "{'acousticness': 0.507,\n",
       " 'analysis_url': 'https://api.spotify.com/v1/audio-analysis/4Y2W4zKa3q72ztbkA0r8Va',\n",
       " 'danceability': 0.322,\n",
       " 'duration_ms': 300187,\n",
       " 'energy': 0.615,\n",
       " 'id': '4Y2W4zKa3q72ztbkA0r8Va',\n",
       " 'instrumentalness': 0.819,\n",
       " 'key': 11,\n",
       " 'liveness': 0.0677,\n",
       " 'loudness': -10.774,\n",
       " 'mode': 1,\n",
       " 'speechiness': 0.0427,\n",
       " 'tempo': 167.95,\n",
       " 'time_signature': 4,\n",
       " 'track_href': 'https://api.spotify.com/v1/tracks/4Y2W4zKa3q72ztbkA0r8Va',\n",
       " 'type': 'audio_features',\n",
       " 'uri': 'spotify:track:4Y2W4zKa3q72ztbkA0r8Va',\n",
       " 'valence': 0.0361}"
      ]
     },
     "execution_count": 73,
     "metadata": {},
     "output_type": "execute_result"
    }
   ],
   "source": [
    "aud= sp.audio_features(\"4Y2W4zKa3q72ztbkA0r8Va\")[0]\n",
    "aud\n",
    "#genres_by_artist_id(\"4SQdUpG4f7UbkJG3cJ2Iyj\")"
   ]
  },
  {
   "cell_type": "code",
   "execution_count": 21,
   "metadata": {},
   "outputs": [
    {
     "data": {
      "text/html": [
       "<div>\n",
       "<style scoped>\n",
       "    .dataframe tbody tr th:only-of-type {\n",
       "        vertical-align: middle;\n",
       "    }\n",
       "\n",
       "    .dataframe tbody tr th {\n",
       "        vertical-align: top;\n",
       "    }\n",
       "\n",
       "    .dataframe thead th {\n",
       "        text-align: right;\n",
       "    }\n",
       "</style>\n",
       "<table border=\"1\" class=\"dataframe\">\n",
       "  <thead>\n",
       "    <tr style=\"text-align: right;\">\n",
       "      <th></th>\n",
       "      <th>acousticness</th>\n",
       "      <th>danceability</th>\n",
       "      <th>duration_ms</th>\n",
       "      <th>energy</th>\n",
       "      <th>instrumentalness</th>\n",
       "      <th>key</th>\n",
       "      <th>liveness</th>\n",
       "      <th>loudness</th>\n",
       "      <th>mode</th>\n",
       "      <th>speechiness</th>\n",
       "      <th>tempo</th>\n",
       "      <th>time_signature</th>\n",
       "      <th>valence</th>\n",
       "    </tr>\n",
       "  </thead>\n",
       "  <tbody>\n",
       "    <tr>\n",
       "      <th>count</th>\n",
       "      <td>50.000000</td>\n",
       "      <td>50.000000</td>\n",
       "      <td>50.000000</td>\n",
       "      <td>50.000000</td>\n",
       "      <td>50.000000</td>\n",
       "      <td>50.000000</td>\n",
       "      <td>50.00000</td>\n",
       "      <td>50.000000</td>\n",
       "      <td>50.000000</td>\n",
       "      <td>50.000000</td>\n",
       "      <td>50.000000</td>\n",
       "      <td>50.000000</td>\n",
       "      <td>50.000000</td>\n",
       "    </tr>\n",
       "    <tr>\n",
       "      <th>mean</th>\n",
       "      <td>0.329928</td>\n",
       "      <td>0.388700</td>\n",
       "      <td>187878.620000</td>\n",
       "      <td>0.497274</td>\n",
       "      <td>0.492349</td>\n",
       "      <td>5.880000</td>\n",
       "      <td>0.20056</td>\n",
       "      <td>-11.070700</td>\n",
       "      <td>0.500000</td>\n",
       "      <td>0.128838</td>\n",
       "      <td>110.085740</td>\n",
       "      <td>3.980000</td>\n",
       "      <td>0.196830</td>\n",
       "    </tr>\n",
       "    <tr>\n",
       "      <th>std</th>\n",
       "      <td>0.365397</td>\n",
       "      <td>0.176202</td>\n",
       "      <td>85566.344989</td>\n",
       "      <td>0.237744</td>\n",
       "      <td>0.354766</td>\n",
       "      <td>3.662496</td>\n",
       "      <td>0.14496</td>\n",
       "      <td>4.760213</td>\n",
       "      <td>0.505076</td>\n",
       "      <td>0.146931</td>\n",
       "      <td>35.773402</td>\n",
       "      <td>0.868731</td>\n",
       "      <td>0.152027</td>\n",
       "    </tr>\n",
       "    <tr>\n",
       "      <th>min</th>\n",
       "      <td>0.001520</td>\n",
       "      <td>0.148000</td>\n",
       "      <td>43524.000000</td>\n",
       "      <td>0.025700</td>\n",
       "      <td>0.000000</td>\n",
       "      <td>0.000000</td>\n",
       "      <td>0.05780</td>\n",
       "      <td>-23.257000</td>\n",
       "      <td>0.000000</td>\n",
       "      <td>0.031200</td>\n",
       "      <td>57.174000</td>\n",
       "      <td>1.000000</td>\n",
       "      <td>0.032200</td>\n",
       "    </tr>\n",
       "    <tr>\n",
       "      <th>25%</th>\n",
       "      <td>0.019750</td>\n",
       "      <td>0.231500</td>\n",
       "      <td>133184.750000</td>\n",
       "      <td>0.287750</td>\n",
       "      <td>0.140000</td>\n",
       "      <td>2.250000</td>\n",
       "      <td>0.10550</td>\n",
       "      <td>-13.389750</td>\n",
       "      <td>0.000000</td>\n",
       "      <td>0.041100</td>\n",
       "      <td>77.060750</td>\n",
       "      <td>4.000000</td>\n",
       "      <td>0.080775</td>\n",
       "    </tr>\n",
       "    <tr>\n",
       "      <th>50%</th>\n",
       "      <td>0.153150</td>\n",
       "      <td>0.359000</td>\n",
       "      <td>177771.000000</td>\n",
       "      <td>0.517000</td>\n",
       "      <td>0.542500</td>\n",
       "      <td>6.000000</td>\n",
       "      <td>0.14950</td>\n",
       "      <td>-10.680000</td>\n",
       "      <td>0.500000</td>\n",
       "      <td>0.059600</td>\n",
       "      <td>113.162000</td>\n",
       "      <td>4.000000</td>\n",
       "      <td>0.154000</td>\n",
       "    </tr>\n",
       "    <tr>\n",
       "      <th>75%</th>\n",
       "      <td>0.617750</td>\n",
       "      <td>0.522250</td>\n",
       "      <td>219339.500000</td>\n",
       "      <td>0.689250</td>\n",
       "      <td>0.844750</td>\n",
       "      <td>9.000000</td>\n",
       "      <td>0.26700</td>\n",
       "      <td>-7.213500</td>\n",
       "      <td>1.000000</td>\n",
       "      <td>0.162750</td>\n",
       "      <td>129.356750</td>\n",
       "      <td>4.000000</td>\n",
       "      <td>0.297250</td>\n",
       "    </tr>\n",
       "    <tr>\n",
       "      <th>max</th>\n",
       "      <td>0.993000</td>\n",
       "      <td>0.745000</td>\n",
       "      <td>548746.000000</td>\n",
       "      <td>0.895000</td>\n",
       "      <td>0.969000</td>\n",
       "      <td>11.000000</td>\n",
       "      <td>0.69800</td>\n",
       "      <td>-4.849000</td>\n",
       "      <td>1.000000</td>\n",
       "      <td>0.721000</td>\n",
       "      <td>191.563000</td>\n",
       "      <td>5.000000</td>\n",
       "      <td>0.674000</td>\n",
       "    </tr>\n",
       "  </tbody>\n",
       "</table>\n",
       "</div>"
      ],
      "text/plain": [
       "       acousticness  danceability    duration_ms     energy  instrumentalness  \\\n",
       "count     50.000000     50.000000      50.000000  50.000000         50.000000   \n",
       "mean       0.329928      0.388700  187878.620000   0.497274          0.492349   \n",
       "std        0.365397      0.176202   85566.344989   0.237744          0.354766   \n",
       "min        0.001520      0.148000   43524.000000   0.025700          0.000000   \n",
       "25%        0.019750      0.231500  133184.750000   0.287750          0.140000   \n",
       "50%        0.153150      0.359000  177771.000000   0.517000          0.542500   \n",
       "75%        0.617750      0.522250  219339.500000   0.689250          0.844750   \n",
       "max        0.993000      0.745000  548746.000000   0.895000          0.969000   \n",
       "\n",
       "             key  liveness   loudness       mode  speechiness       tempo  \\\n",
       "count  50.000000  50.00000  50.000000  50.000000    50.000000   50.000000   \n",
       "mean    5.880000   0.20056 -11.070700   0.500000     0.128838  110.085740   \n",
       "std     3.662496   0.14496   4.760213   0.505076     0.146931   35.773402   \n",
       "min     0.000000   0.05780 -23.257000   0.000000     0.031200   57.174000   \n",
       "25%     2.250000   0.10550 -13.389750   0.000000     0.041100   77.060750   \n",
       "50%     6.000000   0.14950 -10.680000   0.500000     0.059600  113.162000   \n",
       "75%     9.000000   0.26700  -7.213500   1.000000     0.162750  129.356750   \n",
       "max    11.000000   0.69800  -4.849000   1.000000     0.721000  191.563000   \n",
       "\n",
       "       time_signature    valence  \n",
       "count       50.000000  50.000000  \n",
       "mean         3.980000   0.196830  \n",
       "std          0.868731   0.152027  \n",
       "min          1.000000   0.032200  \n",
       "25%          4.000000   0.080775  \n",
       "50%          4.000000   0.154000  \n",
       "75%          4.000000   0.297250  \n",
       "max          5.000000   0.674000  "
      ]
     },
     "execution_count": 21,
     "metadata": {},
     "output_type": "execute_result"
    }
   ],
   "source": [
    "songs_df = pd.DataFrame(songs)\n",
    "#pd.DataFrame(songs_df[\"audio_features\"])\n",
    "audio_features_df = pd.DataFrame(list(songs_df[\"audio_features\"].values))\n",
    "def track_by_feature(feature, value):\n",
    "    return audio_features_df[audio_features_df[feature]==value]\n",
    "track_by_feature(\"valence\",0.032200)\n",
    "audio_features_df.describe()"
   ]
  },
  {
   "cell_type": "markdown",
   "metadata": {},
   "source": [
    "I chose 6 audio features to analyse Arca's music:\n",
    "- **energy**: [float] Energy is a measure from 0.0 to 1.0 and represents a perceptual measure of intensity and activity. Typically, energetic tracks feel fast, loud, and noisy. For example, death metal has high energy, while a Bach prelude scores low on the scale. Perceptual features contributing to this attribute include dynamic range, perceived loudness, timbre, onset rate, and general entropy.\n",
    "- **key**: [int] The key the track is in. Integers map to pitches using standard Pitch Class notation . E.g. 0 = C, 1 = C♯/D♭, 2 = D, and so on.\n",
    "- **tempo**: [float] The overall estimated tempo of a track in beats per minute (BPM). In musical terminology, tempo is the speed or pace of a given piece and derives directly from the average beat duration.\n",
    "- **valence**:"
   ]
  },
  {
   "cell_type": "markdown",
   "metadata": {},
   "source": [
    "### 3) Hacer un gráfico de estilo [radar chart](https://en.wikipedia.org/wiki/Radar_chart)  comparando a su artista o banda con 'la competencia'\n",
    "En esta parte tienen que hacer los gráficos tomando como parámetros las features de audio que eligieron. Pueden usar la librería que quieran para hacer los gráficos.\n",
    "\n",
    "**Recomendaciones** : \n",
    "- Hacer ambos gráficos en una misma figura.\n",
    "- Antes de graficar, obtener los valores medios o medianos para los valores de las features. \n",
    "- Chequear los rangos de valores para cada feature antes de hacer los gráficos.\n",
    "\n",
    "**Aclaración**: pueden usar otro tipo de gráfico si lo consideran particularmente útil para resolver su pregunta."
   ]
  },
  {
   "cell_type": "code",
   "execution_count": null,
   "metadata": {},
   "outputs": [],
   "source": []
  },
  {
   "cell_type": "markdown",
   "metadata": {},
   "source": [
    "### 4) Escribir un informe"
   ]
  },
  {
   "cell_type": "markdown",
   "metadata": {},
   "source": [
    "Este informe tiene que describir qué datos que obtuvieron, el volumen de estos (# de canciones del artista, # de canciones de la competencia, etc), una explicación de cómo estos se relacionan con la pregunta planteada, cómo ayudan a responderla y los resultados que obtuvieron. Usar la celda de abajo con formato markdown.\n",
    "\n",
    "\n"
   ]
  },
  {
   "cell_type": "code",
   "execution_count": 63,
   "metadata": {},
   "outputs": [
    {
     "data": {
      "text/plain": [
       "[{'acousticness': 0.507,\n",
       "  'analysis_url': 'https://api.spotify.com/v1/audio-analysis/4Y2W4zKa3q72ztbkA0r8Va',\n",
       "  'danceability': 0.322,\n",
       "  'duration_ms': 300187,\n",
       "  'energy': 0.615,\n",
       "  'id': '4Y2W4zKa3q72ztbkA0r8Va',\n",
       "  'instrumentalness': 0.819,\n",
       "  'key': 11,\n",
       "  'liveness': 0.0677,\n",
       "  'loudness': -10.774,\n",
       "  'mode': 1,\n",
       "  'speechiness': 0.0427,\n",
       "  'tempo': 167.95,\n",
       "  'time_signature': 4,\n",
       "  'track_href': 'https://api.spotify.com/v1/tracks/4Y2W4zKa3q72ztbkA0r8Va',\n",
       "  'type': 'audio_features',\n",
       "  'uri': 'spotify:track:4Y2W4zKa3q72ztbkA0r8Va',\n",
       "  'valence': 0.0361}]"
      ]
     },
     "execution_count": 63,
     "metadata": {},
     "output_type": "execute_result"
    }
   ],
   "source": [
    "genres_by_artist_id(\"5bTeEWTzqpUapk0fZV8Clb\")\n",
    "#https://open.spotify.com/track/3ddSaaMuN43ddwF2qXF6Hz?si=tHOU37IhTAeT1oPutALBdw\n",
    "#https://open.spotify.com/track/5kNGM33gtm1FGvH9KBipSZ?si=pDuyBgeORUC2tix1C35eYw\n",
    "#https://open.spotify.com/track/6hfSrFbYHEshOOKfFzAb6P?si=TdniQbvkRXmStL6LAKobdg\n",
    "#https://open.spotify.com/track/1IDi1OjPT8y7MmNflRYMHO?si=PChc4u5wR3SxblARhWp9SQ\n",
    "sp.audio_features(\"4Y2W4zKa3q72ztbkA0r8Va\")"
   ]
  },
  {
   "cell_type": "markdown",
   "metadata": {},
   "source": [
    "### Pregunta: ¿Qué tan bien representan las features de audio de Spotify las características de canciones experimentales?\n",
    "\n",
    "- Cómo se comportan las features ante la música experimental? Son capaces de representar lo que se escucha o dan resultados erróneos?\n",
    "\n",
    "Para esto armé un dataset pequeño con 30 canciones seleccionadas a mano, buscando representar distintos tipos de experimentación en lo sonoro. Elegí el tamaño del dataset ya que para comparar cada canción con las features hay que escucharlas a todas.\n",
    "Entre las canciones hay cosas como\n",
    "* Ruido blanco\n",
    "* Noise y Harsh Noise \n",
    "* drone, avant-garde metal,atmospheric black metal ( Sun 0))), Deafheaven, The angelic process )\n",
    "* Música predominantemente vocal, throat singing (Tanya Tagaq)\n",
    "* experimental electronic (JASSS, Contrafacto 1IDi1OjPT8y7MmNflRYMHO Visceras musica)\n",
    "* art pop, Experimental pop (Arca)\n",
    "* synth punk (Deli girls)\n",
    "* Ambient (Rainforest Spiritual Enslavement, Worms of the earth)"
   ]
  },
  {
   "cell_type": "code",
   "execution_count": null,
   "metadata": {},
   "outputs": [],
   "source": []
  }
 ],
 "metadata": {
  "kernelspec": {
   "display_name": "Python 3",
   "language": "python",
   "name": "python3"
  },
  "language_info": {
   "codemirror_mode": {
    "name": "ipython",
    "version": 3
   },
   "file_extension": ".py",
   "mimetype": "text/x-python",
   "name": "python",
   "nbconvert_exporter": "python",
   "pygments_lexer": "ipython3",
   "version": "3.6.9"
  }
 },
 "nbformat": 4,
 "nbformat_minor": 2
}
