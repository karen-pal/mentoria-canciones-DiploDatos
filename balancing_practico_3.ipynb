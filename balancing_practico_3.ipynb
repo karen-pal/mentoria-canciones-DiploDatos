{
 "cells": [
  {
   "cell_type": "markdown",
   "metadata": {},
   "source": [
    "# Mentoría 'de cómo clasificar en géneros a las canciones'\n",
    "## Práctico III : Introducción al aprendizaje automático"
   ]
  },
  {
   "cell_type": "markdown",
   "metadata": {},
   "source": [
    "### Librerías"
   ]
  },
  {
   "cell_type": "code",
   "execution_count": 1,
   "metadata": {},
   "outputs": [
    {
     "name": "stdout",
     "output_type": "stream",
     "text": [
      "Collecting spotipy\n",
      "  Downloading spotipy-2.15.0-py3-none-any.whl (24 kB)\n",
      "Requirement already satisfied: requests>=2.20.0 in ./sentanal/lib/python3.6/site-packages (from spotipy) (2.23.0)\n",
      "Requirement already satisfied: six>=1.10.0 in ./sentanal/lib/python3.6/site-packages (from spotipy) (1.15.0)\n",
      "Requirement already satisfied: certifi>=2017.4.17 in ./sentanal/lib/python3.6/site-packages (from requests>=2.20.0->spotipy) (2020.6.20)\n",
      "Requirement already satisfied: urllib3!=1.25.0,!=1.25.1,<1.26,>=1.21.1 in ./sentanal/lib/python3.6/site-packages (from requests>=2.20.0->spotipy) (1.24.3)\n",
      "Requirement already satisfied: idna<3,>=2.5 in ./sentanal/lib/python3.6/site-packages (from requests>=2.20.0->spotipy) (2.10)\n",
      "Requirement already satisfied: chardet<4,>=3.0.2 in ./sentanal/lib/python3.6/site-packages (from requests>=2.20.0->spotipy) (3.0.4)\n",
      "Installing collected packages: spotipy\n",
      "Successfully installed spotipy-2.15.0\n",
      "Requirement already satisfied: pandas in ./sentanal/lib/python3.6/site-packages (1.0.5)\n",
      "Requirement already satisfied: pytz>=2017.2 in ./sentanal/lib/python3.6/site-packages (from pandas) (2020.1)\n",
      "Requirement already satisfied: numpy>=1.13.3 in ./sentanal/lib/python3.6/site-packages (from pandas) (1.18.5)\n",
      "Requirement already satisfied: python-dateutil>=2.6.1 in ./sentanal/lib/python3.6/site-packages (from pandas) (2.8.1)\n",
      "Requirement already satisfied: six>=1.5 in ./sentanal/lib/python3.6/site-packages (from python-dateutil>=2.6.1->pandas) (1.15.0)\n",
      "Requirement already satisfied: spacy in ./sentanal/lib/python3.6/site-packages (2.2.4)\n",
      "Requirement already satisfied: requests<3.0.0,>=2.13.0 in ./sentanal/lib/python3.6/site-packages (from spacy) (2.23.0)\n",
      "Requirement already satisfied: murmurhash<1.1.0,>=0.28.0 in ./sentanal/lib/python3.6/site-packages (from spacy) (1.0.2)\n",
      "Requirement already satisfied: thinc==7.4.0 in ./sentanal/lib/python3.6/site-packages (from spacy) (7.4.0)\n",
      "Requirement already satisfied: catalogue<1.1.0,>=0.0.7 in ./sentanal/lib/python3.6/site-packages (from spacy) (1.0.0)\n",
      "Requirement already satisfied: numpy>=1.15.0 in ./sentanal/lib/python3.6/site-packages (from spacy) (1.18.5)\n",
      "Requirement already satisfied: preshed<3.1.0,>=3.0.2 in ./sentanal/lib/python3.6/site-packages (from spacy) (3.0.2)\n",
      "Requirement already satisfied: plac<1.2.0,>=0.9.6 in ./sentanal/lib/python3.6/site-packages (from spacy) (1.1.3)\n",
      "Requirement already satisfied: tqdm<5.0.0,>=4.38.0 in ./sentanal/lib/python3.6/site-packages (from spacy) (4.41.1)\n",
      "Requirement already satisfied: wasabi<1.1.0,>=0.4.0 in ./sentanal/lib/python3.6/site-packages (from spacy) (0.8.0)\n",
      "Requirement already satisfied: setuptools in ./sentanal/lib/python3.6/site-packages (from spacy) (47.1.1)\n",
      "Requirement already satisfied: srsly<1.1.0,>=1.0.2 in ./sentanal/lib/python3.6/site-packages (from spacy) (1.0.2)\n",
      "Requirement already satisfied: cymem<2.1.0,>=2.0.2 in ./sentanal/lib/python3.6/site-packages (from spacy) (2.0.3)\n",
      "Requirement already satisfied: blis<0.5.0,>=0.4.0 in ./sentanal/lib/python3.6/site-packages (from spacy) (0.4.1)\n",
      "Requirement already satisfied: certifi>=2017.4.17 in ./sentanal/lib/python3.6/site-packages (from requests<3.0.0,>=2.13.0->spacy) (2020.6.20)\n",
      "Requirement already satisfied: idna<3,>=2.5 in ./sentanal/lib/python3.6/site-packages (from requests<3.0.0,>=2.13.0->spacy) (2.10)\n",
      "Requirement already satisfied: urllib3!=1.25.0,!=1.25.1,<1.26,>=1.21.1 in ./sentanal/lib/python3.6/site-packages (from requests<3.0.0,>=2.13.0->spacy) (1.24.3)\n",
      "Requirement already satisfied: chardet<4,>=3.0.2 in ./sentanal/lib/python3.6/site-packages (from requests<3.0.0,>=2.13.0->spacy) (3.0.4)\n",
      "Requirement already satisfied: importlib-metadata>=0.20; python_version < \"3.8\" in ./sentanal/lib/python3.6/site-packages (from catalogue<1.1.0,>=0.0.7->spacy) (1.7.0)\n",
      "Requirement already satisfied: zipp>=0.5 in ./sentanal/lib/python3.6/site-packages (from importlib-metadata>=0.20; python_version < \"3.8\"->catalogue<1.1.0,>=0.0.7->spacy) (3.1.0)\n",
      "Processing /home/kunan/.cache/pip/wheels/cd/22/66/fcfe16c783269151e68dfa0a25411b21a2d5d2106cda7dac1e/pymusixmatch-0.3-py3-none-any.whl\n",
      "Requirement already satisfied: requests in ./sentanal/lib/python3.6/site-packages (from pymusixmatch) (2.23.0)\n",
      "Requirement already satisfied: idna<3,>=2.5 in ./sentanal/lib/python3.6/site-packages (from requests->pymusixmatch) (2.10)\n",
      "Requirement already satisfied: certifi>=2017.4.17 in ./sentanal/lib/python3.6/site-packages (from requests->pymusixmatch) (2020.6.20)\n",
      "Requirement already satisfied: urllib3!=1.25.0,!=1.25.1,<1.26,>=1.21.1 in ./sentanal/lib/python3.6/site-packages (from requests->pymusixmatch) (1.24.3)\n",
      "Requirement already satisfied: chardet<4,>=3.0.2 in ./sentanal/lib/python3.6/site-packages (from requests->pymusixmatch) (3.0.4)\n",
      "Installing collected packages: pymusixmatch\n",
      "Successfully installed pymusixmatch-0.3\n",
      "Requirement already satisfied: nltk in ./sentanal/lib/python3.6/site-packages (3.2.5)\n",
      "Requirement already satisfied: six in ./sentanal/lib/python3.6/site-packages (from nltk) (1.15.0)\n",
      "Requirement already satisfied: sklearn in ./sentanal/lib/python3.6/site-packages (0.0)\n",
      "Requirement already satisfied: scikit-learn in ./sentanal/lib/python3.6/site-packages (from sklearn) (0.22.2.post1)\n",
      "Requirement already satisfied: joblib>=0.11 in ./sentanal/lib/python3.6/site-packages (from scikit-learn->sklearn) (0.16.0)\n",
      "Requirement already satisfied: scipy>=0.17.0 in ./sentanal/lib/python3.6/site-packages (from scikit-learn->sklearn) (1.4.1)\n",
      "Requirement already satisfied: numpy>=1.11.0 in ./sentanal/lib/python3.6/site-packages (from scikit-learn->sklearn) (1.18.5)\n",
      "Collecting stanza\n",
      "  Using cached stanza-1.1.1-py3-none-any.whl (227 kB)\n",
      "Requirement already satisfied: tqdm in ./sentanal/lib/python3.6/site-packages (from stanza) (4.41.1)\n",
      "Requirement already satisfied: requests in ./sentanal/lib/python3.6/site-packages (from stanza) (2.23.0)\n",
      "Requirement already satisfied: protobuf in ./sentanal/lib/python3.6/site-packages (from stanza) (3.12.4)\n",
      "Requirement already satisfied: torch>=1.3.0 in ./sentanal/lib/python3.6/site-packages (from stanza) (1.6.0)\n",
      "Requirement already satisfied: numpy in ./sentanal/lib/python3.6/site-packages (from stanza) (1.18.5)\n",
      "Requirement already satisfied: chardet<4,>=3.0.2 in ./sentanal/lib/python3.6/site-packages (from requests->stanza) (3.0.4)\n",
      "Requirement already satisfied: certifi>=2017.4.17 in ./sentanal/lib/python3.6/site-packages (from requests->stanza) (2020.6.20)\n",
      "Requirement already satisfied: idna<3,>=2.5 in ./sentanal/lib/python3.6/site-packages (from requests->stanza) (2.10)\n",
      "Requirement already satisfied: urllib3!=1.25.0,!=1.25.1,<1.26,>=1.21.1 in ./sentanal/lib/python3.6/site-packages (from requests->stanza) (1.24.3)\n",
      "Requirement already satisfied: setuptools in ./sentanal/lib/python3.6/site-packages (from protobuf->stanza) (47.1.1)\n",
      "Requirement already satisfied: six>=1.9 in ./sentanal/lib/python3.6/site-packages (from protobuf->stanza) (1.15.0)\n",
      "Requirement already satisfied: future in ./sentanal/lib/python3.6/site-packages (from torch>=1.3.0->stanza) (0.16.0)\n",
      "Installing collected packages: stanza\n",
      "Successfully installed stanza-1.1.1\n"
     ]
    }
   ],
   "source": [
    "%%capture\n",
    "!pip3 install spotipy\n",
    "!pip3 install pandas\n",
    "!pip3 install spacy\n",
    "!pip3 install pymusixmatch\n",
    "!pip3 install nltk\n",
    "!pip3 install seaborn\n",
    "!pip3 install requests\n",
    "!pip3 install nltk\n",
    "!pip3 install tqdm\n",
    "!pip3 install plotly\n",
    "!pip3 install sklearn\n",
    "!pip3 install sentiment_analysis_spanish\n",
    "\n",
    "# Agregar las librerías extra que se utilicen en esta celda y la siguiente"
   ]
  },
  {
   "cell_type": "markdown",
   "metadata": {},
   "source": [
    "### Dependencias y acceso a APIs"
   ]
  },
  {
   "cell_type": "code",
   "execution_count": 168,
   "metadata": {},
   "outputs": [],
   "source": [
    "import pandas as pd\n",
    "import numpy as np\n",
    "import spotipy\n",
    "import spacy\n",
    "from spotipy.oauth2 import SpotifyClientCredentials\n",
    "from musixmatch import Musixmatch\n",
    "import seaborn as sns\n",
    "import tqdm\n",
    "import plotly.express as px\n",
    "import plotly.graph_objects as go\n",
    "import requests\n",
    "from collections import Counter\n",
    "from nltk import ngrams, bigrams\n",
    "import nltk\n",
    "import itertools\n",
    "import matplotlib.pyplot as plt\n",
    "import json\n",
    "import spacy\n",
    "from sentiment_analysis_spanish import sentiment_analysis\n",
    "from  statistics import median,mean\n",
    "\n",
    "\n",
    "client_id = '46b333d567314a89a6254b6c6b054be6'\n",
    "client_secret = '9d922c3613e441518349dcf55f7d5853'\n",
    "client_credentials_manager = SpotifyClientCredentials(client_id=client_id, client_secret=client_secret)\n",
    "\n",
    "# es = es_core_web_sm\n",
    "#python -m spacy link es_core_news_sm es\n",
    "nlp = spacy.load(\"es\")\n",
    "\n",
    "sp = spotipy.Spotify(client_credentials_manager=client_credentials_manager)\n",
    "musixmatch = Musixmatch('1aa5272f4402bf2f082ad2f3958c2c62') # se puede reemplazar por otra API si da mejores resultados\n",
    "\n",
    "sentiment = sentiment_analysis.SentimentAnalysisSpanish()\n"
   ]
  },
  {
   "cell_type": "code",
   "execution_count": 2,
   "metadata": {},
   "outputs": [],
   "source": [
    "sns.set_context(context='paper')"
   ]
  },
  {
   "cell_type": "markdown",
   "metadata": {},
   "source": [
    "### 1) Recopilar los datos obtenidos en los prácticos anteriores\n",
    "\n",
    "Para esta parte consideraremos [la playlist colaborativa de la mentoría](https://open.spotify.com/playlist/2IuD0qZb14cji5y52crdsO?si=nfHRPDquQRyotEcXc4tG7Q), de esta obtendremos:\n",
    "- Las features del audio de las canciones\n",
    "- Las features textuales de sus letras\n",
    "\n",
    "Además es necesario aplicar el mismo preprocesamiento que aplicamos en los prácticos anteriores para ambos tipos de features (el preprocesamiento del p1 a las features de audio y el de p2 al de features textuales) y obtener el género de cada canción, que en caso de ser más de uno para una canción el equipo deberá discutir una estrategia para estos casos y comentarla en el informe.\n",
    "\n",
    "Luego, se separará al dataset resultante en **X** e **y**, donde:\n",
    "- X es el conjunto de features\n",
    "- y es la etiqueta, en este caso el género de la canción, que deberá ser codificado en valores del tipo **int**\n",
    "\n",
    "Por último, se dividirá a estos dos conjuntos en los splits **train** y **test**\n",
    "\n",
    "**Recomendaciones:**\n",
    "- Obtener las features por separado y hacer un join de los datasets.\n",
    "- Prestar atención a la [documentación de sklearn](https://scikit-learn.org/stable/)\n",
    "- Si usan features categóricas, ENCODEARLAS!"
   ]
  },
  {
   "cell_type": "markdown",
   "metadata": {},
   "source": [
    "# Dataset"
   ]
  },
  {
   "cell_type": "markdown",
   "metadata": {},
   "source": [
    "## Music Features"
   ]
  },
  {
   "cell_type": "code",
   "execution_count": 169,
   "metadata": {},
   "outputs": [],
   "source": [
    "#Aux funcs\n",
    "def genres_by_artist_id(id): #id: str\n",
    "    artist = sp.artist(id)\n",
    "    genres = artist['genres']\n",
    "    return genres    #genres: List[str]\n",
    "\n",
    "def songs_from_album_id(album_id):\n",
    "    songs = []\n",
    "    album = sp.album(album_id)\n",
    "    artist = album['artists'][0]['name']\n",
    "    for item in album['tracks']['items']:\n",
    "        track = {}\n",
    "        track[\"song_name\"] = item['name']\n",
    "        track[\"song_id\"] = item['id']\n",
    "        track[\"album_name\"] = album['name']\n",
    "        track[\"album_id\"] = album[\"id\"]\n",
    "        audio_features = sp.audio_features(track[\"song_id\"])\n",
    "        track[\"audio_features\"] = audio_features[0]\n",
    "        track[\"artist\"] = artist\n",
    "        songs.append(track)\n",
    "    return songs    #songs:List[dict]\n",
    "\n",
    "def get_genres(artists_id):\n",
    "    res = [genres_by_artist_id(x) for x in artists_id if genres_by_artist_id(x)!= []]\n",
    "    if res != []:\n",
    "        return res[0]\n",
    "    return res\n",
    "\n",
    "def add_track(track_id, songs): #track_id:str, songs:List[dict]\n",
    "    track = sp.track(track_id)\n",
    "    audio_features = sp.audio_features(track_id)\n",
    "    row = {}\n",
    "    row[\"song_name\"] = track['name']\n",
    "    row[\"song_id\"] = track['id']\n",
    "    row[\"artists\"] = [x[\"name\"] for x in track[\"artists\"]]\n",
    "    row[\"artists_id\"] = [x[\"id\"] for x in track[\"artists\"]]\n",
    "    row[\"album_name\"] = track['album']['name']\n",
    "    row[\"album_id\"] = track['album']['id']\n",
    "    row[\"audio_features\"] = audio_features[0]\n",
    "    row[\"genres\"] = get_genres(row[\"artists_id\"])\n",
    "    songs.append(row)\n",
    "    return songs\n"
   ]
  },
  {
   "cell_type": "code",
   "execution_count": 4,
   "metadata": {},
   "outputs": [],
   "source": [
    "\n",
    "def songs_of_description(statistic):\n",
    "    row = audio_features_description.loc[statistic]\n",
    "    keys = row.keys()\n",
    "    tracks_of_row = []\n",
    "    for key in keys:\n",
    "        track = track_by_feature(key,row[key]).to_dict()['song_name']\n",
    "        track = list(track.values())[0]\n",
    "        tracks_of_row.append({key: track})\n",
    "    return tracks_of_row\n",
    "#example use\n",
    "#songs_of_description(\"min\")\n",
    "\n",
    "#songs_of_description(\"max\")"
   ]
  },
  {
   "cell_type": "code",
   "execution_count": 224,
   "metadata": {},
   "outputs": [],
   "source": [
    "#songs_of_description(\"min\")"
   ]
  },
  {
   "cell_type": "markdown",
   "metadata": {},
   "source": [
    "## Lyrics"
   ]
  },
  {
   "cell_type": "code",
   "execution_count": 170,
   "metadata": {},
   "outputs": [],
   "source": [
    "songs_base = pd.read_csv(\"./final_big.csv\",sep=\"#\")\n",
    "#let's get back our genres\n",
    "songs_base[\"genres\"]=songs_base[\"genres\"].apply(lambda x: x.replace(\"[\",\"\").replace(\"]\",\"\").replace(\"'\",\"\").split(\",\"))\n"
   ]
  },
  {
   "cell_type": "code",
   "execution_count": 6,
   "metadata": {},
   "outputs": [
    {
     "data": {
      "text/html": [
       "<div>\n",
       "<style scoped>\n",
       "    .dataframe tbody tr th:only-of-type {\n",
       "        vertical-align: middle;\n",
       "    }\n",
       "\n",
       "    .dataframe tbody tr th {\n",
       "        vertical-align: top;\n",
       "    }\n",
       "\n",
       "    .dataframe thead th {\n",
       "        text-align: right;\n",
       "    }\n",
       "</style>\n",
       "<table border=\"1\" class=\"dataframe\">\n",
       "  <thead>\n",
       "    <tr style=\"text-align: right;\">\n",
       "      <th></th>\n",
       "      <th>song_name</th>\n",
       "      <th>song_id</th>\n",
       "      <th>artists</th>\n",
       "      <th>artists_id</th>\n",
       "      <th>album_name</th>\n",
       "      <th>album_id</th>\n",
       "      <th>audio_features</th>\n",
       "      <th>genres</th>\n",
       "      <th>lyrics_sentiment</th>\n",
       "    </tr>\n",
       "  </thead>\n",
       "  <tbody>\n",
       "    <tr>\n",
       "      <th>0</th>\n",
       "      <td>Desafío</td>\n",
       "      <td>7j9DYPyCuvSAtPcevpAkzb</td>\n",
       "      <td>['Arca']</td>\n",
       "      <td>['4SQdUpG4f7UbkJG3cJ2Iyj']</td>\n",
       "      <td>Arca</td>\n",
       "      <td>1MQO4j8QExVgmnplbIodEU</td>\n",
       "      <td>{'danceability': 0.161, 'energy': 0.482, 'key'...</td>\n",
       "      <td>[art pop,  dance pop,  deconstructed club,  el...</td>\n",
       "      <td>0.0013</td>\n",
       "    </tr>\n",
       "    <tr>\n",
       "      <th>1</th>\n",
       "      <td>Anoche</td>\n",
       "      <td>1cwTMSQeMaA9fVKEF1iWeD</td>\n",
       "      <td>['Arca']</td>\n",
       "      <td>['4SQdUpG4f7UbkJG3cJ2Iyj']</td>\n",
       "      <td>Arca</td>\n",
       "      <td>1MQO4j8QExVgmnplbIodEU</td>\n",
       "      <td>{'danceability': 0.23, 'energy': 0.434, 'key':...</td>\n",
       "      <td>[art pop,  dance pop,  deconstructed club,  el...</td>\n",
       "      <td>0.9970</td>\n",
       "    </tr>\n",
       "    <tr>\n",
       "      <th>2</th>\n",
       "      <td>Sin Rumbo</td>\n",
       "      <td>0aL27vskbMpwsMGUkHm3Zf</td>\n",
       "      <td>['Arca']</td>\n",
       "      <td>['4SQdUpG4f7UbkJG3cJ2Iyj']</td>\n",
       "      <td>Arca</td>\n",
       "      <td>1MQO4j8QExVgmnplbIodEU</td>\n",
       "      <td>{'danceability': 0.289, 'energy': 0.28, 'key':...</td>\n",
       "      <td>[art pop,  dance pop,  deconstructed club,  el...</td>\n",
       "      <td>0.0000</td>\n",
       "    </tr>\n",
       "    <tr>\n",
       "      <th>3</th>\n",
       "      <td>La Gata Bajo la Lluvia</td>\n",
       "      <td>2kfSFdq2h0xLXq01em1zc7</td>\n",
       "      <td>['Rocío Dúrcal']</td>\n",
       "      <td>['2uyweLa0mvPZH6eRzDddeB']</td>\n",
       "      <td>Sus 16 Grandes Exitos</td>\n",
       "      <td>1QXxmsxolhkqiFtI1mpX4i</td>\n",
       "      <td>{'danceability': 0.499, 'energy': 0.648, 'key'...</td>\n",
       "      <td>[bolero,  cancion melodica,  grupera,  latin, ...</td>\n",
       "      <td>0.0057</td>\n",
       "    </tr>\n",
       "    <tr>\n",
       "      <th>4</th>\n",
       "      <td>Querida</td>\n",
       "      <td>5ySxlyvySBhIEvoO2xx7uT</td>\n",
       "      <td>['Juan Gabriel']</td>\n",
       "      <td>['2MRBDr0crHWE5JwPceFncq']</td>\n",
       "      <td>Recuerdos II</td>\n",
       "      <td>1xrQ48Vvnvm3SmAbnIukGt</td>\n",
       "      <td>{'danceability': 0.528, 'energy': 0.383, 'key'...</td>\n",
       "      <td>[cancion melodica,  latin,  latin pop]</td>\n",
       "      <td>0.0000</td>\n",
       "    </tr>\n",
       "  </tbody>\n",
       "</table>\n",
       "</div>"
      ],
      "text/plain": [
       "                song_name                 song_id           artists  \\\n",
       "0                 Desafío  7j9DYPyCuvSAtPcevpAkzb          ['Arca']   \n",
       "1                  Anoche  1cwTMSQeMaA9fVKEF1iWeD          ['Arca']   \n",
       "2               Sin Rumbo  0aL27vskbMpwsMGUkHm3Zf          ['Arca']   \n",
       "3  La Gata Bajo la Lluvia  2kfSFdq2h0xLXq01em1zc7  ['Rocío Dúrcal']   \n",
       "4                 Querida  5ySxlyvySBhIEvoO2xx7uT  ['Juan Gabriel']   \n",
       "\n",
       "                   artists_id             album_name                album_id  \\\n",
       "0  ['4SQdUpG4f7UbkJG3cJ2Iyj']                   Arca  1MQO4j8QExVgmnplbIodEU   \n",
       "1  ['4SQdUpG4f7UbkJG3cJ2Iyj']                   Arca  1MQO4j8QExVgmnplbIodEU   \n",
       "2  ['4SQdUpG4f7UbkJG3cJ2Iyj']                   Arca  1MQO4j8QExVgmnplbIodEU   \n",
       "3  ['2uyweLa0mvPZH6eRzDddeB']  Sus 16 Grandes Exitos  1QXxmsxolhkqiFtI1mpX4i   \n",
       "4  ['2MRBDr0crHWE5JwPceFncq']           Recuerdos II  1xrQ48Vvnvm3SmAbnIukGt   \n",
       "\n",
       "                                      audio_features  \\\n",
       "0  {'danceability': 0.161, 'energy': 0.482, 'key'...   \n",
       "1  {'danceability': 0.23, 'energy': 0.434, 'key':...   \n",
       "2  {'danceability': 0.289, 'energy': 0.28, 'key':...   \n",
       "3  {'danceability': 0.499, 'energy': 0.648, 'key'...   \n",
       "4  {'danceability': 0.528, 'energy': 0.383, 'key'...   \n",
       "\n",
       "                                              genres  lyrics_sentiment  \n",
       "0  [art pop,  dance pop,  deconstructed club,  el...            0.0013  \n",
       "1  [art pop,  dance pop,  deconstructed club,  el...            0.9970  \n",
       "2  [art pop,  dance pop,  deconstructed club,  el...            0.0000  \n",
       "3  [bolero,  cancion melodica,  grupera,  latin, ...            0.0057  \n",
       "4             [cancion melodica,  latin,  latin pop]            0.0000  "
      ]
     },
     "execution_count": 6,
     "metadata": {},
     "output_type": "execute_result"
    }
   ],
   "source": [
    "songs_base.head(5)"
   ]
  },
  {
   "cell_type": "code",
   "execution_count": 171,
   "metadata": {},
   "outputs": [],
   "source": [
    "interesting_features = [\"danceability\", \"energy\",\"key\",\"loudness\",\"mode\",\n",
    "            \"speechiness\",\"acousticness\",\"instrumentalness\",\"liveness\",\n",
    "            \"valence\",\"tempo\",\"lyrics_sentiment\"]\n",
    "\n",
    "def get_df_for_training(base_df,features=interesting_features):\n",
    "    df = base_df.copy()\n",
    "    audio_thing= df[\"audio_features\"].apply(lambda x: ast.literal_eval(x))\n",
    "    audio_features_base = pd.DataFrame(list(audio_thing))\n",
    "    audio_features = audio_features_base.columns\n",
    "    #print(df.count(), \" vs \", audio_features_base.count())\n",
    "    df = df.reset_index(drop=True)\n",
    "    audio_features_base = audio_features_base.reset_index(drop=True)\n",
    "    df2 = pd.concat([df,audio_features_base],axis=1)\n",
    "    other = df2[audio_features].join( df['lyrics_sentiment'])\n",
    "    sanitized = df2.drop([\"uri\", \"analysis_url\", \"track_href\", \"id\", \"type\"],1)\n",
    "\n",
    "    X = sanitized[features]\n",
    "    Y = df2[\"genres\"]\n",
    "    return X,Y"
   ]
  },
  {
   "cell_type": "markdown",
   "metadata": {},
   "source": [
    "Let's try to simplify the process by using a unique genre of our dataset for each song"
   ]
  },
  {
   "cell_type": "code",
   "execution_count": 9,
   "metadata": {},
   "outputs": [
    {
     "data": {
      "text/plain": [
       "<matplotlib.axes._subplots.AxesSubplot at 0x7f819a64a940>"
      ]
     },
     "execution_count": 9,
     "metadata": {},
     "output_type": "execute_result"
    },
    {
     "data": {
      "image/png": "[encoded data removed]",
      "text/plain": [
       "<Figure size 432x288 with 1 Axes>"
      ]
     },
     "metadata": {
      "needs_background": "light"
     },
     "output_type": "display_data"
    }
   ],
   "source": [
    "simple_df = songs_base.copy()\n",
    "first_df = simple_df.copy()\n",
    "first_df[\"genres\"] = first_df[\"genres\"].apply(lambda x: x[0])\n",
    "first_dist = first_df[\"genres\"].value_counts()\n",
    "first_dist_df = pd.DataFrame({'genre':first_dist.index, 'count':first_dist.values})\n",
    "#columns=[\"genre\", \"counts\"])\n",
    "#simple_dist_df\n",
    "#sns.barplot(x=first_dist_df[\"genre\"],y=first_dist_df[\"count\"])\n",
    "a_new_try = first_df[first_df[\"genres\"] != \"argentine rock\" ]\n",
    "a_new_try = a_new_try[a_new_try[\"genres\"] != \"latin\"]\n",
    "a_new_try = a_new_try[a_new_try[\"genres\"] != \"cuarteto\"]\n",
    "new_dist = a_new_try[\"genres\"].value_counts()\n",
    "new_dist_df = pd.DataFrame({'genre':new_dist.index, 'count':new_dist.values})\n",
    "\n",
    "sns.barplot(x=new_dist_df[\"genre\"],y=new_dist_df[\"count\"])\n"
   ]
  },
  {
   "cell_type": "markdown",
   "metadata": {},
   "source": [
    "using a random choice we get a slightly more balanced dataset"
   ]
  },
  {
   "cell_type": "code",
   "execution_count": 12,
   "metadata": {},
   "outputs": [
    {
     "data": {
      "text/plain": [
       "song_name           376\n",
       "song_id             376\n",
       "artists             376\n",
       "artists_id          376\n",
       "album_name          376\n",
       "album_id            376\n",
       "audio_features      376\n",
       "genres              376\n",
       "lyrics_sentiment    376\n",
       "dtype: int64"
      ]
     },
     "execution_count": 12,
     "metadata": {},
     "output_type": "execute_result"
    }
   ],
   "source": [
    "a_new_try.count()"
   ]
  },
  {
   "cell_type": "code",
   "execution_count": 29,
   "metadata": {},
   "outputs": [
    {
     "data": {
      "text/plain": [
       "song_name           376\n",
       "song_id             376\n",
       "artists             376\n",
       "artists_id          376\n",
       "album_name          376\n",
       "album_id            376\n",
       "audio_features      376\n",
       "genres              376\n",
       "lyrics_sentiment    376\n",
       "danceability        376\n",
       "energy              376\n",
       "key                 376\n",
       "loudness            376\n",
       "mode                376\n",
       "speechiness         376\n",
       "acousticness        376\n",
       "instrumentalness    376\n",
       "liveness            376\n",
       "valence             376\n",
       "tempo               376\n",
       "type                376\n",
       "id                  376\n",
       "uri                 376\n",
       "track_href          376\n",
       "analysis_url        376\n",
       "duration_ms         376\n",
       "time_signature      376\n",
       "dtype: int64"
      ]
     },
     "execution_count": 29,
     "metadata": {},
     "output_type": "execute_result"
    }
   ],
   "source": [
    "#a_new_try\n",
    "import ast\n",
    "\n",
    "df = a_new_try.copy()\n",
    "audio_thing= df[\"audio_features\"].apply(lambda x: ast.literal_eval(x))\n",
    "audio_features_base = pd.DataFrame(list(audio_thing))\n",
    "audio_features = audio_features_base.columns\n",
    "#df.drop([\"audio_features\"],axis=1, inplace=True)\n",
    "#df = pd.concat([df,audio_features_base],axis=1)\n",
    "#df2 = df.join(audio_features_base)\n",
    "audio_features_base\n",
    "#print(df.count(), \" vs \", audio_features_base.count())\n",
    "df = df.reset_index(drop=True)\n",
    "audio_features_base = audio_features_base.reset_index(drop=True)\n",
    "df2 = pd.concat([df,audio_features_base],axis=1)\n",
    "df2.count()"
   ]
  },
  {
   "cell_type": "markdown",
   "metadata": {},
   "source": [
    "dataset split"
   ]
  },
  {
   "cell_type": "code",
   "execution_count": 30,
   "metadata": {},
   "outputs": [],
   "source": [
    "other = df2[audio_features].join( df['lyrics_sentiment'])\n",
    "sanitized = df2.drop([\"uri\", \"analysis_url\", \"track_href\", \"id\", \"type\"],1)"
   ]
  },
  {
   "cell_type": "code",
   "execution_count": 28,
   "metadata": {},
   "outputs": [
    {
     "data": {
      "text/plain": [
       "song_name           376\n",
       "song_id             376\n",
       "artists             376\n",
       "artists_id          376\n",
       "album_name          376\n",
       "album_id            376\n",
       "audio_features      376\n",
       "genres              376\n",
       "lyrics_sentiment    376\n",
       "danceability        376\n",
       "energy              376\n",
       "key                 376\n",
       "loudness            376\n",
       "mode                376\n",
       "speechiness         376\n",
       "acousticness        376\n",
       "instrumentalness    376\n",
       "liveness            376\n",
       "valence             376\n",
       "tempo               376\n",
       "duration_ms         376\n",
       "time_signature      376\n",
       "dtype: int64"
      ]
     },
     "execution_count": 28,
     "metadata": {},
     "output_type": "execute_result"
    }
   ],
   "source": [
    "sanitized.count()"
   ]
  },
  {
   "cell_type": "code",
   "execution_count": 42,
   "metadata": {},
   "outputs": [],
   "source": [
    "from sklearn import model_selection, tree\n",
    "features = [\"danceability\", \"energy\",\"key\",\"loudness\",\"mode\",\n",
    "            \"speechiness\",\"acousticness\",\"instrumentalness\",\"liveness\",\n",
    "           \"valence\",\"tempo\",\"lyrics_sentiment\"]\n",
    "\n",
    "X = sanitized[features]\n",
    "Y = df2[\"genres\"]\n"
   ]
  },
  {
   "cell_type": "code",
   "execution_count": 41,
   "metadata": {},
   "outputs": [
    {
     "data": {
      "text/html": [
       "<div>\n",
       "<style scoped>\n",
       "    .dataframe tbody tr th:only-of-type {\n",
       "        vertical-align: middle;\n",
       "    }\n",
       "\n",
       "    .dataframe tbody tr th {\n",
       "        vertical-align: top;\n",
       "    }\n",
       "\n",
       "    .dataframe thead th {\n",
       "        text-align: right;\n",
       "    }\n",
       "</style>\n",
       "<table border=\"1\" class=\"dataframe\">\n",
       "  <thead>\n",
       "    <tr style=\"text-align: right;\">\n",
       "      <th></th>\n",
       "      <th>song_name</th>\n",
       "      <th>song_id</th>\n",
       "      <th>artists</th>\n",
       "      <th>artists_id</th>\n",
       "      <th>album_name</th>\n",
       "      <th>album_id</th>\n",
       "      <th>audio_features</th>\n",
       "      <th>genres</th>\n",
       "      <th>lyrics_sentiment</th>\n",
       "      <th>danceability</th>\n",
       "      <th>...</th>\n",
       "      <th>loudness</th>\n",
       "      <th>mode</th>\n",
       "      <th>speechiness</th>\n",
       "      <th>acousticness</th>\n",
       "      <th>instrumentalness</th>\n",
       "      <th>liveness</th>\n",
       "      <th>valence</th>\n",
       "      <th>tempo</th>\n",
       "      <th>duration_ms</th>\n",
       "      <th>time_signature</th>\n",
       "    </tr>\n",
       "  </thead>\n",
       "  <tbody>\n",
       "    <tr>\n",
       "      <th>0</th>\n",
       "      <td>Desafío</td>\n",
       "      <td>7j9DYPyCuvSAtPcevpAkzb</td>\n",
       "      <td>['Arca']</td>\n",
       "      <td>['4SQdUpG4f7UbkJG3cJ2Iyj']</td>\n",
       "      <td>Arca</td>\n",
       "      <td>1MQO4j8QExVgmnplbIodEU</td>\n",
       "      <td>{'danceability': 0.161, 'energy': 0.482, 'key'...</td>\n",
       "      <td>art pop</td>\n",
       "      <td>0.0013</td>\n",
       "      <td>0.161</td>\n",
       "      <td>...</td>\n",
       "      <td>-11.210</td>\n",
       "      <td>0</td>\n",
       "      <td>0.0472</td>\n",
       "      <td>0.4860</td>\n",
       "      <td>0.40900</td>\n",
       "      <td>0.3710</td>\n",
       "      <td>0.0926</td>\n",
       "      <td>161.092</td>\n",
       "      <td>233079</td>\n",
       "      <td>5</td>\n",
       "    </tr>\n",
       "    <tr>\n",
       "      <th>1</th>\n",
       "      <td>Anoche</td>\n",
       "      <td>1cwTMSQeMaA9fVKEF1iWeD</td>\n",
       "      <td>['Arca']</td>\n",
       "      <td>['4SQdUpG4f7UbkJG3cJ2Iyj']</td>\n",
       "      <td>Arca</td>\n",
       "      <td>1MQO4j8QExVgmnplbIodEU</td>\n",
       "      <td>{'danceability': 0.23, 'energy': 0.434, 'key':...</td>\n",
       "      <td>art pop</td>\n",
       "      <td>0.9970</td>\n",
       "      <td>0.230</td>\n",
       "      <td>...</td>\n",
       "      <td>-12.402</td>\n",
       "      <td>0</td>\n",
       "      <td>0.0551</td>\n",
       "      <td>0.5700</td>\n",
       "      <td>0.00000</td>\n",
       "      <td>0.1150</td>\n",
       "      <td>0.0834</td>\n",
       "      <td>80.793</td>\n",
       "      <td>216905</td>\n",
       "      <td>5</td>\n",
       "    </tr>\n",
       "    <tr>\n",
       "      <th>2</th>\n",
       "      <td>Sin Rumbo</td>\n",
       "      <td>0aL27vskbMpwsMGUkHm3Zf</td>\n",
       "      <td>['Arca']</td>\n",
       "      <td>['4SQdUpG4f7UbkJG3cJ2Iyj']</td>\n",
       "      <td>Arca</td>\n",
       "      <td>1MQO4j8QExVgmnplbIodEU</td>\n",
       "      <td>{'danceability': 0.289, 'energy': 0.28, 'key':...</td>\n",
       "      <td>art pop</td>\n",
       "      <td>0.0000</td>\n",
       "      <td>0.289</td>\n",
       "      <td>...</td>\n",
       "      <td>-15.335</td>\n",
       "      <td>1</td>\n",
       "      <td>0.0433</td>\n",
       "      <td>0.8740</td>\n",
       "      <td>0.00443</td>\n",
       "      <td>0.1240</td>\n",
       "      <td>0.0391</td>\n",
       "      <td>124.835</td>\n",
       "      <td>215773</td>\n",
       "      <td>3</td>\n",
       "    </tr>\n",
       "    <tr>\n",
       "      <th>3</th>\n",
       "      <td>La Gata Bajo la Lluvia</td>\n",
       "      <td>2kfSFdq2h0xLXq01em1zc7</td>\n",
       "      <td>['Rocío Dúrcal']</td>\n",
       "      <td>['2uyweLa0mvPZH6eRzDddeB']</td>\n",
       "      <td>Sus 16 Grandes Exitos</td>\n",
       "      <td>1QXxmsxolhkqiFtI1mpX4i</td>\n",
       "      <td>{'danceability': 0.499, 'energy': 0.648, 'key'...</td>\n",
       "      <td>bolero</td>\n",
       "      <td>0.0057</td>\n",
       "      <td>0.499</td>\n",
       "      <td>...</td>\n",
       "      <td>-5.812</td>\n",
       "      <td>1</td>\n",
       "      <td>0.0331</td>\n",
       "      <td>0.7230</td>\n",
       "      <td>0.00000</td>\n",
       "      <td>0.5760</td>\n",
       "      <td>0.4640</td>\n",
       "      <td>88.140</td>\n",
       "      <td>219107</td>\n",
       "      <td>4</td>\n",
       "    </tr>\n",
       "    <tr>\n",
       "      <th>4</th>\n",
       "      <td>Querida</td>\n",
       "      <td>5ySxlyvySBhIEvoO2xx7uT</td>\n",
       "      <td>['Juan Gabriel']</td>\n",
       "      <td>['2MRBDr0crHWE5JwPceFncq']</td>\n",
       "      <td>Recuerdos II</td>\n",
       "      <td>1xrQ48Vvnvm3SmAbnIukGt</td>\n",
       "      <td>{'danceability': 0.528, 'energy': 0.383, 'key'...</td>\n",
       "      <td>cancion melodica</td>\n",
       "      <td>0.0000</td>\n",
       "      <td>0.528</td>\n",
       "      <td>...</td>\n",
       "      <td>-11.170</td>\n",
       "      <td>1</td>\n",
       "      <td>0.0258</td>\n",
       "      <td>0.3760</td>\n",
       "      <td>0.00000</td>\n",
       "      <td>0.1100</td>\n",
       "      <td>0.4600</td>\n",
       "      <td>89.089</td>\n",
       "      <td>328320</td>\n",
       "      <td>4</td>\n",
       "    </tr>\n",
       "    <tr>\n",
       "      <th>...</th>\n",
       "      <td>...</td>\n",
       "      <td>...</td>\n",
       "      <td>...</td>\n",
       "      <td>...</td>\n",
       "      <td>...</td>\n",
       "      <td>...</td>\n",
       "      <td>...</td>\n",
       "      <td>...</td>\n",
       "      <td>...</td>\n",
       "      <td>...</td>\n",
       "      <td>...</td>\n",
       "      <td>...</td>\n",
       "      <td>...</td>\n",
       "      <td>...</td>\n",
       "      <td>...</td>\n",
       "      <td>...</td>\n",
       "      <td>...</td>\n",
       "      <td>...</td>\n",
       "      <td>...</td>\n",
       "      <td>...</td>\n",
       "      <td>...</td>\n",
       "    </tr>\n",
       "    <tr>\n",
       "      <th>371</th>\n",
       "      <td>Hermanos</td>\n",
       "      <td>7uMYwMzCDDB2QJWaKGaubO</td>\n",
       "      <td>['Bandalos Chinos']</td>\n",
       "      <td>['0wn2qDKzeFlhjRUtJAwJjp']</td>\n",
       "      <td>BACH</td>\n",
       "      <td>4SsEredFwBsSDyu6tF8cCg</td>\n",
       "      <td>{'danceability': 0.675, 'energy': 0.525, 'key'...</td>\n",
       "      <td>argentine alternative rock</td>\n",
       "      <td>0.0013</td>\n",
       "      <td>0.675</td>\n",
       "      <td>...</td>\n",
       "      <td>-9.471</td>\n",
       "      <td>1</td>\n",
       "      <td>0.0263</td>\n",
       "      <td>0.7440</td>\n",
       "      <td>0.10800</td>\n",
       "      <td>0.1670</td>\n",
       "      <td>0.1910</td>\n",
       "      <td>112.008</td>\n",
       "      <td>227280</td>\n",
       "      <td>3</td>\n",
       "    </tr>\n",
       "    <tr>\n",
       "      <th>372</th>\n",
       "      <td>Lento</td>\n",
       "      <td>7rkUinRHZtLtTyLz5pWmG8</td>\n",
       "      <td>['Bandalos Chinos']</td>\n",
       "      <td>['0wn2qDKzeFlhjRUtJAwJjp']</td>\n",
       "      <td>BACH</td>\n",
       "      <td>4SsEredFwBsSDyu6tF8cCg</td>\n",
       "      <td>{'danceability': 0.669, 'energy': 0.655, 'key'...</td>\n",
       "      <td>argentine alternative rock</td>\n",
       "      <td>0.0000</td>\n",
       "      <td>0.669</td>\n",
       "      <td>...</td>\n",
       "      <td>-6.323</td>\n",
       "      <td>0</td>\n",
       "      <td>0.0221</td>\n",
       "      <td>0.1020</td>\n",
       "      <td>0.18000</td>\n",
       "      <td>0.1030</td>\n",
       "      <td>0.7680</td>\n",
       "      <td>89.991</td>\n",
       "      <td>288507</td>\n",
       "      <td>4</td>\n",
       "    </tr>\n",
       "    <tr>\n",
       "      <th>373</th>\n",
       "      <td>El Concierto</td>\n",
       "      <td>69C9EA7elW3hWyheFseUA5</td>\n",
       "      <td>['Bandalos Chinos']</td>\n",
       "      <td>['0wn2qDKzeFlhjRUtJAwJjp']</td>\n",
       "      <td>BACH</td>\n",
       "      <td>4SsEredFwBsSDyu6tF8cCg</td>\n",
       "      <td>{'danceability': 0.684, 'energy': 0.297, 'key'...</td>\n",
       "      <td>argentine alternative rock</td>\n",
       "      <td>0.0000</td>\n",
       "      <td>0.684</td>\n",
       "      <td>...</td>\n",
       "      <td>-10.826</td>\n",
       "      <td>0</td>\n",
       "      <td>0.0317</td>\n",
       "      <td>0.7400</td>\n",
       "      <td>0.00144</td>\n",
       "      <td>0.5070</td>\n",
       "      <td>0.2400</td>\n",
       "      <td>122.004</td>\n",
       "      <td>239133</td>\n",
       "      <td>4</td>\n",
       "    </tr>\n",
       "    <tr>\n",
       "      <th>374</th>\n",
       "      <td>Ácido</td>\n",
       "      <td>6rUSxtUiecOgWAp6wUrlR5</td>\n",
       "      <td>['Bandalos Chinos']</td>\n",
       "      <td>['0wn2qDKzeFlhjRUtJAwJjp']</td>\n",
       "      <td>BACH</td>\n",
       "      <td>4SsEredFwBsSDyu6tF8cCg</td>\n",
       "      <td>{'danceability': 0.671, 'energy': 0.717, 'key'...</td>\n",
       "      <td>argentine alternative rock</td>\n",
       "      <td>1.0000</td>\n",
       "      <td>0.671</td>\n",
       "      <td>...</td>\n",
       "      <td>-7.832</td>\n",
       "      <td>0</td>\n",
       "      <td>0.0317</td>\n",
       "      <td>0.0139</td>\n",
       "      <td>0.64300</td>\n",
       "      <td>0.1180</td>\n",
       "      <td>0.6250</td>\n",
       "      <td>114.951</td>\n",
       "      <td>242307</td>\n",
       "      <td>4</td>\n",
       "    </tr>\n",
       "    <tr>\n",
       "      <th>375</th>\n",
       "      <td>Sin Señal</td>\n",
       "      <td>5M3Vn0DW4NtHNoo3Gmo1PT</td>\n",
       "      <td>['Bandalos Chinos']</td>\n",
       "      <td>['0wn2qDKzeFlhjRUtJAwJjp']</td>\n",
       "      <td>Sin Señal</td>\n",
       "      <td>7uXeWwjpTHrDTCjF4cVrZX</td>\n",
       "      <td>{'danceability': 0.61, 'energy': 0.736, 'key':...</td>\n",
       "      <td>argentine alternative rock</td>\n",
       "      <td>0.0002</td>\n",
       "      <td>0.610</td>\n",
       "      <td>...</td>\n",
       "      <td>-6.702</td>\n",
       "      <td>1</td>\n",
       "      <td>0.0264</td>\n",
       "      <td>0.2770</td>\n",
       "      <td>0.08100</td>\n",
       "      <td>0.0827</td>\n",
       "      <td>0.8040</td>\n",
       "      <td>96.008</td>\n",
       "      <td>218720</td>\n",
       "      <td>4</td>\n",
       "    </tr>\n",
       "  </tbody>\n",
       "</table>\n",
       "<p>376 rows × 22 columns</p>\n",
       "</div>"
      ],
      "text/plain": [
       "                  song_name                 song_id              artists  \\\n",
       "0                   Desafío  7j9DYPyCuvSAtPcevpAkzb             ['Arca']   \n",
       "1                    Anoche  1cwTMSQeMaA9fVKEF1iWeD             ['Arca']   \n",
       "2                 Sin Rumbo  0aL27vskbMpwsMGUkHm3Zf             ['Arca']   \n",
       "3    La Gata Bajo la Lluvia  2kfSFdq2h0xLXq01em1zc7     ['Rocío Dúrcal']   \n",
       "4                   Querida  5ySxlyvySBhIEvoO2xx7uT     ['Juan Gabriel']   \n",
       "..                      ...                     ...                  ...   \n",
       "371                Hermanos  7uMYwMzCDDB2QJWaKGaubO  ['Bandalos Chinos']   \n",
       "372                   Lento  7rkUinRHZtLtTyLz5pWmG8  ['Bandalos Chinos']   \n",
       "373            El Concierto  69C9EA7elW3hWyheFseUA5  ['Bandalos Chinos']   \n",
       "374                   Ácido  6rUSxtUiecOgWAp6wUrlR5  ['Bandalos Chinos']   \n",
       "375               Sin Señal  5M3Vn0DW4NtHNoo3Gmo1PT  ['Bandalos Chinos']   \n",
       "\n",
       "                     artists_id             album_name  \\\n",
       "0    ['4SQdUpG4f7UbkJG3cJ2Iyj']                   Arca   \n",
       "1    ['4SQdUpG4f7UbkJG3cJ2Iyj']                   Arca   \n",
       "2    ['4SQdUpG4f7UbkJG3cJ2Iyj']                   Arca   \n",
       "3    ['2uyweLa0mvPZH6eRzDddeB']  Sus 16 Grandes Exitos   \n",
       "4    ['2MRBDr0crHWE5JwPceFncq']           Recuerdos II   \n",
       "..                          ...                    ...   \n",
       "371  ['0wn2qDKzeFlhjRUtJAwJjp']                   BACH   \n",
       "372  ['0wn2qDKzeFlhjRUtJAwJjp']                   BACH   \n",
       "373  ['0wn2qDKzeFlhjRUtJAwJjp']                   BACH   \n",
       "374  ['0wn2qDKzeFlhjRUtJAwJjp']                   BACH   \n",
       "375  ['0wn2qDKzeFlhjRUtJAwJjp']              Sin Señal   \n",
       "\n",
       "                   album_id  \\\n",
       "0    1MQO4j8QExVgmnplbIodEU   \n",
       "1    1MQO4j8QExVgmnplbIodEU   \n",
       "2    1MQO4j8QExVgmnplbIodEU   \n",
       "3    1QXxmsxolhkqiFtI1mpX4i   \n",
       "4    1xrQ48Vvnvm3SmAbnIukGt   \n",
       "..                      ...   \n",
       "371  4SsEredFwBsSDyu6tF8cCg   \n",
       "372  4SsEredFwBsSDyu6tF8cCg   \n",
       "373  4SsEredFwBsSDyu6tF8cCg   \n",
       "374  4SsEredFwBsSDyu6tF8cCg   \n",
       "375  7uXeWwjpTHrDTCjF4cVrZX   \n",
       "\n",
       "                                        audio_features  \\\n",
       "0    {'danceability': 0.161, 'energy': 0.482, 'key'...   \n",
       "1    {'danceability': 0.23, 'energy': 0.434, 'key':...   \n",
       "2    {'danceability': 0.289, 'energy': 0.28, 'key':...   \n",
       "3    {'danceability': 0.499, 'energy': 0.648, 'key'...   \n",
       "4    {'danceability': 0.528, 'energy': 0.383, 'key'...   \n",
       "..                                                 ...   \n",
       "371  {'danceability': 0.675, 'energy': 0.525, 'key'...   \n",
       "372  {'danceability': 0.669, 'energy': 0.655, 'key'...   \n",
       "373  {'danceability': 0.684, 'energy': 0.297, 'key'...   \n",
       "374  {'danceability': 0.671, 'energy': 0.717, 'key'...   \n",
       "375  {'danceability': 0.61, 'energy': 0.736, 'key':...   \n",
       "\n",
       "                         genres  lyrics_sentiment  danceability  ...  \\\n",
       "0                       art pop            0.0013         0.161  ...   \n",
       "1                       art pop            0.9970         0.230  ...   \n",
       "2                       art pop            0.0000         0.289  ...   \n",
       "3                        bolero            0.0057         0.499  ...   \n",
       "4              cancion melodica            0.0000         0.528  ...   \n",
       "..                          ...               ...           ...  ...   \n",
       "371  argentine alternative rock            0.0013         0.675  ...   \n",
       "372  argentine alternative rock            0.0000         0.669  ...   \n",
       "373  argentine alternative rock            0.0000         0.684  ...   \n",
       "374  argentine alternative rock            1.0000         0.671  ...   \n",
       "375  argentine alternative rock            0.0002         0.610  ...   \n",
       "\n",
       "     loudness  mode  speechiness  acousticness  instrumentalness  liveness  \\\n",
       "0     -11.210     0       0.0472        0.4860           0.40900    0.3710   \n",
       "1     -12.402     0       0.0551        0.5700           0.00000    0.1150   \n",
       "2     -15.335     1       0.0433        0.8740           0.00443    0.1240   \n",
       "3      -5.812     1       0.0331        0.7230           0.00000    0.5760   \n",
       "4     -11.170     1       0.0258        0.3760           0.00000    0.1100   \n",
       "..        ...   ...          ...           ...               ...       ...   \n",
       "371    -9.471     1       0.0263        0.7440           0.10800    0.1670   \n",
       "372    -6.323     0       0.0221        0.1020           0.18000    0.1030   \n",
       "373   -10.826     0       0.0317        0.7400           0.00144    0.5070   \n",
       "374    -7.832     0       0.0317        0.0139           0.64300    0.1180   \n",
       "375    -6.702     1       0.0264        0.2770           0.08100    0.0827   \n",
       "\n",
       "     valence    tempo  duration_ms  time_signature  \n",
       "0     0.0926  161.092       233079               5  \n",
       "1     0.0834   80.793       216905               5  \n",
       "2     0.0391  124.835       215773               3  \n",
       "3     0.4640   88.140       219107               4  \n",
       "4     0.4600   89.089       328320               4  \n",
       "..       ...      ...          ...             ...  \n",
       "371   0.1910  112.008       227280               3  \n",
       "372   0.7680   89.991       288507               4  \n",
       "373   0.2400  122.004       239133               4  \n",
       "374   0.6250  114.951       242307               4  \n",
       "375   0.8040   96.008       218720               4  \n",
       "\n",
       "[376 rows x 22 columns]"
      ]
     },
     "execution_count": 41,
     "metadata": {},
     "output_type": "execute_result"
    }
   ],
   "source": [
    "sanitized\n"
   ]
  },
  {
   "cell_type": "code",
   "execution_count": 43,
   "metadata": {},
   "outputs": [],
   "source": [
    "from sklearn.preprocessing import LabelEncoder\n",
    "# encode string class values as integers\n",
    "label_encoder = LabelEncoder()\n",
    "label_encoder = label_encoder.fit(Y)\n",
    "label_encoded_y = label_encoder.transform(Y)"
   ]
  },
  {
   "cell_type": "code",
   "execution_count": 35,
   "metadata": {},
   "outputs": [
    {
     "data": {
      "text/plain": [
       "376"
      ]
     },
     "execution_count": 35,
     "metadata": {},
     "output_type": "execute_result"
    }
   ],
   "source": [
    "len(label_encoded_y)"
   ]
  },
  {
   "cell_type": "code",
   "execution_count": 94,
   "metadata": {},
   "outputs": [],
   "source": [
    "X_train, X_test, y_train, y_test = model_selection.train_test_split(X, label_encoded_y, test_size=0.3, random_state=42)\n"
   ]
  },
  {
   "cell_type": "markdown",
   "metadata": {},
   "source": [
    "## XGBoost"
   ]
  },
  {
   "cell_type": "code",
   "execution_count": 45,
   "metadata": {},
   "outputs": [
    {
     "data": {
      "text/plain": [
       "XGBRegressor(alpha=10, base_score=0.5, booster='gbtree', colsample_bylevel=1,\n",
       "             colsample_bynode=1, colsample_bytree=0.3, gamma=0, gpu_id=-1,\n",
       "             importance_type='gain', interaction_constraints='',\n",
       "             learning_rate=0.1, max_delta_step=0, max_depth=5,\n",
       "             min_child_weight=1, missing=nan, monotone_constraints='()',\n",
       "             n_estimators=10, n_jobs=0, num_parallel_tree=1,\n",
       "             objective='reg:squarederror', random_state=0, reg_alpha=10,\n",
       "             reg_lambda=1, scale_pos_weight=1, subsample=1, tree_method='exact',\n",
       "             validate_parameters=1, verbosity=None)"
      ]
     },
     "execution_count": 45,
     "metadata": {},
     "output_type": "execute_result"
    }
   ],
   "source": [
    "import xgboost as xgb\n",
    "from sklearn.metrics import mean_squared_error\n",
    "\n",
    "xg_reg = xgb.XGBRegressor(objective ='reg:squarederror', colsample_bytree = 0.3, learning_rate = 0.1,\n",
    "                          max_depth = 5, alpha = 10, n_estimators = 10)\n",
    "xg_reg.fit(X_train,y_train)\n"
   ]
  },
  {
   "cell_type": "code",
   "execution_count": 46,
   "metadata": {},
   "outputs": [
    {
     "name": "stdout",
     "output_type": "stream",
     "text": [
      "Accuracy: 11.50%\n"
     ]
    }
   ],
   "source": [
    "y_pred = xg_reg.predict(X_test)\n",
    "predictions = [round(value) for value in y_pred]\n",
    "\n",
    "from sklearn.metrics import accuracy_score\n",
    "accuracy = accuracy_score(y_test, predictions)\n",
    "print(\"Accuracy: %.2f%%\" % (accuracy * 100.0))\n"
   ]
  },
  {
   "cell_type": "code",
   "execution_count": 54,
   "metadata": {},
   "outputs": [
    {
     "name": "stdout",
     "output_type": "stream",
     "text": [
      "Accuracy: 15 \n"
     ]
    }
   ],
   "source": [
    "y_predictions = xg_gridsearched.predict(X_train)\n",
    "predictions = [round(value) for value in y_predictions_grid]\n",
    "\n",
    "print ('Accuracy: %d ' % ((np.sum(y_train == predictions))/float(y_train.size)*100))\n",
    "#predictions_grid"
   ]
  },
  {
   "cell_type": "code",
   "execution_count": 95,
   "metadata": {},
   "outputs": [
    {
     "data": {
      "text/plain": [
       "SGDClassifier(alpha=0.0001, average=False, class_weight=None,\n",
       "              early_stopping=False, epsilon=0.1, eta0=0.0, fit_intercept=True,\n",
       "              l1_ratio=0.15, learning_rate='optimal', loss='hinge',\n",
       "              max_iter=5000, n_iter_no_change=5, n_jobs=None, penalty='l2',\n",
       "              power_t=0.5, random_state=None, shuffle=True, tol=0.001,\n",
       "              validation_fraction=0.1, verbose=0, warm_start=False)"
      ]
     },
     "execution_count": 95,
     "metadata": {},
     "output_type": "execute_result"
    }
   ],
   "source": [
    "from sklearn.linear_model import SGDClassifier\n",
    "sgd = SGDClassifier(loss=\"hinge\", penalty=\"l2\", max_iter=5000)\n",
    "sgd.fit(X_train, y_train) "
   ]
  },
  {
   "cell_type": "code",
   "execution_count": 97,
   "metadata": {},
   "outputs": [
    {
     "name": "stdout",
     "output_type": "stream",
     "text": [
      "Accuracy: 0.88%\n"
     ]
    }
   ],
   "source": [
    "y_pred = sgd.predict(X_test)\n",
    "predictions = [round(value) for value in y_pred]\n",
    "\n",
    "from sklearn.metrics import accuracy_score\n",
    "accuracy = accuracy_score(y_test, predictions)\n",
    "print(\"Accuracy: %.2f%%\" % (accuracy * 100.0))\n"
   ]
  },
  {
   "cell_type": "code",
   "execution_count": null,
   "metadata": {},
   "outputs": [],
   "source": [
    "y_predictions = sgd.predict(X_test)\n",
    "predictions = [round(value) for value in y_predictions_grid]\n",
    "\n",
    "print ('Accuracy: %d ' % ((np.sum(y_train == predictions))/float(y_train.size)*100))\n",
    "#predictions_grid"
   ]
  },
  {
   "cell_type": "code",
   "execution_count": 47,
   "metadata": {},
   "outputs": [],
   "source": [
    "# With gridsearch\n",
    "params={\n",
    " \"learning_rate\"    : [0.05, 0.10, 0.15, 0.20, 0.25, 0.30 ] ,\n",
    " \"max_depth\"        : [ 3, 4, 5, 6, 8, 10, 12, 15],\n",
    " \"min_child_weight\" : [ 1, 3, 5, 7 ],\n",
    " \"gamma\"            : [ 0.0, 0.1, 0.2 , 0.3, 0.4 ],\n",
    " \"colsample_bytree\" : [ 0.3, 0.4, 0.5 , 0.7 ]\n",
    "    \n",
    "}\n"
   ]
  },
  {
   "cell_type": "code",
   "execution_count": 48,
   "metadata": {},
   "outputs": [
    {
     "name": "stdout",
     "output_type": "stream",
     "text": [
      "Fitting 5 folds for each of 5 candidates, totalling 25 fits\n"
     ]
    },
    {
     "name": "stderr",
     "output_type": "stream",
     "text": [
      "[Parallel(n_jobs=-1)]: Using backend LokyBackend with 8 concurrent workers.\n",
      "[Parallel(n_jobs=-1)]: Done  19 out of  25 | elapsed:    2.6s remaining:    0.8s\n",
      "[Parallel(n_jobs=-1)]: Done  25 out of  25 | elapsed:    2.6s finished\n"
     ]
    },
    {
     "data": {
      "text/plain": [
       "RandomizedSearchCV(cv=5, error_score=nan,\n",
       "                   estimator=XGBRegressor(base_score=None, booster=None,\n",
       "                                          colsample_bylevel=None,\n",
       "                                          colsample_bynode=None,\n",
       "                                          colsample_bytree=None, gamma=None,\n",
       "                                          gpu_id=None, importance_type='gain',\n",
       "                                          interaction_constraints=None,\n",
       "                                          learning_rate=None,\n",
       "                                          max_delta_step=None, max_depth=None,\n",
       "                                          min_child_weight=None, missing=nan,\n",
       "                                          monotone_constraints=None,\n",
       "                                          n_...\n",
       "                                          validate_parameters=None,\n",
       "                                          verbosity=None),\n",
       "                   iid='deprecated', n_iter=5, n_jobs=-1,\n",
       "                   param_distributions={'colsample_bytree': [0.3, 0.4, 0.5,\n",
       "                                                             0.7],\n",
       "                                        'gamma': [0.0, 0.1, 0.2, 0.3, 0.4],\n",
       "                                        'learning_rate': [0.05, 0.1, 0.15, 0.2,\n",
       "                                                          0.25, 0.3],\n",
       "                                        'max_depth': [3, 4, 5, 6, 8, 10, 12,\n",
       "                                                      15],\n",
       "                                        'min_child_weight': [1, 3, 5, 7]},\n",
       "                   pre_dispatch='2*n_jobs', random_state=None, refit=True,\n",
       "                   return_train_score=False, scoring=None, verbose=3)"
      ]
     },
     "execution_count": 48,
     "metadata": {},
     "output_type": "execute_result"
    }
   ],
   "source": [
    "from sklearn.model_selection import RandomizedSearchCV, GridSearchCV\n",
    "model = xgb.XGBRegressor()\n",
    "random_search=RandomizedSearchCV(model,\n",
    "                                 param_distributions=params,\n",
    "                                 n_iter=5,\n",
    "                                 n_jobs=-1,\n",
    "                                 cv=5,\n",
    "                                 verbose=3)\n",
    "random_search.fit(X,label_encoded_y)"
   ]
  },
  {
   "cell_type": "code",
   "execution_count": 49,
   "metadata": {},
   "outputs": [
    {
     "data": {
      "text/plain": [
       "XGBRegressor(base_score=0.5, booster='gbtree', colsample_bylevel=1,\n",
       "             colsample_bynode=1, colsample_bytree=0.3, gamma=0.1, gpu_id=-1,\n",
       "             importance_type='gain', interaction_constraints='',\n",
       "             learning_rate=0.1, max_delta_step=0, max_depth=3,\n",
       "             min_child_weight=1, missing=nan, monotone_constraints='()',\n",
       "             n_estimators=100, n_jobs=0, num_parallel_tree=1,\n",
       "             objective='reg:squarederror', random_state=0, reg_alpha=0,\n",
       "             reg_lambda=1, scale_pos_weight=1, subsample=1, tree_method='exact',\n",
       "             validate_parameters=1, verbosity=None)"
      ]
     },
     "execution_count": 49,
     "metadata": {},
     "output_type": "execute_result"
    }
   ],
   "source": [
    "random_search.best_estimator_"
   ]
  },
  {
   "cell_type": "code",
   "execution_count": 50,
   "metadata": {},
   "outputs": [
    {
     "data": {
      "text/plain": [
       "{'colsample_bytree': 0.3,\n",
       " 'gamma': 0.1,\n",
       " 'learning_rate': 0.1,\n",
       " 'max_depth': 3,\n",
       " 'min_child_weight': 1}"
      ]
     },
     "execution_count": 50,
     "metadata": {},
     "output_type": "execute_result"
    }
   ],
   "source": [
    "random_search.best_params_"
   ]
  },
  {
   "cell_type": "code",
   "execution_count": 51,
   "metadata": {},
   "outputs": [
    {
     "data": {
      "text/plain": [
       "XGBRegressor(base_score=0.5, booster='gbtree', colsample_bylevel=1,\n",
       "             colsample_bynode=1, colsample_bytree=0.3, gamma=0.1, gpu_id=-1,\n",
       "             importance_type='gain', interaction_constraints='',\n",
       "             learning_rate=0.1, max_delta_step=0, max_depth=3,\n",
       "             min_child_weight=1, missing=nan, monotone_constraints='()',\n",
       "             n_estimators=100, n_jobs=0, num_parallel_tree=1,\n",
       "             objective='reg:squarederror', random_state=0, reg_alpha=0,\n",
       "             reg_lambda=1, scale_pos_weight=1, subsample=1, tree_method='exact',\n",
       "             validate_parameters=1, verbosity=None)"
      ]
     },
     "execution_count": 51,
     "metadata": {},
     "output_type": "execute_result"
    }
   ],
   "source": [
    "xg_gridsearched = xgb.XGBRegressor(base_score=0.5, booster='gbtree', colsample_bylevel=1,\n",
    "             colsample_bynode=1, colsample_bytree=0.3, gamma=0.1, gpu_id=-1,\n",
    "             importance_type='gain', interaction_constraints='',\n",
    "             learning_rate=0.1, max_delta_step=0, max_depth=3,\n",
    "             min_child_weight=1, monotone_constraints='()',\n",
    "             n_estimators=100, n_jobs=0, num_parallel_tree=1,\n",
    "             objective='reg:squarederror', random_state=0, reg_alpha=0,\n",
    "             reg_lambda=1, scale_pos_weight=1, subsample=1, tree_method='exact',\n",
    "             validate_parameters=1, verbosity=None)\n",
    "xg_gridsearched.fit(X_train,y_train)"
   ]
  },
  {
   "cell_type": "code",
   "execution_count": 52,
   "metadata": {},
   "outputs": [
    {
     "name": "stdout",
     "output_type": "stream",
     "text": [
      "Accuracy: 15 \n"
     ]
    }
   ],
   "source": [
    "y_predictions_grid = xg_gridsearched.predict(X_train)\n",
    "predictions_grid = [round(value) for value in y_predictions_grid]\n",
    "\n",
    "print ('Accuracy: %d ' % ((np.sum(y_train == predictions_grid))/float(y_train.size)*100))\n",
    "#predictions_grid"
   ]
  },
  {
   "cell_type": "code",
   "execution_count": 53,
   "metadata": {},
   "outputs": [
    {
     "name": "stdout",
     "output_type": "stream",
     "text": [
      "Accuracy: 9.73%\n"
     ]
    }
   ],
   "source": [
    "y_pred_grid = xg_gridsearched.predict(X_test)\n",
    "predictions_grid = [round(value) for value in y_pred_grid]\n",
    "\n",
    "from sklearn.metrics import accuracy_score\n",
    "accuracy_grid = accuracy_score(y_test, predictions_grid)\n",
    "print(\"Accuracy: %.2f%%\" % (accuracy_grid * 100.0))\n"
   ]
  },
  {
   "cell_type": "code",
   "execution_count": 57,
   "metadata": {},
   "outputs": [
    {
     "data": {
      "text/html": [
       "<div>\n",
       "<style scoped>\n",
       "    .dataframe tbody tr th:only-of-type {\n",
       "        vertical-align: middle;\n",
       "    }\n",
       "\n",
       "    .dataframe tbody tr th {\n",
       "        vertical-align: top;\n",
       "    }\n",
       "\n",
       "    .dataframe thead th {\n",
       "        text-align: right;\n",
       "    }\n",
       "</style>\n",
       "<table border=\"1\" class=\"dataframe\">\n",
       "  <thead>\n",
       "    <tr style=\"text-align: right;\">\n",
       "      <th></th>\n",
       "      <th>danceability</th>\n",
       "      <th>energy</th>\n",
       "      <th>key</th>\n",
       "      <th>loudness</th>\n",
       "      <th>mode</th>\n",
       "      <th>speechiness</th>\n",
       "      <th>acousticness</th>\n",
       "      <th>instrumentalness</th>\n",
       "      <th>liveness</th>\n",
       "      <th>valence</th>\n",
       "      <th>tempo</th>\n",
       "      <th>duration_ms</th>\n",
       "      <th>time_signature</th>\n",
       "      <th>lyrics_sentiment</th>\n",
       "    </tr>\n",
       "  </thead>\n",
       "  <tbody>\n",
       "    <tr>\n",
       "      <th>0</th>\n",
       "      <td>0.161</td>\n",
       "      <td>0.482</td>\n",
       "      <td>1</td>\n",
       "      <td>-11.210</td>\n",
       "      <td>0</td>\n",
       "      <td>0.0472</td>\n",
       "      <td>0.486</td>\n",
       "      <td>0.409</td>\n",
       "      <td>0.371</td>\n",
       "      <td>0.0926</td>\n",
       "      <td>161.092</td>\n",
       "      <td>233079</td>\n",
       "      <td>5</td>\n",
       "      <td>0.0013</td>\n",
       "    </tr>\n",
       "    <tr>\n",
       "      <th>1</th>\n",
       "      <td>0.230</td>\n",
       "      <td>0.434</td>\n",
       "      <td>10</td>\n",
       "      <td>-12.402</td>\n",
       "      <td>0</td>\n",
       "      <td>0.0551</td>\n",
       "      <td>0.570</td>\n",
       "      <td>0.000</td>\n",
       "      <td>0.115</td>\n",
       "      <td>0.0834</td>\n",
       "      <td>80.793</td>\n",
       "      <td>216905</td>\n",
       "      <td>5</td>\n",
       "      <td>0.9970</td>\n",
       "    </tr>\n",
       "  </tbody>\n",
       "</table>\n",
       "</div>"
      ],
      "text/plain": [
       "   danceability  energy  key  loudness  mode  speechiness  acousticness  \\\n",
       "0         0.161   0.482    1   -11.210     0       0.0472         0.486   \n",
       "1         0.230   0.434   10   -12.402     0       0.0551         0.570   \n",
       "\n",
       "   instrumentalness  liveness  valence    tempo  duration_ms  time_signature  \\\n",
       "0             0.409     0.371   0.0926  161.092       233079               5   \n",
       "1             0.000     0.115   0.0834   80.793       216905               5   \n",
       "\n",
       "   lyrics_sentiment  \n",
       "0            0.0013  \n",
       "1            0.9970  "
      ]
     },
     "execution_count": 57,
     "metadata": {},
     "output_type": "execute_result"
    }
   ],
   "source": [
    "X.head(2)"
   ]
  },
  {
   "cell_type": "code",
   "execution_count": 55,
   "metadata": {},
   "outputs": [],
   "source": [
    "from sklearn import model_selection, tree\n",
    "features = [\"key\",\"valence\",\"tempo\",\"lyrics_sentiment\"]\n",
    "X = sanitized[features]\n",
    "Y = df[\"genres\"]\n",
    "from sklearn.preprocessing import LabelEncoder\n",
    "# encode string class values as integers\n",
    "label_encoder = LabelEncoder()\n",
    "label_encoder = label_encoder.fit(Y)\n",
    "label_encoded_y = label_encoder.transform(Y)\n",
    "X_train, X_test, y_train, y_test = model_selection.train_test_split(X, label_encoded_y, test_size=0.3, random_state=42)\n",
    "\n"
   ]
  },
  {
   "cell_type": "code",
   "execution_count": 56,
   "metadata": {},
   "outputs": [
    {
     "data": {
      "text/plain": [
       "XGBRegressor(base_score=0.5, booster='gbtree', colsample_bylevel=1,\n",
       "             colsample_bynode=1, colsample_bytree=0.3, gamma=0.0, gpu_id=-1,\n",
       "             importance_type='gain', interaction_constraints='',\n",
       "             learning_rate=0.05, max_delta_step=0, max_depth=8,\n",
       "             min_child_weight=3, missing=nan, monotone_constraints='()',\n",
       "             n_estimators=100, n_jobs=0, num_parallel_tree=1,\n",
       "             objective='reg:squarederror', random_state=0, reg_alpha=0,\n",
       "             reg_lambda=1, scale_pos_weight=1, subsample=1, tree_method='exact',\n",
       "             validate_parameters=1, verbosity=None)"
      ]
     },
     "execution_count": 56,
     "metadata": {},
     "output_type": "execute_result"
    }
   ],
   "source": [
    "xg_gridsearched = xgb.XGBRegressor(base_score=0.5, booster='gbtree', colsample_bylevel=1,\n",
    "             colsample_bynode=1, colsample_bytree=0.3, gamma=0.0, gpu_id=-1,\n",
    "             importance_type='gain', interaction_constraints='',\n",
    "             learning_rate=0.05, max_delta_step=0, max_depth=8,\n",
    "             min_child_weight=3, monotone_constraints='()',\n",
    "             n_estimators=100, n_jobs=0, num_parallel_tree=1,\n",
    "             objective='reg:squarederror', random_state=0, reg_alpha=0,\n",
    "             reg_lambda=1, scale_pos_weight=1, subsample=1, tree_method='exact',\n",
    "             validate_parameters=1, verbosity=None)\n",
    "xg_gridsearched.fit(X_train,y_train)"
   ]
  },
  {
   "cell_type": "code",
   "execution_count": 57,
   "metadata": {},
   "outputs": [
    {
     "name": "stdout",
     "output_type": "stream",
     "text": [
      "Accuracy: 12 \n"
     ]
    }
   ],
   "source": [
    "y_predictions_grid = xg_gridsearched.predict(X_train)\n",
    "predictions_grid = [round(value) for value in y_predictions_grid]\n",
    "\n",
    "print ('Accuracy: %d ' % ((np.sum(y_train == predictions_grid))/float(y_train.size)*100))\n",
    "#predictions_grid"
   ]
  },
  {
   "cell_type": "code",
   "execution_count": 98,
   "metadata": {},
   "outputs": [],
   "source": [
    "#without encoding Y\n",
    "X_train, X_test, y_train, y_test = model_selection.train_test_split(X, Y, test_size=0.3, random_state=42)\n"
   ]
  },
  {
   "cell_type": "markdown",
   "metadata": {},
   "source": [
    "## Decision Trees"
   ]
  },
  {
   "cell_type": "code",
   "execution_count": 59,
   "metadata": {},
   "outputs": [],
   "source": [
    "clf = tree.DecisionTreeClassifier(max_depth=2)\n",
    "clf = clf.fit(X_train, y_train)"
   ]
  },
  {
   "cell_type": "code",
   "execution_count": 60,
   "metadata": {},
   "outputs": [
    {
     "name": "stdout",
     "output_type": "stream",
     "text": [
      "Accuracy: 32 \n"
     ]
    }
   ],
   "source": [
    "predictions = clf.predict(X_train)\n",
    "print ('Accuracy: %d ' % ((np.sum(y_train == predictions))/float(y_train.size)*100))"
   ]
  },
  {
   "cell_type": "code",
   "execution_count": 62,
   "metadata": {},
   "outputs": [
    {
     "name": "stdout",
     "output_type": "stream",
     "text": [
      "Accuracy: 26 \n"
     ]
    }
   ],
   "source": [
    "predictions = clf.predict(X_test)\n",
    "print ('Accuracy: %d ' % ((np.sum(y_test == predictions))/float(y_test.size)*100))"
   ]
  },
  {
   "cell_type": "code",
   "execution_count": 64,
   "metadata": {},
   "outputs": [
    {
     "data": {
      "text/plain": [
       "0.26548672566371684"
      ]
     },
     "execution_count": 64,
     "metadata": {},
     "output_type": "execute_result"
    }
   ],
   "source": [
    "score = clf.score(X_test, y_test)\n",
    "score"
   ]
  },
  {
   "cell_type": "code",
   "execution_count": 65,
   "metadata": {},
   "outputs": [
    {
     "data": {
      "text/plain": [
       "array(['argentine heavy metal'], dtype=object)"
      ]
     },
     "execution_count": 65,
     "metadata": {},
     "output_type": "execute_result"
    }
   ],
   "source": [
    "predicts = clf.predict(X_test.head(1))\n",
    "predicts\n",
    "#track_by_feature(\"danceability\", 0.631)"
   ]
  },
  {
   "cell_type": "code",
   "execution_count": 66,
   "metadata": {},
   "outputs": [],
   "source": [
    "#more aux functions\n",
    "def track_by_feature(feature, value):\n",
    "    track_id = audio_features_base[audio_features_base[feature]==value]['id']\n",
    "    track_id = track_id.values.item(0)\n",
    "    return df[df['song_id']== track_id]\n",
    "#example use: \n",
    "#print(track_by_feature(\"valence\",0.039100))\n",
    "#track_by_feature(\"speechiness\",0.492000)\n"
   ]
  },
  {
   "cell_type": "code",
   "execution_count": 201,
   "metadata": {},
   "outputs": [
    {
     "data": {
      "text/html": [
       "<div>\n",
       "<style scoped>\n",
       "    .dataframe tbody tr th:only-of-type {\n",
       "        vertical-align: middle;\n",
       "    }\n",
       "\n",
       "    .dataframe tbody tr th {\n",
       "        vertical-align: top;\n",
       "    }\n",
       "\n",
       "    .dataframe thead th {\n",
       "        text-align: right;\n",
       "    }\n",
       "</style>\n",
       "<table border=\"1\" class=\"dataframe\">\n",
       "  <thead>\n",
       "    <tr style=\"text-align: right;\">\n",
       "      <th></th>\n",
       "      <th>song_name</th>\n",
       "      <th>song_id</th>\n",
       "      <th>artists</th>\n",
       "      <th>artists_id</th>\n",
       "      <th>album_name</th>\n",
       "      <th>album_id</th>\n",
       "      <th>audio_features</th>\n",
       "      <th>genres</th>\n",
       "      <th>lyrics_sentiment</th>\n",
       "      <th>danceability</th>\n",
       "      <th>...</th>\n",
       "      <th>liveness</th>\n",
       "      <th>valence</th>\n",
       "      <th>tempo</th>\n",
       "      <th>type</th>\n",
       "      <th>id</th>\n",
       "      <th>uri</th>\n",
       "      <th>track_href</th>\n",
       "      <th>analysis_url</th>\n",
       "      <th>duration_ms</th>\n",
       "      <th>time_signature</th>\n",
       "    </tr>\n",
       "  </thead>\n",
       "  <tbody>\n",
       "    <tr>\n",
       "      <th>96</th>\n",
       "      <td>Lluvia</td>\n",
       "      <td>09O9vdg73P50pPHC2FiWzV</td>\n",
       "      <td>['La Mona Jimenez']</td>\n",
       "      <td>['64DFKvGarD5nmkfaIiiakf']</td>\n",
       "      <td>Discografía Completa - Volumen 3</td>\n",
       "      <td>1Cs9XYXDQvBlEqDN3jDoHP</td>\n",
       "      <td>{'danceability': 0.631, 'energy': 0.94, 'key':...</td>\n",
       "      <td>cuarteto</td>\n",
       "      <td>0.0001</td>\n",
       "      <td>0.631</td>\n",
       "      <td>...</td>\n",
       "      <td>0.0673</td>\n",
       "      <td>0.817</td>\n",
       "      <td>150.073</td>\n",
       "      <td>audio_features</td>\n",
       "      <td>09O9vdg73P50pPHC2FiWzV</td>\n",
       "      <td>spotify:track:09O9vdg73P50pPHC2FiWzV</td>\n",
       "      <td>https://api.spotify.com/v1/tracks/09O9vdg73P50...</td>\n",
       "      <td>https://api.spotify.com/v1/audio-analysis/09O9...</td>\n",
       "      <td>286493</td>\n",
       "      <td>4</td>\n",
       "    </tr>\n",
       "  </tbody>\n",
       "</table>\n",
       "<p>1 rows × 27 columns</p>\n",
       "</div>"
      ],
      "text/plain": [
       "   song_name                 song_id              artists  \\\n",
       "96    Lluvia  09O9vdg73P50pPHC2FiWzV  ['La Mona Jimenez']   \n",
       "\n",
       "                    artists_id                        album_name  \\\n",
       "96  ['64DFKvGarD5nmkfaIiiakf']  Discografía Completa - Volumen 3   \n",
       "\n",
       "                  album_id                                     audio_features  \\\n",
       "96  1Cs9XYXDQvBlEqDN3jDoHP  {'danceability': 0.631, 'energy': 0.94, 'key':...   \n",
       "\n",
       "      genres  lyrics_sentiment  danceability  ...  liveness  valence    tempo  \\\n",
       "96  cuarteto            0.0001         0.631  ...    0.0673    0.817  150.073   \n",
       "\n",
       "              type                      id  \\\n",
       "96  audio_features  09O9vdg73P50pPHC2FiWzV   \n",
       "\n",
       "                                     uri  \\\n",
       "96  spotify:track:09O9vdg73P50pPHC2FiWzV   \n",
       "\n",
       "                                           track_href  \\\n",
       "96  https://api.spotify.com/v1/tracks/09O9vdg73P50...   \n",
       "\n",
       "                                         analysis_url  duration_ms  \\\n",
       "96  https://api.spotify.com/v1/audio-analysis/09O9...       286493   \n",
       "\n",
       "    time_signature  \n",
       "96               4  \n",
       "\n",
       "[1 rows x 27 columns]"
      ]
     },
     "execution_count": 201,
     "metadata": {},
     "output_type": "execute_result"
    }
   ],
   "source": [
    "track_by_feature(\"danceability\", 0.631)"
   ]
  },
  {
   "cell_type": "markdown",
   "metadata": {},
   "source": [
    "Random Forest"
   ]
  },
  {
   "cell_type": "code",
   "execution_count": 67,
   "metadata": {},
   "outputs": [],
   "source": [
    "from sklearn import ensemble"
   ]
  },
  {
   "cell_type": "code",
   "execution_count": 70,
   "metadata": {},
   "outputs": [],
   "source": [
    "clf_random_forest = ensemble.RandomForestClassifier(random_state=2)\n",
    "clf_random_forest.fit(X_train, y_train);"
   ]
  },
  {
   "cell_type": "code",
   "execution_count": 72,
   "metadata": {},
   "outputs": [
    {
     "name": "stdout",
     "output_type": "stream",
     "text": [
      "Accuracy: 100 \n"
     ]
    }
   ],
   "source": [
    "predictions_train_forest = clf_random_forest.predict(X_train)\n",
    "print ('Accuracy: %d ' % ((np.sum(y_train == predictions_train_forest))/float(y_train.size)*100))"
   ]
  },
  {
   "cell_type": "code",
   "execution_count": 74,
   "metadata": {},
   "outputs": [
    {
     "name": "stdout",
     "output_type": "stream",
     "text": [
      "Accuracy: 26 \n"
     ]
    }
   ],
   "source": [
    "predictions_forest = clf_random_forest.predict(X_test)\n",
    "print ('Accuracy: %d ' % ((np.sum(y_test == predictions))/float(y_test.size)*100))"
   ]
  },
  {
   "cell_type": "markdown",
   "metadata": {},
   "source": [
    "SVM"
   ]
  },
  {
   "cell_type": "code",
   "execution_count": 75,
   "metadata": {},
   "outputs": [
    {
     "data": {
      "text/plain": [
       "LinearSVC(C=0.4, class_weight=None, dual=False, fit_intercept=True,\n",
       "          intercept_scaling=1, loss='squared_hinge', max_iter=1000,\n",
       "          multi_class='ovr', penalty='l2', random_state=2, tol=0.0001,\n",
       "          verbose=0)"
      ]
     },
     "execution_count": 75,
     "metadata": {},
     "output_type": "execute_result"
    }
   ],
   "source": [
    "\n",
    "import sklearn.linear_model\n",
    "import sklearn.neural_network\n",
    "\n",
    "clf_svm = sklearn.svm.LinearSVC(random_state=2,dual=False, C=0.4)\n",
    "#clf_svm = LogisticRegression(solver='lbfgs', max_iter=10000)\n",
    "clf_svm.fit(X_train, y_train)\n"
   ]
  },
  {
   "cell_type": "code",
   "execution_count": 76,
   "metadata": {},
   "outputs": [
    {
     "name": "stdout",
     "output_type": "stream",
     "text": [
      "Accuracy: 30 \n"
     ]
    }
   ],
   "source": [
    "predictions_train_svm = clf_svm.predict(X_train)\n",
    "print ('Accuracy: %d ' % ((np.sum(y_train == predictions_train_svm))/float(y_train.size)*100))"
   ]
  },
  {
   "cell_type": "code",
   "execution_count": 77,
   "metadata": {},
   "outputs": [
    {
     "name": "stdout",
     "output_type": "stream",
     "text": [
      "Accuracy: 22 \n"
     ]
    }
   ],
   "source": [
    "predictions_svm = clf_svm.predict(X_test)\n",
    "print ('Accuracy: %d ' % ((np.sum(y_test == predictions_svm))/float(y_test.size)*100))"
   ]
  },
  {
   "cell_type": "code",
   "execution_count": 79,
   "metadata": {},
   "outputs": [
    {
     "data": {
      "text/plain": [
       "0.22123893805309736"
      ]
     },
     "execution_count": 79,
     "metadata": {},
     "output_type": "execute_result"
    }
   ],
   "source": [
    "clf_svm.score(X_test,y_test)"
   ]
  },
  {
   "cell_type": "markdown",
   "metadata": {},
   "source": [
    "K NEIGHBORS"
   ]
  },
  {
   "cell_type": "code",
   "execution_count": 80,
   "metadata": {},
   "outputs": [
    {
     "data": {
      "text/plain": [
       "KNeighborsClassifier(algorithm='auto', leaf_size=30, metric='minkowski',\n",
       "                     metric_params=None, n_jobs=None, n_neighbors=3, p=2,\n",
       "                     weights='uniform')"
      ]
     },
     "execution_count": 80,
     "metadata": {},
     "output_type": "execute_result"
    }
   ],
   "source": [
    "from sklearn.neighbors import KNeighborsClassifier\n",
    "\n",
    "clf_neigh = KNeighborsClassifier(n_neighbors=3)\n",
    "clf_neigh.fit(X_train,y_train)"
   ]
  },
  {
   "cell_type": "code",
   "execution_count": 81,
   "metadata": {},
   "outputs": [
    {
     "name": "stdout",
     "output_type": "stream",
     "text": [
      "Accuracy: 50 \n"
     ]
    }
   ],
   "source": [
    "predictions_train_neigh = clf_neigh.predict(X_train)\n",
    "print ('Accuracy: %d ' % ((np.sum(y_train == predictions_train_neigh))/float(y_train.size)*100))"
   ]
  },
  {
   "cell_type": "code",
   "execution_count": 83,
   "metadata": {},
   "outputs": [
    {
     "name": "stdout",
     "output_type": "stream",
     "text": [
      "Accuracy: 23 \n"
     ]
    }
   ],
   "source": [
    "predictions_neigh = clf_neigh.predict(X_test)\n",
    "print ('Accuracy: %d ' % ((np.sum(y_test == predictions_neigh))/float(y_test.size)*100))"
   ]
  },
  {
   "cell_type": "code",
   "execution_count": 85,
   "metadata": {},
   "outputs": [
    {
     "data": {
      "text/plain": [
       "array([[ 0,  0,  0,  0,  0,  0,  0,  0,  0,  0,  0,  0,  0,  0,  0,  0,\n",
       "         0,  0,  0,  0,  0,  0,  0],\n",
       "       [ 0, 10,  9,  3,  0,  0,  0,  0,  1,  0,  1,  0,  0,  0,  0,  0,\n",
       "         1,  0,  0,  0,  0,  0,  0],\n",
       "       [ 0,  5,  7,  4,  0,  1,  0,  0,  2,  1,  0,  0,  0,  0,  0,  0,\n",
       "         0,  0,  0,  0,  0,  0,  0],\n",
       "       [ 0,  4,  8,  3,  0,  0,  0,  0,  1,  0,  0,  0,  0,  0,  0,  0,\n",
       "         0,  0,  0,  0,  0,  0,  0],\n",
       "       [ 0,  0,  0,  0,  1,  0,  0,  0,  0,  0,  0,  0,  0,  0,  0,  0,\n",
       "         0,  0,  0,  0,  0,  0,  0],\n",
       "       [ 0,  0,  2,  0,  0,  0,  0,  0,  0,  0,  0,  0,  0,  0,  0,  0,\n",
       "         0,  0,  0,  0,  0,  0,  0],\n",
       "       [ 0,  0,  0,  0,  0,  0,  1,  0,  0,  0,  0,  0,  0,  0,  0,  0,\n",
       "         0,  0,  0,  0,  0,  0,  0],\n",
       "       [ 0,  0,  0,  1,  0,  0,  0,  0,  0,  0,  0,  0,  0,  0,  0,  0,\n",
       "         0,  0,  0,  0,  0,  0,  0],\n",
       "       [ 0,  5,  6,  5,  0,  0,  0,  0,  3,  1,  0,  0,  0,  0,  0,  0,\n",
       "         1,  0,  0,  0,  0,  0,  0],\n",
       "       [ 0,  0,  0,  0,  0,  0,  0,  0,  0,  0,  0,  0,  0,  0,  0,  0,\n",
       "         0,  0,  0,  0,  0,  0,  0],\n",
       "       [ 0,  0,  1,  1,  0,  0,  0,  0,  0,  0,  0,  0,  0,  0,  0,  0,\n",
       "         0,  0,  0,  0,  0,  0,  0],\n",
       "       [ 0,  0,  0,  0,  0,  0,  0,  0,  1,  0,  0,  0,  0,  0,  0,  0,\n",
       "         0,  0,  0,  0,  0,  0,  0],\n",
       "       [ 0,  0,  1,  1,  0,  0,  0,  0,  0,  0,  0,  0,  0,  0,  0,  0,\n",
       "         0,  0,  0,  0,  0,  0,  0],\n",
       "       [ 0,  1,  1,  1,  0,  0,  0,  0,  0,  0,  0,  0,  0,  0,  0,  0,\n",
       "         0,  0,  0,  0,  0,  0,  0],\n",
       "       [ 0,  0,  0,  0,  0,  0,  0,  0,  1,  0,  0,  0,  0,  0,  0,  0,\n",
       "         0,  0,  0,  0,  0,  0,  0],\n",
       "       [ 1,  1,  0,  0,  0,  0,  0,  0,  0,  0,  0,  0,  0,  0,  0,  0,\n",
       "         0,  0,  0,  0,  0,  0,  0],\n",
       "       [ 0,  0,  1,  1,  0,  0,  0,  0,  1,  0,  0,  0,  0,  0,  0,  0,\n",
       "         2,  0,  0,  0,  0,  0,  0],\n",
       "       [ 0,  1,  0,  0,  0,  0,  0,  0,  0,  0,  0,  0,  0,  0,  0,  0,\n",
       "         0,  0,  0,  0,  0,  0,  0],\n",
       "       [ 0,  1,  0,  0,  0,  0,  0,  0,  0,  0,  0,  0,  0,  0,  0,  0,\n",
       "         0,  0,  0,  0,  0,  0,  0],\n",
       "       [ 0,  0,  1,  1,  0,  0,  0,  0,  2,  0,  0,  0,  0,  0,  0,  0,\n",
       "         0,  0,  0,  0,  0,  0,  0],\n",
       "       [ 0,  0,  2,  0,  0,  0,  0,  0,  0,  0,  0,  0,  0,  0,  0,  0,\n",
       "         0,  0,  0,  0,  0,  0,  0],\n",
       "       [ 0,  0,  0,  0,  0,  0,  0,  0,  1,  0,  0,  0,  0,  0,  0,  0,\n",
       "         0,  0,  0,  0,  0,  0,  0],\n",
       "       [ 0,  1,  0,  0,  0,  0,  0,  0,  0,  0,  0,  0,  0,  0,  0,  0,\n",
       "         0,  0,  0,  0,  0,  0,  0]])"
      ]
     },
     "execution_count": 85,
     "metadata": {},
     "output_type": "execute_result"
    }
   ],
   "source": [
    "from sklearn.metrics import confusion_matrix,plot_confusion_matrix\n",
    "cm = confusion_matrix(y_test, predictions_neigh) \n",
    "cm"
   ]
  },
  {
   "cell_type": "code",
   "execution_count": 120,
   "metadata": {},
   "outputs": [],
   "source": [
    "#plot CM\n",
    "#plt.figure(figsize=(20,20))\n",
    "#sns.heatmap(cm, annot=True, annot_kws={\"size\": 12})"
   ]
  },
  {
   "cell_type": "markdown",
   "metadata": {},
   "source": [
    "## Multiclass + Multilabel"
   ]
  },
  {
   "cell_type": "code",
   "execution_count": 172,
   "metadata": {},
   "outputs": [],
   "source": [
    "XX,YY = get_df_for_training(songs_base)\n",
    "#without encoding Y\n",
    "from sklearn.preprocessing import MultiLabelBinarizer\n",
    "Y = MultiLabelBinarizer()\n",
    "a = Y.fit_transform(YY)\n",
    "X_train, X_test, y_train, y_test = model_selection.train_test_split(XX, a, test_size=0.4, random_state=42)\n"
   ]
  },
  {
   "cell_type": "code",
   "execution_count": 99,
   "metadata": {},
   "outputs": [],
   "source": [
    "parameters = {'estimator_loss':('hinge','log','perceptron'),\n",
    "             'estimator_alpha':(0.1,0.001,0.00001,0.000001),\n",
    "              'estimator_penalty':('l1','l2','elasticnet')\n",
    "             }"
   ]
  },
  {
   "cell_type": "code",
   "execution_count": 173,
   "metadata": {},
   "outputs": [
    {
     "name": "stderr",
     "output_type": "stream",
     "text": [
      "/home/kunan/Documentos/famaf/diplodatos/mentoria-canciones-DiploDatos/sentanal/lib/python3.6/site-packages/sklearn/multiclass.py:75: UserWarning:\n",
      "\n",
      "Label not 5 is present in all training examples.\n",
      "\n",
      "/home/kunan/Documentos/famaf/diplodatos/mentoria-canciones-DiploDatos/sentanal/lib/python3.6/site-packages/sklearn/multiclass.py:75: UserWarning:\n",
      "\n",
      "Label not 48 is present in all training examples.\n",
      "\n",
      "/home/kunan/Documentos/famaf/diplodatos/mentoria-canciones-DiploDatos/sentanal/lib/python3.6/site-packages/sklearn/multiclass.py:75: UserWarning:\n",
      "\n",
      "Label not 54 is present in all training examples.\n",
      "\n",
      "/home/kunan/Documentos/famaf/diplodatos/mentoria-canciones-DiploDatos/sentanal/lib/python3.6/site-packages/sklearn/multiclass.py:75: UserWarning:\n",
      "\n",
      "Label not 55 is present in all training examples.\n",
      "\n",
      "/home/kunan/Documentos/famaf/diplodatos/mentoria-canciones-DiploDatos/sentanal/lib/python3.6/site-packages/sklearn/multiclass.py:75: UserWarning:\n",
      "\n",
      "Label not 59 is present in all training examples.\n",
      "\n",
      "/home/kunan/Documentos/famaf/diplodatos/mentoria-canciones-DiploDatos/sentanal/lib/python3.6/site-packages/sklearn/multiclass.py:75: UserWarning:\n",
      "\n",
      "Label not 68 is present in all training examples.\n",
      "\n",
      "/home/kunan/Documentos/famaf/diplodatos/mentoria-canciones-DiploDatos/sentanal/lib/python3.6/site-packages/sklearn/multiclass.py:75: UserWarning:\n",
      "\n",
      "Label not 75 is present in all training examples.\n",
      "\n",
      "/home/kunan/Documentos/famaf/diplodatos/mentoria-canciones-DiploDatos/sentanal/lib/python3.6/site-packages/sklearn/multiclass.py:75: UserWarning:\n",
      "\n",
      "Label not 83 is present in all training examples.\n",
      "\n",
      "/home/kunan/Documentos/famaf/diplodatos/mentoria-canciones-DiploDatos/sentanal/lib/python3.6/site-packages/sklearn/multiclass.py:75: UserWarning:\n",
      "\n",
      "Label not 102 is present in all training examples.\n",
      "\n",
      "/home/kunan/Documentos/famaf/diplodatos/mentoria-canciones-DiploDatos/sentanal/lib/python3.6/site-packages/sklearn/multiclass.py:75: UserWarning:\n",
      "\n",
      "Label not 123 is present in all training examples.\n",
      "\n",
      "/home/kunan/Documentos/famaf/diplodatos/mentoria-canciones-DiploDatos/sentanal/lib/python3.6/site-packages/sklearn/multiclass.py:75: UserWarning:\n",
      "\n",
      "Label not 126 is present in all training examples.\n",
      "\n",
      "/home/kunan/Documentos/famaf/diplodatos/mentoria-canciones-DiploDatos/sentanal/lib/python3.6/site-packages/sklearn/multiclass.py:75: UserWarning:\n",
      "\n",
      "Label not 128 is present in all training examples.\n",
      "\n",
      "/home/kunan/Documentos/famaf/diplodatos/mentoria-canciones-DiploDatos/sentanal/lib/python3.6/site-packages/sklearn/multiclass.py:75: UserWarning:\n",
      "\n",
      "Label not 131 is present in all training examples.\n",
      "\n",
      "/home/kunan/Documentos/famaf/diplodatos/mentoria-canciones-DiploDatos/sentanal/lib/python3.6/site-packages/sklearn/multiclass.py:75: UserWarning:\n",
      "\n",
      "Label not 136 is present in all training examples.\n",
      "\n",
      "/home/kunan/Documentos/famaf/diplodatos/mentoria-canciones-DiploDatos/sentanal/lib/python3.6/site-packages/sklearn/multiclass.py:75: UserWarning:\n",
      "\n",
      "Label not 137 is present in all training examples.\n",
      "\n"
     ]
    }
   ],
   "source": [
    "from sklearn.multiclass import OneVsRestClassifier\n",
    "classifier = OneVsRestClassifier(\n",
    "                SGDClassifier(\n",
    "                    random_state=0,\n",
    "                    loss='perceptron',\n",
    "                    alpha=0.00001,\n",
    "                    penalty='l2'\n",
    "                )\n",
    "            ).fit(X_train,y_train)"
   ]
  },
  {
   "cell_type": "code",
   "execution_count": 174,
   "metadata": {},
   "outputs": [
    {
     "name": "stdout",
     "output_type": "stream",
     "text": [
      "Accuracy: 95 \n"
     ]
    }
   ],
   "source": [
    "y_pred = classifier.predict(X_test)\n",
    "print ('Accuracy: %d ' % ((np.sum(y_test == y_pred))/float(y_test.size)*100))"
   ]
  },
  {
   "cell_type": "code",
   "execution_count": 136,
   "metadata": {},
   "outputs": [
    {
     "data": {
      "text/plain": [
       "138"
      ]
     },
     "execution_count": 136,
     "metadata": {},
     "output_type": "execute_result"
    }
   ],
   "source": [
    "classifier.n_classes_"
   ]
  },
  {
   "cell_type": "code",
   "execution_count": 156,
   "metadata": {},
   "outputs": [
    {
     "name": "stdout",
     "output_type": "stream",
     "text": [
      "Predicted  [(' latin hip hop', ' rock en espanol', 'argentine indie')]  for song \n"
     ]
    },
    {
     "data": {
      "text/html": [
       "<div>\n",
       "<style scoped>\n",
       "    .dataframe tbody tr th:only-of-type {\n",
       "        vertical-align: middle;\n",
       "    }\n",
       "\n",
       "    .dataframe tbody tr th {\n",
       "        vertical-align: top;\n",
       "    }\n",
       "\n",
       "    .dataframe thead th {\n",
       "        text-align: right;\n",
       "    }\n",
       "</style>\n",
       "<table border=\"1\" class=\"dataframe\">\n",
       "  <thead>\n",
       "    <tr style=\"text-align: right;\">\n",
       "      <th></th>\n",
       "      <th>danceability</th>\n",
       "      <th>energy</th>\n",
       "      <th>key</th>\n",
       "      <th>loudness</th>\n",
       "      <th>mode</th>\n",
       "      <th>speechiness</th>\n",
       "      <th>acousticness</th>\n",
       "      <th>instrumentalness</th>\n",
       "      <th>liveness</th>\n",
       "      <th>valence</th>\n",
       "      <th>tempo</th>\n",
       "      <th>lyrics_sentiment</th>\n",
       "    </tr>\n",
       "  </thead>\n",
       "  <tbody>\n",
       "    <tr>\n",
       "      <th>319</th>\n",
       "      <td>0.409</td>\n",
       "      <td>0.277</td>\n",
       "      <td>0</td>\n",
       "      <td>-10.276</td>\n",
       "      <td>1</td>\n",
       "      <td>0.0421</td>\n",
       "      <td>0.63</td>\n",
       "      <td>0.0</td>\n",
       "      <td>0.173</td>\n",
       "      <td>0.534</td>\n",
       "      <td>80.062</td>\n",
       "      <td>0.0</td>\n",
       "    </tr>\n",
       "  </tbody>\n",
       "</table>\n",
       "</div>"
      ],
      "text/plain": [
       "     danceability  energy  key  loudness  mode  speechiness  acousticness  \\\n",
       "319         0.409   0.277    0   -10.276     1       0.0421          0.63   \n",
       "\n",
       "     instrumentalness  liveness  valence   tempo  lyrics_sentiment  \n",
       "319               0.0     0.173    0.534  80.062               0.0  "
      ]
     },
     "execution_count": 156,
     "metadata": {},
     "output_type": "execute_result"
    }
   ],
   "source": [
    "y_pred_one = classifier.predict(X_test.head(1))\n",
    "print(\"Predicted \", Y.inverse_transform(y_pred_one), \" for song \" )\n",
    "X_test.head(1)"
   ]
  },
  {
   "cell_type": "code",
   "execution_count": 160,
   "metadata": {
    "scrolled": true
   },
   "outputs": [
    {
     "data": {
      "text/plain": [
       "[['argentine indie',\n",
       "  ' argentine metal',\n",
       "  ' argentine rock',\n",
       "  ' indie cordoba',\n",
       "  ' latin rock',\n",
       "  ' nuevo folklore argentino',\n",
       "  ' rock en espanol',\n",
       "  ' rock nacional']]"
      ]
     },
     "execution_count": 160,
     "metadata": {},
     "output_type": "execute_result"
    }
   ],
   "source": [
    "def track_by_feature(feature, value):\n",
    "    track_id = audio_features_base[audio_features_base[feature]==value]['id']\n",
    "    track_id = track_id.values.item(0)\n",
    "    return songs_base[songs_base['song_id']== track_id]\n",
    "\n",
    "[x for x in track_by_feature('danceability',0.409)[\"genres\"]]"
   ]
  },
  {
   "cell_type": "code",
   "execution_count": 175,
   "metadata": {},
   "outputs": [
    {
     "name": "stdout",
     "output_type": "stream",
     "text": [
      "Predicted  [(' latin hip hop', ' rock en espanol')]  for song \n"
     ]
    },
    {
     "data": {
      "text/html": [
       "<div>\n",
       "<style scoped>\n",
       "    .dataframe tbody tr th:only-of-type {\n",
       "        vertical-align: middle;\n",
       "    }\n",
       "\n",
       "    .dataframe tbody tr th {\n",
       "        vertical-align: top;\n",
       "    }\n",
       "\n",
       "    .dataframe thead th {\n",
       "        text-align: right;\n",
       "    }\n",
       "</style>\n",
       "<table border=\"1\" class=\"dataframe\">\n",
       "  <thead>\n",
       "    <tr style=\"text-align: right;\">\n",
       "      <th></th>\n",
       "      <th>danceability</th>\n",
       "      <th>energy</th>\n",
       "      <th>key</th>\n",
       "      <th>loudness</th>\n",
       "      <th>mode</th>\n",
       "      <th>speechiness</th>\n",
       "      <th>acousticness</th>\n",
       "      <th>instrumentalness</th>\n",
       "      <th>liveness</th>\n",
       "      <th>valence</th>\n",
       "      <th>tempo</th>\n",
       "      <th>lyrics_sentiment</th>\n",
       "    </tr>\n",
       "  </thead>\n",
       "  <tbody>\n",
       "    <tr>\n",
       "      <th>536</th>\n",
       "      <td>0.696</td>\n",
       "      <td>0.902</td>\n",
       "      <td>5</td>\n",
       "      <td>-6.973</td>\n",
       "      <td>0</td>\n",
       "      <td>0.0645</td>\n",
       "      <td>0.143</td>\n",
       "      <td>0.0175</td>\n",
       "      <td>0.0741</td>\n",
       "      <td>0.856</td>\n",
       "      <td>134.972</td>\n",
       "      <td>0.0</td>\n",
       "    </tr>\n",
       "  </tbody>\n",
       "</table>\n",
       "</div>"
      ],
      "text/plain": [
       "     danceability  energy  key  loudness  mode  speechiness  acousticness  \\\n",
       "536         0.696   0.902    5    -6.973     0       0.0645         0.143   \n",
       "\n",
       "     instrumentalness  liveness  valence    tempo  lyrics_sentiment  \n",
       "536            0.0175    0.0741    0.856  134.972               0.0  "
      ]
     },
     "execution_count": 175,
     "metadata": {},
     "output_type": "execute_result"
    }
   ],
   "source": [
    "y_pred_last = classifier.predict(X_test.tail(1))\n",
    "print(\"Predicted \", Y.inverse_transform(y_pred_last), \" for song \" )\n",
    "X_test.tail(1)"
   ]
  },
  {
   "cell_type": "code",
   "execution_count": 177,
   "metadata": {},
   "outputs": [
    {
     "data": {
      "text/plain": [
       "[['argentine alternative rock',\n",
       "  ' argentine indie',\n",
       "  ' latin rock',\n",
       "  ' mexican indie']]"
      ]
     },
     "execution_count": 177,
     "metadata": {},
     "output_type": "execute_result"
    }
   ],
   "source": [
    "[x for x in track_by_feature('danceability',0.696)[\"genres\"]]\n",
    "#track_by_feature('danceability',0.696)"
   ]
  },
  {
   "cell_type": "markdown",
   "metadata": {},
   "source": [
    "### 2) Elegir tres modelos de clasificadores multiclase\n",
    "\n",
    "Aquí escogeremos tres modelos diferentes y luego compararemos su rendimiento para esta tarea. El procedimiento será el siguiente:\n",
    "- Inicializar los modelos\n",
    "- Entrenarlos usando el split **train** de los datos\n",
    "\n",
    "**Recomendación:**\n",
    "- Prestar atención a la [documentación de sklearn](https://scikit-learn.org/stable/)"
   ]
  },
  {
   "cell_type": "code",
   "execution_count": 241,
   "metadata": {},
   "outputs": [
    {
     "data": {
      "text/plain": [
       "15"
      ]
     },
     "execution_count": 241,
     "metadata": {},
     "output_type": "execute_result"
    }
   ],
   "source": [
    "labels_true = Y.inverse_transform(y_test)\n",
    "labels_predicted=Y.inverse_transform(y_pred)\n",
    "#y_pred\n",
    "#y_pred_last = classifier.predict(X_test.tail(1))\n",
    "#print(\"Predicted \", Y.inverse_transform(y_pred_last), \" for song \" )\n",
    "#X_test.tail(1)\n",
    "#y_pred_last\n",
    "len(np.unique(labels_predicted))"
   ]
  },
  {
   "cell_type": "code",
   "execution_count": 245,
   "metadata": {},
   "outputs": [
    {
     "name": "stderr",
     "output_type": "stream",
     "text": [
      "/home/kunan/Documentos/famaf/diplodatos/mentoria-canciones-DiploDatos/sentanal/lib/python3.6/site-packages/ipykernel_launcher.py:4: RuntimeWarning:\n",
      "\n",
      "invalid value encountered in true_divide\n",
      "\n"
     ]
    },
    {
     "data": {
      "image/png": "[encoded data removed]",
      "text/plain": [
       "<Figure size 720x720 with 2 Axes>"
      ]
     },
     "metadata": {
      "needs_background": "light"
     },
     "output_type": "display_data"
    }
   ],
   "source": [
    "def plot_cm(y_true, y_pred, figsize=(10,10)):\n",
    "    cm = confusion_matrix(y_true, y_pred, labels=np.unique(y_true))\n",
    "    cm_sum = np.sum(cm, axis=1, keepdims=True)\n",
    "    cm_perc = cm / cm_sum.astype(float) * 100\n",
    "    cm_perc = np.nan_to_num(cm_perc,nan=0.)\n",
    "    annot = np.empty_like(cm).astype(str)\n",
    "    nrows, ncols = cm.shape\n",
    "    for i in range(nrows):\n",
    "        for j in range(ncols):\n",
    "            c = cm[i, j]\n",
    "            p = cm_perc[i, j]\n",
    "            if i == j:\n",
    "                s = cm_sum[i]\n",
    "                annot[i, j] = '%.1f%%\\n%d/%d' % (p, c, s)\n",
    "            elif c == 0:\n",
    "                annot[i, j] = ''\n",
    "            else:\n",
    "                annot[i, j] = '%.1f%%\\n%d' % (p, c)\n",
    "    cm = pd.DataFrame(cm, index=np.unique(y_true), columns=np.unique(y_true))\n",
    "    cm.index.name = 'Actual'\n",
    "    cm.columns.name = 'Predicted'\n",
    "    fig, ax = plt.subplots(figsize=figsize)\n",
    "    sns.heatmap(cm, annot=annot, fmt='', ax=ax)\n",
    "    \n",
    "plot_cm(y_pred.argmax(axis=1), y_test.argmax(axis=1))"
   ]
  },
  {
   "cell_type": "code",
   "execution_count": 205,
   "metadata": {},
   "outputs": [
    {
     "data": {
      "text/plain": [
       "<matplotlib.axes._subplots.AxesSubplot at 0x7f819c164240>"
      ]
     },
     "execution_count": 205,
     "metadata": {},
     "output_type": "execute_result"
    },
    {
     "data": {
      "image/png": "[encoded data removed]",
      "text/plain": [
       "<Figure size 1440x1440 with 2 Axes>"
      ]
     },
     "metadata": {
      "needs_background": "light"
     },
     "output_type": "display_data"
    }
   ],
   "source": [
    "# multilabel not supported by sklearn\n",
    "# we use argmax\n",
    "#Y.inverse_transform(y_pred_last)\n",
    "cm = confusion_matrix(y_test.argmax(axis=1), y_pred.argmax(axis=1), labels=np.unique(y_test.argmax(axis=1)))\n",
    "plt.figure(figsize=(20,20))\n",
    "sns.heatmap(cm, annot=True, annot_kws={\"size\": 12})"
   ]
  },
  {
   "cell_type": "markdown",
   "metadata": {},
   "source": [
    "### 3) Informe: Comparar el rendimiento de los modelos\n",
    "\n",
    "Una vez entrenados los tres modelos, compararemos su rendimiento:\n",
    "- Correr los modelos usando el split **test**\n",
    "- Obtener el reporte de clasificación y la matriz de confusión para cada modelo\n",
    "- Graficar llevando a 2 dimensiones nuestro split **test** pintando con colores diferentes según la etiqueta correspondiente.\n",
    "- Graficar de manera similar los resultados obtenidos con cada clasificador y sobre esto la función de clasificación obtenida.\n",
    "- Guardar los modelos usando **pickle**\n",
    "- Discutir los resultados obtenidos\n",
    "\n",
    "**Recomendación:**\n",
    "- Prestar atención a la [documentación de sklearn](https://scikit-learn.org/stable/)"
   ]
  },
  {
   "cell_type": "code",
   "execution_count": null,
   "metadata": {},
   "outputs": [],
   "source": []
  },
  {
   "cell_type": "markdown",
   "metadata": {},
   "source": [
    "### 4) Tareas adicionales:\n",
    "\n",
    "Estas tareas servirán para extrapolar un poco el trabajo básico, y también sumarán puntos extra. Deben elegir una o más de las siguientes:\n",
    "-  Análisis sobre el balance de clases del dataset, balanceo usando **subsampling** u **oversampling** y comparación de resultados vs el modelo básico\n",
    "- Optimización de hiperparámetros y comparación de resultados vs el modelo básico\n",
    "- Graficar importancia de features\n",
    "- Graficar correlación de features\n",
    "\n",
    "**Recomendación:**\n",
    "- Hacer varias ahora puede ahorrarles tiempo en el futuro"
   ]
  },
  {
   "cell_type": "code",
   "execution_count": 37,
   "metadata": {},
   "outputs": [
    {
     "data": {
      "text/plain": [
       "['cumbia andina mexicana', 'folclore jujeno', 'folklore argentino']"
      ]
     },
     "execution_count": 37,
     "metadata": {},
     "output_type": "execute_result"
    }
   ],
   "source": [
    "#problemas de spotify's genres\n",
    "get_genres([\"0iutktJLkNNtErs8c3EoF6\"])"
   ]
  }
 ],
 "metadata": {
  "kernelspec": {
   "display_name": "Python 3",
   "language": "python",
   "name": "python3"
  },
  "language_info": {
   "codemirror_mode": {
    "name": "ipython",
    "version": 3
   },
   "file_extension": ".py",
   "mimetype": "text/x-python",
   "name": "python",
   "nbconvert_exporter": "python",
   "pygments_lexer": "ipython3",
   "version": "3.6.9"
  }
 },
 "nbformat": 4,
 "nbformat_minor": 2
}
