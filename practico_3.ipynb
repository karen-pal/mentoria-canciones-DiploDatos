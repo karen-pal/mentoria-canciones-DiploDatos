{
 "cells": [
  {
   "cell_type": "markdown",
   "metadata": {},
   "source": [
    "# Mentoría 'de cómo clasificar en géneros a las canciones'\n",
    "## Práctico III : Introducción al aprendizaje automático"
   ]
  },
  {
   "cell_type": "markdown",
   "metadata": {},
   "source": [
    "**Antes de empezar:**\n",
    "- [Instalar spaCy y el modelo de lenguaje con el que van a trabajar](https://spacy.io/models#quickstart)\n",
    "\n",
    "**Consideraciones:**\n",
    "- Se evalúa el estilo y prolijidad del código.\n",
    "- Se permite hacer trabajo extra, siempre y cuando las actividades básicas estén resueltas.\n",
    "\n",
    "**Recomendación:**\n",
    "- Hay muchos ejemplos de código en internet, no se sientan obligados a implementar todo desde cero."
   ]
  },
  {
   "cell_type": "markdown",
   "metadata": {},
   "source": [
    "### Librerías"
   ]
  },
  {
   "cell_type": "code",
   "execution_count": 1,
   "metadata": {},
   "outputs": [
    {
     "name": "stdout",
     "output_type": "stream",
     "text": [
      "Collecting spotipy\n",
      "  Downloading spotipy-2.15.0-py3-none-any.whl (24 kB)\n",
      "Requirement already satisfied: requests>=2.20.0 in ./sentanal/lib/python3.6/site-packages (from spotipy) (2.23.0)\n",
      "Requirement already satisfied: six>=1.10.0 in ./sentanal/lib/python3.6/site-packages (from spotipy) (1.15.0)\n",
      "Requirement already satisfied: certifi>=2017.4.17 in ./sentanal/lib/python3.6/site-packages (from requests>=2.20.0->spotipy) (2020.6.20)\n",
      "Requirement already satisfied: urllib3!=1.25.0,!=1.25.1,<1.26,>=1.21.1 in ./sentanal/lib/python3.6/site-packages (from requests>=2.20.0->spotipy) (1.24.3)\n",
      "Requirement already satisfied: idna<3,>=2.5 in ./sentanal/lib/python3.6/site-packages (from requests>=2.20.0->spotipy) (2.10)\n",
      "Requirement already satisfied: chardet<4,>=3.0.2 in ./sentanal/lib/python3.6/site-packages (from requests>=2.20.0->spotipy) (3.0.4)\n",
      "Installing collected packages: spotipy\n",
      "Successfully installed spotipy-2.15.0\n",
      "Requirement already satisfied: pandas in ./sentanal/lib/python3.6/site-packages (1.0.5)\n",
      "Requirement already satisfied: pytz>=2017.2 in ./sentanal/lib/python3.6/site-packages (from pandas) (2020.1)\n",
      "Requirement already satisfied: numpy>=1.13.3 in ./sentanal/lib/python3.6/site-packages (from pandas) (1.18.5)\n",
      "Requirement already satisfied: python-dateutil>=2.6.1 in ./sentanal/lib/python3.6/site-packages (from pandas) (2.8.1)\n",
      "Requirement already satisfied: six>=1.5 in ./sentanal/lib/python3.6/site-packages (from python-dateutil>=2.6.1->pandas) (1.15.0)\n",
      "Requirement already satisfied: spacy in ./sentanal/lib/python3.6/site-packages (2.2.4)\n",
      "Requirement already satisfied: requests<3.0.0,>=2.13.0 in ./sentanal/lib/python3.6/site-packages (from spacy) (2.23.0)\n",
      "Requirement already satisfied: murmurhash<1.1.0,>=0.28.0 in ./sentanal/lib/python3.6/site-packages (from spacy) (1.0.2)\n",
      "Requirement already satisfied: thinc==7.4.0 in ./sentanal/lib/python3.6/site-packages (from spacy) (7.4.0)\n",
      "Requirement already satisfied: catalogue<1.1.0,>=0.0.7 in ./sentanal/lib/python3.6/site-packages (from spacy) (1.0.0)\n",
      "Requirement already satisfied: numpy>=1.15.0 in ./sentanal/lib/python3.6/site-packages (from spacy) (1.18.5)\n",
      "Requirement already satisfied: preshed<3.1.0,>=3.0.2 in ./sentanal/lib/python3.6/site-packages (from spacy) (3.0.2)\n",
      "Requirement already satisfied: plac<1.2.0,>=0.9.6 in ./sentanal/lib/python3.6/site-packages (from spacy) (1.1.3)\n",
      "Requirement already satisfied: tqdm<5.0.0,>=4.38.0 in ./sentanal/lib/python3.6/site-packages (from spacy) (4.41.1)\n",
      "Requirement already satisfied: wasabi<1.1.0,>=0.4.0 in ./sentanal/lib/python3.6/site-packages (from spacy) (0.8.0)\n",
      "Requirement already satisfied: setuptools in ./sentanal/lib/python3.6/site-packages (from spacy) (47.1.1)\n",
      "Requirement already satisfied: srsly<1.1.0,>=1.0.2 in ./sentanal/lib/python3.6/site-packages (from spacy) (1.0.2)\n",
      "Requirement already satisfied: cymem<2.1.0,>=2.0.2 in ./sentanal/lib/python3.6/site-packages (from spacy) (2.0.3)\n",
      "Requirement already satisfied: blis<0.5.0,>=0.4.0 in ./sentanal/lib/python3.6/site-packages (from spacy) (0.4.1)\n",
      "Requirement already satisfied: certifi>=2017.4.17 in ./sentanal/lib/python3.6/site-packages (from requests<3.0.0,>=2.13.0->spacy) (2020.6.20)\n",
      "Requirement already satisfied: idna<3,>=2.5 in ./sentanal/lib/python3.6/site-packages (from requests<3.0.0,>=2.13.0->spacy) (2.10)\n",
      "Requirement already satisfied: urllib3!=1.25.0,!=1.25.1,<1.26,>=1.21.1 in ./sentanal/lib/python3.6/site-packages (from requests<3.0.0,>=2.13.0->spacy) (1.24.3)\n",
      "Requirement already satisfied: chardet<4,>=3.0.2 in ./sentanal/lib/python3.6/site-packages (from requests<3.0.0,>=2.13.0->spacy) (3.0.4)\n",
      "Requirement already satisfied: importlib-metadata>=0.20; python_version < \"3.8\" in ./sentanal/lib/python3.6/site-packages (from catalogue<1.1.0,>=0.0.7->spacy) (1.7.0)\n",
      "Requirement already satisfied: zipp>=0.5 in ./sentanal/lib/python3.6/site-packages (from importlib-metadata>=0.20; python_version < \"3.8\"->catalogue<1.1.0,>=0.0.7->spacy) (3.1.0)\n",
      "Processing /home/kunan/.cache/pip/wheels/cd/22/66/fcfe16c783269151e68dfa0a25411b21a2d5d2106cda7dac1e/pymusixmatch-0.3-py3-none-any.whl\n",
      "Requirement already satisfied: requests in ./sentanal/lib/python3.6/site-packages (from pymusixmatch) (2.23.0)\n",
      "Requirement already satisfied: idna<3,>=2.5 in ./sentanal/lib/python3.6/site-packages (from requests->pymusixmatch) (2.10)\n",
      "Requirement already satisfied: certifi>=2017.4.17 in ./sentanal/lib/python3.6/site-packages (from requests->pymusixmatch) (2020.6.20)\n",
      "Requirement already satisfied: urllib3!=1.25.0,!=1.25.1,<1.26,>=1.21.1 in ./sentanal/lib/python3.6/site-packages (from requests->pymusixmatch) (1.24.3)\n",
      "Requirement already satisfied: chardet<4,>=3.0.2 in ./sentanal/lib/python3.6/site-packages (from requests->pymusixmatch) (3.0.4)\n",
      "Installing collected packages: pymusixmatch\n",
      "Successfully installed pymusixmatch-0.3\n",
      "Requirement already satisfied: nltk in ./sentanal/lib/python3.6/site-packages (3.2.5)\n",
      "Requirement already satisfied: six in ./sentanal/lib/python3.6/site-packages (from nltk) (1.15.0)\n",
      "Requirement already satisfied: sklearn in ./sentanal/lib/python3.6/site-packages (0.0)\n",
      "Requirement already satisfied: scikit-learn in ./sentanal/lib/python3.6/site-packages (from sklearn) (0.22.2.post1)\n",
      "Requirement already satisfied: joblib>=0.11 in ./sentanal/lib/python3.6/site-packages (from scikit-learn->sklearn) (0.16.0)\n",
      "Requirement already satisfied: scipy>=0.17.0 in ./sentanal/lib/python3.6/site-packages (from scikit-learn->sklearn) (1.4.1)\n",
      "Requirement already satisfied: numpy>=1.11.0 in ./sentanal/lib/python3.6/site-packages (from scikit-learn->sklearn) (1.18.5)\n",
      "Collecting stanza\n",
      "  Using cached stanza-1.1.1-py3-none-any.whl (227 kB)\n",
      "Requirement already satisfied: tqdm in ./sentanal/lib/python3.6/site-packages (from stanza) (4.41.1)\n",
      "Requirement already satisfied: requests in ./sentanal/lib/python3.6/site-packages (from stanza) (2.23.0)\n",
      "Requirement already satisfied: protobuf in ./sentanal/lib/python3.6/site-packages (from stanza) (3.12.4)\n",
      "Requirement already satisfied: torch>=1.3.0 in ./sentanal/lib/python3.6/site-packages (from stanza) (1.6.0)\n",
      "Requirement already satisfied: numpy in ./sentanal/lib/python3.6/site-packages (from stanza) (1.18.5)\n",
      "Requirement already satisfied: chardet<4,>=3.0.2 in ./sentanal/lib/python3.6/site-packages (from requests->stanza) (3.0.4)\n",
      "Requirement already satisfied: certifi>=2017.4.17 in ./sentanal/lib/python3.6/site-packages (from requests->stanza) (2020.6.20)\n",
      "Requirement already satisfied: idna<3,>=2.5 in ./sentanal/lib/python3.6/site-packages (from requests->stanza) (2.10)\n",
      "Requirement already satisfied: urllib3!=1.25.0,!=1.25.1,<1.26,>=1.21.1 in ./sentanal/lib/python3.6/site-packages (from requests->stanza) (1.24.3)\n",
      "Requirement already satisfied: setuptools in ./sentanal/lib/python3.6/site-packages (from protobuf->stanza) (47.1.1)\n",
      "Requirement already satisfied: six>=1.9 in ./sentanal/lib/python3.6/site-packages (from protobuf->stanza) (1.15.0)\n",
      "Requirement already satisfied: future in ./sentanal/lib/python3.6/site-packages (from torch>=1.3.0->stanza) (0.16.0)\n",
      "Installing collected packages: stanza\n",
      "Successfully installed stanza-1.1.1\n"
     ]
    }
   ],
   "source": [
    "%%capture\n",
    "!pip3 install spotipy\n",
    "!pip3 install pandas\n",
    "!pip3 install spacy\n",
    "!pip3 install pymusixmatch\n",
    "!pip3 install nltk\n",
    "!pip3 install seaborn\n",
    "!pip3 install requests\n",
    "!pip3 install nltk\n",
    "!pip3 install tqdm\n",
    "!pip3 install plotly\n",
    "!pip3 install sklearn\n",
    "!pip3 install sentiment_analysis_spanish\n",
    "\n",
    "# Agregar las librerías extra que se utilicen en esta celda y la siguiente"
   ]
  },
  {
   "cell_type": "markdown",
   "metadata": {},
   "source": [
    "### Dependencias y acceso a APIs"
   ]
  },
  {
   "cell_type": "code",
   "execution_count": 1,
   "metadata": {},
   "outputs": [],
   "source": [
    "import pandas as pd\n",
    "import numpy as np\n",
    "import spotipy\n",
    "import spacy\n",
    "from spotipy.oauth2 import SpotifyClientCredentials\n",
    "from musixmatch import Musixmatch\n",
    "import seaborn as sns\n",
    "import tqdm\n",
    "import plotly.express as px\n",
    "import plotly.graph_objects as go\n",
    "import requests\n",
    "from collections import Counter\n",
    "from nltk import ngrams, bigrams\n",
    "import nltk\n",
    "import itertools\n",
    "import matplotlib.pyplot as plt\n",
    "import json\n",
    "import spacy\n",
    "from sentiment_analysis_spanish import sentiment_analysis\n",
    "from  statistics import median,mean\n",
    "\n",
    "\n",
    "client_id = '46b333d567314a89a6254b6c6b054be6'\n",
    "client_secret = '9d922c3613e441518349dcf55f7d5853'\n",
    "client_credentials_manager = SpotifyClientCredentials(client_id=client_id, client_secret=client_secret)\n",
    "\n",
    "# es = es_core_web_sm\n",
    "#python -m spacy link es_core_news_sm es\n",
    "nlp = spacy.load(\"es\")\n",
    "\n",
    "sp = spotipy.Spotify(client_credentials_manager=client_credentials_manager)\n",
    "musixmatch = Musixmatch('1aa5272f4402bf2f082ad2f3958c2c62') # se puede reemplazar por otra API si da mejores resultados\n",
    "\n",
    "sentiment = sentiment_analysis.SentimentAnalysisSpanish()\n"
   ]
  },
  {
   "cell_type": "code",
   "execution_count": 2,
   "metadata": {},
   "outputs": [],
   "source": [
    "sns.set_context(context='paper')"
   ]
  },
  {
   "cell_type": "markdown",
   "metadata": {},
   "source": [
    "### 1) Recopilar los datos obtenidos en los prácticos anteriores\n",
    "\n",
    "Para esta parte consideraremos [la playlist colaborativa de la mentoría](https://open.spotify.com/playlist/2IuD0qZb14cji5y52crdsO?si=nfHRPDquQRyotEcXc4tG7Q), de esta obtendremos:\n",
    "- Las features del audio de las canciones\n",
    "- Las features textuales de sus letras\n",
    "\n",
    "Además es necesario aplicar el mismo preprocesamiento que aplicamos en los prácticos anteriores para ambos tipos de features (el preprocesamiento del p1 a las features de audio y el de p2 al de features textuales) y obtener el género de cada canción, que en caso de ser más de uno para una canción el equipo deberá discutir una estrategia para estos casos y comentarla en el informe.\n",
    "\n",
    "Luego, se separará al dataset resultante en **X** e **y**, donde:\n",
    "- X es el conjunto de features\n",
    "- y es la etiqueta, en este caso el género de la canción, que deberá ser codificado en valores del tipo **int**\n",
    "\n",
    "Por último, se dividirá a estos dos conjuntos en los splits **train** y **test**\n",
    "\n",
    "**Recomendaciones:**\n",
    "- Obtener las features por separado y hacer un join de los datasets.\n",
    "- Prestar atención a la [documentación de sklearn](https://scikit-learn.org/stable/)\n",
    "- Si usan features categóricas, ENCODEARLAS!"
   ]
  },
  {
   "cell_type": "markdown",
   "metadata": {},
   "source": [
    "# Dataset"
   ]
  },
  {
   "cell_type": "markdown",
   "metadata": {},
   "source": [
    "## Music Features"
   ]
  },
  {
   "cell_type": "code",
   "execution_count": 3,
   "metadata": {},
   "outputs": [],
   "source": [
    "#Aux funcs\n",
    "def genres_by_artist_id(id): #id: str\n",
    "    artist = sp.artist(id)\n",
    "    genres = artist['genres']\n",
    "    return genres    #genres: List[str]\n",
    "\n",
    "def songs_from_album_id(album_id):\n",
    "    songs = []\n",
    "    album = sp.album(album_id)\n",
    "    artist = album['artists'][0]['name']\n",
    "    for item in album['tracks']['items']:\n",
    "        track = {}\n",
    "        track[\"song_name\"] = item['name']\n",
    "        track[\"song_id\"] = item['id']\n",
    "        track[\"album_name\"] = album['name']\n",
    "        track[\"album_id\"] = album[\"id\"]\n",
    "        audio_features = sp.audio_features(track[\"song_id\"])\n",
    "        track[\"audio_features\"] = audio_features[0]\n",
    "        track[\"artist\"] = artist\n",
    "        songs.append(track)\n",
    "    return songs    #songs:List[dict]\n",
    "\n",
    "def get_genres(artists_id):\n",
    "    res = [genres_by_artist_id(x) for x in artists_id if genres_by_artist_id(x)!= []]\n",
    "    if res != []:\n",
    "        return res[0]\n",
    "    return res\n",
    "\n",
    "def add_track(track_id, songs): #track_id:str, songs:List[dict]\n",
    "    track = sp.track(track_id)\n",
    "    audio_features = sp.audio_features(track_id)\n",
    "    row = {}\n",
    "    row[\"song_name\"] = track['name']\n",
    "    row[\"song_id\"] = track['id']\n",
    "    row[\"artists\"] = [x[\"name\"] for x in track[\"artists\"]]\n",
    "    row[\"artists_id\"] = [x[\"id\"] for x in track[\"artists\"]]\n",
    "    row[\"album_name\"] = track['album']['name']\n",
    "    row[\"album_id\"] = track['album']['id']\n",
    "    row[\"audio_features\"] = audio_features[0]\n",
    "    row[\"genres\"] = get_genres(row[\"artists_id\"])\n",
    "    songs.append(row)\n",
    "    return songs\n"
   ]
  },
  {
   "cell_type": "code",
   "execution_count": 203,
   "metadata": {},
   "outputs": [
    {
     "name": "stdout",
     "output_type": "stream",
     "text": [
      "This may take a while...\n"
     ]
    },
    {
     "name": "stderr",
     "output_type": "stream",
     "text": [
      "\r",
      "  0%|          | 0/18 [00:00<?, ?it/s]"
     ]
    },
    {
     "name": "stdout",
     "output_type": "stream",
     "text": [
      "...downloading 1755 songs\n",
      "in 18 batches\n"
     ]
    },
    {
     "name": "stderr",
     "output_type": "stream",
     "text": [
      "100%|██████████| 18/18 [31:41<00:00, 105.62s/it]\n"
     ]
    }
   ],
   "source": [
    "PLAYLIST_ID = \"2IuD0qZb14cji5y52crdsO\"\n",
    "TEST_PLAYLIST_ID = \"3gLmPh92AyeYDKYLaNC8uv\"\n",
    "songs = []\n",
    "\n",
    "def add_songs_of_playlist(playlist_id,songs_array):\n",
    "\n",
    "    print(\"This may take a while...\")\n",
    "    offset = 0\n",
    "    playlist = sp.playlist_tracks(playlist_id,offset=offset,limit=100)\n",
    "    batches = playlist[\"total\"] // 100 + 1\n",
    "    print(\"...downloading \"+ str(playlist[\"total\"]) + \" songs\")\n",
    "    print(\"in \"+str(batches)+ \" batches\")\n",
    "    for j in tqdm.tqdm(range(batches)):\n",
    "        for i in range(len(playlist[\"items\"])):\n",
    "            add_track(playlist[\"items\"][i][\"track\"][\"id\"],songs_array)\n",
    "        offset += len(playlist[\"items\"])\n",
    "        playlist = sp.playlist_tracks(playlist_id, offset=offset,limit=100)\n",
    "    return\n",
    "\n",
    "add_songs_of_playlist(PLAYLIST_ID,songs)"
   ]
  },
  {
   "cell_type": "code",
   "execution_count": 204,
   "metadata": {
    "scrolled": true
   },
   "outputs": [
    {
     "data": {
      "text/plain": [
       "song_name         1755\n",
       "song_id           1755\n",
       "artists           1755\n",
       "artists_id        1755\n",
       "album_name        1755\n",
       "album_id          1755\n",
       "audio_features    1755\n",
       "genres            1755\n",
       "dtype: int64"
      ]
     },
     "execution_count": 204,
     "metadata": {},
     "output_type": "execute_result"
    }
   ],
   "source": [
    "songs_original_df = pd.DataFrame(songs)\n",
    "songs_original_df.count()"
   ]
  },
  {
   "cell_type": "code",
   "execution_count": 205,
   "metadata": {},
   "outputs": [],
   "source": [
    "#songs_original_df.to_csv(\"./base.csv\",sep=\"#\",index=False)\n"
   ]
  },
  {
   "cell_type": "markdown",
   "metadata": {},
   "source": [
    "Checking dataframe's consistency."
   ]
  },
  {
   "cell_type": "code",
   "execution_count": 206,
   "metadata": {},
   "outputs": [
    {
     "data": {
      "text/html": [
       "<div>\n",
       "<style scoped>\n",
       "    .dataframe tbody tr th:only-of-type {\n",
       "        vertical-align: middle;\n",
       "    }\n",
       "\n",
       "    .dataframe tbody tr th {\n",
       "        vertical-align: top;\n",
       "    }\n",
       "\n",
       "    .dataframe thead th {\n",
       "        text-align: right;\n",
       "    }\n",
       "</style>\n",
       "<table border=\"1\" class=\"dataframe\">\n",
       "  <thead>\n",
       "    <tr style=\"text-align: right;\">\n",
       "      <th></th>\n",
       "      <th>song_name</th>\n",
       "      <th>song_id</th>\n",
       "      <th>artists</th>\n",
       "      <th>artists_id</th>\n",
       "      <th>album_name</th>\n",
       "      <th>album_id</th>\n",
       "      <th>audio_features</th>\n",
       "      <th>genres</th>\n",
       "    </tr>\n",
       "  </thead>\n",
       "  <tbody>\n",
       "    <tr>\n",
       "      <th>48</th>\n",
       "      <td>Cambalache</td>\n",
       "      <td>3PI0FE7JUmEmEyN5YgKPZA</td>\n",
       "      <td>[Enrique Santos Discépolo]</td>\n",
       "      <td>[0aPYs7yoiP2NtS5xNZXKjg]</td>\n",
       "      <td>Enrique Santos Discepolo \"El poeta del tango\" ...</td>\n",
       "      <td>59tn7tvd1M5XNWwV3TaVWC</td>\n",
       "      <td>{'danceability': 0.492, 'energy': 0.541, 'key'...</td>\n",
       "      <td>[]</td>\n",
       "    </tr>\n",
       "    <tr>\n",
       "      <th>478</th>\n",
       "      <td>Sigue Feliz</td>\n",
       "      <td>1s0ndZpf2KeKEA08CsIFia</td>\n",
       "      <td>[Alonso y Bernardo]</td>\n",
       "      <td>[5sskVxLnToHrnwTAICyVF5]</td>\n",
       "      <td>Narcos, Vol. 2 (More Music from the Netflix Or...</td>\n",
       "      <td>0EJRlYjvVcym9K4wrww9vB</td>\n",
       "      <td>{'danceability': 0.672, 'energy': 0.625, 'key'...</td>\n",
       "      <td>[]</td>\n",
       "    </tr>\n",
       "    <tr>\n",
       "      <th>526</th>\n",
       "      <td>Celia</td>\n",
       "      <td>1rzFbkSvxQv6r3PSGjn7Ub</td>\n",
       "      <td>[Incas de Oro]</td>\n",
       "      <td>[58wFXtpJxfvtigDaRWTNcj]</td>\n",
       "      <td>Los Mejores Tinkus</td>\n",
       "      <td>4xDelBtEq3aJCU8hU6gFLB</td>\n",
       "      <td>{'danceability': 0.675, 'energy': 0.477, 'key'...</td>\n",
       "      <td>[]</td>\n",
       "    </tr>\n",
       "    <tr>\n",
       "      <th>600</th>\n",
       "      <td>Arteria Ulnar</td>\n",
       "      <td>7kGsNBECFyCQ0fBJn2KB6o</td>\n",
       "      <td>[Té de Brujas]</td>\n",
       "      <td>[39BvzssARgDTZ1Kf0uqNfj]</td>\n",
       "      <td>Arteria Ulnar</td>\n",
       "      <td>5g5rgxGPlCnRTrYyf173fp</td>\n",
       "      <td>{'danceability': 0.497, 'energy': 0.651, 'key'...</td>\n",
       "      <td>[]</td>\n",
       "    </tr>\n",
       "    <tr>\n",
       "      <th>604</th>\n",
       "      <td>No Le Ganamos a Nadie</td>\n",
       "      <td>0F0I189uNvQBdgy1SFNOec</td>\n",
       "      <td>[Literal]</td>\n",
       "      <td>[0Ec1MqHP5MENR7rK3DtO3G]</td>\n",
       "      <td>No Le Ganamos a Nadie</td>\n",
       "      <td>43moEeCjsTjk6N25XRin0S</td>\n",
       "      <td>{'danceability': 0.568, 'energy': 0.938, 'key'...</td>\n",
       "      <td>[]</td>\n",
       "    </tr>\n",
       "    <tr>\n",
       "      <th>606</th>\n",
       "      <td>Contratiempos</td>\n",
       "      <td>50GbEo3clyzJRzuAjIFWdz</td>\n",
       "      <td>[Parientes]</td>\n",
       "      <td>[76lUSSvc6Z83CLrIVB7YrE]</td>\n",
       "      <td>Contratiempos</td>\n",
       "      <td>3F6da9yP7HMGwl88egAqZ5</td>\n",
       "      <td>{'danceability': 0.549, 'energy': 0.778, 'key'...</td>\n",
       "      <td>[]</td>\n",
       "    </tr>\n",
       "    <tr>\n",
       "      <th>613</th>\n",
       "      <td>Si Tú No Estas (Nashville)</td>\n",
       "      <td>3TCpMjVi4DVzbc5dXLpEeX</td>\n",
       "      <td>[Stokoff]</td>\n",
       "      <td>[03wfTeoZex93T5TPxWo3B9]</td>\n",
       "      <td>Si Tú No Estas (Nashville)</td>\n",
       "      <td>2fNd57gzWCMwsNVG0K5YQy</td>\n",
       "      <td>{'danceability': 0.545, 'energy': 0.652, 'key'...</td>\n",
       "      <td>[]</td>\n",
       "    </tr>\n",
       "    <tr>\n",
       "      <th>617</th>\n",
       "      <td>Una Nueva Realidad</td>\n",
       "      <td>3CQinOLvOg1vMvP9a060xV</td>\n",
       "      <td>[Scones de la Chola]</td>\n",
       "      <td>[1n0013t3w2RbIqSYarnPGS]</td>\n",
       "      <td>Una Nueva Realidad</td>\n",
       "      <td>6NCW2haZteRywEWZSzc7in</td>\n",
       "      <td>{'danceability': 0.536, 'energy': 0.571, 'key'...</td>\n",
       "      <td>[]</td>\n",
       "    </tr>\n",
       "    <tr>\n",
       "      <th>628</th>\n",
       "      <td>Dale!</td>\n",
       "      <td>48EI8HkseqMBYQw8yl4WL3</td>\n",
       "      <td>[La Extrema Vanguardia]</td>\n",
       "      <td>[3p1OOKD3Rs8JsT9I76mACt]</td>\n",
       "      <td>Epe</td>\n",
       "      <td>4Bgue5pbIMGEZ61SoULBMr</td>\n",
       "      <td>{'danceability': 0.464, 'energy': 0.864, 'key'...</td>\n",
       "      <td>[]</td>\n",
       "    </tr>\n",
       "    <tr>\n",
       "      <th>637</th>\n",
       "      <td>Si Me Dijeras</td>\n",
       "      <td>0NhFqADNG4OABBBEtxW0WM</td>\n",
       "      <td>[Vozenoff]</td>\n",
       "      <td>[0hASTHk8Lmdj2zAHvkfsfW]</td>\n",
       "      <td>Si Me Dijeras</td>\n",
       "      <td>6gyIUgOHK85AQswoDcLDDw</td>\n",
       "      <td>{'danceability': 0.534, 'energy': 0.747, 'key'...</td>\n",
       "      <td>[]</td>\n",
       "    </tr>\n",
       "    <tr>\n",
       "      <th>647</th>\n",
       "      <td>Y Si Te Espero</td>\n",
       "      <td>4tqOjVR7dxoyyZLm7VTOZX</td>\n",
       "      <td>[Literal]</td>\n",
       "      <td>[0Ec1MqHP5MENR7rK3DtO3G]</td>\n",
       "      <td>Y Si Te Espero</td>\n",
       "      <td>3ZSKfBDpZexCI4j9C3B6Vn</td>\n",
       "      <td>{'danceability': 0.623, 'energy': 0.828, 'key'...</td>\n",
       "      <td>[]</td>\n",
       "    </tr>\n",
       "    <tr>\n",
       "      <th>652</th>\n",
       "      <td>Dame Mas</td>\n",
       "      <td>6nRdDO9ckgePEHxmSFyXOW</td>\n",
       "      <td>[Gigio&amp;spiker, Leo Garcia]</td>\n",
       "      <td>[2wxDtL8blvAzPuZsXT6qdO, 1Y3icCYHo0ENrf75dm0PLO]</td>\n",
       "      <td>Dame Mas</td>\n",
       "      <td>0ASBToJj7yPEUyDss0rS50</td>\n",
       "      <td>{'danceability': 0.705, 'energy': 0.646, 'key'...</td>\n",
       "      <td>[]</td>\n",
       "    </tr>\n",
       "    <tr>\n",
       "      <th>663</th>\n",
       "      <td>Sino le contesto</td>\n",
       "      <td>2vWNMXzMAZ9M9mnUK9NS83</td>\n",
       "      <td>[El Retutu]</td>\n",
       "      <td>[3WSePpVeFAwNAI4vQc19rG]</td>\n",
       "      <td>El Retutu</td>\n",
       "      <td>6117u1NRVvucLcqV5TJ6l3</td>\n",
       "      <td>{'danceability': 0.78, 'energy': 0.905, 'key':...</td>\n",
       "      <td>[]</td>\n",
       "    </tr>\n",
       "    <tr>\n",
       "      <th>1504</th>\n",
       "      <td>Maldito Coche Negro</td>\n",
       "      <td>3DVEkLep87N6TM6GffOwa8</td>\n",
       "      <td>[El Turco Oliva]</td>\n",
       "      <td>[0l3lrsagH8oE0CAkXdyNMI]</td>\n",
       "      <td>Con Piel de Cuarteto</td>\n",
       "      <td>7wOjCagE0rrTQVMfvKcNbh</td>\n",
       "      <td>{'danceability': 0.579, 'energy': 0.733, 'key'...</td>\n",
       "      <td>[]</td>\n",
       "    </tr>\n",
       "    <tr>\n",
       "      <th>1521</th>\n",
       "      <td>La Pupera</td>\n",
       "      <td>3HQBrVgetHZaR3Avz2Z0a5</td>\n",
       "      <td>[La Mona Jimenez / los caligaris]</td>\n",
       "      <td>[7HEznwudX95hTcdrRYizZf]</td>\n",
       "      <td>La Pupera</td>\n",
       "      <td>4mzV7a4BD2u2ektjbPkG7U</td>\n",
       "      <td>{'danceability': 0.428, 'energy': 0.875, 'key'...</td>\n",
       "      <td>[]</td>\n",
       "    </tr>\n",
       "    <tr>\n",
       "      <th>1523</th>\n",
       "      <td>La Mejor Versión de Mi</td>\n",
       "      <td>0ENwGxhmqnrC4lvApPNxLD</td>\n",
       "      <td>[Omega, Q' Lokura]</td>\n",
       "      <td>[1iUzrM5MrTizYrOdqVH5bK, 7dlkBH23ERFXxuNoMHq94Y]</td>\n",
       "      <td>Grandes Éxitos</td>\n",
       "      <td>07NUFiMBFam0TEQC06vm5t</td>\n",
       "      <td>{'danceability': 0.701, 'energy': 0.817, 'key'...</td>\n",
       "      <td>[]</td>\n",
       "    </tr>\n",
       "    <tr>\n",
       "      <th>1526</th>\n",
       "      <td>Enfrentados</td>\n",
       "      <td>3jUktKArOUnjYkLuSkRFy0</td>\n",
       "      <td>[La Mona Jimenez / Carli Jimenez]</td>\n",
       "      <td>[6D3o3DjMA7BbG8l3YVCeDh]</td>\n",
       "      <td>Enfrentados</td>\n",
       "      <td>7fpG1txrhegSfjHmZGiBUI</td>\n",
       "      <td>{'danceability': 0.607, 'energy': 0.788, 'key'...</td>\n",
       "      <td>[]</td>\n",
       "    </tr>\n",
       "    <tr>\n",
       "      <th>1538</th>\n",
       "      <td>Respetemos el Duelo - En Vivo</td>\n",
       "      <td>5YF7hy8J5eHF7IcY5Gf7kO</td>\n",
       "      <td>[Q' Lokura, Tyago Griffo]</td>\n",
       "      <td>[7dlkBH23ERFXxuNoMHq94Y, 0TQyaoEDvRCU1BiA0VrTcC]</td>\n",
       "      <td>Respetemos el Duelo (En Vivo)</td>\n",
       "      <td>0T2FMVKJlHv3YhEIutATSs</td>\n",
       "      <td>{'danceability': 0.571, 'energy': 0.841, 'key'...</td>\n",
       "      <td>[]</td>\n",
       "    </tr>\n",
       "    <tr>\n",
       "      <th>1541</th>\n",
       "      <td>Dónde</td>\n",
       "      <td>695KiRLxI1e49JKP5WCh22</td>\n",
       "      <td>[Negro Videla]</td>\n",
       "      <td>[5BlpN6p3oOtHgvTNwsAVpJ]</td>\n",
       "      <td>Vigencia</td>\n",
       "      <td>1Qjyr4cWyDWLStIviRmhXw</td>\n",
       "      <td>{'danceability': 0.713, 'energy': 0.723, 'key'...</td>\n",
       "      <td>[]</td>\n",
       "    </tr>\n",
       "  </tbody>\n",
       "</table>\n",
       "</div>"
      ],
      "text/plain": [
       "                          song_name                 song_id  \\\n",
       "48                       Cambalache  3PI0FE7JUmEmEyN5YgKPZA   \n",
       "478                     Sigue Feliz  1s0ndZpf2KeKEA08CsIFia   \n",
       "526                           Celia  1rzFbkSvxQv6r3PSGjn7Ub   \n",
       "600                   Arteria Ulnar  7kGsNBECFyCQ0fBJn2KB6o   \n",
       "604           No Le Ganamos a Nadie  0F0I189uNvQBdgy1SFNOec   \n",
       "606                   Contratiempos  50GbEo3clyzJRzuAjIFWdz   \n",
       "613      Si Tú No Estas (Nashville)  3TCpMjVi4DVzbc5dXLpEeX   \n",
       "617              Una Nueva Realidad  3CQinOLvOg1vMvP9a060xV   \n",
       "628                           Dale!  48EI8HkseqMBYQw8yl4WL3   \n",
       "637                   Si Me Dijeras  0NhFqADNG4OABBBEtxW0WM   \n",
       "647                  Y Si Te Espero  4tqOjVR7dxoyyZLm7VTOZX   \n",
       "652                        Dame Mas  6nRdDO9ckgePEHxmSFyXOW   \n",
       "663                Sino le contesto  2vWNMXzMAZ9M9mnUK9NS83   \n",
       "1504            Maldito Coche Negro  3DVEkLep87N6TM6GffOwa8   \n",
       "1521                      La Pupera  3HQBrVgetHZaR3Avz2Z0a5   \n",
       "1523         La Mejor Versión de Mi  0ENwGxhmqnrC4lvApPNxLD   \n",
       "1526                    Enfrentados  3jUktKArOUnjYkLuSkRFy0   \n",
       "1538  Respetemos el Duelo - En Vivo  5YF7hy8J5eHF7IcY5Gf7kO   \n",
       "1541                          Dónde  695KiRLxI1e49JKP5WCh22   \n",
       "\n",
       "                                artists  \\\n",
       "48           [Enrique Santos Discépolo]   \n",
       "478                 [Alonso y Bernardo]   \n",
       "526                      [Incas de Oro]   \n",
       "600                      [Té de Brujas]   \n",
       "604                           [Literal]   \n",
       "606                         [Parientes]   \n",
       "613                           [Stokoff]   \n",
       "617                [Scones de la Chola]   \n",
       "628             [La Extrema Vanguardia]   \n",
       "637                          [Vozenoff]   \n",
       "647                           [Literal]   \n",
       "652          [Gigio&spiker, Leo Garcia]   \n",
       "663                         [El Retutu]   \n",
       "1504                   [El Turco Oliva]   \n",
       "1521  [La Mona Jimenez / los caligaris]   \n",
       "1523                 [Omega, Q' Lokura]   \n",
       "1526  [La Mona Jimenez / Carli Jimenez]   \n",
       "1538          [Q' Lokura, Tyago Griffo]   \n",
       "1541                     [Negro Videla]   \n",
       "\n",
       "                                            artists_id  \\\n",
       "48                            [0aPYs7yoiP2NtS5xNZXKjg]   \n",
       "478                           [5sskVxLnToHrnwTAICyVF5]   \n",
       "526                           [58wFXtpJxfvtigDaRWTNcj]   \n",
       "600                           [39BvzssARgDTZ1Kf0uqNfj]   \n",
       "604                           [0Ec1MqHP5MENR7rK3DtO3G]   \n",
       "606                           [76lUSSvc6Z83CLrIVB7YrE]   \n",
       "613                           [03wfTeoZex93T5TPxWo3B9]   \n",
       "617                           [1n0013t3w2RbIqSYarnPGS]   \n",
       "628                           [3p1OOKD3Rs8JsT9I76mACt]   \n",
       "637                           [0hASTHk8Lmdj2zAHvkfsfW]   \n",
       "647                           [0Ec1MqHP5MENR7rK3DtO3G]   \n",
       "652   [2wxDtL8blvAzPuZsXT6qdO, 1Y3icCYHo0ENrf75dm0PLO]   \n",
       "663                           [3WSePpVeFAwNAI4vQc19rG]   \n",
       "1504                          [0l3lrsagH8oE0CAkXdyNMI]   \n",
       "1521                          [7HEznwudX95hTcdrRYizZf]   \n",
       "1523  [1iUzrM5MrTizYrOdqVH5bK, 7dlkBH23ERFXxuNoMHq94Y]   \n",
       "1526                          [6D3o3DjMA7BbG8l3YVCeDh]   \n",
       "1538  [7dlkBH23ERFXxuNoMHq94Y, 0TQyaoEDvRCU1BiA0VrTcC]   \n",
       "1541                          [5BlpN6p3oOtHgvTNwsAVpJ]   \n",
       "\n",
       "                                             album_name  \\\n",
       "48    Enrique Santos Discepolo \"El poeta del tango\" ...   \n",
       "478   Narcos, Vol. 2 (More Music from the Netflix Or...   \n",
       "526                                  Los Mejores Tinkus   \n",
       "600                                       Arteria Ulnar   \n",
       "604                               No Le Ganamos a Nadie   \n",
       "606                                       Contratiempos   \n",
       "613                          Si Tú No Estas (Nashville)   \n",
       "617                                  Una Nueva Realidad   \n",
       "628                                                 Epe   \n",
       "637                                       Si Me Dijeras   \n",
       "647                                      Y Si Te Espero   \n",
       "652                                            Dame Mas   \n",
       "663                                           El Retutu   \n",
       "1504                               Con Piel de Cuarteto   \n",
       "1521                                          La Pupera   \n",
       "1523                                     Grandes Éxitos   \n",
       "1526                                        Enfrentados   \n",
       "1538                      Respetemos el Duelo (En Vivo)   \n",
       "1541                                           Vigencia   \n",
       "\n",
       "                    album_id  \\\n",
       "48    59tn7tvd1M5XNWwV3TaVWC   \n",
       "478   0EJRlYjvVcym9K4wrww9vB   \n",
       "526   4xDelBtEq3aJCU8hU6gFLB   \n",
       "600   5g5rgxGPlCnRTrYyf173fp   \n",
       "604   43moEeCjsTjk6N25XRin0S   \n",
       "606   3F6da9yP7HMGwl88egAqZ5   \n",
       "613   2fNd57gzWCMwsNVG0K5YQy   \n",
       "617   6NCW2haZteRywEWZSzc7in   \n",
       "628   4Bgue5pbIMGEZ61SoULBMr   \n",
       "637   6gyIUgOHK85AQswoDcLDDw   \n",
       "647   3ZSKfBDpZexCI4j9C3B6Vn   \n",
       "652   0ASBToJj7yPEUyDss0rS50   \n",
       "663   6117u1NRVvucLcqV5TJ6l3   \n",
       "1504  7wOjCagE0rrTQVMfvKcNbh   \n",
       "1521  4mzV7a4BD2u2ektjbPkG7U   \n",
       "1523  07NUFiMBFam0TEQC06vm5t   \n",
       "1526  7fpG1txrhegSfjHmZGiBUI   \n",
       "1538  0T2FMVKJlHv3YhEIutATSs   \n",
       "1541  1Qjyr4cWyDWLStIviRmhXw   \n",
       "\n",
       "                                         audio_features genres  \n",
       "48    {'danceability': 0.492, 'energy': 0.541, 'key'...     []  \n",
       "478   {'danceability': 0.672, 'energy': 0.625, 'key'...     []  \n",
       "526   {'danceability': 0.675, 'energy': 0.477, 'key'...     []  \n",
       "600   {'danceability': 0.497, 'energy': 0.651, 'key'...     []  \n",
       "604   {'danceability': 0.568, 'energy': 0.938, 'key'...     []  \n",
       "606   {'danceability': 0.549, 'energy': 0.778, 'key'...     []  \n",
       "613   {'danceability': 0.545, 'energy': 0.652, 'key'...     []  \n",
       "617   {'danceability': 0.536, 'energy': 0.571, 'key'...     []  \n",
       "628   {'danceability': 0.464, 'energy': 0.864, 'key'...     []  \n",
       "637   {'danceability': 0.534, 'energy': 0.747, 'key'...     []  \n",
       "647   {'danceability': 0.623, 'energy': 0.828, 'key'...     []  \n",
       "652   {'danceability': 0.705, 'energy': 0.646, 'key'...     []  \n",
       "663   {'danceability': 0.78, 'energy': 0.905, 'key':...     []  \n",
       "1504  {'danceability': 0.579, 'energy': 0.733, 'key'...     []  \n",
       "1521  {'danceability': 0.428, 'energy': 0.875, 'key'...     []  \n",
       "1523  {'danceability': 0.701, 'energy': 0.817, 'key'...     []  \n",
       "1526  {'danceability': 0.607, 'energy': 0.788, 'key'...     []  \n",
       "1538  {'danceability': 0.571, 'energy': 0.841, 'key'...     []  \n",
       "1541  {'danceability': 0.713, 'energy': 0.723, 'key'...     []  "
      ]
     },
     "execution_count": 206,
     "metadata": {},
     "output_type": "execute_result"
    }
   ],
   "source": [
    "songs_original_df[[x == [] for x in songs_original_df[\"genres\"]]]"
   ]
  },
  {
   "cell_type": "code",
   "execution_count": 207,
   "metadata": {},
   "outputs": [
    {
     "data": {
      "text/plain": [
       "song_name         19\n",
       "song_id           19\n",
       "artists           19\n",
       "artists_id        19\n",
       "album_name        19\n",
       "album_id          19\n",
       "audio_features    19\n",
       "genres            19\n",
       "dtype: int64"
      ]
     },
     "execution_count": 207,
     "metadata": {},
     "output_type": "execute_result"
    }
   ],
   "source": [
    "songs_original_df[[x == [] for x in songs_original_df[\"genres\"]]].count()"
   ]
  },
  {
   "cell_type": "markdown",
   "metadata": {},
   "source": [
    "These cells don't have a genre since Spotify hasn't assigned a genre to their corresponding artists. \n",
    "These edge cases will be corrected by hand trying to find the closest match by listening to each song and finding a similiar artist that has an assigned genre in Spotify, if that is possible."
   ]
  },
  {
   "cell_type": "code",
   "execution_count": 209,
   "metadata": {},
   "outputs": [
    {
     "data": {
      "text/plain": [
       "['cuarteto']"
      ]
     },
     "execution_count": 209,
     "metadata": {},
     "output_type": "execute_result"
    }
   ],
   "source": [
    "sp.artist(\"4Apvih9OZt9ghebGFIVcXI\")\n",
    "get_genres([\"64DFKvGarD5nmkfaIiiakf\"])"
   ]
  },
  {
   "cell_type": "code",
   "execution_count": 210,
   "metadata": {},
   "outputs": [
    {
     "data": {
      "text/html": [
       "<div>\n",
       "<style scoped>\n",
       "    .dataframe tbody tr th:only-of-type {\n",
       "        vertical-align: middle;\n",
       "    }\n",
       "\n",
       "    .dataframe tbody tr th {\n",
       "        vertical-align: top;\n",
       "    }\n",
       "\n",
       "    .dataframe thead th {\n",
       "        text-align: right;\n",
       "    }\n",
       "</style>\n",
       "<table border=\"1\" class=\"dataframe\">\n",
       "  <thead>\n",
       "    <tr style=\"text-align: right;\">\n",
       "      <th></th>\n",
       "      <th>song_name</th>\n",
       "      <th>song_id</th>\n",
       "      <th>artists</th>\n",
       "      <th>artists_id</th>\n",
       "      <th>album_name</th>\n",
       "      <th>album_id</th>\n",
       "      <th>audio_features</th>\n",
       "      <th>genres</th>\n",
       "    </tr>\n",
       "  </thead>\n",
       "  <tbody>\n",
       "  </tbody>\n",
       "</table>\n",
       "</div>"
      ],
      "text/plain": [
       "Empty DataFrame\n",
       "Columns: [song_name, song_id, artists, artists_id, album_name, album_id, audio_features, genres]\n",
       "Index: []"
      ]
     },
     "execution_count": 210,
     "metadata": {},
     "output_type": "execute_result"
    }
   ],
   "source": [
    "sanitized_df = songs_original_df.copy()\n",
    "sanitized_df.iloc[48][\"genres\"] = get_genres([\"7Cg2eqV6oHNE0P54WfajIX\"]) #like julio sosa\n",
    "sanitized_df.iloc[478][\"genres\"] = 'folklore'\n",
    "#sanitized_df.iloc[498][\"genres\"] = get_genres([\"4Apvih9OZt9ghebGFIVcXI\"]) #like los del suquia\n",
    "sanitized_df.iloc[526][\"genres\"] = get_genres([\"0iutktJLkNNtErs8c3EoF6\"]) #like los tekis\n",
    "sanitized_df.iloc[600][\"genres\"] = get_genres([\"7okwEbXzyT2VffBmyQBWLz\"]) #like maná\n",
    "sanitized_df.iloc[604][\"genres\"] = get_genres([\"3HrbmsYpKjWH1lzhad7alj\"]) #like los autenticos decadentes\n",
    "sanitized_df.iloc[606][\"genres\"] = get_genres([\"1vumST4jmwQla7lkbLKDUw\"]) #like foxley\n",
    "sanitized_df.iloc[613][\"genres\"] = get_genres([\"5f5Wlazt9jmI75fK5nPpd6\"]) #like 8 segundos\n",
    "sanitized_df.iloc[617][\"genres\"] = get_genres([\"0SnyKkoyBaB2fG8IJH4xmU\"]) #like los piojos\n",
    "sanitized_df.iloc[628][\"genres\"] = get_genres([\"0SnyKkoyBaB2fG8IJH4xmU\"]) #like los piojos\n",
    "sanitized_df.iloc[637][\"genres\"] = get_genres([\"2wjmZuSHtRx96Qxb8HiP2o\"]) #like los guasones\n",
    "sanitized_df.iloc[647][\"genres\"] = get_genres([\"0SnyKkoyBaB2fG8IJH4xmU\"]) #like los piojos\n",
    "sanitized_df.iloc[652][\"genres\"] = get_genres([\"54YdJC33Ztc1CNIuodmyUb\"]) #like leo garcia\n",
    "sanitized_df.iloc[663][\"genres\"] = get_genres([\"1AvkrI2S7knrbaZxydvc9B\"]) #like mala fama\n",
    "\n",
    "sanitized_df.iloc[1504][\"genres\"] = get_genres([\"64DFKvGarD5nmkfaIiiakf\"]) #like la mona\n",
    "sanitized_df.iloc[1521][\"genres\"] = get_genres([\"64DFKvGarD5nmkfaIiiakf\"]) #like la mona\n",
    "sanitized_df.iloc[1523][\"genres\"] = get_genres([\"64DFKvGarD5nmkfaIiiakf\"]) #like la mona\n",
    "sanitized_df.iloc[1526][\"genres\"] = get_genres([\"64DFKvGarD5nmkfaIiiakf\"]) #like la mona\n",
    "sanitized_df.iloc[1538][\"genres\"] = get_genres([\"64DFKvGarD5nmkfaIiiakf\"]) #like la mona\n",
    "sanitized_df.iloc[1541][\"genres\"] = get_genres([\"64DFKvGarD5nmkfaIiiakf\"]) #like la mona\n",
    "sanitized_df[[x == [] for x in sanitized_df[\"genres\"]]]"
   ]
  },
  {
   "cell_type": "code",
   "execution_count": 211,
   "metadata": {},
   "outputs": [
    {
     "data": {
      "text/plain": [
       "song_name         1755\n",
       "song_id           1755\n",
       "artists           1755\n",
       "artists_id        1755\n",
       "album_name        1755\n",
       "album_id          1755\n",
       "audio_features    1755\n",
       "genres            1755\n",
       "dtype: int64"
      ]
     },
     "execution_count": 211,
     "metadata": {},
     "output_type": "execute_result"
    }
   ],
   "source": [
    "sanitized_df.count()"
   ]
  },
  {
   "cell_type": "markdown",
   "metadata": {},
   "source": [
    "No nulls in any other column"
   ]
  },
  {
   "cell_type": "code",
   "execution_count": 212,
   "metadata": {},
   "outputs": [
    {
     "name": "stdout",
     "output_type": "stream",
     "text": [
      "No nulls in column  song_name\n",
      "No nulls in column  song_id\n",
      "No nulls in column  artists\n",
      "No nulls in column  artists_id\n",
      "No nulls in column  album_name\n",
      "No nulls in column  album_id\n",
      "No nulls in column  audio_features\n",
      "No nulls in column  genres\n"
     ]
    }
   ],
   "source": [
    "columns = sanitized_df.columns\n",
    "\n",
    "for column in columns:\n",
    "    if sanitized_df[[x == [] for x in sanitized_df[column]]].empty:\n",
    "        print(\"No nulls in column \", column)\n",
    "    else:\n",
    "        print(\">>>>>>> Found nulls in column\", column)"
   ]
  },
  {
   "cell_type": "markdown",
   "metadata": {},
   "source": [
    "Let's remove possible duplicated songs"
   ]
  },
  {
   "cell_type": "code",
   "execution_count": 213,
   "metadata": {},
   "outputs": [
    {
     "data": {
      "text/plain": [
       "20"
      ]
     },
     "execution_count": 213,
     "metadata": {},
     "output_type": "execute_result"
    }
   ],
   "source": [
    "#duplicated_songs = songs_original_df[songs_original_df[\"song_id\"].duplicated(keep='last')]\n",
    "#duplicated_songs\n",
    "sanitized_df[sanitized_df.duplicated(subset=[\"song_id\"])==True].count()[0]\n",
    "#songs_original_df.duplicated(subset=[\"song_id\"],keep='first').any()\n",
    "#songs_original_df[songs_original_df[\"song_id\"]==\"2TNV1bPTWhKTRTVAghIszh\"]"
   ]
  },
  {
   "cell_type": "markdown",
   "metadata": {},
   "source": [
    "We find two duplicated tracks of the same song_id in the dataset.\n",
    "Let's remove them"
   ]
  },
  {
   "cell_type": "code",
   "execution_count": 214,
   "metadata": {},
   "outputs": [
    {
     "name": "stdout",
     "output_type": "stream",
     "text": [
      "no duplicated records found in 1735 records\n"
     ]
    }
   ],
   "source": [
    "songs_df = sanitized_df[sanitized_df[\"song_id\"].duplicated(keep='last') != True]\n",
    "if not songs_df.duplicated(subset=[\"song_id\"]).any():\n",
    "    print(f\"no duplicated records found in {len(songs_df)} records\")"
   ]
  },
  {
   "cell_type": "markdown",
   "metadata": {},
   "source": [
    "Let's make a backup file to not have to run all that code again"
   ]
  },
  {
   "cell_type": "code",
   "execution_count": 215,
   "metadata": {},
   "outputs": [],
   "source": [
    "songs_df.to_csv(\"./songs_df.csv\")"
   ]
  },
  {
   "cell_type": "code",
   "execution_count": 216,
   "metadata": {},
   "outputs": [
    {
     "data": {
      "text/html": [
       "<div>\n",
       "<style scoped>\n",
       "    .dataframe tbody tr th:only-of-type {\n",
       "        vertical-align: middle;\n",
       "    }\n",
       "\n",
       "    .dataframe tbody tr th {\n",
       "        vertical-align: top;\n",
       "    }\n",
       "\n",
       "    .dataframe thead th {\n",
       "        text-align: right;\n",
       "    }\n",
       "</style>\n",
       "<table border=\"1\" class=\"dataframe\">\n",
       "  <thead>\n",
       "    <tr style=\"text-align: right;\">\n",
       "      <th></th>\n",
       "      <th>danceability</th>\n",
       "      <th>energy</th>\n",
       "      <th>key</th>\n",
       "      <th>loudness</th>\n",
       "      <th>mode</th>\n",
       "      <th>speechiness</th>\n",
       "      <th>acousticness</th>\n",
       "      <th>instrumentalness</th>\n",
       "      <th>liveness</th>\n",
       "      <th>valence</th>\n",
       "      <th>tempo</th>\n",
       "      <th>duration_ms</th>\n",
       "      <th>time_signature</th>\n",
       "    </tr>\n",
       "  </thead>\n",
       "  <tbody>\n",
       "    <tr>\n",
       "      <th>count</th>\n",
       "      <td>1755.000000</td>\n",
       "      <td>1755.000000</td>\n",
       "      <td>1755.000000</td>\n",
       "      <td>1755.000000</td>\n",
       "      <td>1755.000000</td>\n",
       "      <td>1755.000000</td>\n",
       "      <td>1755.000000</td>\n",
       "      <td>1755.000000</td>\n",
       "      <td>1755.000000</td>\n",
       "      <td>1755.000000</td>\n",
       "      <td>1755.000000</td>\n",
       "      <td>1.755000e+03</td>\n",
       "      <td>1755.000000</td>\n",
       "    </tr>\n",
       "    <tr>\n",
       "      <th>mean</th>\n",
       "      <td>0.585561</td>\n",
       "      <td>0.719249</td>\n",
       "      <td>5.274074</td>\n",
       "      <td>-6.488591</td>\n",
       "      <td>0.611966</td>\n",
       "      <td>0.070666</td>\n",
       "      <td>0.237802</td>\n",
       "      <td>0.031040</td>\n",
       "      <td>0.241244</td>\n",
       "      <td>0.619261</td>\n",
       "      <td>126.232073</td>\n",
       "      <td>2.307568e+05</td>\n",
       "      <td>3.937322</td>\n",
       "    </tr>\n",
       "    <tr>\n",
       "      <th>std</th>\n",
       "      <td>0.153703</td>\n",
       "      <td>0.180207</td>\n",
       "      <td>3.544727</td>\n",
       "      <td>2.817251</td>\n",
       "      <td>0.487441</td>\n",
       "      <td>0.064718</td>\n",
       "      <td>0.229648</td>\n",
       "      <td>0.130680</td>\n",
       "      <td>0.226563</td>\n",
       "      <td>0.234545</td>\n",
       "      <td>30.503676</td>\n",
       "      <td>8.823704e+04</td>\n",
       "      <td>0.310502</td>\n",
       "    </tr>\n",
       "    <tr>\n",
       "      <th>min</th>\n",
       "      <td>0.078000</td>\n",
       "      <td>0.033500</td>\n",
       "      <td>0.000000</td>\n",
       "      <td>-28.480000</td>\n",
       "      <td>0.000000</td>\n",
       "      <td>0.022100</td>\n",
       "      <td>0.000002</td>\n",
       "      <td>0.000000</td>\n",
       "      <td>0.022000</td>\n",
       "      <td>0.029200</td>\n",
       "      <td>60.026000</td>\n",
       "      <td>3.893300e+04</td>\n",
       "      <td>1.000000</td>\n",
       "    </tr>\n",
       "    <tr>\n",
       "      <th>25%</th>\n",
       "      <td>0.491000</td>\n",
       "      <td>0.608000</td>\n",
       "      <td>2.000000</td>\n",
       "      <td>-7.784500</td>\n",
       "      <td>0.000000</td>\n",
       "      <td>0.033200</td>\n",
       "      <td>0.049900</td>\n",
       "      <td>0.000000</td>\n",
       "      <td>0.097500</td>\n",
       "      <td>0.436000</td>\n",
       "      <td>97.884500</td>\n",
       "      <td>1.913570e+05</td>\n",
       "      <td>4.000000</td>\n",
       "    </tr>\n",
       "    <tr>\n",
       "      <th>50%</th>\n",
       "      <td>0.608000</td>\n",
       "      <td>0.752000</td>\n",
       "      <td>5.000000</td>\n",
       "      <td>-6.057000</td>\n",
       "      <td>1.000000</td>\n",
       "      <td>0.046600</td>\n",
       "      <td>0.170000</td>\n",
       "      <td>0.000002</td>\n",
       "      <td>0.142000</td>\n",
       "      <td>0.650000</td>\n",
       "      <td>128.048000</td>\n",
       "      <td>2.222830e+05</td>\n",
       "      <td>4.000000</td>\n",
       "    </tr>\n",
       "    <tr>\n",
       "      <th>75%</th>\n",
       "      <td>0.696500</td>\n",
       "      <td>0.863000</td>\n",
       "      <td>9.000000</td>\n",
       "      <td>-4.582000</td>\n",
       "      <td>1.000000</td>\n",
       "      <td>0.078600</td>\n",
       "      <td>0.360500</td>\n",
       "      <td>0.000299</td>\n",
       "      <td>0.309000</td>\n",
       "      <td>0.816500</td>\n",
       "      <td>148.078000</td>\n",
       "      <td>2.560925e+05</td>\n",
       "      <td>4.000000</td>\n",
       "    </tr>\n",
       "    <tr>\n",
       "      <th>max</th>\n",
       "      <td>0.945000</td>\n",
       "      <td>0.995000</td>\n",
       "      <td>11.000000</td>\n",
       "      <td>-0.767000</td>\n",
       "      <td>1.000000</td>\n",
       "      <td>0.514000</td>\n",
       "      <td>0.982000</td>\n",
       "      <td>0.944000</td>\n",
       "      <td>0.991000</td>\n",
       "      <td>0.976000</td>\n",
       "      <td>205.938000</td>\n",
       "      <td>1.500920e+06</td>\n",
       "      <td>5.000000</td>\n",
       "    </tr>\n",
       "  </tbody>\n",
       "</table>\n",
       "</div>"
      ],
      "text/plain": [
       "       danceability       energy          key     loudness         mode  \\\n",
       "count   1755.000000  1755.000000  1755.000000  1755.000000  1755.000000   \n",
       "mean       0.585561     0.719249     5.274074    -6.488591     0.611966   \n",
       "std        0.153703     0.180207     3.544727     2.817251     0.487441   \n",
       "min        0.078000     0.033500     0.000000   -28.480000     0.000000   \n",
       "25%        0.491000     0.608000     2.000000    -7.784500     0.000000   \n",
       "50%        0.608000     0.752000     5.000000    -6.057000     1.000000   \n",
       "75%        0.696500     0.863000     9.000000    -4.582000     1.000000   \n",
       "max        0.945000     0.995000    11.000000    -0.767000     1.000000   \n",
       "\n",
       "       speechiness  acousticness  instrumentalness     liveness      valence  \\\n",
       "count  1755.000000   1755.000000       1755.000000  1755.000000  1755.000000   \n",
       "mean      0.070666      0.237802          0.031040     0.241244     0.619261   \n",
       "std       0.064718      0.229648          0.130680     0.226563     0.234545   \n",
       "min       0.022100      0.000002          0.000000     0.022000     0.029200   \n",
       "25%       0.033200      0.049900          0.000000     0.097500     0.436000   \n",
       "50%       0.046600      0.170000          0.000002     0.142000     0.650000   \n",
       "75%       0.078600      0.360500          0.000299     0.309000     0.816500   \n",
       "max       0.514000      0.982000          0.944000     0.991000     0.976000   \n",
       "\n",
       "             tempo   duration_ms  time_signature  \n",
       "count  1755.000000  1.755000e+03     1755.000000  \n",
       "mean    126.232073  2.307568e+05        3.937322  \n",
       "std      30.503676  8.823704e+04        0.310502  \n",
       "min      60.026000  3.893300e+04        1.000000  \n",
       "25%      97.884500  1.913570e+05        4.000000  \n",
       "50%     128.048000  2.222830e+05        4.000000  \n",
       "75%     148.078000  2.560925e+05        4.000000  \n",
       "max     205.938000  1.500920e+06        5.000000  "
      ]
     },
     "execution_count": 216,
     "metadata": {},
     "output_type": "execute_result"
    }
   ],
   "source": [
    "audio_features_base = pd.DataFrame(list(songs_original_df[\"audio_features\"].values))\n",
    "audio_features_description = audio_features_base.describe()\n",
    "audio_features_description"
   ]
  },
  {
   "cell_type": "markdown",
   "metadata": {},
   "source": [
    "Preeliminary analysis of the dataset"
   ]
  },
  {
   "cell_type": "code",
   "execution_count": 226,
   "metadata": {},
   "outputs": [],
   "source": [
    "\n",
    "def songs_of_description(statistic):\n",
    "    row = audio_features_description.loc[statistic]\n",
    "    keys = row.keys()\n",
    "    tracks_of_row = []\n",
    "    for key in keys:\n",
    "        track = track_by_feature(key,row[key]).to_dict()['song_name']\n",
    "        track = list(track.values())[0]\n",
    "        tracks_of_row.append({key: track})\n",
    "    return tracks_of_row\n",
    "#example use\n",
    "#songs_of_description(\"min\")\n",
    "\n",
    "#songs_of_description(\"max\")"
   ]
  },
  {
   "cell_type": "code",
   "execution_count": 224,
   "metadata": {},
   "outputs": [],
   "source": [
    "#songs_of_description(\"min\")"
   ]
  },
  {
   "cell_type": "markdown",
   "metadata": {},
   "source": [
    "## Lyrics"
   ]
  },
  {
   "cell_type": "code",
   "execution_count": 225,
   "metadata": {},
   "outputs": [
    {
     "data": {
      "text/plain": [
       "song_name         1735\n",
       "song_id           1735\n",
       "artists           1735\n",
       "artists_id        1735\n",
       "album_name        1735\n",
       "album_id          1735\n",
       "audio_features    1735\n",
       "genres            1735\n",
       "dtype: int64"
      ]
     },
     "execution_count": 225,
     "metadata": {},
     "output_type": "execute_result"
    }
   ],
   "source": [
    "songs_df.count()"
   ]
  },
  {
   "cell_type": "markdown",
   "metadata": {},
   "source": [
    "analisis previo:\n",
    "distribución de los géneros en el dataset."
   ]
  },
  {
   "cell_type": "markdown",
   "metadata": {},
   "source": [
    "Considerations: the performance of using the mean and median of the sentiment of the sentences that comprise each song's lyrics was compared to the performance of using the whole song as a long sentence.\n",
    "\n",
    "The following function can be used to make this comparision:"
   ]
  },
  {
   "cell_type": "code",
   "execution_count": 227,
   "metadata": {},
   "outputs": [],
   "source": [
    "\n",
    "def compare_performance_mean_vs_median_vs_whole_song(songs_df):\n",
    "    all_songs = songs_df.copy()\n",
    "    all_songs = all_songs.head(5).T.to_dict().values()\n",
    "    songs_sentiments = []\n",
    "    for song in all_songs:\n",
    "        print(song[\"song_name\"])\n",
    "        response = requests.get(song_url_for_request(song[\"artists\"][0],song[\"song_name\"])).json()\n",
    "        json_data = response \n",
    "        lyrics_raw = json_data[\"lyrics\"]\n",
    "        whole_lyrics_way = lyrics_raw.replace(\"\\n\", \" \") #for whole sentence\n",
    "        lyrics_raw = lyrics_raw.split(\"\\n\") #for each sentence\n",
    "        # lo siguiente es por si se necesita analizar palabra por palabra\n",
    "        #lyrics_raw = [sentence.split(\" \") for sentence in lyrics_raw]\n",
    "        sentiments_tmp = []\n",
    "        for sentence in lyrics_raw:\n",
    "            thing = sentiment.sentiment(sentence.lower())\n",
    "            sentiments_tmp.append(thing)\n",
    "        whole_song_sent = sentiment.sentiment(whole_lyrics_way)\n",
    "        sent_mean = mean(sentiments_tmp)\n",
    "        sent_median = median(sentiments_tmp)\n",
    "        print(\"mean \",sent_mean, \" median \",sent_median)\n",
    "        print(\"the other way: \", whole_song_sent)\n",
    "        print(\"\\n\\n\")\n",
    "        song_sent_statistics = {\"song\":song[\"song_name\"],\"mean\":sent_mean,\"median\":sent_median,\"whole_song\":whole_song_sent}\n",
    "        songs_sentiments.append(song_sent_statistics)\n",
    "    return songs_sentiments\n"
   ]
  },
  {
   "cell_type": "code",
   "execution_count": 228,
   "metadata": {},
   "outputs": [],
   "source": [
    "# aux methods\n",
    "def song_url_for_request(artist, song_title):\n",
    "    return \"https://api.lyrics.ovh/v1/\" + artist + '/' + song_title #str\n",
    "    # example use:\n",
    "    # requests.get(song_url_for_request(\"Death Grips\", \"Hacker\"))\n",
    "    \n",
    "\n",
    "def add_lyrics_to_data(all_songs):\n",
    "    songs_without_lyrics = []\n",
    "    without_lyrics = 0\n",
    "    for song in tqdm.tqdm(all_songs):\n",
    "        try:\n",
    "            response = requests.get(song_url_for_request(song[\"artists\"][0],song[\"song_name\"])).json()\n",
    "            json_data = response #json.loads(response.content)\n",
    "            lyrics_raw = json_data[\"lyrics\"]\n",
    "            lyrics_raw = lyrics_raw.replace(\"\\n\", \" \") #for whole sentence\n",
    "            song_sentiment = sentiment.sentiment(lyrics_raw)\n",
    "            song[\"lyrics_sentiment\"]= round(song_sentiment,4)\n",
    "        except: #found a song without lyrics!\n",
    "            without_lyrics +=1\n",
    "            song[\"lyrics_sentiment\"]=None\n",
    "            songs_without_lyrics.append(song)\n",
    "    print(f\"There are {without_lyrics} songs without lyrics\")\n",
    "    return all_songs"
   ]
  },
  {
   "cell_type": "code",
   "execution_count": 229,
   "metadata": {},
   "outputs": [
    {
     "name": "stderr",
     "output_type": "stream",
     "text": [
      "100%|██████████| 1735/1735 [47:45<00:00,  1.65s/it] "
     ]
    },
    {
     "name": "stdout",
     "output_type": "stream",
     "text": [
      "There are 815 songs without lyrics\n"
     ]
    },
    {
     "name": "stderr",
     "output_type": "stream",
     "text": [
      "\n"
     ]
    }
   ],
   "source": [
    "all_songs = songs_df.copy()\n",
    "all_songs = all_songs.T.to_dict().values()\n",
    "all_songs = add_lyrics_to_data(all_songs)\n"
   ]
  },
  {
   "cell_type": "code",
   "execution_count": 230,
   "metadata": {},
   "outputs": [],
   "source": [
    "songs_base = pd.DataFrame(all_songs)\n",
    "#del songs_base[\"lyrics\"]\n",
    "#songs_base.to_csv(\"./songs_base_with_lyrics.csv\")"
   ]
  },
  {
   "cell_type": "code",
   "execution_count": 231,
   "metadata": {},
   "outputs": [
    {
     "name": "stdout",
     "output_type": "stream",
     "text": [
      "Before sanitization 1735\n"
     ]
    },
    {
     "data": {
      "text/html": [
       "<div>\n",
       "<style scoped>\n",
       "    .dataframe tbody tr th:only-of-type {\n",
       "        vertical-align: middle;\n",
       "    }\n",
       "\n",
       "    .dataframe tbody tr th {\n",
       "        vertical-align: top;\n",
       "    }\n",
       "\n",
       "    .dataframe thead th {\n",
       "        text-align: right;\n",
       "    }\n",
       "</style>\n",
       "<table border=\"1\" class=\"dataframe\">\n",
       "  <thead>\n",
       "    <tr style=\"text-align: right;\">\n",
       "      <th></th>\n",
       "      <th>song_name</th>\n",
       "      <th>song_id</th>\n",
       "      <th>artists</th>\n",
       "      <th>artists_id</th>\n",
       "      <th>album_name</th>\n",
       "      <th>album_id</th>\n",
       "      <th>audio_features</th>\n",
       "      <th>genres</th>\n",
       "      <th>lyrics_sentiment</th>\n",
       "    </tr>\n",
       "  </thead>\n",
       "  <tbody>\n",
       "    <tr>\n",
       "      <th>1612</th>\n",
       "      <td>Navidad en los Santos (Ao Vivo No el Mapa de T...</td>\n",
       "      <td>5LFhRllOsot55dcBRKt7ql</td>\n",
       "      <td>[El Mató a un Policía Motorizado]</td>\n",
       "      <td>[5rLsN2LxYaEPLa1N7I2mPB]</td>\n",
       "      <td>El Nuevo Magnetismo (2003 - 2011)</td>\n",
       "      <td>21n1dmvxnphIAvf2AlktH9</td>\n",
       "      <td>{'danceability': 0.388, 'energy': 0.757, 'key'...</td>\n",
       "      <td>[argentine alternative rock, argentine indie, ...</td>\n",
       "      <td>NaN</td>\n",
       "    </tr>\n",
       "    <tr>\n",
       "      <th>1473</th>\n",
       "      <td>Te pido que la dejes</td>\n",
       "      <td>0cH2nR2ISmkLVW7e7ogTYw</td>\n",
       "      <td>[Damián Córdoba]</td>\n",
       "      <td>[7e3BSeFzlCGyAdbsUbgUaD]</td>\n",
       "      <td>Inigualable</td>\n",
       "      <td>1Yq5RNlCkTE1sygpnEstl9</td>\n",
       "      <td>{'danceability': 0.688, 'energy': 0.811, 'key'...</td>\n",
       "      <td>[cuarteto]</td>\n",
       "      <td>0.0000</td>\n",
       "    </tr>\n",
       "    <tr>\n",
       "      <th>1436</th>\n",
       "      <td>Mujer Que Mal Me Pagas</td>\n",
       "      <td>3AkjGkz4mT0fvOLMSUlCyV</td>\n",
       "      <td>[Los Palmeras]</td>\n",
       "      <td>[2Htm0q72SjGSmsy8EOIhRG]</td>\n",
       "      <td>Mujer Que Mal Me Pagas</td>\n",
       "      <td>3OScm1nKAb2EMUKI1n8Bj6</td>\n",
       "      <td>{'danceability': 0.738, 'energy': 0.794, 'key'...</td>\n",
       "      <td>[argentine rock, cumbia pop, cumbia santafesin...</td>\n",
       "      <td>NaN</td>\n",
       "    </tr>\n",
       "    <tr>\n",
       "      <th>1394</th>\n",
       "      <td>Ya Me Voy</td>\n",
       "      <td>0SMjGAyMcvxiTokLeKqyn2</td>\n",
       "      <td>[Walter Olmos]</td>\n",
       "      <td>[68mkWeq03e98dvIEI0jr0N]</td>\n",
       "      <td>20 Grandes Exitos</td>\n",
       "      <td>1JqbIf2a2CQ3symhTPOKUO</td>\n",
       "      <td>{'danceability': 0.491, 'energy': 0.855, 'key'...</td>\n",
       "      <td>[cuarteto]</td>\n",
       "      <td>NaN</td>\n",
       "    </tr>\n",
       "    <tr>\n",
       "      <th>339</th>\n",
       "      <td>Ahora Imagino Cosas</td>\n",
       "      <td>5iQfFljjs2rwXYe68V9VyE</td>\n",
       "      <td>[El Mató a un Policía Motorizado]</td>\n",
       "      <td>[5rLsN2LxYaEPLa1N7I2mPB]</td>\n",
       "      <td>La Sintesis O'Konor</td>\n",
       "      <td>5YCFp2g2ZZUc0bKNAWyYHN</td>\n",
       "      <td>{'danceability': 0.494, 'energy': 0.915, 'key'...</td>\n",
       "      <td>[argentine alternative rock, argentine indie, ...</td>\n",
       "      <td>0.0003</td>\n",
       "    </tr>\n",
       "  </tbody>\n",
       "</table>\n",
       "</div>"
      ],
      "text/plain": [
       "                                              song_name  \\\n",
       "1612  Navidad en los Santos (Ao Vivo No el Mapa de T...   \n",
       "1473                               Te pido que la dejes   \n",
       "1436                             Mujer Que Mal Me Pagas   \n",
       "1394                                          Ya Me Voy   \n",
       "339                                 Ahora Imagino Cosas   \n",
       "\n",
       "                     song_id                            artists  \\\n",
       "1612  5LFhRllOsot55dcBRKt7ql  [El Mató a un Policía Motorizado]   \n",
       "1473  0cH2nR2ISmkLVW7e7ogTYw                   [Damián Córdoba]   \n",
       "1436  3AkjGkz4mT0fvOLMSUlCyV                     [Los Palmeras]   \n",
       "1394  0SMjGAyMcvxiTokLeKqyn2                     [Walter Olmos]   \n",
       "339   5iQfFljjs2rwXYe68V9VyE  [El Mató a un Policía Motorizado]   \n",
       "\n",
       "                    artists_id                         album_name  \\\n",
       "1612  [5rLsN2LxYaEPLa1N7I2mPB]  El Nuevo Magnetismo (2003 - 2011)   \n",
       "1473  [7e3BSeFzlCGyAdbsUbgUaD]                        Inigualable   \n",
       "1436  [2Htm0q72SjGSmsy8EOIhRG]             Mujer Que Mal Me Pagas   \n",
       "1394  [68mkWeq03e98dvIEI0jr0N]                  20 Grandes Exitos   \n",
       "339   [5rLsN2LxYaEPLa1N7I2mPB]                La Sintesis O'Konor   \n",
       "\n",
       "                    album_id  \\\n",
       "1612  21n1dmvxnphIAvf2AlktH9   \n",
       "1473  1Yq5RNlCkTE1sygpnEstl9   \n",
       "1436  3OScm1nKAb2EMUKI1n8Bj6   \n",
       "1394  1JqbIf2a2CQ3symhTPOKUO   \n",
       "339   5YCFp2g2ZZUc0bKNAWyYHN   \n",
       "\n",
       "                                         audio_features  \\\n",
       "1612  {'danceability': 0.388, 'energy': 0.757, 'key'...   \n",
       "1473  {'danceability': 0.688, 'energy': 0.811, 'key'...   \n",
       "1436  {'danceability': 0.738, 'energy': 0.794, 'key'...   \n",
       "1394  {'danceability': 0.491, 'energy': 0.855, 'key'...   \n",
       "339   {'danceability': 0.494, 'energy': 0.915, 'key'...   \n",
       "\n",
       "                                                 genres  lyrics_sentiment  \n",
       "1612  [argentine alternative rock, argentine indie, ...               NaN  \n",
       "1473                                         [cuarteto]            0.0000  \n",
       "1436  [argentine rock, cumbia pop, cumbia santafesin...               NaN  \n",
       "1394                                         [cuarteto]               NaN  \n",
       "339   [argentine alternative rock, argentine indie, ...            0.0003  "
      ]
     },
     "execution_count": 231,
     "metadata": {},
     "output_type": "execute_result"
    }
   ],
   "source": [
    "print(f\"Before sanitization {len(all_songs)}\")\n",
    "songs_base.sample(5)"
   ]
  },
  {
   "cell_type": "code",
   "execution_count": 233,
   "metadata": {},
   "outputs": [
    {
     "name": "stdout",
     "output_type": "stream",
     "text": [
      "After sanitization 920\n"
     ]
    },
    {
     "data": {
      "text/html": [
       "<div>\n",
       "<style scoped>\n",
       "    .dataframe tbody tr th:only-of-type {\n",
       "        vertical-align: middle;\n",
       "    }\n",
       "\n",
       "    .dataframe tbody tr th {\n",
       "        vertical-align: top;\n",
       "    }\n",
       "\n",
       "    .dataframe thead th {\n",
       "        text-align: right;\n",
       "    }\n",
       "</style>\n",
       "<table border=\"1\" class=\"dataframe\">\n",
       "  <thead>\n",
       "    <tr style=\"text-align: right;\">\n",
       "      <th></th>\n",
       "      <th>song_name</th>\n",
       "      <th>song_id</th>\n",
       "      <th>artists</th>\n",
       "      <th>artists_id</th>\n",
       "      <th>album_name</th>\n",
       "      <th>album_id</th>\n",
       "      <th>audio_features</th>\n",
       "      <th>genres</th>\n",
       "      <th>lyrics_sentiment</th>\n",
       "    </tr>\n",
       "  </thead>\n",
       "  <tbody>\n",
       "    <tr>\n",
       "      <th>0</th>\n",
       "      <td>Desafío</td>\n",
       "      <td>7j9DYPyCuvSAtPcevpAkzb</td>\n",
       "      <td>[Arca]</td>\n",
       "      <td>[4SQdUpG4f7UbkJG3cJ2Iyj]</td>\n",
       "      <td>Arca</td>\n",
       "      <td>1MQO4j8QExVgmnplbIodEU</td>\n",
       "      <td>{'danceability': 0.161, 'energy': 0.482, 'key'...</td>\n",
       "      <td>[art pop, dance pop, deconstructed club, elect...</td>\n",
       "      <td>0.0013</td>\n",
       "    </tr>\n",
       "    <tr>\n",
       "      <th>1</th>\n",
       "      <td>Anoche</td>\n",
       "      <td>1cwTMSQeMaA9fVKEF1iWeD</td>\n",
       "      <td>[Arca]</td>\n",
       "      <td>[4SQdUpG4f7UbkJG3cJ2Iyj]</td>\n",
       "      <td>Arca</td>\n",
       "      <td>1MQO4j8QExVgmnplbIodEU</td>\n",
       "      <td>{'danceability': 0.23, 'energy': 0.434, 'key':...</td>\n",
       "      <td>[art pop, dance pop, deconstructed club, elect...</td>\n",
       "      <td>0.9970</td>\n",
       "    </tr>\n",
       "    <tr>\n",
       "      <th>2</th>\n",
       "      <td>Sin Rumbo</td>\n",
       "      <td>0aL27vskbMpwsMGUkHm3Zf</td>\n",
       "      <td>[Arca]</td>\n",
       "      <td>[4SQdUpG4f7UbkJG3cJ2Iyj]</td>\n",
       "      <td>Arca</td>\n",
       "      <td>1MQO4j8QExVgmnplbIodEU</td>\n",
       "      <td>{'danceability': 0.289, 'energy': 0.28, 'key':...</td>\n",
       "      <td>[art pop, dance pop, deconstructed club, elect...</td>\n",
       "      <td>0.0000</td>\n",
       "    </tr>\n",
       "  </tbody>\n",
       "</table>\n",
       "</div>"
      ],
      "text/plain": [
       "   song_name                 song_id artists                artists_id  \\\n",
       "0    Desafío  7j9DYPyCuvSAtPcevpAkzb  [Arca]  [4SQdUpG4f7UbkJG3cJ2Iyj]   \n",
       "1     Anoche  1cwTMSQeMaA9fVKEF1iWeD  [Arca]  [4SQdUpG4f7UbkJG3cJ2Iyj]   \n",
       "2  Sin Rumbo  0aL27vskbMpwsMGUkHm3Zf  [Arca]  [4SQdUpG4f7UbkJG3cJ2Iyj]   \n",
       "\n",
       "  album_name                album_id  \\\n",
       "0       Arca  1MQO4j8QExVgmnplbIodEU   \n",
       "1       Arca  1MQO4j8QExVgmnplbIodEU   \n",
       "2       Arca  1MQO4j8QExVgmnplbIodEU   \n",
       "\n",
       "                                      audio_features  \\\n",
       "0  {'danceability': 0.161, 'energy': 0.482, 'key'...   \n",
       "1  {'danceability': 0.23, 'energy': 0.434, 'key':...   \n",
       "2  {'danceability': 0.289, 'energy': 0.28, 'key':...   \n",
       "\n",
       "                                              genres  lyrics_sentiment  \n",
       "0  [art pop, dance pop, deconstructed club, elect...            0.0013  \n",
       "1  [art pop, dance pop, deconstructed club, elect...            0.9970  \n",
       "2  [art pop, dance pop, deconstructed club, elect...            0.0000  "
      ]
     },
     "execution_count": 233,
     "metadata": {},
     "output_type": "execute_result"
    }
   ],
   "source": [
    "# sanitize\n",
    "songs_sanitiz = songs_base.copy()\n",
    "bool_series = pd.notnull(songs_sanitiz[\"lyrics_sentiment\"])\n",
    "songs_base = songs_sanitiz[bool_series]\n",
    "print(f\"After sanitization {len(songs_base)}\")\n",
    "songs_sanitiz.head(3)"
   ]
  },
  {
   "cell_type": "code",
   "execution_count": 234,
   "metadata": {},
   "outputs": [],
   "source": [
    "songs_base.to_csv(\"./final_big.csv\",sep=\"#\",index=False)\n"
   ]
  },
  {
   "cell_type": "code",
   "execution_count": 235,
   "metadata": {},
   "outputs": [],
   "source": [
    "songs_base = pd.read_csv(\"./songs_base_with_lyrics_sanitized_final.csv\",sep=\"#\")\n",
    "#let's get back our genres\n",
    "songs_base[\"genres\"]=songs_base[\"genres\"].apply(lambda x: x.replace(\"[\",\"\").replace(\"]\",\"\").replace(\"'\",\"\").split(\",\"))\n"
   ]
  },
  {
   "cell_type": "code",
   "execution_count": 10,
   "metadata": {},
   "outputs": [
    {
     "data": {
      "text/html": [
       "<div>\n",
       "<style scoped>\n",
       "    .dataframe tbody tr th:only-of-type {\n",
       "        vertical-align: middle;\n",
       "    }\n",
       "\n",
       "    .dataframe tbody tr th {\n",
       "        vertical-align: top;\n",
       "    }\n",
       "\n",
       "    .dataframe thead th {\n",
       "        text-align: right;\n",
       "    }\n",
       "</style>\n",
       "<table border=\"1\" class=\"dataframe\">\n",
       "  <thead>\n",
       "    <tr style=\"text-align: right;\">\n",
       "      <th></th>\n",
       "      <th>song_name</th>\n",
       "      <th>song_id</th>\n",
       "      <th>artists</th>\n",
       "      <th>artists_id</th>\n",
       "      <th>album_name</th>\n",
       "      <th>album_id</th>\n",
       "      <th>audio_features</th>\n",
       "      <th>genres</th>\n",
       "      <th>lyrics_sentiment</th>\n",
       "    </tr>\n",
       "  </thead>\n",
       "  <tbody>\n",
       "    <tr>\n",
       "      <th>0</th>\n",
       "      <td>Desafío</td>\n",
       "      <td>7j9DYPyCuvSAtPcevpAkzb</td>\n",
       "      <td>['Arca']</td>\n",
       "      <td>['4SQdUpG4f7UbkJG3cJ2Iyj']</td>\n",
       "      <td>Arca</td>\n",
       "      <td>1MQO4j8QExVgmnplbIodEU</td>\n",
       "      <td>{'danceability': 0.161, 'energy': 0.482, 'key'...</td>\n",
       "      <td>['art pop', 'dance pop', 'deconstructed club',...</td>\n",
       "      <td>0.0055</td>\n",
       "    </tr>\n",
       "    <tr>\n",
       "      <th>1</th>\n",
       "      <td>Anoche</td>\n",
       "      <td>1cwTMSQeMaA9fVKEF1iWeD</td>\n",
       "      <td>['Arca']</td>\n",
       "      <td>['4SQdUpG4f7UbkJG3cJ2Iyj']</td>\n",
       "      <td>Arca</td>\n",
       "      <td>1MQO4j8QExVgmnplbIodEU</td>\n",
       "      <td>{'danceability': 0.23, 'energy': 0.434, 'key':...</td>\n",
       "      <td>['art pop', 'dance pop', 'deconstructed club',...</td>\n",
       "      <td>0.3901</td>\n",
       "    </tr>\n",
       "    <tr>\n",
       "      <th>2</th>\n",
       "      <td>Sin Rumbo</td>\n",
       "      <td>0aL27vskbMpwsMGUkHm3Zf</td>\n",
       "      <td>['Arca']</td>\n",
       "      <td>['4SQdUpG4f7UbkJG3cJ2Iyj']</td>\n",
       "      <td>Arca</td>\n",
       "      <td>1MQO4j8QExVgmnplbIodEU</td>\n",
       "      <td>{'danceability': 0.289, 'energy': 0.28, 'key':...</td>\n",
       "      <td>['art pop', 'dance pop', 'deconstructed club',...</td>\n",
       "      <td>0.0000</td>\n",
       "    </tr>\n",
       "    <tr>\n",
       "      <th>3</th>\n",
       "      <td>La Gata Bajo la Lluvia</td>\n",
       "      <td>2kfSFdq2h0xLXq01em1zc7</td>\n",
       "      <td>['Rocío Dúrcal']</td>\n",
       "      <td>['2uyweLa0mvPZH6eRzDddeB']</td>\n",
       "      <td>Sus 16 Grandes Exitos</td>\n",
       "      <td>1QXxmsxolhkqiFtI1mpX4i</td>\n",
       "      <td>{'danceability': 0.499, 'energy': 0.648, 'key'...</td>\n",
       "      <td>['bolero', 'cancion melodica', 'grupera', 'lat...</td>\n",
       "      <td>0.0057</td>\n",
       "    </tr>\n",
       "    <tr>\n",
       "      <th>4</th>\n",
       "      <td>Querida</td>\n",
       "      <td>5ySxlyvySBhIEvoO2xx7uT</td>\n",
       "      <td>['Juan Gabriel']</td>\n",
       "      <td>['2MRBDr0crHWE5JwPceFncq']</td>\n",
       "      <td>Recuerdos II</td>\n",
       "      <td>1xrQ48Vvnvm3SmAbnIukGt</td>\n",
       "      <td>{'danceability': 0.528, 'energy': 0.383, 'key'...</td>\n",
       "      <td>['cancion melodica', 'latin', 'latin pop']</td>\n",
       "      <td>0.0000</td>\n",
       "    </tr>\n",
       "  </tbody>\n",
       "</table>\n",
       "</div>"
      ],
      "text/plain": [
       "                song_name                 song_id           artists  \\\n",
       "0                 Desafío  7j9DYPyCuvSAtPcevpAkzb          ['Arca']   \n",
       "1                  Anoche  1cwTMSQeMaA9fVKEF1iWeD          ['Arca']   \n",
       "2               Sin Rumbo  0aL27vskbMpwsMGUkHm3Zf          ['Arca']   \n",
       "3  La Gata Bajo la Lluvia  2kfSFdq2h0xLXq01em1zc7  ['Rocío Dúrcal']   \n",
       "4                 Querida  5ySxlyvySBhIEvoO2xx7uT  ['Juan Gabriel']   \n",
       "\n",
       "                   artists_id             album_name                album_id  \\\n",
       "0  ['4SQdUpG4f7UbkJG3cJ2Iyj']                   Arca  1MQO4j8QExVgmnplbIodEU   \n",
       "1  ['4SQdUpG4f7UbkJG3cJ2Iyj']                   Arca  1MQO4j8QExVgmnplbIodEU   \n",
       "2  ['4SQdUpG4f7UbkJG3cJ2Iyj']                   Arca  1MQO4j8QExVgmnplbIodEU   \n",
       "3  ['2uyweLa0mvPZH6eRzDddeB']  Sus 16 Grandes Exitos  1QXxmsxolhkqiFtI1mpX4i   \n",
       "4  ['2MRBDr0crHWE5JwPceFncq']           Recuerdos II  1xrQ48Vvnvm3SmAbnIukGt   \n",
       "\n",
       "                                      audio_features  \\\n",
       "0  {'danceability': 0.161, 'energy': 0.482, 'key'...   \n",
       "1  {'danceability': 0.23, 'energy': 0.434, 'key':...   \n",
       "2  {'danceability': 0.289, 'energy': 0.28, 'key':...   \n",
       "3  {'danceability': 0.499, 'energy': 0.648, 'key'...   \n",
       "4  {'danceability': 0.528, 'energy': 0.383, 'key'...   \n",
       "\n",
       "                                              genres  lyrics_sentiment  \n",
       "0  ['art pop', 'dance pop', 'deconstructed club',...            0.0055  \n",
       "1  ['art pop', 'dance pop', 'deconstructed club',...            0.3901  \n",
       "2  ['art pop', 'dance pop', 'deconstructed club',...            0.0000  \n",
       "3  ['bolero', 'cancion melodica', 'grupera', 'lat...            0.0057  \n",
       "4         ['cancion melodica', 'latin', 'latin pop']            0.0000  "
      ]
     },
     "execution_count": 10,
     "metadata": {},
     "output_type": "execute_result"
    }
   ],
   "source": [
    "songs_base.head(5)"
   ]
  },
  {
   "cell_type": "markdown",
   "metadata": {},
   "source": [
    "Let's try to simplify the process by using a unique genre of our dataset for each song"
   ]
  },
  {
   "cell_type": "code",
   "execution_count": 236,
   "metadata": {},
   "outputs": [
    {
     "data": {
      "text/plain": [
       "<matplotlib.axes._subplots.AxesSubplot at 0x7f8e51f55240>"
      ]
     },
     "execution_count": 236,
     "metadata": {},
     "output_type": "execute_result"
    },
    {
     "data": {
      "image/png": "[encoded data removed]",
      "text/plain": [
       "<Figure size 432x288 with 1 Axes>"
      ]
     },
     "metadata": {
      "needs_background": "light"
     },
     "output_type": "display_data"
    }
   ],
   "source": [
    "simple_df = songs_base.copy()\n",
    "\n",
    "# using a random genre\n",
    "import random\n",
    "random_simple_df = simple_df.copy()\n",
    "random_simple_df[\"genres\"] = simple_df[\"genres\"].apply(lambda x: random.choice(x))\n",
    "random_dist = random_simple_df[\"genres\"].value_counts()\n",
    "random_dist_df = pd.DataFrame({'genre':random_dist.index, 'count':random_dist.values})\n",
    "#columns=[\"genre\", \"counts\"])\n",
    "random_dist_df\n",
    "sns.barplot(x=random_dist_df[\"genre\"],y=random_dist_df[\"count\"])"
   ]
  },
  {
   "cell_type": "code",
   "execution_count": 237,
   "metadata": {},
   "outputs": [
    {
     "data": {
      "text/plain": [
       "<matplotlib.axes._subplots.AxesSubplot at 0x7f8e51b95d30>"
      ]
     },
     "execution_count": 237,
     "metadata": {},
     "output_type": "execute_result"
    },
    {
     "data": {
      "image/png": "[encoded data removed]",
      "text/plain": [
       "<Figure size 432x288 with 1 Axes>"
      ]
     },
     "metadata": {
      "needs_background": "light"
     },
     "output_type": "display_data"
    }
   ],
   "source": [
    "first_df = simple_df.copy()\n",
    "first_df[\"genres\"] = first_df[\"genres\"].apply(lambda x: x[0])\n",
    "first_dist = first_df[\"genres\"].value_counts()\n",
    "first_dist_df = pd.DataFrame({'genre':first_dist.index, 'count':first_dist.values})\n",
    "#columns=[\"genre\", \"counts\"])\n",
    "#simple_dist_df\n",
    "sns.barplot(x=first_dist_df[\"genre\"],y=first_dist_df[\"count\"])\n"
   ]
  },
  {
   "cell_type": "markdown",
   "metadata": {},
   "source": [
    "using a random choice we get a slightly more balanced dataset"
   ]
  },
  {
   "cell_type": "code",
   "execution_count": 238,
   "metadata": {},
   "outputs": [
    {
     "data": {
      "text/html": [
       "<div>\n",
       "<style scoped>\n",
       "    .dataframe tbody tr th:only-of-type {\n",
       "        vertical-align: middle;\n",
       "    }\n",
       "\n",
       "    .dataframe tbody tr th {\n",
       "        vertical-align: top;\n",
       "    }\n",
       "\n",
       "    .dataframe thead th {\n",
       "        text-align: right;\n",
       "    }\n",
       "</style>\n",
       "<table border=\"1\" class=\"dataframe\">\n",
       "  <thead>\n",
       "    <tr style=\"text-align: right;\">\n",
       "      <th></th>\n",
       "      <th>song_name</th>\n",
       "      <th>song_id</th>\n",
       "      <th>artists</th>\n",
       "      <th>artists_id</th>\n",
       "      <th>album_name</th>\n",
       "      <th>album_id</th>\n",
       "      <th>audio_features</th>\n",
       "      <th>genres</th>\n",
       "      <th>lyrics_sentiment</th>\n",
       "      <th>danceability</th>\n",
       "      <th>...</th>\n",
       "      <th>liveness</th>\n",
       "      <th>valence</th>\n",
       "      <th>tempo</th>\n",
       "      <th>type</th>\n",
       "      <th>id</th>\n",
       "      <th>uri</th>\n",
       "      <th>track_href</th>\n",
       "      <th>analysis_url</th>\n",
       "      <th>duration_ms</th>\n",
       "      <th>time_signature</th>\n",
       "    </tr>\n",
       "  </thead>\n",
       "  <tbody>\n",
       "    <tr>\n",
       "      <th>0</th>\n",
       "      <td>Desafío</td>\n",
       "      <td>7j9DYPyCuvSAtPcevpAkzb</td>\n",
       "      <td>['Arca']</td>\n",
       "      <td>['4SQdUpG4f7UbkJG3cJ2Iyj']</td>\n",
       "      <td>Arca</td>\n",
       "      <td>1MQO4j8QExVgmnplbIodEU</td>\n",
       "      <td>{'danceability': 0.161, 'energy': 0.482, 'key'...</td>\n",
       "      <td>experimental pop</td>\n",
       "      <td>0.0055</td>\n",
       "      <td>0.161</td>\n",
       "      <td>...</td>\n",
       "      <td>0.371</td>\n",
       "      <td>0.0926</td>\n",
       "      <td>161.092</td>\n",
       "      <td>audio_features</td>\n",
       "      <td>7j9DYPyCuvSAtPcevpAkzb</td>\n",
       "      <td>spotify:track:7j9DYPyCuvSAtPcevpAkzb</td>\n",
       "      <td>https://api.spotify.com/v1/tracks/7j9DYPyCuvSA...</td>\n",
       "      <td>https://api.spotify.com/v1/audio-analysis/7j9D...</td>\n",
       "      <td>233079</td>\n",
       "      <td>5</td>\n",
       "    </tr>\n",
       "    <tr>\n",
       "      <th>1</th>\n",
       "      <td>Anoche</td>\n",
       "      <td>1cwTMSQeMaA9fVKEF1iWeD</td>\n",
       "      <td>['Arca']</td>\n",
       "      <td>['4SQdUpG4f7UbkJG3cJ2Iyj']</td>\n",
       "      <td>Arca</td>\n",
       "      <td>1MQO4j8QExVgmnplbIodEU</td>\n",
       "      <td>{'danceability': 0.23, 'energy': 0.434, 'key':...</td>\n",
       "      <td>electropop</td>\n",
       "      <td>0.3901</td>\n",
       "      <td>0.230</td>\n",
       "      <td>...</td>\n",
       "      <td>0.115</td>\n",
       "      <td>0.0834</td>\n",
       "      <td>80.793</td>\n",
       "      <td>audio_features</td>\n",
       "      <td>1cwTMSQeMaA9fVKEF1iWeD</td>\n",
       "      <td>spotify:track:1cwTMSQeMaA9fVKEF1iWeD</td>\n",
       "      <td>https://api.spotify.com/v1/tracks/1cwTMSQeMaA9...</td>\n",
       "      <td>https://api.spotify.com/v1/audio-analysis/1cwT...</td>\n",
       "      <td>216905</td>\n",
       "      <td>5</td>\n",
       "    </tr>\n",
       "    <tr>\n",
       "      <th>2</th>\n",
       "      <td>Sin Rumbo</td>\n",
       "      <td>0aL27vskbMpwsMGUkHm3Zf</td>\n",
       "      <td>['Arca']</td>\n",
       "      <td>['4SQdUpG4f7UbkJG3cJ2Iyj']</td>\n",
       "      <td>Arca</td>\n",
       "      <td>1MQO4j8QExVgmnplbIodEU</td>\n",
       "      <td>{'danceability': 0.289, 'energy': 0.28, 'key':...</td>\n",
       "      <td>indie r&amp;b</td>\n",
       "      <td>0.0000</td>\n",
       "      <td>0.289</td>\n",
       "      <td>...</td>\n",
       "      <td>0.124</td>\n",
       "      <td>0.0391</td>\n",
       "      <td>124.835</td>\n",
       "      <td>audio_features</td>\n",
       "      <td>0aL27vskbMpwsMGUkHm3Zf</td>\n",
       "      <td>spotify:track:0aL27vskbMpwsMGUkHm3Zf</td>\n",
       "      <td>https://api.spotify.com/v1/tracks/0aL27vskbMpw...</td>\n",
       "      <td>https://api.spotify.com/v1/audio-analysis/0aL2...</td>\n",
       "      <td>215773</td>\n",
       "      <td>3</td>\n",
       "    </tr>\n",
       "    <tr>\n",
       "      <th>3</th>\n",
       "      <td>La Gata Bajo la Lluvia</td>\n",
       "      <td>2kfSFdq2h0xLXq01em1zc7</td>\n",
       "      <td>['Rocío Dúrcal']</td>\n",
       "      <td>['2uyweLa0mvPZH6eRzDddeB']</td>\n",
       "      <td>Sus 16 Grandes Exitos</td>\n",
       "      <td>1QXxmsxolhkqiFtI1mpX4i</td>\n",
       "      <td>{'danceability': 0.499, 'energy': 0.648, 'key'...</td>\n",
       "      <td>bolero</td>\n",
       "      <td>0.0057</td>\n",
       "      <td>0.499</td>\n",
       "      <td>...</td>\n",
       "      <td>0.576</td>\n",
       "      <td>0.4640</td>\n",
       "      <td>88.140</td>\n",
       "      <td>audio_features</td>\n",
       "      <td>2kfSFdq2h0xLXq01em1zc7</td>\n",
       "      <td>spotify:track:2kfSFdq2h0xLXq01em1zc7</td>\n",
       "      <td>https://api.spotify.com/v1/tracks/2kfSFdq2h0xL...</td>\n",
       "      <td>https://api.spotify.com/v1/audio-analysis/2kfS...</td>\n",
       "      <td>219107</td>\n",
       "      <td>4</td>\n",
       "    </tr>\n",
       "    <tr>\n",
       "      <th>4</th>\n",
       "      <td>Querida</td>\n",
       "      <td>5ySxlyvySBhIEvoO2xx7uT</td>\n",
       "      <td>['Juan Gabriel']</td>\n",
       "      <td>['2MRBDr0crHWE5JwPceFncq']</td>\n",
       "      <td>Recuerdos II</td>\n",
       "      <td>1xrQ48Vvnvm3SmAbnIukGt</td>\n",
       "      <td>{'danceability': 0.528, 'energy': 0.383, 'key'...</td>\n",
       "      <td>latin pop</td>\n",
       "      <td>0.0000</td>\n",
       "      <td>0.528</td>\n",
       "      <td>...</td>\n",
       "      <td>0.110</td>\n",
       "      <td>0.4600</td>\n",
       "      <td>89.089</td>\n",
       "      <td>audio_features</td>\n",
       "      <td>5ySxlyvySBhIEvoO2xx7uT</td>\n",
       "      <td>spotify:track:5ySxlyvySBhIEvoO2xx7uT</td>\n",
       "      <td>https://api.spotify.com/v1/tracks/5ySxlyvySBhI...</td>\n",
       "      <td>https://api.spotify.com/v1/audio-analysis/5ySx...</td>\n",
       "      <td>328320</td>\n",
       "      <td>4</td>\n",
       "    </tr>\n",
       "  </tbody>\n",
       "</table>\n",
       "<p>5 rows × 27 columns</p>\n",
       "</div>"
      ],
      "text/plain": [
       "                song_name                 song_id           artists  \\\n",
       "0                 Desafío  7j9DYPyCuvSAtPcevpAkzb          ['Arca']   \n",
       "1                  Anoche  1cwTMSQeMaA9fVKEF1iWeD          ['Arca']   \n",
       "2               Sin Rumbo  0aL27vskbMpwsMGUkHm3Zf          ['Arca']   \n",
       "3  La Gata Bajo la Lluvia  2kfSFdq2h0xLXq01em1zc7  ['Rocío Dúrcal']   \n",
       "4                 Querida  5ySxlyvySBhIEvoO2xx7uT  ['Juan Gabriel']   \n",
       "\n",
       "                   artists_id             album_name                album_id  \\\n",
       "0  ['4SQdUpG4f7UbkJG3cJ2Iyj']                   Arca  1MQO4j8QExVgmnplbIodEU   \n",
       "1  ['4SQdUpG4f7UbkJG3cJ2Iyj']                   Arca  1MQO4j8QExVgmnplbIodEU   \n",
       "2  ['4SQdUpG4f7UbkJG3cJ2Iyj']                   Arca  1MQO4j8QExVgmnplbIodEU   \n",
       "3  ['2uyweLa0mvPZH6eRzDddeB']  Sus 16 Grandes Exitos  1QXxmsxolhkqiFtI1mpX4i   \n",
       "4  ['2MRBDr0crHWE5JwPceFncq']           Recuerdos II  1xrQ48Vvnvm3SmAbnIukGt   \n",
       "\n",
       "                                      audio_features             genres  \\\n",
       "0  {'danceability': 0.161, 'energy': 0.482, 'key'...   experimental pop   \n",
       "1  {'danceability': 0.23, 'energy': 0.434, 'key':...         electropop   \n",
       "2  {'danceability': 0.289, 'energy': 0.28, 'key':...          indie r&b   \n",
       "3  {'danceability': 0.499, 'energy': 0.648, 'key'...             bolero   \n",
       "4  {'danceability': 0.528, 'energy': 0.383, 'key'...          latin pop   \n",
       "\n",
       "   lyrics_sentiment  danceability  ...  liveness  valence    tempo  \\\n",
       "0            0.0055         0.161  ...     0.371   0.0926  161.092   \n",
       "1            0.3901         0.230  ...     0.115   0.0834   80.793   \n",
       "2            0.0000         0.289  ...     0.124   0.0391  124.835   \n",
       "3            0.0057         0.499  ...     0.576   0.4640   88.140   \n",
       "4            0.0000         0.528  ...     0.110   0.4600   89.089   \n",
       "\n",
       "             type                      id  \\\n",
       "0  audio_features  7j9DYPyCuvSAtPcevpAkzb   \n",
       "1  audio_features  1cwTMSQeMaA9fVKEF1iWeD   \n",
       "2  audio_features  0aL27vskbMpwsMGUkHm3Zf   \n",
       "3  audio_features  2kfSFdq2h0xLXq01em1zc7   \n",
       "4  audio_features  5ySxlyvySBhIEvoO2xx7uT   \n",
       "\n",
       "                                    uri  \\\n",
       "0  spotify:track:7j9DYPyCuvSAtPcevpAkzb   \n",
       "1  spotify:track:1cwTMSQeMaA9fVKEF1iWeD   \n",
       "2  spotify:track:0aL27vskbMpwsMGUkHm3Zf   \n",
       "3  spotify:track:2kfSFdq2h0xLXq01em1zc7   \n",
       "4  spotify:track:5ySxlyvySBhIEvoO2xx7uT   \n",
       "\n",
       "                                          track_href  \\\n",
       "0  https://api.spotify.com/v1/tracks/7j9DYPyCuvSA...   \n",
       "1  https://api.spotify.com/v1/tracks/1cwTMSQeMaA9...   \n",
       "2  https://api.spotify.com/v1/tracks/0aL27vskbMpw...   \n",
       "3  https://api.spotify.com/v1/tracks/2kfSFdq2h0xL...   \n",
       "4  https://api.spotify.com/v1/tracks/5ySxlyvySBhI...   \n",
       "\n",
       "                                        analysis_url  duration_ms  \\\n",
       "0  https://api.spotify.com/v1/audio-analysis/7j9D...       233079   \n",
       "1  https://api.spotify.com/v1/audio-analysis/1cwT...       216905   \n",
       "2  https://api.spotify.com/v1/audio-analysis/0aL2...       215773   \n",
       "3  https://api.spotify.com/v1/audio-analysis/2kfS...       219107   \n",
       "4  https://api.spotify.com/v1/audio-analysis/5ySx...       328320   \n",
       "\n",
       "   time_signature  \n",
       "0               5  \n",
       "1               5  \n",
       "2               3  \n",
       "3               4  \n",
       "4               4  \n",
       "\n",
       "[5 rows x 27 columns]"
      ]
     },
     "execution_count": 238,
     "metadata": {},
     "output_type": "execute_result"
    }
   ],
   "source": [
    "import ast\n",
    "\n",
    "df = random_simple_df.copy()\n",
    "audio_thing= df[\"audio_features\"].apply(lambda x: ast.literal_eval(x))\n",
    "audio_features_base = pd.DataFrame(list(audio_thing))\n",
    "audio_features = audio_features_base.columns\n",
    "#df.drop([\"audio_features\"],axis=1, inplace=True)\n",
    "df = pd.concat([df,audio_features_base],axis=1)\n",
    "df.head(5)"
   ]
  },
  {
   "cell_type": "markdown",
   "metadata": {},
   "source": [
    "dataset split"
   ]
  },
  {
   "cell_type": "code",
   "execution_count": 239,
   "metadata": {},
   "outputs": [],
   "source": [
    "other = pd.concat([df[audio_features], df['lyrics_sentiment']], axis=1)\n",
    "sanitized = other.drop([\"uri\", \"analysis_url\", \"track_href\", \"id\", \"type\"],1)"
   ]
  },
  {
   "cell_type": "code",
   "execution_count": 240,
   "metadata": {},
   "outputs": [],
   "source": [
    "from sklearn import model_selection, tree\n",
    "X = sanitized\n",
    "y = df[\"genres\"]\n",
    "X_train, X_valid, y_train, y_valid = model_selection.train_test_split(X, y, test_size=0.3, random_state=42)\n"
   ]
  },
  {
   "cell_type": "markdown",
   "metadata": {},
   "source": [
    "## Decision Trees"
   ]
  },
  {
   "cell_type": "code",
   "execution_count": 241,
   "metadata": {},
   "outputs": [],
   "source": [
    "clf = tree.DecisionTreeClassifier(max_depth=2)\n",
    "clf = clf.fit(X_train, y_train)"
   ]
  },
  {
   "cell_type": "code",
   "execution_count": 242,
   "metadata": {},
   "outputs": [
    {
     "name": "stdout",
     "output_type": "stream",
     "text": [
      "Accuracy: 13 \n"
     ]
    }
   ],
   "source": [
    "predictions = clf.predict(X_train)\n",
    "print ('Accuracy: %d ' % ((np.sum(y_train == predictions))/float(y_train.size)*100))"
   ]
  },
  {
   "cell_type": "code",
   "execution_count": 243,
   "metadata": {},
   "outputs": [
    {
     "name": "stdout",
     "output_type": "stream",
     "text": [
      "Accuracy: 13 \n"
     ]
    }
   ],
   "source": [
    "predictions = clf.predict(X_valid)\n",
    "print ('Accuracy: %d ' % ((np.sum(y_valid == predictions))/float(y_valid.size)*100))"
   ]
  },
  {
   "cell_type": "code",
   "execution_count": 244,
   "metadata": {},
   "outputs": [
    {
     "data": {
      "text/plain": [
       "0.13445378151260504"
      ]
     },
     "execution_count": 244,
     "metadata": {},
     "output_type": "execute_result"
    }
   ],
   "source": [
    "score = clf.score(X_valid, y_valid)\n",
    "score"
   ]
  },
  {
   "cell_type": "code",
   "execution_count": 245,
   "metadata": {},
   "outputs": [
    {
     "data": {
      "text/plain": [
       "array(['cuarteto'], dtype=object)"
      ]
     },
     "execution_count": 245,
     "metadata": {},
     "output_type": "execute_result"
    }
   ],
   "source": [
    "predicts = clf.predict(X_valid.head(1))\n",
    "predicts\n",
    "#track_by_feature(\"danceability\", 0.631)"
   ]
  },
  {
   "cell_type": "code",
   "execution_count": 200,
   "metadata": {},
   "outputs": [],
   "source": [
    "#more aux functions\n",
    "def track_by_feature(feature, value):\n",
    "    track_id = audio_features_base[audio_features_base[feature]==value]['id']\n",
    "    track_id = track_id.values.item(0)\n",
    "    return df[df['song_id']== track_id]\n",
    "#example use: \n",
    "#print(track_by_feature(\"valence\",0.039100))\n",
    "#track_by_feature(\"speechiness\",0.492000)\n"
   ]
  },
  {
   "cell_type": "code",
   "execution_count": 201,
   "metadata": {},
   "outputs": [
    {
     "data": {
      "text/html": [
       "<div>\n",
       "<style scoped>\n",
       "    .dataframe tbody tr th:only-of-type {\n",
       "        vertical-align: middle;\n",
       "    }\n",
       "\n",
       "    .dataframe tbody tr th {\n",
       "        vertical-align: top;\n",
       "    }\n",
       "\n",
       "    .dataframe thead th {\n",
       "        text-align: right;\n",
       "    }\n",
       "</style>\n",
       "<table border=\"1\" class=\"dataframe\">\n",
       "  <thead>\n",
       "    <tr style=\"text-align: right;\">\n",
       "      <th></th>\n",
       "      <th>song_name</th>\n",
       "      <th>song_id</th>\n",
       "      <th>artists</th>\n",
       "      <th>artists_id</th>\n",
       "      <th>album_name</th>\n",
       "      <th>album_id</th>\n",
       "      <th>audio_features</th>\n",
       "      <th>genres</th>\n",
       "      <th>lyrics_sentiment</th>\n",
       "      <th>danceability</th>\n",
       "      <th>...</th>\n",
       "      <th>liveness</th>\n",
       "      <th>valence</th>\n",
       "      <th>tempo</th>\n",
       "      <th>type</th>\n",
       "      <th>id</th>\n",
       "      <th>uri</th>\n",
       "      <th>track_href</th>\n",
       "      <th>analysis_url</th>\n",
       "      <th>duration_ms</th>\n",
       "      <th>time_signature</th>\n",
       "    </tr>\n",
       "  </thead>\n",
       "  <tbody>\n",
       "    <tr>\n",
       "      <th>96</th>\n",
       "      <td>Lluvia</td>\n",
       "      <td>09O9vdg73P50pPHC2FiWzV</td>\n",
       "      <td>['La Mona Jimenez']</td>\n",
       "      <td>['64DFKvGarD5nmkfaIiiakf']</td>\n",
       "      <td>Discografía Completa - Volumen 3</td>\n",
       "      <td>1Cs9XYXDQvBlEqDN3jDoHP</td>\n",
       "      <td>{'danceability': 0.631, 'energy': 0.94, 'key':...</td>\n",
       "      <td>cuarteto</td>\n",
       "      <td>0.0001</td>\n",
       "      <td>0.631</td>\n",
       "      <td>...</td>\n",
       "      <td>0.0673</td>\n",
       "      <td>0.817</td>\n",
       "      <td>150.073</td>\n",
       "      <td>audio_features</td>\n",
       "      <td>09O9vdg73P50pPHC2FiWzV</td>\n",
       "      <td>spotify:track:09O9vdg73P50pPHC2FiWzV</td>\n",
       "      <td>https://api.spotify.com/v1/tracks/09O9vdg73P50...</td>\n",
       "      <td>https://api.spotify.com/v1/audio-analysis/09O9...</td>\n",
       "      <td>286493</td>\n",
       "      <td>4</td>\n",
       "    </tr>\n",
       "  </tbody>\n",
       "</table>\n",
       "<p>1 rows × 27 columns</p>\n",
       "</div>"
      ],
      "text/plain": [
       "   song_name                 song_id              artists  \\\n",
       "96    Lluvia  09O9vdg73P50pPHC2FiWzV  ['La Mona Jimenez']   \n",
       "\n",
       "                    artists_id                        album_name  \\\n",
       "96  ['64DFKvGarD5nmkfaIiiakf']  Discografía Completa - Volumen 3   \n",
       "\n",
       "                  album_id                                     audio_features  \\\n",
       "96  1Cs9XYXDQvBlEqDN3jDoHP  {'danceability': 0.631, 'energy': 0.94, 'key':...   \n",
       "\n",
       "      genres  lyrics_sentiment  danceability  ...  liveness  valence    tempo  \\\n",
       "96  cuarteto            0.0001         0.631  ...    0.0673    0.817  150.073   \n",
       "\n",
       "              type                      id  \\\n",
       "96  audio_features  09O9vdg73P50pPHC2FiWzV   \n",
       "\n",
       "                                     uri  \\\n",
       "96  spotify:track:09O9vdg73P50pPHC2FiWzV   \n",
       "\n",
       "                                           track_href  \\\n",
       "96  https://api.spotify.com/v1/tracks/09O9vdg73P50...   \n",
       "\n",
       "                                         analysis_url  duration_ms  \\\n",
       "96  https://api.spotify.com/v1/audio-analysis/09O9...       286493   \n",
       "\n",
       "    time_signature  \n",
       "96               4  \n",
       "\n",
       "[1 rows x 27 columns]"
      ]
     },
     "execution_count": 201,
     "metadata": {},
     "output_type": "execute_result"
    }
   ],
   "source": [
    "track_by_feature(\"danceability\", 0.631)"
   ]
  },
  {
   "cell_type": "code",
   "execution_count": null,
   "metadata": {},
   "outputs": [],
   "source": [
    "songs_of_description()"
   ]
  },
  {
   "cell_type": "markdown",
   "metadata": {},
   "source": [
    "#### Notas del profe\n",
    "\n",
    "Primero, la letra en sí no se usa, igual que el nombre de la canción. Los n gramas tampoco.\n",
    "\n",
    "Lo que sí se puede usar son datos obtenidos en base al texto de las canciones, el ejemplo por excelencia es hacer sentiment analysis\n",
    "\n",
    "Ver\n",
    "https://elitedatascience.com/python-nlp-libraries\n"
   ]
  },
  {
   "cell_type": "markdown",
   "metadata": {},
   "source": [
    "### 2) Elegir tres modelos de clasificadores multiclase\n",
    "\n",
    "Aquí escogeremos tres modelos diferentes y luego compararemos su rendimiento para esta tarea. El procedimiento será el siguiente:\n",
    "- Inicializar los modelos\n",
    "- Entrenarlos usando el split **train** de los datos\n",
    "\n",
    "**Recomendación:**\n",
    "- Prestar atención a la [documentación de sklearn](https://scikit-learn.org/stable/)"
   ]
  },
  {
   "cell_type": "code",
   "execution_count": null,
   "metadata": {},
   "outputs": [],
   "source": []
  },
  {
   "cell_type": "markdown",
   "metadata": {},
   "source": [
    "### 3) Informe: Comparar el rendimiento de los modelos\n",
    "\n",
    "Una vez entrenados los tres modelos, compararemos su rendimiento:\n",
    "- Correr los modelos usando el split **test**\n",
    "- Obtener el reporte de clasificación y la matriz de confusión para cada modelo\n",
    "- Graficar llevando a 2 dimensiones nuestro split **test** pintando con colores diferentes según la etiqueta correspondiente.\n",
    "- Graficar de manera similar los resultados obtenidos con cada clasificador y sobre esto la función de clasificación obtenida.\n",
    "- Guardar los modelos usando **pickle**\n",
    "- Discutir los resultados obtenidos\n",
    "\n",
    "**Recomendación:**\n",
    "- Prestar atención a la [documentación de sklearn](https://scikit-learn.org/stable/)"
   ]
  },
  {
   "cell_type": "code",
   "execution_count": null,
   "metadata": {},
   "outputs": [],
   "source": []
  },
  {
   "cell_type": "markdown",
   "metadata": {},
   "source": [
    "### 4) Tareas adicionales:\n",
    "\n",
    "Estas tareas servirán para extrapolar un poco el trabajo básico, y también sumarán puntos extra. Deben elegir una o más de las siguientes:\n",
    "-  Análisis sobre el balance de clases del dataset, balanceo usando **subsampling** u **oversampling** y comparación de resultados vs el modelo básico\n",
    "- Optimización de hiperparámetros y comparación de resultados vs el modelo básico\n",
    "- Graficar importancia de features\n",
    "- Graficar correlación de features\n",
    "\n",
    "**Recomendación:**\n",
    "- Hacer varias ahora puede ahorrarles tiempo en el futuro"
   ]
  },
  {
   "cell_type": "code",
   "execution_count": 37,
   "metadata": {},
   "outputs": [
    {
     "data": {
      "text/plain": [
       "['cumbia andina mexicana', 'folclore jujeno', 'folklore argentino']"
      ]
     },
     "execution_count": 37,
     "metadata": {},
     "output_type": "execute_result"
    }
   ],
   "source": [
    "#problemas de spotify's genres\n",
    "get_genres([\"0iutktJLkNNtErs8c3EoF6\"])"
   ]
  }
 ],
 "metadata": {
  "kernelspec": {
   "display_name": "Python 3",
   "language": "python",
   "name": "python3"
  },
  "language_info": {
   "codemirror_mode": {
    "name": "ipython",
    "version": 3
   },
   "file_extension": ".py",
   "mimetype": "text/x-python",
   "name": "python",
   "nbconvert_exporter": "python",
   "pygments_lexer": "ipython3",
   "version": "3.6.9"
  }
 },
 "nbformat": 4,
 "nbformat_minor": 2
}
