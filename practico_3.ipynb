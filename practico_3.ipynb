{
 "cells": [
  {
   "cell_type": "markdown",
   "metadata": {},
   "source": [
    "# Mentoría 'de cómo clasificar en géneros a las canciones'\n",
    "## Práctico III : Introducción al aprendizaje automático"
   ]
  },
  {
   "cell_type": "markdown",
   "metadata": {},
   "source": [
    "**Antes de empezar:**\n",
    "- [Instalar spaCy y el modelo de lenguaje con el que van a trabajar](https://spacy.io/models#quickstart)\n",
    "\n",
    "**Consideraciones:**\n",
    "- Se evalúa el estilo y prolijidad del código.\n",
    "- Se permite hacer trabajo extra, siempre y cuando las actividades básicas estén resueltas.\n",
    "\n",
    "**Recomendación:**\n",
    "- Hay muchos ejemplos de código en internet, no se sientan obligados a implementar todo desde cero."
   ]
  },
  {
   "cell_type": "markdown",
   "metadata": {},
   "source": [
    "### Librerías"
   ]
  },
  {
   "cell_type": "code",
   "execution_count": 1,
   "metadata": {},
   "outputs": [
    {
     "name": "stdout",
     "output_type": "stream",
     "text": [
      "Collecting spotipy\n",
      "  Downloading spotipy-2.15.0-py3-none-any.whl (24 kB)\n",
      "Requirement already satisfied: requests>=2.20.0 in ./sentanal/lib/python3.6/site-packages (from spotipy) (2.23.0)\n",
      "Requirement already satisfied: six>=1.10.0 in ./sentanal/lib/python3.6/site-packages (from spotipy) (1.15.0)\n",
      "Requirement already satisfied: certifi>=2017.4.17 in ./sentanal/lib/python3.6/site-packages (from requests>=2.20.0->spotipy) (2020.6.20)\n",
      "Requirement already satisfied: urllib3!=1.25.0,!=1.25.1,<1.26,>=1.21.1 in ./sentanal/lib/python3.6/site-packages (from requests>=2.20.0->spotipy) (1.24.3)\n",
      "Requirement already satisfied: idna<3,>=2.5 in ./sentanal/lib/python3.6/site-packages (from requests>=2.20.0->spotipy) (2.10)\n",
      "Requirement already satisfied: chardet<4,>=3.0.2 in ./sentanal/lib/python3.6/site-packages (from requests>=2.20.0->spotipy) (3.0.4)\n",
      "Installing collected packages: spotipy\n",
      "Successfully installed spotipy-2.15.0\n",
      "Requirement already satisfied: pandas in ./sentanal/lib/python3.6/site-packages (1.0.5)\n",
      "Requirement already satisfied: pytz>=2017.2 in ./sentanal/lib/python3.6/site-packages (from pandas) (2020.1)\n",
      "Requirement already satisfied: numpy>=1.13.3 in ./sentanal/lib/python3.6/site-packages (from pandas) (1.18.5)\n",
      "Requirement already satisfied: python-dateutil>=2.6.1 in ./sentanal/lib/python3.6/site-packages (from pandas) (2.8.1)\n",
      "Requirement already satisfied: six>=1.5 in ./sentanal/lib/python3.6/site-packages (from python-dateutil>=2.6.1->pandas) (1.15.0)\n",
      "Requirement already satisfied: spacy in ./sentanal/lib/python3.6/site-packages (2.2.4)\n",
      "Requirement already satisfied: requests<3.0.0,>=2.13.0 in ./sentanal/lib/python3.6/site-packages (from spacy) (2.23.0)\n",
      "Requirement already satisfied: murmurhash<1.1.0,>=0.28.0 in ./sentanal/lib/python3.6/site-packages (from spacy) (1.0.2)\n",
      "Requirement already satisfied: thinc==7.4.0 in ./sentanal/lib/python3.6/site-packages (from spacy) (7.4.0)\n",
      "Requirement already satisfied: catalogue<1.1.0,>=0.0.7 in ./sentanal/lib/python3.6/site-packages (from spacy) (1.0.0)\n",
      "Requirement already satisfied: numpy>=1.15.0 in ./sentanal/lib/python3.6/site-packages (from spacy) (1.18.5)\n",
      "Requirement already satisfied: preshed<3.1.0,>=3.0.2 in ./sentanal/lib/python3.6/site-packages (from spacy) (3.0.2)\n",
      "Requirement already satisfied: plac<1.2.0,>=0.9.6 in ./sentanal/lib/python3.6/site-packages (from spacy) (1.1.3)\n",
      "Requirement already satisfied: tqdm<5.0.0,>=4.38.0 in ./sentanal/lib/python3.6/site-packages (from spacy) (4.41.1)\n",
      "Requirement already satisfied: wasabi<1.1.0,>=0.4.0 in ./sentanal/lib/python3.6/site-packages (from spacy) (0.8.0)\n",
      "Requirement already satisfied: setuptools in ./sentanal/lib/python3.6/site-packages (from spacy) (47.1.1)\n",
      "Requirement already satisfied: srsly<1.1.0,>=1.0.2 in ./sentanal/lib/python3.6/site-packages (from spacy) (1.0.2)\n",
      "Requirement already satisfied: cymem<2.1.0,>=2.0.2 in ./sentanal/lib/python3.6/site-packages (from spacy) (2.0.3)\n",
      "Requirement already satisfied: blis<0.5.0,>=0.4.0 in ./sentanal/lib/python3.6/site-packages (from spacy) (0.4.1)\n",
      "Requirement already satisfied: certifi>=2017.4.17 in ./sentanal/lib/python3.6/site-packages (from requests<3.0.0,>=2.13.0->spacy) (2020.6.20)\n",
      "Requirement already satisfied: idna<3,>=2.5 in ./sentanal/lib/python3.6/site-packages (from requests<3.0.0,>=2.13.0->spacy) (2.10)\n",
      "Requirement already satisfied: urllib3!=1.25.0,!=1.25.1,<1.26,>=1.21.1 in ./sentanal/lib/python3.6/site-packages (from requests<3.0.0,>=2.13.0->spacy) (1.24.3)\n",
      "Requirement already satisfied: chardet<4,>=3.0.2 in ./sentanal/lib/python3.6/site-packages (from requests<3.0.0,>=2.13.0->spacy) (3.0.4)\n",
      "Requirement already satisfied: importlib-metadata>=0.20; python_version < \"3.8\" in ./sentanal/lib/python3.6/site-packages (from catalogue<1.1.0,>=0.0.7->spacy) (1.7.0)\n",
      "Requirement already satisfied: zipp>=0.5 in ./sentanal/lib/python3.6/site-packages (from importlib-metadata>=0.20; python_version < \"3.8\"->catalogue<1.1.0,>=0.0.7->spacy) (3.1.0)\n",
      "Processing /home/kunan/.cache/pip/wheels/cd/22/66/fcfe16c783269151e68dfa0a25411b21a2d5d2106cda7dac1e/pymusixmatch-0.3-py3-none-any.whl\n",
      "Requirement already satisfied: requests in ./sentanal/lib/python3.6/site-packages (from pymusixmatch) (2.23.0)\n",
      "Requirement already satisfied: idna<3,>=2.5 in ./sentanal/lib/python3.6/site-packages (from requests->pymusixmatch) (2.10)\n",
      "Requirement already satisfied: certifi>=2017.4.17 in ./sentanal/lib/python3.6/site-packages (from requests->pymusixmatch) (2020.6.20)\n",
      "Requirement already satisfied: urllib3!=1.25.0,!=1.25.1,<1.26,>=1.21.1 in ./sentanal/lib/python3.6/site-packages (from requests->pymusixmatch) (1.24.3)\n",
      "Requirement already satisfied: chardet<4,>=3.0.2 in ./sentanal/lib/python3.6/site-packages (from requests->pymusixmatch) (3.0.4)\n",
      "Installing collected packages: pymusixmatch\n",
      "Successfully installed pymusixmatch-0.3\n",
      "Requirement already satisfied: nltk in ./sentanal/lib/python3.6/site-packages (3.2.5)\n",
      "Requirement already satisfied: six in ./sentanal/lib/python3.6/site-packages (from nltk) (1.15.0)\n",
      "Requirement already satisfied: sklearn in ./sentanal/lib/python3.6/site-packages (0.0)\n",
      "Requirement already satisfied: scikit-learn in ./sentanal/lib/python3.6/site-packages (from sklearn) (0.22.2.post1)\n",
      "Requirement already satisfied: joblib>=0.11 in ./sentanal/lib/python3.6/site-packages (from scikit-learn->sklearn) (0.16.0)\n",
      "Requirement already satisfied: scipy>=0.17.0 in ./sentanal/lib/python3.6/site-packages (from scikit-learn->sklearn) (1.4.1)\n",
      "Requirement already satisfied: numpy>=1.11.0 in ./sentanal/lib/python3.6/site-packages (from scikit-learn->sklearn) (1.18.5)\n",
      "Collecting stanza\n",
      "  Using cached stanza-1.1.1-py3-none-any.whl (227 kB)\n",
      "Requirement already satisfied: tqdm in ./sentanal/lib/python3.6/site-packages (from stanza) (4.41.1)\n",
      "Requirement already satisfied: requests in ./sentanal/lib/python3.6/site-packages (from stanza) (2.23.0)\n",
      "Requirement already satisfied: protobuf in ./sentanal/lib/python3.6/site-packages (from stanza) (3.12.4)\n",
      "Requirement already satisfied: torch>=1.3.0 in ./sentanal/lib/python3.6/site-packages (from stanza) (1.6.0)\n",
      "Requirement already satisfied: numpy in ./sentanal/lib/python3.6/site-packages (from stanza) (1.18.5)\n",
      "Requirement already satisfied: chardet<4,>=3.0.2 in ./sentanal/lib/python3.6/site-packages (from requests->stanza) (3.0.4)\n",
      "Requirement already satisfied: certifi>=2017.4.17 in ./sentanal/lib/python3.6/site-packages (from requests->stanza) (2020.6.20)\n",
      "Requirement already satisfied: idna<3,>=2.5 in ./sentanal/lib/python3.6/site-packages (from requests->stanza) (2.10)\n",
      "Requirement already satisfied: urllib3!=1.25.0,!=1.25.1,<1.26,>=1.21.1 in ./sentanal/lib/python3.6/site-packages (from requests->stanza) (1.24.3)\n",
      "Requirement already satisfied: setuptools in ./sentanal/lib/python3.6/site-packages (from protobuf->stanza) (47.1.1)\n",
      "Requirement already satisfied: six>=1.9 in ./sentanal/lib/python3.6/site-packages (from protobuf->stanza) (1.15.0)\n",
      "Requirement already satisfied: future in ./sentanal/lib/python3.6/site-packages (from torch>=1.3.0->stanza) (0.16.0)\n",
      "Installing collected packages: stanza\n",
      "Successfully installed stanza-1.1.1\n"
     ]
    }
   ],
   "source": [
    "!pip3 install spotipy\n",
    "!pip3 install pandas\n",
    "!pip3 install spacy\n",
    "!pip3 install pymusixmatch\n",
    "!pip3 install nltk\n",
    "!pip3 install sklearn\n",
    "!pip3 install stanza\n",
    "\n",
    "# Agregar las librerías extra que se utilicen en esta celda y la siguiente"
   ]
  },
  {
   "cell_type": "markdown",
   "metadata": {},
   "source": [
    "### Dependencias y acceso a APIs"
   ]
  },
  {
   "cell_type": "code",
   "execution_count": 7,
   "metadata": {},
   "outputs": [],
   "source": [
    "import pandas as pd\n",
    "import numpy as np\n",
    "import spotipy\n",
    "import spacy\n",
    "from spotipy.oauth2 import SpotifyClientCredentials\n",
    "from musixmatch import Musixmatch\n",
    "import seaborn as sns\n",
    "import tqdm\n",
    "import plotly.express as px\n",
    "import plotly.graph_objects as go\n",
    "import requests\n",
    "from collections import Counter\n",
    "from nltk import ngrams, bigrams\n",
    "import nltk\n",
    "import itertools\n",
    "import matplotlib.pyplot as plt\n",
    "import json\n",
    "import spacy\n",
    "from sentiment_analysis_spanish import sentiment_analysis\n",
    "\n",
    "client_id = '46b333d567314a89a6254b6c6b054be6'\n",
    "client_secret = '9d922c3613e441518349dcf55f7d5853'\n",
    "client_credentials_manager = SpotifyClientCredentials(client_id=client_id, client_secret=client_secret)\n",
    "\n",
    "# es = es_core_web_sm\n",
    "#python -m spacy link es_core_news_sm es\n",
    "nlp = spacy.load(\"es\")\n",
    "\n",
    "sp = spotipy.Spotify(client_credentials_manager=client_credentials_manager)\n",
    "musixmatch = Musixmatch('1aa5272f4402bf2f082ad2f3958c2c62') # se puede reemplazar por otra API si da mejores resultados"
   ]
  },
  {
   "cell_type": "code",
   "execution_count": 9,
   "metadata": {},
   "outputs": [],
   "source": [
    "sns.set_context(context='paper')"
   ]
  },
  {
   "cell_type": "markdown",
   "metadata": {},
   "source": [
    "### 1) Recopilar los datos obtenidos en los prácticos anteriores\n",
    "\n",
    "Para esta parte consideraremos [la playlist colaborativa de la mentoría](https://open.spotify.com/playlist/2IuD0qZb14cji5y52crdsO?si=nfHRPDquQRyotEcXc4tG7Q), de esta obtendremos:\n",
    "- Las features del audio de las canciones\n",
    "- Las features textuales de sus letras\n",
    "\n",
    "Además es necesario aplicar el mismo preprocesamiento que aplicamos en los prácticos anteriores para ambos tipos de features (el preprocesamiento del p1 a las features de audio y el de p2 al de features textuales) y obtener el género de cada canción, que en caso de ser más de uno para una canción el equipo deberá discutir una estrategia para estos casos y comentarla en el informe.\n",
    "\n",
    "Luego, se separará al dataset resultante en **X** e **y**, donde:\n",
    "- X es el conjunto de features\n",
    "- y es la etiqueta, en este caso el género de la canción, que deberá ser codificado en valores del tipo **int**\n",
    "\n",
    "Por último, se dividirá a estos dos conjuntos en los splits **train** y **test**\n",
    "\n",
    "**Recomendaciones:**\n",
    "- Obtener las features por separado y hacer un join de los datasets.\n",
    "- Prestar atención a la [documentación de sklearn](https://scikit-learn.org/stable/)\n",
    "- Si usan features categóricas, ENCODEARLAS!"
   ]
  },
  {
   "cell_type": "markdown",
   "metadata": {},
   "source": [
    "# Dataset"
   ]
  },
  {
   "cell_type": "markdown",
   "metadata": {},
   "source": [
    "## Music Features"
   ]
  },
  {
   "cell_type": "code",
   "execution_count": 10,
   "metadata": {},
   "outputs": [],
   "source": [
    "#Aux funcs\n",
    "def genres_by_artist_id(id): #id: str\n",
    "    artist = sp.artist(id)\n",
    "    genres = artist['genres']\n",
    "    return genres    #genres: List[str]\n",
    "\n",
    "def songs_from_album_id(album_id):\n",
    "    songs = []\n",
    "    album = sp.album(album_id)\n",
    "    artist = album['artists'][0]['name']\n",
    "    for item in album['tracks']['items']:\n",
    "        track = {}\n",
    "        track[\"song_name\"] = item['name']\n",
    "        track[\"song_id\"] = item['id']\n",
    "        track[\"album_name\"] = album['name']\n",
    "        track[\"album_id\"] = album[\"id\"]\n",
    "        audio_features = sp.audio_features(track[\"song_id\"])\n",
    "        track[\"audio_features\"] = audio_features[0]\n",
    "        track[\"artist\"] = artist\n",
    "        songs.append(track)\n",
    "    return songs    #songs:List[dict]\n",
    "\n",
    "def get_genres(artists_id):\n",
    "    res = [genres_by_artist_id(x) for x in artists_id if genres_by_artist_id(x)!= []]\n",
    "    if res != []:\n",
    "        return res[0]\n",
    "    return res\n",
    "\n",
    "def add_track(track_id, songs): #track_id:str, songs:List[dict]\n",
    "    track = sp.track(track_id)\n",
    "    audio_features = sp.audio_features(track_id)\n",
    "    row = {}\n",
    "    row[\"song_name\"] = track['name']\n",
    "    row[\"song_id\"] = track['id']\n",
    "    row[\"artists\"] = [x[\"name\"] for x in track[\"artists\"]]\n",
    "    row[\"artists_id\"] = [x[\"id\"] for x in track[\"artists\"]]\n",
    "    row[\"album_name\"] = track['album']['name']\n",
    "    row[\"album_id\"] = track['album']['id']\n",
    "    row[\"audio_features\"] = audio_features[0]\n",
    "    row[\"genres\"] = get_genres(row[\"artists_id\"])\n",
    "    songs.append(row)\n",
    "    return songs\n"
   ]
  },
  {
   "cell_type": "code",
   "execution_count": 11,
   "metadata": {},
   "outputs": [
    {
     "name": "stdout",
     "output_type": "stream",
     "text": [
      "This may take a while...\n"
     ]
    },
    {
     "name": "stderr",
     "output_type": "stream",
     "text": [
      "\r",
      "  0%|          | 0/12 [00:00<?, ?it/s]"
     ]
    },
    {
     "name": "stdout",
     "output_type": "stream",
     "text": [
      "...downloading 1190 songs\n",
      "in 12 batches\n"
     ]
    },
    {
     "name": "stderr",
     "output_type": "stream",
     "text": [
      "100%|██████████| 12/12 [22:48<00:00, 114.08s/it]\n"
     ]
    }
   ],
   "source": [
    "PLAYLIST_ID = \"2IuD0qZb14cji5y52crdsO\"\n",
    "TEST_PLAYLIST_ID = \"3gLmPh92AyeYDKYLaNC8uv\"\n",
    "songs = []\n",
    "\n",
    "def add_songs_of_playlist(playlist_id,songs_array):\n",
    "\n",
    "    print(\"This may take a while...\")\n",
    "    offset = 0\n",
    "    playlist = sp.playlist_tracks(playlist_id,offset=offset,limit=100)\n",
    "    batches = playlist[\"total\"] // 100 + 1\n",
    "    print(\"...downloading \"+ str(playlist[\"total\"]) + \" songs\")\n",
    "    print(\"in \"+str(batches)+ \" batches\")\n",
    "    for j in tqdm.tqdm(range(batches)):\n",
    "        for i in range(len(playlist[\"items\"])):\n",
    "            add_track(playlist[\"items\"][i][\"track\"][\"id\"],songs_array)\n",
    "        offset += len(playlist[\"items\"])\n",
    "        playlist = sp.playlist_tracks(playlist_id, offset=offset,limit=100)\n",
    "    return\n",
    "\n",
    "add_songs_of_playlist(PLAYLIST_ID,songs)"
   ]
  },
  {
   "cell_type": "code",
   "execution_count": 12,
   "metadata": {
    "scrolled": true
   },
   "outputs": [
    {
     "data": {
      "text/plain": [
       "song_name         1190\n",
       "song_id           1190\n",
       "artists           1190\n",
       "artists_id        1190\n",
       "album_name        1190\n",
       "album_id          1190\n",
       "audio_features    1190\n",
       "genres            1190\n",
       "dtype: int64"
      ]
     },
     "execution_count": 12,
     "metadata": {},
     "output_type": "execute_result"
    }
   ],
   "source": [
    "songs_original_df = pd.DataFrame(songs)\n",
    "songs_original_df.count()"
   ]
  },
  {
   "cell_type": "markdown",
   "metadata": {},
   "source": [
    "Checking dataframe's consistency."
   ]
  },
  {
   "cell_type": "code",
   "execution_count": 13,
   "metadata": {},
   "outputs": [
    {
     "data": {
      "text/html": [
       "<div>\n",
       "<style scoped>\n",
       "    .dataframe tbody tr th:only-of-type {\n",
       "        vertical-align: middle;\n",
       "    }\n",
       "\n",
       "    .dataframe tbody tr th {\n",
       "        vertical-align: top;\n",
       "    }\n",
       "\n",
       "    .dataframe thead th {\n",
       "        text-align: right;\n",
       "    }\n",
       "</style>\n",
       "<table border=\"1\" class=\"dataframe\">\n",
       "  <thead>\n",
       "    <tr style=\"text-align: right;\">\n",
       "      <th></th>\n",
       "      <th>song_name</th>\n",
       "      <th>song_id</th>\n",
       "      <th>artists</th>\n",
       "      <th>artists_id</th>\n",
       "      <th>album_name</th>\n",
       "      <th>album_id</th>\n",
       "      <th>audio_features</th>\n",
       "      <th>genres</th>\n",
       "    </tr>\n",
       "  </thead>\n",
       "  <tbody>\n",
       "    <tr>\n",
       "      <th>48</th>\n",
       "      <td>Cambalache</td>\n",
       "      <td>3PI0FE7JUmEmEyN5YgKPZA</td>\n",
       "      <td>[Enrique Santos Discépolo]</td>\n",
       "      <td>[0aPYs7yoiP2NtS5xNZXKjg]</td>\n",
       "      <td>Enrique Santos Discepolo \"El poeta del tango\" ...</td>\n",
       "      <td>59tn7tvd1M5XNWwV3TaVWC</td>\n",
       "      <td>{'danceability': 0.492, 'energy': 0.541, 'key'...</td>\n",
       "      <td>[]</td>\n",
       "    </tr>\n",
       "    <tr>\n",
       "      <th>478</th>\n",
       "      <td>Sigue Feliz</td>\n",
       "      <td>1s0ndZpf2KeKEA08CsIFia</td>\n",
       "      <td>[Alonso y Bernardo]</td>\n",
       "      <td>[5sskVxLnToHrnwTAICyVF5]</td>\n",
       "      <td>Narcos, Vol. 2 (More Music from the Netflix Or...</td>\n",
       "      <td>0EJRlYjvVcym9K4wrww9vB</td>\n",
       "      <td>{'danceability': 0.672, 'energy': 0.625, 'key'...</td>\n",
       "      <td>[]</td>\n",
       "    </tr>\n",
       "    <tr>\n",
       "      <th>526</th>\n",
       "      <td>Celia</td>\n",
       "      <td>1rzFbkSvxQv6r3PSGjn7Ub</td>\n",
       "      <td>[Incas de Oro]</td>\n",
       "      <td>[58wFXtpJxfvtigDaRWTNcj]</td>\n",
       "      <td>Los Mejores Tinkus</td>\n",
       "      <td>4xDelBtEq3aJCU8hU6gFLB</td>\n",
       "      <td>{'danceability': 0.675, 'energy': 0.477, 'key'...</td>\n",
       "      <td>[]</td>\n",
       "    </tr>\n",
       "    <tr>\n",
       "      <th>600</th>\n",
       "      <td>Arteria Ulnar</td>\n",
       "      <td>7kGsNBECFyCQ0fBJn2KB6o</td>\n",
       "      <td>[Té de Brujas]</td>\n",
       "      <td>[39BvzssARgDTZ1Kf0uqNfj]</td>\n",
       "      <td>Arteria Ulnar</td>\n",
       "      <td>5g5rgxGPlCnRTrYyf173fp</td>\n",
       "      <td>{'danceability': 0.497, 'energy': 0.651, 'key'...</td>\n",
       "      <td>[]</td>\n",
       "    </tr>\n",
       "    <tr>\n",
       "      <th>604</th>\n",
       "      <td>No Le Ganamos a Nadie</td>\n",
       "      <td>0F0I189uNvQBdgy1SFNOec</td>\n",
       "      <td>[Literal]</td>\n",
       "      <td>[0Ec1MqHP5MENR7rK3DtO3G]</td>\n",
       "      <td>No Le Ganamos a Nadie</td>\n",
       "      <td>43moEeCjsTjk6N25XRin0S</td>\n",
       "      <td>{'danceability': 0.568, 'energy': 0.938, 'key'...</td>\n",
       "      <td>[]</td>\n",
       "    </tr>\n",
       "    <tr>\n",
       "      <th>606</th>\n",
       "      <td>Contratiempos</td>\n",
       "      <td>50GbEo3clyzJRzuAjIFWdz</td>\n",
       "      <td>[Parientes]</td>\n",
       "      <td>[76lUSSvc6Z83CLrIVB7YrE]</td>\n",
       "      <td>Contratiempos</td>\n",
       "      <td>3F6da9yP7HMGwl88egAqZ5</td>\n",
       "      <td>{'danceability': 0.549, 'energy': 0.778, 'key'...</td>\n",
       "      <td>[]</td>\n",
       "    </tr>\n",
       "    <tr>\n",
       "      <th>613</th>\n",
       "      <td>Si Tú No Estas (Nashville)</td>\n",
       "      <td>3TCpMjVi4DVzbc5dXLpEeX</td>\n",
       "      <td>[Stokoff]</td>\n",
       "      <td>[03wfTeoZex93T5TPxWo3B9]</td>\n",
       "      <td>Si Tú No Estas (Nashville)</td>\n",
       "      <td>2fNd57gzWCMwsNVG0K5YQy</td>\n",
       "      <td>{'danceability': 0.545, 'energy': 0.652, 'key'...</td>\n",
       "      <td>[]</td>\n",
       "    </tr>\n",
       "    <tr>\n",
       "      <th>617</th>\n",
       "      <td>Una Nueva Realidad</td>\n",
       "      <td>3CQinOLvOg1vMvP9a060xV</td>\n",
       "      <td>[Scones de la Chola]</td>\n",
       "      <td>[1n0013t3w2RbIqSYarnPGS]</td>\n",
       "      <td>Una Nueva Realidad</td>\n",
       "      <td>6NCW2haZteRywEWZSzc7in</td>\n",
       "      <td>{'danceability': 0.536, 'energy': 0.571, 'key'...</td>\n",
       "      <td>[]</td>\n",
       "    </tr>\n",
       "    <tr>\n",
       "      <th>628</th>\n",
       "      <td>Dale!</td>\n",
       "      <td>48EI8HkseqMBYQw8yl4WL3</td>\n",
       "      <td>[La Extrema Vanguardia]</td>\n",
       "      <td>[3p1OOKD3Rs8JsT9I76mACt]</td>\n",
       "      <td>Epe</td>\n",
       "      <td>4Bgue5pbIMGEZ61SoULBMr</td>\n",
       "      <td>{'danceability': 0.464, 'energy': 0.864, 'key'...</td>\n",
       "      <td>[]</td>\n",
       "    </tr>\n",
       "    <tr>\n",
       "      <th>637</th>\n",
       "      <td>Si Me Dijeras</td>\n",
       "      <td>0NhFqADNG4OABBBEtxW0WM</td>\n",
       "      <td>[Vozenoff]</td>\n",
       "      <td>[0hASTHk8Lmdj2zAHvkfsfW]</td>\n",
       "      <td>Si Me Dijeras</td>\n",
       "      <td>6gyIUgOHK85AQswoDcLDDw</td>\n",
       "      <td>{'danceability': 0.534, 'energy': 0.747, 'key'...</td>\n",
       "      <td>[]</td>\n",
       "    </tr>\n",
       "    <tr>\n",
       "      <th>647</th>\n",
       "      <td>Y Si Te Espero</td>\n",
       "      <td>4tqOjVR7dxoyyZLm7VTOZX</td>\n",
       "      <td>[Literal]</td>\n",
       "      <td>[0Ec1MqHP5MENR7rK3DtO3G]</td>\n",
       "      <td>Y Si Te Espero</td>\n",
       "      <td>3ZSKfBDpZexCI4j9C3B6Vn</td>\n",
       "      <td>{'danceability': 0.623, 'energy': 0.828, 'key'...</td>\n",
       "      <td>[]</td>\n",
       "    </tr>\n",
       "    <tr>\n",
       "      <th>652</th>\n",
       "      <td>Dame Mas</td>\n",
       "      <td>6nRdDO9ckgePEHxmSFyXOW</td>\n",
       "      <td>[Gigio&amp;spiker, Leo Garcia]</td>\n",
       "      <td>[2wxDtL8blvAzPuZsXT6qdO, 1Y3icCYHo0ENrf75dm0PLO]</td>\n",
       "      <td>Dame Mas</td>\n",
       "      <td>0ASBToJj7yPEUyDss0rS50</td>\n",
       "      <td>{'danceability': 0.705, 'energy': 0.646, 'key'...</td>\n",
       "      <td>[]</td>\n",
       "    </tr>\n",
       "    <tr>\n",
       "      <th>663</th>\n",
       "      <td>Sino le contesto</td>\n",
       "      <td>2vWNMXzMAZ9M9mnUK9NS83</td>\n",
       "      <td>[El Retutu]</td>\n",
       "      <td>[3WSePpVeFAwNAI4vQc19rG]</td>\n",
       "      <td>El Retutu</td>\n",
       "      <td>6117u1NRVvucLcqV5TJ6l3</td>\n",
       "      <td>{'danceability': 0.78, 'energy': 0.905, 'key':...</td>\n",
       "      <td>[]</td>\n",
       "    </tr>\n",
       "  </tbody>\n",
       "</table>\n",
       "</div>"
      ],
      "text/plain": [
       "                      song_name                 song_id  \\\n",
       "48                   Cambalache  3PI0FE7JUmEmEyN5YgKPZA   \n",
       "478                 Sigue Feliz  1s0ndZpf2KeKEA08CsIFia   \n",
       "526                       Celia  1rzFbkSvxQv6r3PSGjn7Ub   \n",
       "600               Arteria Ulnar  7kGsNBECFyCQ0fBJn2KB6o   \n",
       "604       No Le Ganamos a Nadie  0F0I189uNvQBdgy1SFNOec   \n",
       "606               Contratiempos  50GbEo3clyzJRzuAjIFWdz   \n",
       "613  Si Tú No Estas (Nashville)  3TCpMjVi4DVzbc5dXLpEeX   \n",
       "617          Una Nueva Realidad  3CQinOLvOg1vMvP9a060xV   \n",
       "628                       Dale!  48EI8HkseqMBYQw8yl4WL3   \n",
       "637               Si Me Dijeras  0NhFqADNG4OABBBEtxW0WM   \n",
       "647              Y Si Te Espero  4tqOjVR7dxoyyZLm7VTOZX   \n",
       "652                    Dame Mas  6nRdDO9ckgePEHxmSFyXOW   \n",
       "663            Sino le contesto  2vWNMXzMAZ9M9mnUK9NS83   \n",
       "\n",
       "                        artists  \\\n",
       "48   [Enrique Santos Discépolo]   \n",
       "478         [Alonso y Bernardo]   \n",
       "526              [Incas de Oro]   \n",
       "600              [Té de Brujas]   \n",
       "604                   [Literal]   \n",
       "606                 [Parientes]   \n",
       "613                   [Stokoff]   \n",
       "617        [Scones de la Chola]   \n",
       "628     [La Extrema Vanguardia]   \n",
       "637                  [Vozenoff]   \n",
       "647                   [Literal]   \n",
       "652  [Gigio&spiker, Leo Garcia]   \n",
       "663                 [El Retutu]   \n",
       "\n",
       "                                           artists_id  \\\n",
       "48                           [0aPYs7yoiP2NtS5xNZXKjg]   \n",
       "478                          [5sskVxLnToHrnwTAICyVF5]   \n",
       "526                          [58wFXtpJxfvtigDaRWTNcj]   \n",
       "600                          [39BvzssARgDTZ1Kf0uqNfj]   \n",
       "604                          [0Ec1MqHP5MENR7rK3DtO3G]   \n",
       "606                          [76lUSSvc6Z83CLrIVB7YrE]   \n",
       "613                          [03wfTeoZex93T5TPxWo3B9]   \n",
       "617                          [1n0013t3w2RbIqSYarnPGS]   \n",
       "628                          [3p1OOKD3Rs8JsT9I76mACt]   \n",
       "637                          [0hASTHk8Lmdj2zAHvkfsfW]   \n",
       "647                          [0Ec1MqHP5MENR7rK3DtO3G]   \n",
       "652  [2wxDtL8blvAzPuZsXT6qdO, 1Y3icCYHo0ENrf75dm0PLO]   \n",
       "663                          [3WSePpVeFAwNAI4vQc19rG]   \n",
       "\n",
       "                                            album_name  \\\n",
       "48   Enrique Santos Discepolo \"El poeta del tango\" ...   \n",
       "478  Narcos, Vol. 2 (More Music from the Netflix Or...   \n",
       "526                                 Los Mejores Tinkus   \n",
       "600                                      Arteria Ulnar   \n",
       "604                              No Le Ganamos a Nadie   \n",
       "606                                      Contratiempos   \n",
       "613                         Si Tú No Estas (Nashville)   \n",
       "617                                 Una Nueva Realidad   \n",
       "628                                                Epe   \n",
       "637                                      Si Me Dijeras   \n",
       "647                                     Y Si Te Espero   \n",
       "652                                           Dame Mas   \n",
       "663                                          El Retutu   \n",
       "\n",
       "                   album_id  \\\n",
       "48   59tn7tvd1M5XNWwV3TaVWC   \n",
       "478  0EJRlYjvVcym9K4wrww9vB   \n",
       "526  4xDelBtEq3aJCU8hU6gFLB   \n",
       "600  5g5rgxGPlCnRTrYyf173fp   \n",
       "604  43moEeCjsTjk6N25XRin0S   \n",
       "606  3F6da9yP7HMGwl88egAqZ5   \n",
       "613  2fNd57gzWCMwsNVG0K5YQy   \n",
       "617  6NCW2haZteRywEWZSzc7in   \n",
       "628  4Bgue5pbIMGEZ61SoULBMr   \n",
       "637  6gyIUgOHK85AQswoDcLDDw   \n",
       "647  3ZSKfBDpZexCI4j9C3B6Vn   \n",
       "652  0ASBToJj7yPEUyDss0rS50   \n",
       "663  6117u1NRVvucLcqV5TJ6l3   \n",
       "\n",
       "                                        audio_features genres  \n",
       "48   {'danceability': 0.492, 'energy': 0.541, 'key'...     []  \n",
       "478  {'danceability': 0.672, 'energy': 0.625, 'key'...     []  \n",
       "526  {'danceability': 0.675, 'energy': 0.477, 'key'...     []  \n",
       "600  {'danceability': 0.497, 'energy': 0.651, 'key'...     []  \n",
       "604  {'danceability': 0.568, 'energy': 0.938, 'key'...     []  \n",
       "606  {'danceability': 0.549, 'energy': 0.778, 'key'...     []  \n",
       "613  {'danceability': 0.545, 'energy': 0.652, 'key'...     []  \n",
       "617  {'danceability': 0.536, 'energy': 0.571, 'key'...     []  \n",
       "628  {'danceability': 0.464, 'energy': 0.864, 'key'...     []  \n",
       "637  {'danceability': 0.534, 'energy': 0.747, 'key'...     []  \n",
       "647  {'danceability': 0.623, 'energy': 0.828, 'key'...     []  \n",
       "652  {'danceability': 0.705, 'energy': 0.646, 'key'...     []  \n",
       "663  {'danceability': 0.78, 'energy': 0.905, 'key':...     []  "
      ]
     },
     "execution_count": 13,
     "metadata": {},
     "output_type": "execute_result"
    }
   ],
   "source": [
    "songs_original_df[[x == [] for x in songs_original_df[\"genres\"]]]"
   ]
  },
  {
   "cell_type": "code",
   "execution_count": 14,
   "metadata": {},
   "outputs": [
    {
     "data": {
      "text/plain": [
       "song_name         13\n",
       "song_id           13\n",
       "artists           13\n",
       "artists_id        13\n",
       "album_name        13\n",
       "album_id          13\n",
       "audio_features    13\n",
       "genres            13\n",
       "dtype: int64"
      ]
     },
     "execution_count": 14,
     "metadata": {},
     "output_type": "execute_result"
    }
   ],
   "source": [
    "songs_original_df[[x == [] for x in songs_original_df[\"genres\"]]].count()"
   ]
  },
  {
   "cell_type": "markdown",
   "metadata": {},
   "source": [
    "These cells don't have a genre since Spotify hasn't assigned a genre to their corresponding artists. \n",
    "These edge cases will be corrected by hand trying to find the closest match by listening to each song and finding a similiar artist that has an assigned genre in Spotify, if that is possible."
   ]
  },
  {
   "cell_type": "code",
   "execution_count": 15,
   "metadata": {},
   "outputs": [
    {
     "data": {
      "text/plain": [
       "['cumbia villera']"
      ]
     },
     "execution_count": 15,
     "metadata": {},
     "output_type": "execute_result"
    }
   ],
   "source": [
    "sp.artist(\"4Apvih9OZt9ghebGFIVcXI\")\n",
    "get_genres([\"1AvkrI2S7knrbaZxydvc9B\"])"
   ]
  },
  {
   "cell_type": "code",
   "execution_count": 16,
   "metadata": {},
   "outputs": [
    {
     "data": {
      "text/html": [
       "<div>\n",
       "<style scoped>\n",
       "    .dataframe tbody tr th:only-of-type {\n",
       "        vertical-align: middle;\n",
       "    }\n",
       "\n",
       "    .dataframe tbody tr th {\n",
       "        vertical-align: top;\n",
       "    }\n",
       "\n",
       "    .dataframe thead th {\n",
       "        text-align: right;\n",
       "    }\n",
       "</style>\n",
       "<table border=\"1\" class=\"dataframe\">\n",
       "  <thead>\n",
       "    <tr style=\"text-align: right;\">\n",
       "      <th></th>\n",
       "      <th>song_name</th>\n",
       "      <th>song_id</th>\n",
       "      <th>artists</th>\n",
       "      <th>artists_id</th>\n",
       "      <th>album_name</th>\n",
       "      <th>album_id</th>\n",
       "      <th>audio_features</th>\n",
       "      <th>genres</th>\n",
       "    </tr>\n",
       "  </thead>\n",
       "  <tbody>\n",
       "  </tbody>\n",
       "</table>\n",
       "</div>"
      ],
      "text/plain": [
       "Empty DataFrame\n",
       "Columns: [song_name, song_id, artists, artists_id, album_name, album_id, audio_features, genres]\n",
       "Index: []"
      ]
     },
     "execution_count": 16,
     "metadata": {},
     "output_type": "execute_result"
    }
   ],
   "source": [
    "sanitized_df = songs_original_df.copy()\n",
    "sanitized_df.iloc[48][\"genres\"] = get_genres([\"7Cg2eqV6oHNE0P54WfajIX\"]) #like julio sosa\n",
    "sanitized_df.iloc[478][\"genres\"] = 'folklore'\n",
    "#sanitized_df.iloc[498][\"genres\"] = get_genres([\"4Apvih9OZt9ghebGFIVcXI\"]) #like los del suquia\n",
    "sanitized_df.iloc[526][\"genres\"] = get_genres([\"0iutktJLkNNtErs8c3EoF6\"]) #like los tekis\n",
    "sanitized_df.iloc[600][\"genres\"] = get_genres([\"7okwEbXzyT2VffBmyQBWLz\"]) #like maná\n",
    "sanitized_df.iloc[604][\"genres\"] = get_genres([\"3HrbmsYpKjWH1lzhad7alj\"]) #like los autenticos decadentes\n",
    "sanitized_df.iloc[606][\"genres\"] = get_genres([\"1vumST4jmwQla7lkbLKDUw\"]) #like foxley\n",
    "sanitized_df.iloc[613][\"genres\"] = get_genres([\"5f5Wlazt9jmI75fK5nPpd6\"]) #like 8 segundos\n",
    "sanitized_df.iloc[617][\"genres\"] = get_genres([\"0SnyKkoyBaB2fG8IJH4xmU\"]) #like los piojos\n",
    "sanitized_df.iloc[628][\"genres\"] = get_genres([\"0SnyKkoyBaB2fG8IJH4xmU\"]) #like los piojos\n",
    "sanitized_df.iloc[637][\"genres\"] = get_genres([\"2wjmZuSHtRx96Qxb8HiP2o\"]) #like los guasones\n",
    "sanitized_df.iloc[647][\"genres\"] = get_genres([\"0SnyKkoyBaB2fG8IJH4xmU\"]) #like los piojos\n",
    "sanitized_df.iloc[652][\"genres\"] = get_genres([\"54YdJC33Ztc1CNIuodmyUb\"]) #like leo garcia\n",
    "sanitized_df.iloc[663][\"genres\"] = get_genres([\"1AvkrI2S7knrbaZxydvc9B\"]) #like mala fama\n",
    "sanitized_df[[x == [] for x in sanitized_df[\"genres\"]]]"
   ]
  },
  {
   "cell_type": "code",
   "execution_count": 17,
   "metadata": {},
   "outputs": [
    {
     "data": {
      "text/plain": [
       "song_name         1190\n",
       "song_id           1190\n",
       "artists           1190\n",
       "artists_id        1190\n",
       "album_name        1190\n",
       "album_id          1190\n",
       "audio_features    1190\n",
       "genres            1190\n",
       "dtype: int64"
      ]
     },
     "execution_count": 17,
     "metadata": {},
     "output_type": "execute_result"
    }
   ],
   "source": [
    "sanitized_df.count()"
   ]
  },
  {
   "cell_type": "markdown",
   "metadata": {},
   "source": [
    "No nulls in any other column"
   ]
  },
  {
   "cell_type": "code",
   "execution_count": 18,
   "metadata": {},
   "outputs": [
    {
     "name": "stdout",
     "output_type": "stream",
     "text": [
      "No nulls in column  song_name\n",
      "No nulls in column  song_id\n",
      "No nulls in column  artists\n",
      "No nulls in column  artists_id\n",
      "No nulls in column  album_name\n",
      "No nulls in column  album_id\n",
      "No nulls in column  audio_features\n",
      "No nulls in column  genres\n"
     ]
    }
   ],
   "source": [
    "columns = sanitized_df.columns\n",
    "\n",
    "for column in columns:\n",
    "    if sanitized_df[[x == [] for x in sanitized_df[column]]].empty:\n",
    "        print(\"No nulls in column \", column)\n",
    "    else:\n",
    "        print(\">>>>>>> Found nulls in column\", column)"
   ]
  },
  {
   "cell_type": "markdown",
   "metadata": {},
   "source": [
    "Let's remove possible duplicated songs"
   ]
  },
  {
   "cell_type": "code",
   "execution_count": 19,
   "metadata": {},
   "outputs": [
    {
     "data": {
      "text/plain": [
       "20"
      ]
     },
     "execution_count": 19,
     "metadata": {},
     "output_type": "execute_result"
    }
   ],
   "source": [
    "#duplicated_songs = songs_original_df[songs_original_df[\"song_id\"].duplicated(keep='last')]\n",
    "#duplicated_songs\n",
    "sanitized_df[sanitized_df.duplicated(subset=[\"song_id\"])==True].count()[0]\n",
    "#songs_original_df.duplicated(subset=[\"song_id\"],keep='first').any()\n",
    "#songs_original_df[songs_original_df[\"song_id\"]==\"2TNV1bPTWhKTRTVAghIszh\"]"
   ]
  },
  {
   "cell_type": "markdown",
   "metadata": {},
   "source": [
    "We find two duplicated tracks of the same song_id in the dataset.\n",
    "Let's remove them"
   ]
  },
  {
   "cell_type": "code",
   "execution_count": 20,
   "metadata": {},
   "outputs": [
    {
     "name": "stdout",
     "output_type": "stream",
     "text": [
      "no duplicated records found in 1170 records\n"
     ]
    }
   ],
   "source": [
    "songs_df = sanitized_df[sanitized_df[\"song_id\"].duplicated(keep='last') != True]\n",
    "if not songs_df.duplicated(subset=[\"song_id\"]).any():\n",
    "    print(f\"no duplicated records found in {len(songs_df)} records\")"
   ]
  },
  {
   "cell_type": "markdown",
   "metadata": {},
   "source": [
    "Let's make a backup file to not have to run all that code again"
   ]
  },
  {
   "cell_type": "code",
   "execution_count": 22,
   "metadata": {},
   "outputs": [],
   "source": [
    "songs_df.to_csv(\"/home/kunan/Documentos/famaf/diplodatos/mentoria-canciones-DiploDatos/songs_df.csv\")"
   ]
  },
  {
   "cell_type": "code",
   "execution_count": 23,
   "metadata": {},
   "outputs": [
    {
     "data": {
      "text/html": [
       "<div>\n",
       "<style scoped>\n",
       "    .dataframe tbody tr th:only-of-type {\n",
       "        vertical-align: middle;\n",
       "    }\n",
       "\n",
       "    .dataframe tbody tr th {\n",
       "        vertical-align: top;\n",
       "    }\n",
       "\n",
       "    .dataframe thead th {\n",
       "        text-align: right;\n",
       "    }\n",
       "</style>\n",
       "<table border=\"1\" class=\"dataframe\">\n",
       "  <thead>\n",
       "    <tr style=\"text-align: right;\">\n",
       "      <th></th>\n",
       "      <th>danceability</th>\n",
       "      <th>energy</th>\n",
       "      <th>key</th>\n",
       "      <th>loudness</th>\n",
       "      <th>mode</th>\n",
       "      <th>speechiness</th>\n",
       "      <th>acousticness</th>\n",
       "      <th>instrumentalness</th>\n",
       "      <th>liveness</th>\n",
       "      <th>valence</th>\n",
       "      <th>tempo</th>\n",
       "      <th>duration_ms</th>\n",
       "      <th>time_signature</th>\n",
       "    </tr>\n",
       "  </thead>\n",
       "  <tbody>\n",
       "    <tr>\n",
       "      <th>count</th>\n",
       "      <td>1190.000000</td>\n",
       "      <td>1190.000000</td>\n",
       "      <td>1190.000000</td>\n",
       "      <td>1190.000000</td>\n",
       "      <td>1190.000000</td>\n",
       "      <td>1190.000000</td>\n",
       "      <td>1190.000000</td>\n",
       "      <td>1190.000000</td>\n",
       "      <td>1190.000000</td>\n",
       "      <td>1190.000000</td>\n",
       "      <td>1190.000000</td>\n",
       "      <td>1.190000e+03</td>\n",
       "      <td>1190.000000</td>\n",
       "    </tr>\n",
       "    <tr>\n",
       "      <th>mean</th>\n",
       "      <td>0.584804</td>\n",
       "      <td>0.718866</td>\n",
       "      <td>5.342017</td>\n",
       "      <td>-6.442758</td>\n",
       "      <td>0.608403</td>\n",
       "      <td>0.069282</td>\n",
       "      <td>0.221394</td>\n",
       "      <td>0.019798</td>\n",
       "      <td>0.245614</td>\n",
       "      <td>0.603148</td>\n",
       "      <td>124.777358</td>\n",
       "      <td>2.366157e+05</td>\n",
       "      <td>3.942857</td>\n",
       "    </tr>\n",
       "    <tr>\n",
       "      <th>std</th>\n",
       "      <td>0.152737</td>\n",
       "      <td>0.182243</td>\n",
       "      <td>3.515890</td>\n",
       "      <td>2.779049</td>\n",
       "      <td>0.488312</td>\n",
       "      <td>0.066547</td>\n",
       "      <td>0.233478</td>\n",
       "      <td>0.104262</td>\n",
       "      <td>0.235393</td>\n",
       "      <td>0.228425</td>\n",
       "      <td>30.077972</td>\n",
       "      <td>7.093069e+04</td>\n",
       "      <td>0.301544</td>\n",
       "    </tr>\n",
       "    <tr>\n",
       "      <th>min</th>\n",
       "      <td>0.148000</td>\n",
       "      <td>0.108000</td>\n",
       "      <td>0.000000</td>\n",
       "      <td>-19.575000</td>\n",
       "      <td>0.000000</td>\n",
       "      <td>0.022600</td>\n",
       "      <td>0.000002</td>\n",
       "      <td>0.000000</td>\n",
       "      <td>0.027700</td>\n",
       "      <td>0.037700</td>\n",
       "      <td>62.850000</td>\n",
       "      <td>3.893300e+04</td>\n",
       "      <td>1.000000</td>\n",
       "    </tr>\n",
       "    <tr>\n",
       "      <th>25%</th>\n",
       "      <td>0.488000</td>\n",
       "      <td>0.604000</td>\n",
       "      <td>2.000000</td>\n",
       "      <td>-7.734000</td>\n",
       "      <td>0.000000</td>\n",
       "      <td>0.032500</td>\n",
       "      <td>0.034200</td>\n",
       "      <td>0.000000</td>\n",
       "      <td>0.096700</td>\n",
       "      <td>0.421250</td>\n",
       "      <td>97.100500</td>\n",
       "      <td>1.986605e+05</td>\n",
       "      <td>4.000000</td>\n",
       "    </tr>\n",
       "    <tr>\n",
       "      <th>50%</th>\n",
       "      <td>0.602000</td>\n",
       "      <td>0.750500</td>\n",
       "      <td>6.000000</td>\n",
       "      <td>-6.035500</td>\n",
       "      <td>1.000000</td>\n",
       "      <td>0.043600</td>\n",
       "      <td>0.137000</td>\n",
       "      <td>0.000002</td>\n",
       "      <td>0.142000</td>\n",
       "      <td>0.620500</td>\n",
       "      <td>125.002500</td>\n",
       "      <td>2.285465e+05</td>\n",
       "      <td>4.000000</td>\n",
       "    </tr>\n",
       "    <tr>\n",
       "      <th>75%</th>\n",
       "      <td>0.696000</td>\n",
       "      <td>0.865750</td>\n",
       "      <td>9.000000</td>\n",
       "      <td>-4.541500</td>\n",
       "      <td>1.000000</td>\n",
       "      <td>0.074875</td>\n",
       "      <td>0.341000</td>\n",
       "      <td>0.000224</td>\n",
       "      <td>0.307750</td>\n",
       "      <td>0.793500</td>\n",
       "      <td>147.322250</td>\n",
       "      <td>2.637068e+05</td>\n",
       "      <td>4.000000</td>\n",
       "    </tr>\n",
       "    <tr>\n",
       "      <th>max</th>\n",
       "      <td>0.945000</td>\n",
       "      <td>0.995000</td>\n",
       "      <td>11.000000</td>\n",
       "      <td>-0.767000</td>\n",
       "      <td>1.000000</td>\n",
       "      <td>0.514000</td>\n",
       "      <td>0.982000</td>\n",
       "      <td>0.944000</td>\n",
       "      <td>0.991000</td>\n",
       "      <td>0.976000</td>\n",
       "      <td>204.498000</td>\n",
       "      <td>1.129160e+06</td>\n",
       "      <td>5.000000</td>\n",
       "    </tr>\n",
       "  </tbody>\n",
       "</table>\n",
       "</div>"
      ],
      "text/plain": [
       "       danceability       energy          key     loudness         mode  \\\n",
       "count   1190.000000  1190.000000  1190.000000  1190.000000  1190.000000   \n",
       "mean       0.584804     0.718866     5.342017    -6.442758     0.608403   \n",
       "std        0.152737     0.182243     3.515890     2.779049     0.488312   \n",
       "min        0.148000     0.108000     0.000000   -19.575000     0.000000   \n",
       "25%        0.488000     0.604000     2.000000    -7.734000     0.000000   \n",
       "50%        0.602000     0.750500     6.000000    -6.035500     1.000000   \n",
       "75%        0.696000     0.865750     9.000000    -4.541500     1.000000   \n",
       "max        0.945000     0.995000    11.000000    -0.767000     1.000000   \n",
       "\n",
       "       speechiness  acousticness  instrumentalness     liveness      valence  \\\n",
       "count  1190.000000   1190.000000       1190.000000  1190.000000  1190.000000   \n",
       "mean      0.069282      0.221394          0.019798     0.245614     0.603148   \n",
       "std       0.066547      0.233478          0.104262     0.235393     0.228425   \n",
       "min       0.022600      0.000002          0.000000     0.027700     0.037700   \n",
       "25%       0.032500      0.034200          0.000000     0.096700     0.421250   \n",
       "50%       0.043600      0.137000          0.000002     0.142000     0.620500   \n",
       "75%       0.074875      0.341000          0.000224     0.307750     0.793500   \n",
       "max       0.514000      0.982000          0.944000     0.991000     0.976000   \n",
       "\n",
       "             tempo   duration_ms  time_signature  \n",
       "count  1190.000000  1.190000e+03     1190.000000  \n",
       "mean    124.777358  2.366157e+05        3.942857  \n",
       "std      30.077972  7.093069e+04        0.301544  \n",
       "min      62.850000  3.893300e+04        1.000000  \n",
       "25%      97.100500  1.986605e+05        4.000000  \n",
       "50%     125.002500  2.285465e+05        4.000000  \n",
       "75%     147.322250  2.637068e+05        4.000000  \n",
       "max     204.498000  1.129160e+06        5.000000  "
      ]
     },
     "execution_count": 23,
     "metadata": {},
     "output_type": "execute_result"
    }
   ],
   "source": [
    "audio_features_base = pd.DataFrame(list(songs_original_df[\"audio_features\"].values))\n",
    "audio_features_description = audio_features_base.describe()\n",
    "audio_features_description"
   ]
  },
  {
   "cell_type": "markdown",
   "metadata": {},
   "source": [
    "Preeliminary analysis of the dataset"
   ]
  },
  {
   "cell_type": "code",
   "execution_count": 24,
   "metadata": {},
   "outputs": [
    {
     "data": {
      "text/plain": [
       "[{'danceability': 'Salud y Vida'},\n",
       " {'energy': 'Boom Boom'},\n",
       " {'key': 'Robo un Auto'},\n",
       " {'loudness': 'Quién Se Tomó Todo el Vino - En Vivo'},\n",
       " {'mode': 'Sin Rumbo'},\n",
       " {'speechiness': \"Pa'l Norte (feat. Orishas)\"},\n",
       " {'acousticness': 'Que Cruz La Que Lleva El Viento'},\n",
       " {'instrumentalness': 'Caballo negro'},\n",
       " {'liveness': 'Amor de mañana'},\n",
       " {'valence': 'Rock del Gato'},\n",
       " {'tempo': 'Como Vas a Hacer'},\n",
       " {'duration_ms': 'Popurrí - En Vivo'},\n",
       " {'time_signature': 'Desafío'}]"
      ]
     },
     "execution_count": 24,
     "metadata": {},
     "output_type": "execute_result"
    }
   ],
   "source": [
    "#more aux functions\n",
    "def track_by_feature(feature, value):\n",
    "    track_id = audio_features_base[audio_features_base[feature]==value]['id']\n",
    "    track_id = track_id.values.item(0)\n",
    "    return songs_original_df[songs_original_df['song_id']== track_id]\n",
    "#example use: \n",
    "#print(track_by_feature(\"valence\",0.039100))\n",
    "#track_by_feature(\"speechiness\",0.492000)\n",
    "\n",
    "def songs_of_description(statistic):\n",
    "    row = audio_features_description.loc[statistic]\n",
    "    keys = row.keys()\n",
    "    tracks_of_row = []\n",
    "    for key in keys:\n",
    "        track = track_by_feature(key,row[key]).to_dict()['song_name']\n",
    "        track = list(track.values())[0]\n",
    "        tracks_of_row.append({key: track})\n",
    "    return tracks_of_row\n",
    "#example use\n",
    "#songs_of_description(\"min\")\n",
    "\n",
    "songs_of_description(\"max\")"
   ]
  },
  {
   "cell_type": "code",
   "execution_count": 25,
   "metadata": {},
   "outputs": [
    {
     "data": {
      "text/plain": [
       "[{'danceability': 'Piel'},\n",
       " {'energy': 'Te Quiero, Te Espero'},\n",
       " {'key': 'El Pibe Tigre'},\n",
       " {'loudness': 'Outropía'},\n",
       " {'mode': 'Desafío'},\n",
       " {'speechiness': 'No Tengo'},\n",
       " {'acousticness': 'Porque Hoy Nací'},\n",
       " {'instrumentalness': 'Anoche'},\n",
       " {'liveness': 'Armas Gemelas'},\n",
       " {'valence': 'Piel'},\n",
       " {'tempo': 'Moraleja'},\n",
       " {'duration_ms': 'Luli'},\n",
       " {'time_signature': 'El Enrosque'}]"
      ]
     },
     "execution_count": 25,
     "metadata": {},
     "output_type": "execute_result"
    }
   ],
   "source": [
    "songs_of_description(\"min\")"
   ]
  },
  {
   "cell_type": "markdown",
   "metadata": {},
   "source": [
    "## Lyrics"
   ]
  },
  {
   "cell_type": "code",
   "execution_count": 26,
   "metadata": {},
   "outputs": [
    {
     "data": {
      "text/plain": [
       "song_name         1170\n",
       "song_id           1170\n",
       "artists           1170\n",
       "artists_id        1170\n",
       "album_name        1170\n",
       "album_id          1170\n",
       "audio_features    1170\n",
       "genres            1170\n",
       "dtype: int64"
      ]
     },
     "execution_count": 26,
     "metadata": {},
     "output_type": "execute_result"
    }
   ],
   "source": [
    "songs_df.count()"
   ]
  },
  {
   "cell_type": "code",
   "execution_count": 68,
   "metadata": {},
   "outputs": [
    {
     "name": "stderr",
     "output_type": "stream",
     "text": [
      "Downloading https://raw.githubusercontent.com/stanfordnlp/stanza-resources/master/resources_1.1.0.json: 122kB [00:00, 7.45MB/s]                    \n",
      "2020-09-08 22:43:54 INFO: Downloading default packages for language: es (Spanish)...\n",
      "Downloading http://nlp.stanford.edu/software/stanza/1.1.0/es/default.zip: 100%|██████████| 583M/583M [09:43<00:00, 999kB/s]    \n",
      "2020-09-08 22:53:51 INFO: Finished downloading models and saved to /home/kunan/stanza_resources.\n"
     ]
    }
   ],
   "source": [
    "stanza.download('es')"
   ]
  },
  {
   "cell_type": "code",
   "execution_count": null,
   "metadata": {},
   "outputs": [],
   "source": [
    "nlp = stanza.Pipeline(lang='es', processors='tokenize,sentiment')\n",
    "doc = nlp('I hate that they banned Mox Opal')\n",
    "for i, sentence in enumerate(doc.sentences):\n",
    "    print(i, sentence.sentiment)"
   ]
  },
  {
   "cell_type": "markdown",
   "metadata": {},
   "source": [
    "analisis previo:\n",
    "distribución de los géneros en el dataset."
   ]
  },
  {
   "cell_type": "code",
   "execution_count": 71,
   "metadata": {},
   "outputs": [],
   "source": [
    "# aux methods\n",
    "\n",
    "def song_url_for_request(artist, song_title):\n",
    "    return \"https://api.lyrics.ovh/v1/\" + artist + '/' + song_title #str\n",
    "    # example use:\n",
    "    # requests.get(song_url_for_request(\"Death Grips\", \"Hacker\"))\n",
    "    \n",
    "\n",
    "def lemmafy(doc):\n",
    "    lemmas = []\n",
    "    for token in doc:\n",
    "        if not token.is_stop and token.is_alpha:\n",
    "             lemmas.append(token.lemma_)\n",
    "    return lemmas\n",
    "\n",
    "def add_lyrics_to_data(all_songs):\n",
    "    without_lyrics = 0\n",
    "    for song in tqdm.tqdm(all_songs):\n",
    "        try:\n",
    "            response = requests.get(song_url_for_request(song[\"artists\"][0],song[\"song_name\"])).json()\n",
    "            json_data = response #json.loads(response.content)\n",
    "            lyrics_raw = json_data[\"lyrics\"]\n",
    "            doc = nlp(lyrics_raw)\n",
    "            #lemmed = lemmafy(doc)\n",
    "            song[\"lyrics\"]=[word.lower() for word in lyrics_raw] #may fail\n",
    "        except: #found a song without lyrics!\n",
    "            without_lyrics +=1\n",
    "            #print(song[\"song_name\"]+ \">>>No lyrics\")\n",
    "            song[\"lyrics\"]=None\n",
    "    print(f\"There are {without_lyrics} songs without lyrics\")\n",
    "    return all_songs"
   ]
  },
  {
   "cell_type": "code",
   "execution_count": 72,
   "metadata": {},
   "outputs": [
    {
     "name": "stderr",
     "output_type": "stream",
     "text": [
      "100%|██████████| 1170/1170 [27:03<00:00,  1.39s/it]"
     ]
    },
    {
     "name": "stdout",
     "output_type": "stream",
     "text": [
      "There are 377 songs without lyrics\n"
     ]
    },
    {
     "name": "stderr",
     "output_type": "stream",
     "text": [
      "\n"
     ]
    }
   ],
   "source": [
    "all_songs = songs_df.copy()\n",
    "all_songs = all_songs.T.to_dict().values()\n",
    "all_songs = add_lyrics_to_data(all_songs)"
   ]
  },
  {
   "cell_type": "code",
   "execution_count": 73,
   "metadata": {},
   "outputs": [
    {
     "name": "stdout",
     "output_type": "stream",
     "text": [
      "Before sanitization 1170\n"
     ]
    }
   ],
   "source": [
    "songs_base = pd.DataFrame(all_songs)\n",
    "print(f\"Before sanitization {len(all_songs)}\")\n"
   ]
  },
  {
   "cell_type": "code",
   "execution_count": 74,
   "metadata": {},
   "outputs": [
    {
     "name": "stdout",
     "output_type": "stream",
     "text": [
      "After sanitization 793\n"
     ]
    }
   ],
   "source": [
    "# sanitize\n",
    "bool_series = pd.notnull(songs_base[\"lyrics\"])\n",
    "songs_base = songs_base[bool_series]\n",
    "print(f\"After sanitization {len(songs_base)}\")\n"
   ]
  },
  {
   "cell_type": "code",
   "execution_count": 75,
   "metadata": {},
   "outputs": [
    {
     "data": {
      "text/html": [
       "<div>\n",
       "<style scoped>\n",
       "    .dataframe tbody tr th:only-of-type {\n",
       "        vertical-align: middle;\n",
       "    }\n",
       "\n",
       "    .dataframe tbody tr th {\n",
       "        vertical-align: top;\n",
       "    }\n",
       "\n",
       "    .dataframe thead th {\n",
       "        text-align: right;\n",
       "    }\n",
       "</style>\n",
       "<table border=\"1\" class=\"dataframe\">\n",
       "  <thead>\n",
       "    <tr style=\"text-align: right;\">\n",
       "      <th></th>\n",
       "      <th>album_id</th>\n",
       "      <th>album_name</th>\n",
       "      <th>artists</th>\n",
       "      <th>artists_id</th>\n",
       "      <th>audio_features</th>\n",
       "      <th>genres</th>\n",
       "      <th>lyrics</th>\n",
       "      <th>song_id</th>\n",
       "      <th>song_name</th>\n",
       "    </tr>\n",
       "  </thead>\n",
       "  <tbody>\n",
       "    <tr>\n",
       "      <th>591</th>\n",
       "      <td>3Pr88tREtqKF9srgl21jGT</td>\n",
       "      <td>Presión</td>\n",
       "      <td>[Callejeros]</td>\n",
       "      <td>[2osoVujXgV0PA8lhqDKYFw]</td>\n",
       "      <td>{'danceability': 0.411, 'energy': 0.974, 'key'...</td>\n",
       "      <td>[argentine rock, cumbia pop, cumbia villera, l...</td>\n",
       "      <td>[jugar, jugar, imaginar, gente, mierda, morir,...</td>\n",
       "      <td>5Vrw8Br1PSD8OcjblU5BEV</td>\n",
       "      <td>Imposible</td>\n",
       "    </tr>\n",
       "    <tr>\n",
       "      <th>733</th>\n",
       "      <td>6hmHpM6GIfKiaDWxzyh1J8</td>\n",
       "      <td>Volver A Nacer</td>\n",
       "      <td>[Chayanne]</td>\n",
       "      <td>[1JbemQ1fPt2YmSLjAFhPBv]</td>\n",
       "      <td>{'danceability': 0.726, 'energy': 0.992, 'key'...</td>\n",
       "      <td>[latin, latin pop, puerto rican pop, tropical]</td>\n",
       "      <td>[baila, bailar, moreno, mover, cintura, baila,...</td>\n",
       "      <td>5IgpCARxKnZlE9AE7bFwAT</td>\n",
       "      <td>Baila Baila</td>\n",
       "    </tr>\n",
       "    <tr>\n",
       "      <th>461</th>\n",
       "      <td>5aiz5TGgMyaJDnjbM8zpqR</td>\n",
       "      <td>Intérpretes</td>\n",
       "      <td>[Hermetica]</td>\n",
       "      <td>[6j6Ld5h0aFgH0VQWQNazS7]</td>\n",
       "      <td>{'danceability': 0.245, 'energy': 0.845, 'key'...</td>\n",
       "      <td>[argentine heavy metal, argentine metal, argen...</td>\n",
       "      <td>[muerte, esquivando, patrullar, noche, enfermo...</td>\n",
       "      <td>3ACU4Frw3Ditx6gPKRfiMw</td>\n",
       "      <td>Cráneo Candente</td>\n",
       "    </tr>\n",
       "  </tbody>\n",
       "</table>\n",
       "</div>"
      ],
      "text/plain": [
       "                   album_id      album_name       artists  \\\n",
       "591  3Pr88tREtqKF9srgl21jGT         Presión  [Callejeros]   \n",
       "733  6hmHpM6GIfKiaDWxzyh1J8  Volver A Nacer    [Chayanne]   \n",
       "461  5aiz5TGgMyaJDnjbM8zpqR     Intérpretes   [Hermetica]   \n",
       "\n",
       "                   artists_id  \\\n",
       "591  [2osoVujXgV0PA8lhqDKYFw]   \n",
       "733  [1JbemQ1fPt2YmSLjAFhPBv]   \n",
       "461  [6j6Ld5h0aFgH0VQWQNazS7]   \n",
       "\n",
       "                                        audio_features  \\\n",
       "591  {'danceability': 0.411, 'energy': 0.974, 'key'...   \n",
       "733  {'danceability': 0.726, 'energy': 0.992, 'key'...   \n",
       "461  {'danceability': 0.245, 'energy': 0.845, 'key'...   \n",
       "\n",
       "                                                genres  \\\n",
       "591  [argentine rock, cumbia pop, cumbia villera, l...   \n",
       "733     [latin, latin pop, puerto rican pop, tropical]   \n",
       "461  [argentine heavy metal, argentine metal, argen...   \n",
       "\n",
       "                                                lyrics  \\\n",
       "591  [jugar, jugar, imaginar, gente, mierda, morir,...   \n",
       "733  [baila, bailar, moreno, mover, cintura, baila,...   \n",
       "461  [muerte, esquivando, patrullar, noche, enfermo...   \n",
       "\n",
       "                    song_id        song_name  \n",
       "591  5Vrw8Br1PSD8OcjblU5BEV        Imposible  \n",
       "733  5IgpCARxKnZlE9AE7bFwAT      Baila Baila  \n",
       "461  3ACU4Frw3Ditx6gPKRfiMw  Cráneo Candente  "
      ]
     },
     "execution_count": 75,
     "metadata": {},
     "output_type": "execute_result"
    }
   ],
   "source": [
    "songs_base.sample(3)"
   ]
  },
  {
   "cell_type": "markdown",
   "metadata": {},
   "source": [
    "#### Notas del profe\n",
    "\n",
    "Primero, la letra en sí no se usa, igual que el nombre de la canción. Los n gramas tampoco.\n",
    "\n",
    "Lo que sí se puede usar son datos obtenidos en base al texto de las canciones, el ejemplo por excelencia es hacer sentiment analysis\n",
    "\n",
    "Ver\n",
    "https://elitedatascience.com/python-nlp-libraries\n"
   ]
  },
  {
   "cell_type": "markdown",
   "metadata": {},
   "source": [
    "### 2) Elegir tres modelos de clasificadores multiclase\n",
    "\n",
    "Aquí escogeremos tres modelos diferentes y luego compararemos su rendimiento para esta tarea. El procedimiento será el siguiente:\n",
    "- Inicializar los modelos\n",
    "- Entrenarlos usando el split **train** de los datos\n",
    "\n",
    "**Recomendación:**\n",
    "- Prestar atención a la [documentación de sklearn](https://scikit-learn.org/stable/)"
   ]
  },
  {
   "cell_type": "code",
   "execution_count": null,
   "metadata": {},
   "outputs": [],
   "source": []
  },
  {
   "cell_type": "markdown",
   "metadata": {},
   "source": [
    "### 3) Informe: Comparar el rendimiento de los modelos\n",
    "\n",
    "Una vez entrenados los tres modelos, compararemos su rendimiento:\n",
    "- Correr los modelos usando el split **test**\n",
    "- Obtener el reporte de clasificación y la matriz de confusión para cada modelo\n",
    "- Graficar llevando a 2 dimensiones nuestro split **test** pintando con colores diferentes según la etiqueta correspondiente.\n",
    "- Graficar de manera similar los resultados obtenidos con cada clasificador y sobre esto la función de clasificación obtenida.\n",
    "- Guardar los modelos usando **pickle**\n",
    "- Discutir los resultados obtenidos\n",
    "\n",
    "**Recomendación:**\n",
    "- Prestar atención a la [documentación de sklearn](https://scikit-learn.org/stable/)"
   ]
  },
  {
   "cell_type": "code",
   "execution_count": null,
   "metadata": {},
   "outputs": [],
   "source": []
  },
  {
   "cell_type": "markdown",
   "metadata": {},
   "source": [
    "### 4) Tareas adicionales:\n",
    "\n",
    "Estas tareas servirán para extrapolar un poco el trabajo básico, y también sumarán puntos extra. Deben elegir una o más de las siguientes:\n",
    "-  Análisis sobre el balance de clases del dataset, balanceo usando **subsampling** u **oversampling** y comparación de resultados vs el modelo básico\n",
    "- Optimización de hiperparámetros y comparación de resultados vs el modelo básico\n",
    "- Graficar importancia de features\n",
    "- Graficar correlación de features\n",
    "\n",
    "**Recomendación:**\n",
    "- Hacer varias ahora puede ahorrarles tiempo en el futuro"
   ]
  },
  {
   "cell_type": "code",
   "execution_count": 37,
   "metadata": {},
   "outputs": [
    {
     "data": {
      "text/plain": [
       "['cumbia andina mexicana', 'folclore jujeno', 'folklore argentino']"
      ]
     },
     "execution_count": 37,
     "metadata": {},
     "output_type": "execute_result"
    }
   ],
   "source": [
    "#problemas de spotify's genres\n",
    "get_genres([\"0iutktJLkNNtErs8c3EoF6\"])"
   ]
  }
 ],
 "metadata": {
  "kernelspec": {
   "display_name": "Python 3",
   "language": "python",
   "name": "python3"
  },
  "language_info": {
   "codemirror_mode": {
    "name": "ipython",
    "version": 3
   },
   "file_extension": ".py",
   "mimetype": "text/x-python",
   "name": "python",
   "nbconvert_exporter": "python",
   "pygments_lexer": "ipython3",
   "version": "3.6.9"
  }
 },
 "nbformat": 4,
 "nbformat_minor": 2
}
