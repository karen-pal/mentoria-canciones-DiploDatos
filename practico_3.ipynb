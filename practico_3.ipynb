{
 "cells": [
  {
   "cell_type": "markdown",
   "metadata": {},
   "source": [
    "# Mentoría 'de cómo clasificar en géneros a las canciones'\n",
    "## Práctico III : Introducción al aprendizaje automático"
   ]
  },
  {
   "cell_type": "markdown",
   "metadata": {},
   "source": [
    "**Antes de empezar:**\n",
    "- [Instalar spaCy y el modelo de lenguaje con el que van a trabajar](https://spacy.io/models#quickstart)\n",
    "\n",
    "**Consideraciones:**\n",
    "- Se evalúa el estilo y prolijidad del código.\n",
    "- Se permite hacer trabajo extra, siempre y cuando las actividades básicas estén resueltas.\n",
    "\n",
    "**Recomendación:**\n",
    "- Hay muchos ejemplos de código en internet, no se sientan obligados a implementar todo desde cero."
   ]
  },
  {
   "cell_type": "markdown",
   "metadata": {},
   "source": [
    "### Librerías"
   ]
  },
  {
   "cell_type": "code",
   "execution_count": null,
   "metadata": {},
   "outputs": [],
   "source": [
    "!pip3 install spotipy\n",
    "!pip3 install pandas\n",
    "!pip3 install spacy\n",
    "!pip3 install pymusixmatch\n",
    "!pip3 install nltk\n",
    "!pip3 install sklearn\n",
    "\n",
    "# Agregar las librerías extra que se utilicen en esta celda y la siguiente"
   ]
  },
  {
   "cell_type": "markdown",
   "metadata": {},
   "source": [
    "### Dependencias y acceso a APIs"
   ]
  },
  {
   "cell_type": "code",
   "execution_count": 1,
   "metadata": {},
   "outputs": [],
   "source": [
    "import pandas as pd\n",
    "import numpy as np\n",
    "import spotipy\n",
    "import spacy\n",
    "from spotipy.oauth2 import SpotifyClientCredentials\n",
    "from musixmatch import Musixmatch\n",
    "import seaborn as sns\n",
    "import tqdm\n",
    "import plotly.express as px\n",
    "import plotly.graph_objects as go\n",
    "\n",
    "client_id = '46b333d567314a89a6254b6c6b054be6'\n",
    "client_secret = '9d922c3613e441518349dcf55f7d5853'\n",
    "client_credentials_manager = SpotifyClientCredentials(client_id=client_id, client_secret=client_secret)\n",
    "\n",
    "# es = es_core_web_sm\n",
    "nlp = spacy.load(\"es\") # completar con el modelo que van a utilizar\n",
    "\n",
    "sp = spotipy.Spotify(client_credentials_manager=client_credentials_manager)\n",
    "musixmatch = Musixmatch('1aa5272f4402bf2f082ad2f3958c2c62') # se puede reemplazar por otra API si da mejores resultados"
   ]
  },
  {
   "cell_type": "code",
   "execution_count": 2,
   "metadata": {},
   "outputs": [],
   "source": [
    "sns.set_context(context='paper')"
   ]
  },
  {
   "cell_type": "markdown",
   "metadata": {},
   "source": [
    "### 1) Recopilar los datos obtenidos en los prácticos anteriores\n",
    "\n",
    "Para esta parte consideraremos [la playlist colaborativa de la mentoría](https://open.spotify.com/playlist/2IuD0qZb14cji5y52crdsO?si=nfHRPDquQRyotEcXc4tG7Q), de esta obtendremos:\n",
    "- Las features del audio de las canciones\n",
    "- Las features textuales de sus letras\n",
    "\n",
    "Además es necesario aplicar el mismo preprocesamiento que aplicamos en los prácticos anteriores para ambos tipos de features (el preprocesamiento del p1 a las features de audio y el de p2 al de features textuales) y obtener el género de cada canción, que en caso de ser más de uno para una canción el equipo deberá discutir una estrategia para estos casos y comentarla en el informe.\n",
    "\n",
    "Luego, se separará al dataset resultante en **X** e **y**, donde:\n",
    "- X es el conjunto de features\n",
    "- y es la etiqueta, en este caso el género de la canción, que deberá ser codificado en valores del tipo **int**\n",
    "\n",
    "Por último, se dividirá a estos dos conjuntos en los splits **train** y **test**\n",
    "\n",
    "**Recomendaciones:**\n",
    "- Obtener las features por separado y hacer un join de los datasets.\n",
    "- Prestar atención a la [documentación de sklearn](https://scikit-learn.org/stable/)\n",
    "- Si usan features categóricas, ENCODEARLAS!"
   ]
  },
  {
   "cell_type": "markdown",
   "metadata": {},
   "source": [
    "# Dataset"
   ]
  },
  {
   "cell_type": "markdown",
   "metadata": {},
   "source": [
    "## Music Features"
   ]
  },
  {
   "cell_type": "code",
   "execution_count": 3,
   "metadata": {},
   "outputs": [],
   "source": [
    "#Aux funcs\n",
    "def genres_by_artist_id(id): #id: str\n",
    "    artist = sp.artist(id)\n",
    "    genres = artist['genres']\n",
    "    return genres    #genres: List[str]\n",
    "\n",
    "def songs_from_album_id(album_id):\n",
    "    songs = []\n",
    "    album = sp.album(album_id)\n",
    "    artist = album['artists'][0]['name']\n",
    "    for item in album['tracks']['items']:\n",
    "        track = {}\n",
    "        track[\"song_name\"] = item['name']\n",
    "        track[\"song_id\"] = item['id']\n",
    "        track[\"album_name\"] = album['name']\n",
    "        track[\"album_id\"] = album[\"id\"]\n",
    "        audio_features = sp.audio_features(track[\"song_id\"])\n",
    "        track[\"audio_features\"] = audio_features[0]\n",
    "        track[\"artist\"] = artist\n",
    "        songs.append(track)\n",
    "    return songs    #songs:List[dict]\n",
    "\n",
    "def get_genres(artists_id):\n",
    "    res = [genres_by_artist_id(x) for x in artists_id if genres_by_artist_id(x)!= []]\n",
    "    if res != []:\n",
    "        return res[0]\n",
    "    return res\n",
    "\n",
    "def add_track(track_id, songs): #track_id:str, songs:List[dict]\n",
    "    track = sp.track(track_id)\n",
    "    audio_features = sp.audio_features(track_id)\n",
    "    row = {}\n",
    "    row[\"song_name\"] = track['name']\n",
    "    row[\"song_id\"] = track['id']\n",
    "    row[\"artists\"] = [x[\"name\"] for x in track[\"artists\"]]\n",
    "    row[\"artists_id\"] = [x[\"id\"] for x in track[\"artists\"]]\n",
    "    row[\"album_name\"] = track['album']['name']\n",
    "    row[\"album_id\"] = track['album']['id']\n",
    "    row[\"audio_features\"] = audio_features[0]\n",
    "    row[\"genres\"] = get_genres(row[\"artists_id\"])\n",
    "    songs.append(row)\n",
    "    return songs\n"
   ]
  },
  {
   "cell_type": "code",
   "execution_count": 5,
   "metadata": {},
   "outputs": [
    {
     "name": "stdout",
     "output_type": "stream",
     "text": [
      "This may take a while...\n"
     ]
    },
    {
     "name": "stderr",
     "output_type": "stream",
     "text": [
      "\r",
      "  0%|          | 0/11 [00:00<?, ?it/s]"
     ]
    },
    {
     "name": "stdout",
     "output_type": "stream",
     "text": [
      "...downloading 1190 songs\n",
      "in 11 batches\n"
     ]
    },
    {
     "name": "stderr",
     "output_type": "stream",
     "text": [
      "100%|██████████| 11/11 [19:52<00:00, 108.41s/it]\n"
     ]
    }
   ],
   "source": [
    "PLAYLIST_ID = \"2IuD0qZb14cji5y52crdsO\"\n",
    "TEST_PLAYLIST_ID = \"3gLmPh92AyeYDKYLaNC8uv\"\n",
    "songs = []\n",
    "\n",
    "def add_songs_of_playlist(playlist_id,songs_array):\n",
    "\n",
    "    print(\"This may take a while...\")\n",
    "    offset = 0\n",
    "    playlist = sp.playlist_tracks(playlist_id,offset=offset,limit=100)\n",
    "    batches = playlist[\"total\"] // 100\n",
    "    print(\"...downloading \"+ str(playlist[\"total\"]) + \" songs\")\n",
    "    print(\"in \"+str(batches)+ \" batches\")\n",
    "    for j in tqdm.tqdm(range(batches)):\n",
    "        for i in range(len(playlist[\"items\"])):\n",
    "            add_track(playlist[\"items\"][i][\"track\"][\"id\"],songs_array)\n",
    "        offset += len(playlist[\"items\"])\n",
    "        playlist = sp.playlist_tracks(playlist_id, offset=offset,limit=100)\n",
    "    return\n",
    "\n",
    "add_songs_of_playlist(PLAYLIST_ID,songs)"
   ]
  },
  {
   "cell_type": "code",
   "execution_count": 6,
   "metadata": {
    "scrolled": true
   },
   "outputs": [
    {
     "data": {
      "text/html": [
       "<div>\n",
       "<style scoped>\n",
       "    .dataframe tbody tr th:only-of-type {\n",
       "        vertical-align: middle;\n",
       "    }\n",
       "\n",
       "    .dataframe tbody tr th {\n",
       "        vertical-align: top;\n",
       "    }\n",
       "\n",
       "    .dataframe thead th {\n",
       "        text-align: right;\n",
       "    }\n",
       "</style>\n",
       "<table border=\"1\" class=\"dataframe\">\n",
       "  <thead>\n",
       "    <tr style=\"text-align: right;\">\n",
       "      <th></th>\n",
       "      <th>album_id</th>\n",
       "      <th>album_name</th>\n",
       "      <th>artists</th>\n",
       "      <th>artists_id</th>\n",
       "      <th>audio_features</th>\n",
       "      <th>genres</th>\n",
       "      <th>song_id</th>\n",
       "      <th>song_name</th>\n",
       "    </tr>\n",
       "  </thead>\n",
       "  <tbody>\n",
       "    <tr>\n",
       "      <th>267</th>\n",
       "      <td>1xP7EDeNa518tfq8vxT4cT</td>\n",
       "      <td>Conociendo Rusia</td>\n",
       "      <td>[Conociendo Rusia]</td>\n",
       "      <td>[79R7PUc6T6j09G8mJzNml2]</td>\n",
       "      <td>{'danceability': 0.572, 'energy': 0.828, 'key'...</td>\n",
       "      <td>[argentine alternative rock, argentine indie]</td>\n",
       "      <td>43JRoaGJFTTNXCY1FNo9tA</td>\n",
       "      <td>Juro</td>\n",
       "    </tr>\n",
       "    <tr>\n",
       "      <th>912</th>\n",
       "      <td>5QqFpppnhRlNXjHlDiDexl</td>\n",
       "      <td>Los De Atrás Vienen Conmigo</td>\n",
       "      <td>[Calle 13, Café Tacvba]</td>\n",
       "      <td>[0yNSzH5nZmHzeE2xn6Xshb, 09xj0S68Y1OU1vHMCZAIvz]</td>\n",
       "      <td>{'danceability': 0.573, 'energy': 0.856, 'key'...</td>\n",
       "      <td>[latin, latin afrobeat, latin alternative, lat...</td>\n",
       "      <td>5iqhyXGD2Ag4ZeLNyrffPv</td>\n",
       "      <td>No Hay Nadie Como Tú (feat. Café Tacuba)</td>\n",
       "    </tr>\n",
       "    <tr>\n",
       "      <th>65</th>\n",
       "      <td>6UXLhItDATUw5fncqIdTSW</td>\n",
       "      <td>El Sonido Original</td>\n",
       "      <td>[Los Palmeras]</td>\n",
       "      <td>[2Htm0q72SjGSmsy8EOIhRG]</td>\n",
       "      <td>{'danceability': 0.671, 'energy': 0.807, 'key'...</td>\n",
       "      <td>[cumbia pop, cumbia santafesina, cumbia villera]</td>\n",
       "      <td>3m6havHCZHEHBOG6E10nF5</td>\n",
       "      <td>Cumbia Sobre el Mar</td>\n",
       "    </tr>\n",
       "  </tbody>\n",
       "</table>\n",
       "</div>"
      ],
      "text/plain": [
       "                   album_id                   album_name  \\\n",
       "267  1xP7EDeNa518tfq8vxT4cT             Conociendo Rusia   \n",
       "912  5QqFpppnhRlNXjHlDiDexl  Los De Atrás Vienen Conmigo   \n",
       "65   6UXLhItDATUw5fncqIdTSW           El Sonido Original   \n",
       "\n",
       "                     artists  \\\n",
       "267       [Conociendo Rusia]   \n",
       "912  [Calle 13, Café Tacvba]   \n",
       "65            [Los Palmeras]   \n",
       "\n",
       "                                           artists_id  \\\n",
       "267                          [79R7PUc6T6j09G8mJzNml2]   \n",
       "912  [0yNSzH5nZmHzeE2xn6Xshb, 09xj0S68Y1OU1vHMCZAIvz]   \n",
       "65                           [2Htm0q72SjGSmsy8EOIhRG]   \n",
       "\n",
       "                                        audio_features  \\\n",
       "267  {'danceability': 0.572, 'energy': 0.828, 'key'...   \n",
       "912  {'danceability': 0.573, 'energy': 0.856, 'key'...   \n",
       "65   {'danceability': 0.671, 'energy': 0.807, 'key'...   \n",
       "\n",
       "                                                genres  \\\n",
       "267      [argentine alternative rock, argentine indie]   \n",
       "912  [latin, latin afrobeat, latin alternative, lat...   \n",
       "65    [cumbia pop, cumbia santafesina, cumbia villera]   \n",
       "\n",
       "                    song_id                                 song_name  \n",
       "267  43JRoaGJFTTNXCY1FNo9tA                                      Juro  \n",
       "912  5iqhyXGD2Ag4ZeLNyrffPv  No Hay Nadie Como Tú (feat. Café Tacuba)  \n",
       "65   3m6havHCZHEHBOG6E10nF5                       Cumbia Sobre el Mar  "
      ]
     },
     "execution_count": 6,
     "metadata": {},
     "output_type": "execute_result"
    }
   ],
   "source": [
    "songs_original_df = pd.DataFrame(songs)\n",
    "songs_original_df.sample(3)"
   ]
  },
  {
   "cell_type": "markdown",
   "metadata": {},
   "source": [
    "Checking dataframe's consistency."
   ]
  },
  {
   "cell_type": "code",
   "execution_count": 7,
   "metadata": {},
   "outputs": [
    {
     "data": {
      "text/html": [
       "<div>\n",
       "<style scoped>\n",
       "    .dataframe tbody tr th:only-of-type {\n",
       "        vertical-align: middle;\n",
       "    }\n",
       "\n",
       "    .dataframe tbody tr th {\n",
       "        vertical-align: top;\n",
       "    }\n",
       "\n",
       "    .dataframe thead th {\n",
       "        text-align: right;\n",
       "    }\n",
       "</style>\n",
       "<table border=\"1\" class=\"dataframe\">\n",
       "  <thead>\n",
       "    <tr style=\"text-align: right;\">\n",
       "      <th></th>\n",
       "      <th>album_id</th>\n",
       "      <th>album_name</th>\n",
       "      <th>artists</th>\n",
       "      <th>artists_id</th>\n",
       "      <th>audio_features</th>\n",
       "      <th>genres</th>\n",
       "      <th>song_id</th>\n",
       "      <th>song_name</th>\n",
       "    </tr>\n",
       "  </thead>\n",
       "  <tbody>\n",
       "    <tr>\n",
       "      <th>48</th>\n",
       "      <td>59tn7tvd1M5XNWwV3TaVWC</td>\n",
       "      <td>Enrique Santos Discepolo \"El poeta del tango\" ...</td>\n",
       "      <td>[Enrique Santos Discépolo]</td>\n",
       "      <td>[0aPYs7yoiP2NtS5xNZXKjg]</td>\n",
       "      <td>{'danceability': 0.492, 'energy': 0.541, 'key'...</td>\n",
       "      <td>[]</td>\n",
       "      <td>3PI0FE7JUmEmEyN5YgKPZA</td>\n",
       "      <td>Cambalache</td>\n",
       "    </tr>\n",
       "    <tr>\n",
       "      <th>478</th>\n",
       "      <td>0EJRlYjvVcym9K4wrww9vB</td>\n",
       "      <td>Narcos, Vol. 2 (More Music from the Netflix Or...</td>\n",
       "      <td>[Alonso y Bernardo]</td>\n",
       "      <td>[5sskVxLnToHrnwTAICyVF5]</td>\n",
       "      <td>{'danceability': 0.672, 'energy': 0.625, 'key'...</td>\n",
       "      <td>[]</td>\n",
       "      <td>1s0ndZpf2KeKEA08CsIFia</td>\n",
       "      <td>Sigue Feliz</td>\n",
       "    </tr>\n",
       "    <tr>\n",
       "      <th>498</th>\n",
       "      <td>5mOhH6e2L60jmymgASsbuH</td>\n",
       "      <td>Sobredosis De Chamame</td>\n",
       "      <td>[Amboé]</td>\n",
       "      <td>[3CzMaJREWlNNmSe0vtBAKD]</td>\n",
       "      <td>{'danceability': 0.62, 'energy': 0.714, 'key':...</td>\n",
       "      <td>[]</td>\n",
       "      <td>6ZbwzxhQ62IoGb70EK7lLg</td>\n",
       "      <td>Sobredosis de Chamamé</td>\n",
       "    </tr>\n",
       "    <tr>\n",
       "      <th>526</th>\n",
       "      <td>4xDelBtEq3aJCU8hU6gFLB</td>\n",
       "      <td>Los Mejores Tinkus</td>\n",
       "      <td>[Incas de Oro]</td>\n",
       "      <td>[58wFXtpJxfvtigDaRWTNcj]</td>\n",
       "      <td>{'danceability': 0.675, 'energy': 0.477, 'key'...</td>\n",
       "      <td>[]</td>\n",
       "      <td>1rzFbkSvxQv6r3PSGjn7Ub</td>\n",
       "      <td>Celia</td>\n",
       "    </tr>\n",
       "    <tr>\n",
       "      <th>600</th>\n",
       "      <td>5g5rgxGPlCnRTrYyf173fp</td>\n",
       "      <td>Arteria Ulnar</td>\n",
       "      <td>[Té de Brujas]</td>\n",
       "      <td>[39BvzssARgDTZ1Kf0uqNfj]</td>\n",
       "      <td>{'danceability': 0.497, 'energy': 0.651, 'key'...</td>\n",
       "      <td>[]</td>\n",
       "      <td>7kGsNBECFyCQ0fBJn2KB6o</td>\n",
       "      <td>Arteria Ulnar</td>\n",
       "    </tr>\n",
       "    <tr>\n",
       "      <th>604</th>\n",
       "      <td>43moEeCjsTjk6N25XRin0S</td>\n",
       "      <td>No Le Ganamos a Nadie</td>\n",
       "      <td>[Literal]</td>\n",
       "      <td>[0Ec1MqHP5MENR7rK3DtO3G]</td>\n",
       "      <td>{'danceability': 0.568, 'energy': 0.938, 'key'...</td>\n",
       "      <td>[]</td>\n",
       "      <td>0F0I189uNvQBdgy1SFNOec</td>\n",
       "      <td>No Le Ganamos a Nadie</td>\n",
       "    </tr>\n",
       "    <tr>\n",
       "      <th>606</th>\n",
       "      <td>3F6da9yP7HMGwl88egAqZ5</td>\n",
       "      <td>Contratiempos</td>\n",
       "      <td>[Parientes]</td>\n",
       "      <td>[76lUSSvc6Z83CLrIVB7YrE]</td>\n",
       "      <td>{'danceability': 0.549, 'energy': 0.778, 'key'...</td>\n",
       "      <td>[]</td>\n",
       "      <td>50GbEo3clyzJRzuAjIFWdz</td>\n",
       "      <td>Contratiempos</td>\n",
       "    </tr>\n",
       "    <tr>\n",
       "      <th>613</th>\n",
       "      <td>2fNd57gzWCMwsNVG0K5YQy</td>\n",
       "      <td>Si Tú No Estas (Nashville)</td>\n",
       "      <td>[Stokoff]</td>\n",
       "      <td>[03wfTeoZex93T5TPxWo3B9]</td>\n",
       "      <td>{'danceability': 0.545, 'energy': 0.652, 'key'...</td>\n",
       "      <td>[]</td>\n",
       "      <td>3TCpMjVi4DVzbc5dXLpEeX</td>\n",
       "      <td>Si Tú No Estas (Nashville)</td>\n",
       "    </tr>\n",
       "    <tr>\n",
       "      <th>617</th>\n",
       "      <td>6NCW2haZteRywEWZSzc7in</td>\n",
       "      <td>Una Nueva Realidad</td>\n",
       "      <td>[Scones de la Chola]</td>\n",
       "      <td>[1n0013t3w2RbIqSYarnPGS]</td>\n",
       "      <td>{'danceability': 0.536, 'energy': 0.571, 'key'...</td>\n",
       "      <td>[]</td>\n",
       "      <td>3CQinOLvOg1vMvP9a060xV</td>\n",
       "      <td>Una Nueva Realidad</td>\n",
       "    </tr>\n",
       "    <tr>\n",
       "      <th>628</th>\n",
       "      <td>4Bgue5pbIMGEZ61SoULBMr</td>\n",
       "      <td>Epe</td>\n",
       "      <td>[La Extrema Vanguardia]</td>\n",
       "      <td>[3p1OOKD3Rs8JsT9I76mACt]</td>\n",
       "      <td>{'danceability': 0.464, 'energy': 0.864, 'key'...</td>\n",
       "      <td>[]</td>\n",
       "      <td>48EI8HkseqMBYQw8yl4WL3</td>\n",
       "      <td>Dale!</td>\n",
       "    </tr>\n",
       "    <tr>\n",
       "      <th>637</th>\n",
       "      <td>6gyIUgOHK85AQswoDcLDDw</td>\n",
       "      <td>Si Me Dijeras</td>\n",
       "      <td>[Vozenoff]</td>\n",
       "      <td>[0hASTHk8Lmdj2zAHvkfsfW]</td>\n",
       "      <td>{'danceability': 0.534, 'energy': 0.747, 'key'...</td>\n",
       "      <td>[]</td>\n",
       "      <td>0NhFqADNG4OABBBEtxW0WM</td>\n",
       "      <td>Si Me Dijeras</td>\n",
       "    </tr>\n",
       "    <tr>\n",
       "      <th>647</th>\n",
       "      <td>3ZSKfBDpZexCI4j9C3B6Vn</td>\n",
       "      <td>Y Si Te Espero</td>\n",
       "      <td>[Literal]</td>\n",
       "      <td>[0Ec1MqHP5MENR7rK3DtO3G]</td>\n",
       "      <td>{'danceability': 0.623, 'energy': 0.828, 'key'...</td>\n",
       "      <td>[]</td>\n",
       "      <td>4tqOjVR7dxoyyZLm7VTOZX</td>\n",
       "      <td>Y Si Te Espero</td>\n",
       "    </tr>\n",
       "    <tr>\n",
       "      <th>652</th>\n",
       "      <td>0ASBToJj7yPEUyDss0rS50</td>\n",
       "      <td>Dame Mas</td>\n",
       "      <td>[Gigio&amp;spiker, Leo Garcia]</td>\n",
       "      <td>[2wxDtL8blvAzPuZsXT6qdO, 1Y3icCYHo0ENrf75dm0PLO]</td>\n",
       "      <td>{'danceability': 0.705, 'energy': 0.646, 'key'...</td>\n",
       "      <td>[]</td>\n",
       "      <td>6nRdDO9ckgePEHxmSFyXOW</td>\n",
       "      <td>Dame Mas</td>\n",
       "    </tr>\n",
       "    <tr>\n",
       "      <th>663</th>\n",
       "      <td>6117u1NRVvucLcqV5TJ6l3</td>\n",
       "      <td>El Retutu</td>\n",
       "      <td>[El Retutu]</td>\n",
       "      <td>[3WSePpVeFAwNAI4vQc19rG]</td>\n",
       "      <td>{'danceability': 0.78, 'energy': 0.905, 'key':...</td>\n",
       "      <td>[]</td>\n",
       "      <td>2vWNMXzMAZ9M9mnUK9NS83</td>\n",
       "      <td>Sino le contesto</td>\n",
       "    </tr>\n",
       "  </tbody>\n",
       "</table>\n",
       "</div>"
      ],
      "text/plain": [
       "                   album_id  \\\n",
       "48   59tn7tvd1M5XNWwV3TaVWC   \n",
       "478  0EJRlYjvVcym9K4wrww9vB   \n",
       "498  5mOhH6e2L60jmymgASsbuH   \n",
       "526  4xDelBtEq3aJCU8hU6gFLB   \n",
       "600  5g5rgxGPlCnRTrYyf173fp   \n",
       "604  43moEeCjsTjk6N25XRin0S   \n",
       "606  3F6da9yP7HMGwl88egAqZ5   \n",
       "613  2fNd57gzWCMwsNVG0K5YQy   \n",
       "617  6NCW2haZteRywEWZSzc7in   \n",
       "628  4Bgue5pbIMGEZ61SoULBMr   \n",
       "637  6gyIUgOHK85AQswoDcLDDw   \n",
       "647  3ZSKfBDpZexCI4j9C3B6Vn   \n",
       "652  0ASBToJj7yPEUyDss0rS50   \n",
       "663  6117u1NRVvucLcqV5TJ6l3   \n",
       "\n",
       "                                            album_name  \\\n",
       "48   Enrique Santos Discepolo \"El poeta del tango\" ...   \n",
       "478  Narcos, Vol. 2 (More Music from the Netflix Or...   \n",
       "498                              Sobredosis De Chamame   \n",
       "526                                 Los Mejores Tinkus   \n",
       "600                                      Arteria Ulnar   \n",
       "604                              No Le Ganamos a Nadie   \n",
       "606                                      Contratiempos   \n",
       "613                         Si Tú No Estas (Nashville)   \n",
       "617                                 Una Nueva Realidad   \n",
       "628                                                Epe   \n",
       "637                                      Si Me Dijeras   \n",
       "647                                     Y Si Te Espero   \n",
       "652                                           Dame Mas   \n",
       "663                                          El Retutu   \n",
       "\n",
       "                        artists  \\\n",
       "48   [Enrique Santos Discépolo]   \n",
       "478         [Alonso y Bernardo]   \n",
       "498                     [Amboé]   \n",
       "526              [Incas de Oro]   \n",
       "600              [Té de Brujas]   \n",
       "604                   [Literal]   \n",
       "606                 [Parientes]   \n",
       "613                   [Stokoff]   \n",
       "617        [Scones de la Chola]   \n",
       "628     [La Extrema Vanguardia]   \n",
       "637                  [Vozenoff]   \n",
       "647                   [Literal]   \n",
       "652  [Gigio&spiker, Leo Garcia]   \n",
       "663                 [El Retutu]   \n",
       "\n",
       "                                           artists_id  \\\n",
       "48                           [0aPYs7yoiP2NtS5xNZXKjg]   \n",
       "478                          [5sskVxLnToHrnwTAICyVF5]   \n",
       "498                          [3CzMaJREWlNNmSe0vtBAKD]   \n",
       "526                          [58wFXtpJxfvtigDaRWTNcj]   \n",
       "600                          [39BvzssARgDTZ1Kf0uqNfj]   \n",
       "604                          [0Ec1MqHP5MENR7rK3DtO3G]   \n",
       "606                          [76lUSSvc6Z83CLrIVB7YrE]   \n",
       "613                          [03wfTeoZex93T5TPxWo3B9]   \n",
       "617                          [1n0013t3w2RbIqSYarnPGS]   \n",
       "628                          [3p1OOKD3Rs8JsT9I76mACt]   \n",
       "637                          [0hASTHk8Lmdj2zAHvkfsfW]   \n",
       "647                          [0Ec1MqHP5MENR7rK3DtO3G]   \n",
       "652  [2wxDtL8blvAzPuZsXT6qdO, 1Y3icCYHo0ENrf75dm0PLO]   \n",
       "663                          [3WSePpVeFAwNAI4vQc19rG]   \n",
       "\n",
       "                                        audio_features genres  \\\n",
       "48   {'danceability': 0.492, 'energy': 0.541, 'key'...     []   \n",
       "478  {'danceability': 0.672, 'energy': 0.625, 'key'...     []   \n",
       "498  {'danceability': 0.62, 'energy': 0.714, 'key':...     []   \n",
       "526  {'danceability': 0.675, 'energy': 0.477, 'key'...     []   \n",
       "600  {'danceability': 0.497, 'energy': 0.651, 'key'...     []   \n",
       "604  {'danceability': 0.568, 'energy': 0.938, 'key'...     []   \n",
       "606  {'danceability': 0.549, 'energy': 0.778, 'key'...     []   \n",
       "613  {'danceability': 0.545, 'energy': 0.652, 'key'...     []   \n",
       "617  {'danceability': 0.536, 'energy': 0.571, 'key'...     []   \n",
       "628  {'danceability': 0.464, 'energy': 0.864, 'key'...     []   \n",
       "637  {'danceability': 0.534, 'energy': 0.747, 'key'...     []   \n",
       "647  {'danceability': 0.623, 'energy': 0.828, 'key'...     []   \n",
       "652  {'danceability': 0.705, 'energy': 0.646, 'key'...     []   \n",
       "663  {'danceability': 0.78, 'energy': 0.905, 'key':...     []   \n",
       "\n",
       "                    song_id                   song_name  \n",
       "48   3PI0FE7JUmEmEyN5YgKPZA                  Cambalache  \n",
       "478  1s0ndZpf2KeKEA08CsIFia                 Sigue Feliz  \n",
       "498  6ZbwzxhQ62IoGb70EK7lLg       Sobredosis de Chamamé  \n",
       "526  1rzFbkSvxQv6r3PSGjn7Ub                       Celia  \n",
       "600  7kGsNBECFyCQ0fBJn2KB6o               Arteria Ulnar  \n",
       "604  0F0I189uNvQBdgy1SFNOec       No Le Ganamos a Nadie  \n",
       "606  50GbEo3clyzJRzuAjIFWdz               Contratiempos  \n",
       "613  3TCpMjVi4DVzbc5dXLpEeX  Si Tú No Estas (Nashville)  \n",
       "617  3CQinOLvOg1vMvP9a060xV          Una Nueva Realidad  \n",
       "628  48EI8HkseqMBYQw8yl4WL3                       Dale!  \n",
       "637  0NhFqADNG4OABBBEtxW0WM               Si Me Dijeras  \n",
       "647  4tqOjVR7dxoyyZLm7VTOZX              Y Si Te Espero  \n",
       "652  6nRdDO9ckgePEHxmSFyXOW                    Dame Mas  \n",
       "663  2vWNMXzMAZ9M9mnUK9NS83            Sino le contesto  "
      ]
     },
     "execution_count": 7,
     "metadata": {},
     "output_type": "execute_result"
    }
   ],
   "source": [
    "songs_original_df[[x == [] for x in songs_original_df[\"genres\"]]]"
   ]
  },
  {
   "cell_type": "markdown",
   "metadata": {},
   "source": [
    "These cells don't have a genre since Spotify hasn't assigned a genre to their corresponding artists. \n",
    "These edge cases will be corrected by hand following these conventions; \n",
    "\n",
    "Cambalache's genre is empty. I decided to assign to this the same genres Julio Sosa has."
   ]
  },
  {
   "cell_type": "markdown",
   "metadata": {},
   "source": [
    "No nulls in any other column"
   ]
  },
  {
   "cell_type": "code",
   "execution_count": 8,
   "metadata": {},
   "outputs": [
    {
     "name": "stdout",
     "output_type": "stream",
     "text": [
      "No nulls in column  album_id\n",
      "No nulls in column  album_name\n",
      "No nulls in column  artists\n",
      "No nulls in column  artists_id\n",
      "No nulls in column  audio_features\n",
      ">>>>>>> Found nulls in column genres\n",
      "No nulls in column  song_id\n",
      "No nulls in column  song_name\n"
     ]
    }
   ],
   "source": [
    "columns = songs_original_df.columns\n",
    "\n",
    "for column in columns:\n",
    "    if songs_original_df[[x == [] for x in songs_original_df[column]]].empty:\n",
    "        print(\"No nulls in column \", column)\n",
    "    else:\n",
    "        print(\">>>>>>> Found nulls in column\", column)"
   ]
  },
  {
   "cell_type": "markdown",
   "metadata": {},
   "source": [
    "Let's remove possible duplicated songs"
   ]
  },
  {
   "cell_type": "code",
   "execution_count": 19,
   "metadata": {},
   "outputs": [
    {
     "data": {
      "text/plain": [
       "2"
      ]
     },
     "execution_count": 19,
     "metadata": {},
     "output_type": "execute_result"
    }
   ],
   "source": [
    "#duplicated_songs = songs_original_df[songs_original_df[\"song_id\"].duplicated(keep='last')]\n",
    "#duplicated_songs\n",
    "songs_original_df[songs_original_df.duplicated(subset=[\"song_id\"])==True].count()[0]\n",
    "#songs_original_df.duplicated(subset=[\"song_id\"],keep='first').any()\n",
    "#songs_original_df[songs_original_df[\"song_id\"]==\"2TNV1bPTWhKTRTVAghIszh\"]"
   ]
  },
  {
   "cell_type": "markdown",
   "metadata": {},
   "source": [
    "We find two duplicated tracks of the same song_id in the dataset.\n",
    "Let's remove them"
   ]
  },
  {
   "cell_type": "code",
   "execution_count": 22,
   "metadata": {},
   "outputs": [
    {
     "data": {
      "text/plain": [
       "False"
      ]
     },
     "execution_count": 22,
     "metadata": {},
     "output_type": "execute_result"
    }
   ],
   "source": [
    "songs_df = songs_original_df[songs_original_df[\"song_id\"].duplicated(keep='last') != True]\n",
    "songs_df.duplicated(subset=[\"song_id\"]).any()"
   ]
  },
  {
   "cell_type": "code",
   "execution_count": 11,
   "metadata": {},
   "outputs": [
    {
     "data": {
      "text/html": [
       "<div>\n",
       "<style scoped>\n",
       "    .dataframe tbody tr th:only-of-type {\n",
       "        vertical-align: middle;\n",
       "    }\n",
       "\n",
       "    .dataframe tbody tr th {\n",
       "        vertical-align: top;\n",
       "    }\n",
       "\n",
       "    .dataframe thead th {\n",
       "        text-align: right;\n",
       "    }\n",
       "</style>\n",
       "<table border=\"1\" class=\"dataframe\">\n",
       "  <thead>\n",
       "    <tr style=\"text-align: right;\">\n",
       "      <th></th>\n",
       "      <th>acousticness</th>\n",
       "      <th>danceability</th>\n",
       "      <th>duration_ms</th>\n",
       "      <th>energy</th>\n",
       "      <th>instrumentalness</th>\n",
       "      <th>key</th>\n",
       "      <th>liveness</th>\n",
       "      <th>loudness</th>\n",
       "      <th>mode</th>\n",
       "      <th>speechiness</th>\n",
       "      <th>tempo</th>\n",
       "      <th>time_signature</th>\n",
       "      <th>valence</th>\n",
       "    </tr>\n",
       "  </thead>\n",
       "  <tbody>\n",
       "    <tr>\n",
       "      <th>count</th>\n",
       "      <td>1100.000000</td>\n",
       "      <td>1100.000000</td>\n",
       "      <td>1.100000e+03</td>\n",
       "      <td>1100.000000</td>\n",
       "      <td>1100.000000</td>\n",
       "      <td>1100.000000</td>\n",
       "      <td>1100.000000</td>\n",
       "      <td>1100.000000</td>\n",
       "      <td>1100.000000</td>\n",
       "      <td>1100.000000</td>\n",
       "      <td>1100.000000</td>\n",
       "      <td>1100.000000</td>\n",
       "      <td>1100.000000</td>\n",
       "    </tr>\n",
       "    <tr>\n",
       "      <th>mean</th>\n",
       "      <td>0.223048</td>\n",
       "      <td>0.586041</td>\n",
       "      <td>2.323327e+05</td>\n",
       "      <td>0.711866</td>\n",
       "      <td>0.020731</td>\n",
       "      <td>5.285455</td>\n",
       "      <td>0.232568</td>\n",
       "      <td>-6.543470</td>\n",
       "      <td>0.610000</td>\n",
       "      <td>0.069305</td>\n",
       "      <td>124.442247</td>\n",
       "      <td>3.938182</td>\n",
       "      <td>0.592333</td>\n",
       "    </tr>\n",
       "    <tr>\n",
       "      <th>std</th>\n",
       "      <td>0.235524</td>\n",
       "      <td>0.153187</td>\n",
       "      <td>6.468759e+04</td>\n",
       "      <td>0.185329</td>\n",
       "      <td>0.106629</td>\n",
       "      <td>3.540018</td>\n",
       "      <td>0.222429</td>\n",
       "      <td>2.802298</td>\n",
       "      <td>0.487972</td>\n",
       "      <td>0.067027</td>\n",
       "      <td>29.720005</td>\n",
       "      <td>0.313187</td>\n",
       "      <td>0.228801</td>\n",
       "    </tr>\n",
       "    <tr>\n",
       "      <th>min</th>\n",
       "      <td>0.000002</td>\n",
       "      <td>0.148000</td>\n",
       "      <td>3.893300e+04</td>\n",
       "      <td>0.108000</td>\n",
       "      <td>0.000000</td>\n",
       "      <td>0.000000</td>\n",
       "      <td>0.027700</td>\n",
       "      <td>-19.575000</td>\n",
       "      <td>0.000000</td>\n",
       "      <td>0.022600</td>\n",
       "      <td>62.850000</td>\n",
       "      <td>1.000000</td>\n",
       "      <td>0.037700</td>\n",
       "    </tr>\n",
       "    <tr>\n",
       "      <th>25%</th>\n",
       "      <td>0.028300</td>\n",
       "      <td>0.488000</td>\n",
       "      <td>1.959402e+05</td>\n",
       "      <td>0.593750</td>\n",
       "      <td>0.000000</td>\n",
       "      <td>2.000000</td>\n",
       "      <td>0.095000</td>\n",
       "      <td>-7.887000</td>\n",
       "      <td>0.000000</td>\n",
       "      <td>0.031700</td>\n",
       "      <td>97.955750</td>\n",
       "      <td>4.000000</td>\n",
       "      <td>0.408750</td>\n",
       "    </tr>\n",
       "    <tr>\n",
       "      <th>50%</th>\n",
       "      <td>0.139000</td>\n",
       "      <td>0.605000</td>\n",
       "      <td>2.248200e+05</td>\n",
       "      <td>0.744500</td>\n",
       "      <td>0.000002</td>\n",
       "      <td>5.000000</td>\n",
       "      <td>0.138000</td>\n",
       "      <td>-6.102000</td>\n",
       "      <td>1.000000</td>\n",
       "      <td>0.043300</td>\n",
       "      <td>124.939000</td>\n",
       "      <td>4.000000</td>\n",
       "      <td>0.609500</td>\n",
       "    </tr>\n",
       "    <tr>\n",
       "      <th>75%</th>\n",
       "      <td>0.346500</td>\n",
       "      <td>0.698000</td>\n",
       "      <td>2.600032e+05</td>\n",
       "      <td>0.863000</td>\n",
       "      <td>0.000223</td>\n",
       "      <td>9.000000</td>\n",
       "      <td>0.296250</td>\n",
       "      <td>-4.610000</td>\n",
       "      <td>1.000000</td>\n",
       "      <td>0.075750</td>\n",
       "      <td>145.991000</td>\n",
       "      <td>4.000000</td>\n",
       "      <td>0.779000</td>\n",
       "    </tr>\n",
       "    <tr>\n",
       "      <th>max</th>\n",
       "      <td>0.982000</td>\n",
       "      <td>0.945000</td>\n",
       "      <td>1.129160e+06</td>\n",
       "      <td>0.995000</td>\n",
       "      <td>0.944000</td>\n",
       "      <td>11.000000</td>\n",
       "      <td>0.991000</td>\n",
       "      <td>-0.767000</td>\n",
       "      <td>1.000000</td>\n",
       "      <td>0.514000</td>\n",
       "      <td>204.498000</td>\n",
       "      <td>5.000000</td>\n",
       "      <td>0.976000</td>\n",
       "    </tr>\n",
       "  </tbody>\n",
       "</table>\n",
       "</div>"
      ],
      "text/plain": [
       "       acousticness  danceability   duration_ms       energy  \\\n",
       "count   1100.000000   1100.000000  1.100000e+03  1100.000000   \n",
       "mean       0.223048      0.586041  2.323327e+05     0.711866   \n",
       "std        0.235524      0.153187  6.468759e+04     0.185329   \n",
       "min        0.000002      0.148000  3.893300e+04     0.108000   \n",
       "25%        0.028300      0.488000  1.959402e+05     0.593750   \n",
       "50%        0.139000      0.605000  2.248200e+05     0.744500   \n",
       "75%        0.346500      0.698000  2.600032e+05     0.863000   \n",
       "max        0.982000      0.945000  1.129160e+06     0.995000   \n",
       "\n",
       "       instrumentalness          key     liveness     loudness         mode  \\\n",
       "count       1100.000000  1100.000000  1100.000000  1100.000000  1100.000000   \n",
       "mean           0.020731     5.285455     0.232568    -6.543470     0.610000   \n",
       "std            0.106629     3.540018     0.222429     2.802298     0.487972   \n",
       "min            0.000000     0.000000     0.027700   -19.575000     0.000000   \n",
       "25%            0.000000     2.000000     0.095000    -7.887000     0.000000   \n",
       "50%            0.000002     5.000000     0.138000    -6.102000     1.000000   \n",
       "75%            0.000223     9.000000     0.296250    -4.610000     1.000000   \n",
       "max            0.944000    11.000000     0.991000    -0.767000     1.000000   \n",
       "\n",
       "       speechiness        tempo  time_signature      valence  \n",
       "count  1100.000000  1100.000000     1100.000000  1100.000000  \n",
       "mean      0.069305   124.442247        3.938182     0.592333  \n",
       "std       0.067027    29.720005        0.313187     0.228801  \n",
       "min       0.022600    62.850000        1.000000     0.037700  \n",
       "25%       0.031700    97.955750        4.000000     0.408750  \n",
       "50%       0.043300   124.939000        4.000000     0.609500  \n",
       "75%       0.075750   145.991000        4.000000     0.779000  \n",
       "max       0.514000   204.498000        5.000000     0.976000  "
      ]
     },
     "execution_count": 11,
     "metadata": {},
     "output_type": "execute_result"
    }
   ],
   "source": [
    "audio_features_base = pd.DataFrame(list(songs_original_df[\"audio_features\"].values))\n",
    "audio_features_description = audio_features_base.describe()\n",
    "audio_features_description"
   ]
  },
  {
   "cell_type": "markdown",
   "metadata": {},
   "source": [
    "Preeliminary analysis of the dataset"
   ]
  },
  {
   "cell_type": "code",
   "execution_count": 12,
   "metadata": {},
   "outputs": [
    {
     "data": {
      "text/plain": [
       "[{'acousticness': 'Que Cruz La Que Lleva El Viento'},\n",
       " {'danceability': 'Salud y Vida'},\n",
       " {'duration_ms': 'Popurrí - En Vivo'},\n",
       " {'energy': 'Boom Boom'},\n",
       " {'instrumentalness': 'Caballo negro'},\n",
       " {'key': 'Robo un Auto'},\n",
       " {'liveness': 'Amor de mañana'},\n",
       " {'loudness': 'Quién Se Tomó Todo el Vino - En Vivo'},\n",
       " {'mode': 'Sin Rumbo'},\n",
       " {'speechiness': \"Pa'l Norte (feat. Orishas)\"},\n",
       " {'tempo': 'Como Vas a Hacer'},\n",
       " {'time_signature': 'Desafío'},\n",
       " {'valence': 'Rock del Gato'}]"
      ]
     },
     "execution_count": 12,
     "metadata": {},
     "output_type": "execute_result"
    }
   ],
   "source": [
    "#more aux functions\n",
    "def track_by_feature(feature, value):\n",
    "    track_id = audio_features_base[audio_features_base[feature]==value]['id']\n",
    "    track_id = track_id.values.item(0)\n",
    "    return songs_original_df[songs_original_df['song_id']== track_id]\n",
    "#example use: \n",
    "#print(track_by_feature(\"valence\",0.039100))\n",
    "#track_by_feature(\"speechiness\",0.492000)\n",
    "\n",
    "def songs_of_description(statistic):\n",
    "    row = audio_features_description.loc[statistic]\n",
    "    keys = row.keys()\n",
    "    tracks_of_row = []\n",
    "    for key in keys:\n",
    "        track = track_by_feature(key,row[key]).to_dict()['song_name']\n",
    "        track = list(track.values())[0]\n",
    "        tracks_of_row.append({key: track})\n",
    "    return tracks_of_row\n",
    "#example use\n",
    "#songs_of_description(\"min\")\n",
    "\n",
    "songs_of_description(\"max\")"
   ]
  },
  {
   "cell_type": "code",
   "execution_count": 56,
   "metadata": {},
   "outputs": [
    {
     "data": {
      "text/plain": [
       "[{'acousticness': 'Porque Hoy Nací'},\n",
       " {'danceability': 'Piel'},\n",
       " {'duration_ms': 'Luli'},\n",
       " {'energy': 'Te Quiero, Te Espero'},\n",
       " {'instrumentalness': 'Anoche'},\n",
       " {'key': 'El Pibe Tigre'},\n",
       " {'liveness': 'Armas Gemelas'},\n",
       " {'loudness': 'Outropía'},\n",
       " {'mode': 'Desafío'},\n",
       " {'speechiness': 'No Tengo'},\n",
       " {'tempo': 'Moraleja'},\n",
       " {'time_signature': 'El Enrosque'},\n",
       " {'valence': 'Piel'}]"
      ]
     },
     "execution_count": 56,
     "metadata": {},
     "output_type": "execute_result"
    }
   ],
   "source": [
    "songs_of_description(\"min\")"
   ]
  },
  {
   "cell_type": "markdown",
   "metadata": {},
   "source": [
    "## Lyrics"
   ]
  },
  {
   "cell_type": "code",
   "execution_count": 17,
   "metadata": {},
   "outputs": [
    {
     "data": {
      "text/html": [
       "<div>\n",
       "<style scoped>\n",
       "    .dataframe tbody tr th:only-of-type {\n",
       "        vertical-align: middle;\n",
       "    }\n",
       "\n",
       "    .dataframe tbody tr th {\n",
       "        vertical-align: top;\n",
       "    }\n",
       "\n",
       "    .dataframe thead th {\n",
       "        text-align: right;\n",
       "    }\n",
       "</style>\n",
       "<table border=\"1\" class=\"dataframe\">\n",
       "  <thead>\n",
       "    <tr style=\"text-align: right;\">\n",
       "      <th></th>\n",
       "      <th>album_id</th>\n",
       "      <th>album_name</th>\n",
       "      <th>artists</th>\n",
       "      <th>artists_id</th>\n",
       "      <th>audio_features</th>\n",
       "      <th>genres</th>\n",
       "      <th>song_id</th>\n",
       "      <th>song_name</th>\n",
       "    </tr>\n",
       "  </thead>\n",
       "  <tbody>\n",
       "    <tr>\n",
       "      <th>854</th>\n",
       "      <td>5BXYr7iU56rEX24QQPYcjO</td>\n",
       "      <td>Verde Paisaje del Infierno</td>\n",
       "      <td>[Los Piojos]</td>\n",
       "      <td>[0SnyKkoyBaB2fG8IJH4xmU]</td>\n",
       "      <td>{'danceability': 0.497, 'energy': 0.952, 'key'...</td>\n",
       "      <td>[argentine rock, latin alternative, latin rock...</td>\n",
       "      <td>2TNV1bPTWhKTRTVAghIszh</td>\n",
       "      <td>Media Caña</td>\n",
       "    </tr>\n",
       "    <tr>\n",
       "      <th>867</th>\n",
       "      <td>1ZUWRmH8qVKhcps3MjlLo5</td>\n",
       "      <td>3er Arco</td>\n",
       "      <td>[Los Piojos]</td>\n",
       "      <td>[0SnyKkoyBaB2fG8IJH4xmU]</td>\n",
       "      <td>{'danceability': 0.66, 'energy': 0.258, 'key':...</td>\n",
       "      <td>[argentine rock, latin alternative, latin rock...</td>\n",
       "      <td>6up6cF609S8wsSkDX0egNE</td>\n",
       "      <td>Gris</td>\n",
       "    </tr>\n",
       "  </tbody>\n",
       "</table>\n",
       "</div>"
      ],
      "text/plain": [
       "                   album_id                  album_name       artists  \\\n",
       "854  5BXYr7iU56rEX24QQPYcjO  Verde Paisaje del Infierno  [Los Piojos]   \n",
       "867  1ZUWRmH8qVKhcps3MjlLo5                    3er Arco  [Los Piojos]   \n",
       "\n",
       "                   artists_id  \\\n",
       "854  [0SnyKkoyBaB2fG8IJH4xmU]   \n",
       "867  [0SnyKkoyBaB2fG8IJH4xmU]   \n",
       "\n",
       "                                        audio_features  \\\n",
       "854  {'danceability': 0.497, 'energy': 0.952, 'key'...   \n",
       "867  {'danceability': 0.66, 'energy': 0.258, 'key':...   \n",
       "\n",
       "                                                genres  \\\n",
       "854  [argentine rock, latin alternative, latin rock...   \n",
       "867  [argentine rock, latin alternative, latin rock...   \n",
       "\n",
       "                    song_id   song_name  \n",
       "854  2TNV1bPTWhKTRTVAghIszh  Media Caña  \n",
       "867  6up6cF609S8wsSkDX0egNE        Gris  "
      ]
     },
     "execution_count": 17,
     "metadata": {},
     "output_type": "execute_result"
    }
   ],
   "source": [
    "songs_df"
   ]
  },
  {
   "cell_type": "code",
   "execution_count": null,
   "metadata": {},
   "outputs": [],
   "source": []
  },
  {
   "cell_type": "markdown",
   "metadata": {},
   "source": [
    "Decisión de diseño\n",
    "El género es una lista de géneros.\n",
    "\n",
    "Hay canciones que no tienen un género asociado, en ese caso la api devuelve un []. Cómo tratar ese caso?\n",
    "\n",
    "Yo propongo usar el género del artista. \n",
    "\n",
    "Qué pasa si shakira y metallica colaboran? qué género le ponés? Una decision posible: los géneros de los dos.\n",
    "\n",
    "distribución de los géneros en el dataset."
   ]
  },
  {
   "cell_type": "code",
   "execution_count": 45,
   "metadata": {},
   "outputs": [],
   "source": [
    "import requests\n",
    "from collections import Counter\n",
    "from nltk import ngrams, bigrams\n",
    "import nltk\n",
    "import itertools\n",
    "from wordcloud import WordCloud\n",
    "import matplotlib.pyplot as plt\n",
    "import json\n",
    "import spacy\n",
    "\n",
    "# aux methods\n",
    "\n",
    "def song_url_for_request(artist, song_title):\n",
    "    return \"https://api.lyrics.ovh/v1/\" + artist + '/' + song_title #str\n",
    "    # example use:\n",
    "    # requests.get(song_url_for_request(\"Death Grips\", \"Hacker\"))\n",
    "    \n",
    "\n",
    "def lemmafy(doc):\n",
    "    lemmas = []\n",
    "    for token in doc:\n",
    "        if not token.is_stop and token.is_alpha:\n",
    "             lemmas.append(token.lemma_)\n",
    "    return lemmas\n",
    "\n",
    "def add_lyrics_to_data(all_songs):\n",
    "    for song in tqdm.tqdm(all_songs):\n",
    "        try:\n",
    "            response = requests.get(song_url_for_request(song[\"artists\"][0],song[\"song_name\"])).json()\n",
    "            json_data = response #json.loads(response.content)\n",
    "            lyrics_raw = json_data[\"lyrics\"]\n",
    "            doc = nlp(lyrics_raw)\n",
    "            lemmed = lemmafy(doc)\n",
    "            song[\"lyrics\"]=[word.lower() for word in lemmed]\n",
    "        except: #found a song without lyrics!\n",
    "            print(song[\"song_name\"]+ \">>>No lyrics\")\n",
    "            song[\"lyrics\"]=None\n",
    "    return all_songs"
   ]
  },
  {
   "cell_type": "code",
   "execution_count": 46,
   "metadata": {},
   "outputs": [
    {
     "name": "stderr",
     "output_type": "stream",
     "text": [
      "  1%|▏         | 14/1098 [00:17<22:43,  1.26s/it]"
     ]
    },
    {
     "name": "stdout",
     "output_type": "stream",
     "text": [
      "Toro y Pampa - En Vivo>>>No lyrics\n"
     ]
    },
    {
     "name": "stderr",
     "output_type": "stream",
     "text": [
      "  2%|▏         | 20/1098 [00:24<21:48,  1.21s/it]"
     ]
    },
    {
     "name": "stdout",
     "output_type": "stream",
     "text": [
      "Perro Amor Explota - Live In Buenos Aires / 2001>>>No lyrics\n"
     ]
    },
    {
     "name": "stderr",
     "output_type": "stream",
     "text": [
      "  2%|▏         | 24/1098 [00:32<29:01,  1.62s/it]"
     ]
    },
    {
     "name": "stdout",
     "output_type": "stream",
     "text": [
      "No Me Arrepiento de Este Amor - En Vivo>>>No lyrics\n"
     ]
    },
    {
     "name": "stderr",
     "output_type": "stream",
     "text": [
      "  2%|▏         | 26/1098 [00:35<27:58,  1.57s/it]"
     ]
    },
    {
     "name": "stdout",
     "output_type": "stream",
     "text": [
      "La Ventanita>>>No lyrics\n"
     ]
    },
    {
     "name": "stderr",
     "output_type": "stream",
     "text": [
      "  4%|▎         | 40/1098 [00:54<26:12,  1.49s/it]"
     ]
    },
    {
     "name": "stdout",
     "output_type": "stream",
     "text": [
      "Rebelde Agitador y Revolucionario>>>No lyrics\n"
     ]
    },
    {
     "name": "stderr",
     "output_type": "stream",
     "text": [
      "  4%|▍         | 42/1098 [00:57<28:29,  1.62s/it]"
     ]
    },
    {
     "name": "stdout",
     "output_type": "stream",
     "text": [
      "Algo Mejor Algo Peor>>>No lyrics\n"
     ]
    },
    {
     "name": "stderr",
     "output_type": "stream",
     "text": [
      "  4%|▍         | 44/1098 [01:00<27:57,  1.59s/it]"
     ]
    },
    {
     "name": "stdout",
     "output_type": "stream",
     "text": [
      "Soy Sabalero>>>No lyrics\n"
     ]
    },
    {
     "name": "stderr",
     "output_type": "stream",
     "text": [
      "\r",
      "  4%|▍         | 45/1098 [01:02<28:07,  1.60s/it]"
     ]
    },
    {
     "name": "stdout",
     "output_type": "stream",
     "text": [
      "Dale Vieja Dale>>>No lyrics\n"
     ]
    },
    {
     "name": "stderr",
     "output_type": "stream",
     "text": [
      "  4%|▍         | 47/1098 [01:06<30:28,  1.74s/it]"
     ]
    },
    {
     "name": "stdout",
     "output_type": "stream",
     "text": [
      "Amor Salvaje>>>No lyrics\n"
     ]
    },
    {
     "name": "stderr",
     "output_type": "stream",
     "text": [
      "\r",
      "  4%|▍         | 48/1098 [01:07<30:26,  1.74s/it]"
     ]
    },
    {
     "name": "stdout",
     "output_type": "stream",
     "text": [
      "No Soy de Aquí... Ni Soy de Allá>>>No lyrics\n"
     ]
    },
    {
     "name": "stderr",
     "output_type": "stream",
     "text": [
      "  5%|▍         | 50/1098 [01:11<33:32,  1.92s/it]"
     ]
    },
    {
     "name": "stdout",
     "output_type": "stream",
     "text": [
      "Si De Rabia Nomas>>>No lyrics\n"
     ]
    },
    {
     "name": "stderr",
     "output_type": "stream",
     "text": [
      "\r",
      "  5%|▍         | 51/1098 [01:13<33:07,  1.90s/it]"
     ]
    },
    {
     "name": "stdout",
     "output_type": "stream",
     "text": [
      "Que Cruz La Que Lleva El Viento>>>No lyrics\n"
     ]
    },
    {
     "name": "stderr",
     "output_type": "stream",
     "text": [
      "\r",
      "  5%|▍         | 52/1098 [01:15<32:47,  1.88s/it]"
     ]
    },
    {
     "name": "stdout",
     "output_type": "stream",
     "text": [
      "El Porque>>>No lyrics\n"
     ]
    },
    {
     "name": "stderr",
     "output_type": "stream",
     "text": [
      "\r",
      "  5%|▍         | 53/1098 [01:17<32:33,  1.87s/it]"
     ]
    },
    {
     "name": "stdout",
     "output_type": "stream",
     "text": [
      "Quien Me Enseño>>>No lyrics\n"
     ]
    },
    {
     "name": "stderr",
     "output_type": "stream",
     "text": [
      "  5%|▌         | 56/1098 [01:23<34:25,  1.98s/it]"
     ]
    },
    {
     "name": "stdout",
     "output_type": "stream",
     "text": [
      "La Cabaña>>>No lyrics\n"
     ]
    },
    {
     "name": "stderr",
     "output_type": "stream",
     "text": [
      "  5%|▌         | 58/1098 [01:26<30:13,  1.74s/it]"
     ]
    },
    {
     "name": "stdout",
     "output_type": "stream",
     "text": [
      "Movidito, Movidito>>>No lyrics\n"
     ]
    },
    {
     "name": "stderr",
     "output_type": "stream",
     "text": [
      "\r",
      "  5%|▌         | 59/1098 [01:28<30:16,  1.75s/it]"
     ]
    },
    {
     "name": "stdout",
     "output_type": "stream",
     "text": [
      "La Ley Y La Trampa>>>No lyrics\n"
     ]
    },
    {
     "name": "stderr",
     "output_type": "stream",
     "text": [
      "  6%|▌         | 61/1098 [01:31<28:14,  1.63s/it]"
     ]
    },
    {
     "name": "stdout",
     "output_type": "stream",
     "text": [
      "No Regreso>>>No lyrics\n"
     ]
    },
    {
     "name": "stderr",
     "output_type": "stream",
     "text": [
      "  6%|▌         | 66/1098 [01:38<25:50,  1.50s/it]"
     ]
    },
    {
     "name": "stdout",
     "output_type": "stream",
     "text": [
      "Cumbia Sobre el Mar>>>No lyrics\n"
     ]
    },
    {
     "name": "stderr",
     "output_type": "stream",
     "text": [
      "  7%|▋         | 74/1098 [01:50<24:47,  1.45s/it]"
     ]
    },
    {
     "name": "stdout",
     "output_type": "stream",
     "text": [
      "Y qué>>>No lyrics\n"
     ]
    },
    {
     "name": "stderr",
     "output_type": "stream",
     "text": [
      "  8%|▊         | 83/1098 [02:04<29:34,  1.75s/it]"
     ]
    },
    {
     "name": "stdout",
     "output_type": "stream",
     "text": [
      "Besame>>>No lyrics\n"
     ]
    },
    {
     "name": "stderr",
     "output_type": "stream",
     "text": [
      "  8%|▊         | 93/1098 [02:24<34:20,  2.05s/it]"
     ]
    },
    {
     "name": "stdout",
     "output_type": "stream",
     "text": [
      "La mujer de él>>>No lyrics\n"
     ]
    },
    {
     "name": "stderr",
     "output_type": "stream",
     "text": [
      "\r",
      "  9%|▊         | 94/1098 [02:26<31:41,  1.89s/it]"
     ]
    },
    {
     "name": "stdout",
     "output_type": "stream",
     "text": [
      "Mi querida ma!>>>No lyrics\n"
     ]
    },
    {
     "name": "stderr",
     "output_type": "stream",
     "text": [
      "\r",
      "  9%|▊         | 95/1098 [02:27<31:24,  1.88s/it]"
     ]
    },
    {
     "name": "stdout",
     "output_type": "stream",
     "text": [
      "Despierta corazón>>>No lyrics\n"
     ]
    },
    {
     "name": "stderr",
     "output_type": "stream",
     "text": [
      "  9%|▉         | 98/1098 [02:33<29:39,  1.78s/it]"
     ]
    },
    {
     "name": "stdout",
     "output_type": "stream",
     "text": [
      "28 de diciembre>>>No lyrics\n"
     ]
    },
    {
     "name": "stderr",
     "output_type": "stream",
     "text": [
      "\r",
      "  9%|▉         | 99/1098 [02:35<29:57,  1.80s/it]"
     ]
    },
    {
     "name": "stdout",
     "output_type": "stream",
     "text": [
      "Corren corren los segundos>>>No lyrics\n"
     ]
    },
    {
     "name": "stderr",
     "output_type": "stream",
     "text": [
      "  9%|▉         | 102/1098 [02:40<32:47,  1.98s/it]"
     ]
    },
    {
     "name": "stdout",
     "output_type": "stream",
     "text": [
      "Amor de mañana>>>No lyrics\n"
     ]
    },
    {
     "name": "stderr",
     "output_type": "stream",
     "text": [
      "  9%|▉         | 104/1098 [02:44<28:31,  1.72s/it]"
     ]
    },
    {
     "name": "stdout",
     "output_type": "stream",
     "text": [
      "Qué tal Pascual / Un día te dije>>>No lyrics\n"
     ]
    },
    {
     "name": "stderr",
     "output_type": "stream",
     "text": [
      " 10%|▉         | 108/1098 [02:51<29:29,  1.79s/it]"
     ]
    },
    {
     "name": "stdout",
     "output_type": "stream",
     "text": [
      "No Soy Dios Para Perdonar>>>No lyrics\n"
     ]
    },
    {
     "name": "stderr",
     "output_type": "stream",
     "text": [
      " 10%|█         | 114/1098 [03:03<33:01,  2.01s/it]"
     ]
    },
    {
     "name": "stdout",
     "output_type": "stream",
     "text": [
      "Ella a Él>>>No lyrics\n"
     ]
    },
    {
     "name": "stderr",
     "output_type": "stream",
     "text": [
      "\r",
      " 10%|█         | 115/1098 [03:05<31:37,  1.93s/it]"
     ]
    },
    {
     "name": "stdout",
     "output_type": "stream",
     "text": [
      "La Mona Es Como Usted - Live>>>No lyrics\n"
     ]
    },
    {
     "name": "stderr",
     "output_type": "stream",
     "text": [
      " 11%|█         | 117/1098 [03:08<30:59,  1.90s/it]"
     ]
    },
    {
     "name": "stdout",
     "output_type": "stream",
     "text": [
      "Bobby>>>No lyrics\n"
     ]
    },
    {
     "name": "stderr",
     "output_type": "stream",
     "text": [
      " 12%|█▏        | 127/1098 [03:27<28:36,  1.77s/it]"
     ]
    },
    {
     "name": "stdout",
     "output_type": "stream",
     "text": [
      "Te Aprendi A Amar>>>No lyrics\n"
     ]
    },
    {
     "name": "stderr",
     "output_type": "stream",
     "text": [
      " 12%|█▏        | 131/1098 [03:34<29:13,  1.81s/it]"
     ]
    },
    {
     "name": "stdout",
     "output_type": "stream",
     "text": [
      "Cárcel a un valiente>>>No lyrics\n"
     ]
    },
    {
     "name": "stderr",
     "output_type": "stream",
     "text": [
      " 13%|█▎        | 139/1098 [03:50<30:57,  1.94s/it]"
     ]
    },
    {
     "name": "stdout",
     "output_type": "stream",
     "text": [
      "El bum bum>>>No lyrics\n"
     ]
    },
    {
     "name": "stderr",
     "output_type": "stream",
     "text": [
      " 13%|█▎        | 143/1098 [03:58<29:32,  1.86s/it]"
     ]
    },
    {
     "name": "stdout",
     "output_type": "stream",
     "text": [
      "Qué grande te queda>>>No lyrics\n"
     ]
    },
    {
     "name": "stderr",
     "output_type": "stream",
     "text": [
      " 13%|█▎        | 147/1098 [04:06<32:07,  2.03s/it]"
     ]
    },
    {
     "name": "stdout",
     "output_type": "stream",
     "text": [
      "Ahogadito - En Vivo>>>No lyrics\n"
     ]
    },
    {
     "name": "stderr",
     "output_type": "stream",
     "text": [
      "\r",
      " 13%|█▎        | 148/1098 [04:08<30:42,  1.94s/it]"
     ]
    },
    {
     "name": "stdout",
     "output_type": "stream",
     "text": [
      "Luis - En Vivo>>>No lyrics\n"
     ]
    },
    {
     "name": "stderr",
     "output_type": "stream",
     "text": [
      "\r",
      " 14%|█▎        | 149/1098 [04:11<33:38,  2.13s/it]"
     ]
    },
    {
     "name": "stdout",
     "output_type": "stream",
     "text": [
      "Oh Mami - En Vivo>>>No lyrics\n"
     ]
    },
    {
     "name": "stderr",
     "output_type": "stream",
     "text": [
      " 14%|█▍        | 151/1098 [04:14<31:09,  1.97s/it]"
     ]
    },
    {
     "name": "stdout",
     "output_type": "stream",
     "text": [
      "La Mona Es un Muchacho de Barrio>>>No lyrics\n"
     ]
    },
    {
     "name": "stderr",
     "output_type": "stream",
     "text": [
      "\r",
      " 14%|█▍        | 152/1098 [04:17<31:28,  2.00s/it]"
     ]
    },
    {
     "name": "stdout",
     "output_type": "stream",
     "text": [
      "Calla Chiquitín>>>No lyrics\n"
     ]
    },
    {
     "name": "stderr",
     "output_type": "stream",
     "text": [
      " 14%|█▍        | 156/1098 [04:25<32:30,  2.07s/it]"
     ]
    },
    {
     "name": "stdout",
     "output_type": "stream",
     "text": [
      "La Pupera - En Vivo>>>No lyrics\n"
     ]
    },
    {
     "name": "stderr",
     "output_type": "stream",
     "text": [
      "\r",
      " 14%|█▍        | 157/1098 [04:27<32:21,  2.06s/it]"
     ]
    },
    {
     "name": "stdout",
     "output_type": "stream",
     "text": [
      "Historia Fatal - Live Version>>>No lyrics\n"
     ]
    },
    {
     "name": "stderr",
     "output_type": "stream",
     "text": [
      "\r",
      " 14%|█▍        | 158/1098 [04:29<32:45,  2.09s/it]"
     ]
    },
    {
     "name": "stdout",
     "output_type": "stream",
     "text": [
      "Tinta China - Live>>>No lyrics\n"
     ]
    },
    {
     "name": "stderr",
     "output_type": "stream",
     "text": [
      "\r",
      " 14%|█▍        | 159/1098 [04:31<32:31,  2.08s/it]"
     ]
    },
    {
     "name": "stdout",
     "output_type": "stream",
     "text": [
      "A Que No - En Vivo>>>No lyrics\n"
     ]
    },
    {
     "name": "stderr",
     "output_type": "stream",
     "text": [
      "\r",
      " 15%|█▍        | 160/1098 [04:33<31:51,  2.04s/it]"
     ]
    },
    {
     "name": "stdout",
     "output_type": "stream",
     "text": [
      "Tú - En Vivo>>>No lyrics\n"
     ]
    },
    {
     "name": "stderr",
     "output_type": "stream",
     "text": [
      "\r",
      " 15%|█▍        | 161/1098 [04:35<31:53,  2.04s/it]"
     ]
    },
    {
     "name": "stdout",
     "output_type": "stream",
     "text": [
      "Me desespero - En Vivo>>>No lyrics\n"
     ]
    },
    {
     "name": "stderr",
     "output_type": "stream",
     "text": [
      "\r",
      " 15%|█▍        | 162/1098 [04:37<32:21,  2.07s/it]"
     ]
    },
    {
     "name": "stdout",
     "output_type": "stream",
     "text": [
      "Gira el mundo al revés - En Vivo>>>No lyrics\n"
     ]
    },
    {
     "name": "stderr",
     "output_type": "stream",
     "text": [
      "\r",
      " 15%|█▍        | 163/1098 [04:39<31:41,  2.03s/it]"
     ]
    },
    {
     "name": "stdout",
     "output_type": "stream",
     "text": [
      "Escribele una carta - En Vivo>>>No lyrics\n"
     ]
    },
    {
     "name": "stderr",
     "output_type": "stream",
     "text": [
      "\r",
      " 15%|█▍        | 164/1098 [04:41<32:13,  2.07s/it]"
     ]
    },
    {
     "name": "stdout",
     "output_type": "stream",
     "text": [
      "Que se siente>>>No lyrics\n"
     ]
    },
    {
     "name": "stderr",
     "output_type": "stream",
     "text": [
      " 15%|█▌        | 167/1098 [04:47<29:56,  1.93s/it]"
     ]
    },
    {
     "name": "stdout",
     "output_type": "stream",
     "text": [
      "Después de un año>>>No lyrics\n"
     ]
    },
    {
     "name": "stderr",
     "output_type": "stream",
     "text": [
      "\r",
      " 15%|█▌        | 168/1098 [04:49<32:20,  2.09s/it]"
     ]
    },
    {
     "name": "stdout",
     "output_type": "stream",
     "text": [
      "Quién Se Tomó Todo el Vino - En Vivo>>>No lyrics\n"
     ]
    },
    {
     "name": "stderr",
     "output_type": "stream",
     "text": [
      "\r",
      " 15%|█▌        | 169/1098 [04:52<32:08,  2.08s/it]"
     ]
    },
    {
     "name": "stdout",
     "output_type": "stream",
     "text": [
      "Estrella de la Mañana - En Vivo>>>No lyrics\n"
     ]
    },
    {
     "name": "stderr",
     "output_type": "stream",
     "text": [
      "\r",
      " 15%|█▌        | 170/1098 [04:53<30:32,  1.97s/it]"
     ]
    },
    {
     "name": "stdout",
     "output_type": "stream",
     "text": [
      "Quédate - En Vivo>>>No lyrics\n"
     ]
    },
    {
     "name": "stderr",
     "output_type": "stream",
     "text": [
      " 16%|█▌        | 172/1098 [04:57<30:28,  1.97s/it]"
     ]
    },
    {
     "name": "stdout",
     "output_type": "stream",
     "text": [
      "El tren de las nubes - La negra>>>No lyrics\n"
     ]
    },
    {
     "name": "stderr",
     "output_type": "stream",
     "text": [
      " 16%|█▌        | 178/1098 [05:10<30:39,  2.00s/it]"
     ]
    },
    {
     "name": "stdout",
     "output_type": "stream",
     "text": [
      "El loco perdido>>>No lyrics\n"
     ]
    },
    {
     "name": "stderr",
     "output_type": "stream",
     "text": [
      " 17%|█▋        | 184/1098 [05:21<28:03,  1.84s/it]"
     ]
    },
    {
     "name": "stdout",
     "output_type": "stream",
     "text": [
      "Goma de Mascar - En Vivo>>>No lyrics\n"
     ]
    },
    {
     "name": "stderr",
     "output_type": "stream",
     "text": [
      "\r",
      " 17%|█▋        | 185/1098 [05:23<27:43,  1.82s/it]"
     ]
    },
    {
     "name": "stdout",
     "output_type": "stream",
     "text": [
      "Libertad - En Vivo>>>No lyrics\n"
     ]
    },
    {
     "name": "stderr",
     "output_type": "stream",
     "text": [
      " 17%|█▋        | 188/1098 [05:29<31:00,  2.04s/it]"
     ]
    },
    {
     "name": "stdout",
     "output_type": "stream",
     "text": [
      "La vi - En Vivo>>>No lyrics\n"
     ]
    },
    {
     "name": "stderr",
     "output_type": "stream",
     "text": [
      "\r",
      " 17%|█▋        | 189/1098 [05:31<31:00,  2.05s/it]"
     ]
    },
    {
     "name": "stdout",
     "output_type": "stream",
     "text": [
      "Sala 4 - En Vivo>>>No lyrics\n"
     ]
    },
    {
     "name": "stderr",
     "output_type": "stream",
     "text": [
      "\r",
      " 17%|█▋        | 190/1098 [05:33<29:34,  1.95s/it]"
     ]
    },
    {
     "name": "stdout",
     "output_type": "stream",
     "text": [
      "Cris - En Vivo>>>No lyrics\n"
     ]
    },
    {
     "name": "stderr",
     "output_type": "stream",
     "text": [
      "\r",
      " 17%|█▋        | 191/1098 [05:35<28:37,  1.89s/it]"
     ]
    },
    {
     "name": "stdout",
     "output_type": "stream",
     "text": [
      "Te voy a enseñar - En Vivo>>>No lyrics\n"
     ]
    },
    {
     "name": "stderr",
     "output_type": "stream",
     "text": [
      "\r",
      " 17%|█▋        | 192/1098 [05:37<27:52,  1.85s/it]"
     ]
    },
    {
     "name": "stdout",
     "output_type": "stream",
     "text": [
      "Terry - En Vivo>>>No lyrics\n"
     ]
    },
    {
     "name": "stderr",
     "output_type": "stream",
     "text": [
      "\r",
      " 18%|█▊        | 193/1098 [05:38<27:50,  1.85s/it]"
     ]
    },
    {
     "name": "stdout",
     "output_type": "stream",
     "text": [
      "No quiero amigos - En Vivo>>>No lyrics\n"
     ]
    },
    {
     "name": "stderr",
     "output_type": "stream",
     "text": [
      "\r",
      " 18%|█▊        | 194/1098 [05:40<28:43,  1.91s/it]"
     ]
    },
    {
     "name": "stdout",
     "output_type": "stream",
     "text": [
      "El Federal>>>No lyrics\n"
     ]
    },
    {
     "name": "stderr",
     "output_type": "stream",
     "text": [
      "\r",
      " 18%|█▊        | 195/1098 [05:42<27:54,  1.85s/it]"
     ]
    },
    {
     "name": "stdout",
     "output_type": "stream",
     "text": [
      "El Beso>>>No lyrics\n"
     ]
    },
    {
     "name": "stderr",
     "output_type": "stream",
     "text": [
      "\r",
      " 18%|█▊        | 196/1098 [05:44<27:22,  1.82s/it]"
     ]
    },
    {
     "name": "stdout",
     "output_type": "stream",
     "text": [
      "Si He Sido Infiel>>>No lyrics\n"
     ]
    },
    {
     "name": "stderr",
     "output_type": "stream",
     "text": [
      "\r",
      " 18%|█▊        | 197/1098 [05:46<28:22,  1.89s/it]"
     ]
    },
    {
     "name": "stdout",
     "output_type": "stream",
     "text": [
      "El Viernes>>>No lyrics\n"
     ]
    },
    {
     "name": "stderr",
     "output_type": "stream",
     "text": [
      "\r",
      " 18%|█▊        | 198/1098 [05:48<27:41,  1.85s/it]"
     ]
    },
    {
     "name": "stdout",
     "output_type": "stream",
     "text": [
      "El pianista>>>No lyrics\n"
     ]
    },
    {
     "name": "stderr",
     "output_type": "stream",
     "text": [
      " 18%|█▊        | 200/1098 [05:52<29:11,  1.95s/it]"
     ]
    },
    {
     "name": "stdout",
     "output_type": "stream",
     "text": [
      "Simplemente baila>>>No lyrics\n"
     ]
    },
    {
     "name": "stderr",
     "output_type": "stream",
     "text": [
      " 19%|█▊        | 204/1098 [05:58<24:40,  1.66s/it]"
     ]
    },
    {
     "name": "stdout",
     "output_type": "stream",
     "text": [
      "Culpable O No - Miénteme Como Siempre>>>No lyrics\n"
     ]
    },
    {
     "name": "stderr",
     "output_type": "stream",
     "text": [
      " 20%|█▉        | 216/1098 [06:15<23:07,  1.57s/it]"
     ]
    },
    {
     "name": "stdout",
     "output_type": "stream",
     "text": [
      "Si Nos Dejan - En Vivo>>>No lyrics\n"
     ]
    },
    {
     "name": "stderr",
     "output_type": "stream",
     "text": [
      " 20%|██        | 225/1098 [06:27<21:05,  1.45s/it]"
     ]
    },
    {
     "name": "stdout",
     "output_type": "stream",
     "text": [
      "Será Que No Me Amas - En Vivo>>>No lyrics\n"
     ]
    },
    {
     "name": "stderr",
     "output_type": "stream",
     "text": [
      " 21%|██        | 233/1098 [06:39<21:51,  1.52s/it]"
     ]
    },
    {
     "name": "stdout",
     "output_type": "stream",
     "text": [
      "Y - En vivo>>>No lyrics\n"
     ]
    },
    {
     "name": "stderr",
     "output_type": "stream",
     "text": [
      " 22%|██▏       | 237/1098 [06:44<20:12,  1.41s/it]"
     ]
    },
    {
     "name": "stdout",
     "output_type": "stream",
     "text": [
      "La bikina - En vivo>>>No lyrics\n"
     ]
    },
    {
     "name": "stderr",
     "output_type": "stream",
     "text": [
      " 24%|██▎       | 260/1098 [07:15<19:46,  1.42s/it]"
     ]
    },
    {
     "name": "stdout",
     "output_type": "stream",
     "text": [
      "Mi Manera De Ser>>>No lyrics\n"
     ]
    },
    {
     "name": "stderr",
     "output_type": "stream",
     "text": [
      "\r",
      " 24%|██▍       | 261/1098 [07:17<21:07,  1.51s/it]"
     ]
    },
    {
     "name": "stdout",
     "output_type": "stream",
     "text": [
      "Isla>>>No lyrics\n"
     ]
    },
    {
     "name": "stderr",
     "output_type": "stream",
     "text": [
      " 24%|██▍       | 264/1098 [07:21<22:33,  1.62s/it]"
     ]
    },
    {
     "name": "stdout",
     "output_type": "stream",
     "text": [
      "Loco en el Desierto>>>No lyrics\n"
     ]
    },
    {
     "name": "stderr",
     "output_type": "stream",
     "text": [
      " 24%|██▍       | 266/1098 [07:24<21:50,  1.58s/it]"
     ]
    },
    {
     "name": "stdout",
     "output_type": "stream",
     "text": [
      "Cosas para Decirte>>>No lyrics\n"
     ]
    },
    {
     "name": "stderr",
     "output_type": "stream",
     "text": [
      "\r",
      " 24%|██▍       | 267/1098 [07:26<22:56,  1.66s/it]"
     ]
    },
    {
     "name": "stdout",
     "output_type": "stream",
     "text": [
      "Puede Ser>>>No lyrics\n"
     ]
    },
    {
     "name": "stderr",
     "output_type": "stream",
     "text": [
      "\r",
      " 24%|██▍       | 268/1098 [07:28<23:40,  1.71s/it]"
     ]
    },
    {
     "name": "stdout",
     "output_type": "stream",
     "text": [
      "Juro>>>No lyrics\n"
     ]
    },
    {
     "name": "stderr",
     "output_type": "stream",
     "text": [
      "\r",
      " 24%|██▍       | 269/1098 [07:30<23:57,  1.73s/it]"
     ]
    },
    {
     "name": "stdout",
     "output_type": "stream",
     "text": [
      "Cabildo y Juramento>>>No lyrics\n"
     ]
    },
    {
     "name": "stderr",
     "output_type": "stream",
     "text": [
      "\r",
      " 25%|██▍       | 270/1098 [07:31<23:33,  1.71s/it]"
     ]
    },
    {
     "name": "stdout",
     "output_type": "stream",
     "text": [
      "Cicatriz>>>No lyrics\n"
     ]
    },
    {
     "name": "stderr",
     "output_type": "stream",
     "text": [
      "\r",
      " 25%|██▍       | 271/1098 [07:33<23:53,  1.73s/it]"
     ]
    },
    {
     "name": "stdout",
     "output_type": "stream",
     "text": [
      "La Mexicana>>>No lyrics\n"
     ]
    },
    {
     "name": "stderr",
     "output_type": "stream",
     "text": [
      "\r",
      " 25%|██▍       | 272/1098 [07:35<23:40,  1.72s/it]"
     ]
    },
    {
     "name": "stdout",
     "output_type": "stream",
     "text": [
      "En Todos los Lugares>>>No lyrics\n"
     ]
    },
    {
     "name": "stderr",
     "output_type": "stream",
     "text": [
      "\r",
      " 25%|██▍       | 273/1098 [07:37<23:31,  1.71s/it]"
     ]
    },
    {
     "name": "stdout",
     "output_type": "stream",
     "text": [
      "Bruja de Barracas>>>No lyrics\n"
     ]
    },
    {
     "name": "stderr",
     "output_type": "stream",
     "text": [
      "\r",
      " 25%|██▍       | 274/1098 [07:38<23:11,  1.69s/it]"
     ]
    },
    {
     "name": "stdout",
     "output_type": "stream",
     "text": [
      "OUKE>>>No lyrics\n"
     ]
    },
    {
     "name": "stderr",
     "output_type": "stream",
     "text": [
      " 25%|██▌       | 276/1098 [07:41<21:57,  1.60s/it]"
     ]
    },
    {
     "name": "stdout",
     "output_type": "stream",
     "text": [
      "McFly>>>No lyrics\n"
     ]
    },
    {
     "name": "stderr",
     "output_type": "stream",
     "text": [
      "\r",
      " 25%|██▌       | 277/1098 [07:43<22:29,  1.64s/it]"
     ]
    },
    {
     "name": "stdout",
     "output_type": "stream",
     "text": [
      "CA7RIEL: Bzrp Music Sessions, Vol.14>>>No lyrics\n"
     ]
    },
    {
     "name": "stderr",
     "output_type": "stream",
     "text": [
      "\r",
      " 25%|██▌       | 278/1098 [07:45<24:32,  1.80s/it]"
     ]
    },
    {
     "name": "stdout",
     "output_type": "stream",
     "text": [
      "A Mí No>>>No lyrics\n"
     ]
    },
    {
     "name": "stderr",
     "output_type": "stream",
     "text": [
      "\r",
      " 25%|██▌       | 279/1098 [07:47<25:08,  1.84s/it]"
     ]
    },
    {
     "name": "stdout",
     "output_type": "stream",
     "text": [
      "Ola Mina XD>>>No lyrics\n"
     ]
    },
    {
     "name": "stderr",
     "output_type": "stream",
     "text": [
      "\r",
      " 26%|██▌       | 280/1098 [07:49<27:36,  2.02s/it]"
     ]
    },
    {
     "name": "stdout",
     "output_type": "stream",
     "text": [
      "Jala Jala>>>No lyrics\n"
     ]
    },
    {
     "name": "stderr",
     "output_type": "stream",
     "text": [
      "\r",
      " 26%|██▌       | 281/1098 [07:51<26:25,  1.94s/it]"
     ]
    },
    {
     "name": "stdout",
     "output_type": "stream",
     "text": [
      "Mi sombra>>>No lyrics\n"
     ]
    },
    {
     "name": "stderr",
     "output_type": "stream",
     "text": [
      "\r",
      " 26%|██▌       | 282/1098 [07:53<26:24,  1.94s/it]"
     ]
    },
    {
     "name": "stdout",
     "output_type": "stream",
     "text": [
      "No Aterrizó>>>No lyrics\n"
     ]
    },
    {
     "name": "stderr",
     "output_type": "stream",
     "text": [
      "\r",
      " 26%|██▌       | 283/1098 [07:55<25:42,  1.89s/it]"
     ]
    },
    {
     "name": "stdout",
     "output_type": "stream",
     "text": [
      "Vibra Alta>>>No lyrics\n"
     ]
    },
    {
     "name": "stderr",
     "output_type": "stream",
     "text": [
      "\r",
      " 26%|██▌       | 284/1098 [07:57<25:19,  1.87s/it]"
     ]
    },
    {
     "name": "stdout",
     "output_type": "stream",
     "text": [
      "Inocente>>>No lyrics\n"
     ]
    },
    {
     "name": "stderr",
     "output_type": "stream",
     "text": [
      "\r",
      " 26%|██▌       | 285/1098 [07:58<24:45,  1.83s/it]"
     ]
    },
    {
     "name": "stdout",
     "output_type": "stream",
     "text": [
      "Negra, Ron y Velas>>>No lyrics\n"
     ]
    },
    {
     "name": "stderr",
     "output_type": "stream",
     "text": [
      "\r",
      " 26%|██▌       | 286/1098 [08:00<24:24,  1.80s/it]"
     ]
    },
    {
     "name": "stdout",
     "output_type": "stream",
     "text": [
      "La Cancioncita>>>No lyrics\n"
     ]
    },
    {
     "name": "stderr",
     "output_type": "stream",
     "text": [
      "\r",
      " 26%|██▌       | 287/1098 [08:02<23:42,  1.75s/it]"
     ]
    },
    {
     "name": "stdout",
     "output_type": "stream",
     "text": [
      "Yo Me Llamo Cumbia>>>No lyrics\n"
     ]
    },
    {
     "name": "stderr",
     "output_type": "stream",
     "text": [
      "\r",
      " 26%|██▌       | 288/1098 [08:04<23:36,  1.75s/it]"
     ]
    },
    {
     "name": "stdout",
     "output_type": "stream",
     "text": [
      "Así>>>No lyrics\n"
     ]
    },
    {
     "name": "stderr",
     "output_type": "stream",
     "text": [
      "\r",
      " 26%|██▋       | 289/1098 [08:06<24:23,  1.81s/it]"
     ]
    },
    {
     "name": "stdout",
     "output_type": "stream",
     "text": [
      "Fluir>>>No lyrics\n"
     ]
    },
    {
     "name": "stderr",
     "output_type": "stream",
     "text": [
      "\r",
      " 26%|██▋       | 290/1098 [08:07<24:54,  1.85s/it]"
     ]
    },
    {
     "name": "stdout",
     "output_type": "stream",
     "text": [
      "Presente Perfecto>>>No lyrics\n"
     ]
    },
    {
     "name": "stderr",
     "output_type": "stream",
     "text": [
      "\r",
      " 27%|██▋       | 291/1098 [08:09<24:26,  1.82s/it]"
     ]
    },
    {
     "name": "stdout",
     "output_type": "stream",
     "text": [
      "Caída Libre>>>No lyrics\n"
     ]
    },
    {
     "name": "stderr",
     "output_type": "stream",
     "text": [
      "\r",
      " 27%|██▋       | 292/1098 [08:11<24:06,  1.79s/it]"
     ]
    },
    {
     "name": "stdout",
     "output_type": "stream",
     "text": [
      "Canción para Despedirte>>>No lyrics\n"
     ]
    },
    {
     "name": "stderr",
     "output_type": "stream",
     "text": [
      "\r",
      " 27%|██▋       | 293/1098 [08:13<24:09,  1.80s/it]"
     ]
    },
    {
     "name": "stdout",
     "output_type": "stream",
     "text": [
      "Aprendiste Mal>>>No lyrics\n"
     ]
    },
    {
     "name": "stderr",
     "output_type": "stream",
     "text": [
      "\r",
      " 27%|██▋       | 294/1098 [08:15<24:24,  1.82s/it]"
     ]
    },
    {
     "name": "stdout",
     "output_type": "stream",
     "text": [
      "Hombre>>>No lyrics\n"
     ]
    },
    {
     "name": "stderr",
     "output_type": "stream",
     "text": [
      "\r",
      " 27%|██▋       | 295/1098 [08:16<24:02,  1.80s/it]"
     ]
    },
    {
     "name": "stdout",
     "output_type": "stream",
     "text": [
      "Tormenta>>>No lyrics\n"
     ]
    },
    {
     "name": "stderr",
     "output_type": "stream",
     "text": [
      "\r",
      " 27%|██▋       | 296/1098 [08:18<23:23,  1.75s/it]"
     ]
    },
    {
     "name": "stdout",
     "output_type": "stream",
     "text": [
      "3 Intentos>>>No lyrics\n"
     ]
    },
    {
     "name": "stderr",
     "output_type": "stream",
     "text": [
      "\r",
      " 27%|██▋       | 297/1098 [08:20<23:13,  1.74s/it]"
     ]
    },
    {
     "name": "stdout",
     "output_type": "stream",
     "text": [
      "Lo Que Dimos>>>No lyrics\n"
     ]
    },
    {
     "name": "stderr",
     "output_type": "stream",
     "text": [
      "\r",
      " 27%|██▋       | 298/1098 [08:22<23:32,  1.77s/it]"
     ]
    },
    {
     "name": "stdout",
     "output_type": "stream",
     "text": [
      "El Destino>>>No lyrics\n"
     ]
    },
    {
     "name": "stderr",
     "output_type": "stream",
     "text": [
      "\r",
      " 27%|██▋       | 299/1098 [08:23<23:09,  1.74s/it]"
     ]
    },
    {
     "name": "stdout",
     "output_type": "stream",
     "text": [
      "Fuego y Pasión>>>No lyrics\n"
     ]
    },
    {
     "name": "stderr",
     "output_type": "stream",
     "text": [
      " 28%|██▊       | 302/1098 [08:28<21:19,  1.61s/it]"
     ]
    },
    {
     "name": "stdout",
     "output_type": "stream",
     "text": [
      "Cambias Mi Amor>>>No lyrics\n"
     ]
    },
    {
     "name": "stderr",
     "output_type": "stream",
     "text": [
      " 28%|██▊       | 304/1098 [08:31<20:59,  1.59s/it]"
     ]
    },
    {
     "name": "stdout",
     "output_type": "stream",
     "text": [
      "Matemática>>>No lyrics\n"
     ]
    },
    {
     "name": "stderr",
     "output_type": "stream",
     "text": [
      " 28%|██▊       | 306/1098 [08:34<20:03,  1.52s/it]"
     ]
    },
    {
     "name": "stdout",
     "output_type": "stream",
     "text": [
      "Fascinación>>>No lyrics\n"
     ]
    },
    {
     "name": "stderr",
     "output_type": "stream",
     "text": [
      "\r",
      " 28%|██▊       | 307/1098 [08:35<20:53,  1.59s/it]"
     ]
    },
    {
     "name": "stdout",
     "output_type": "stream",
     "text": [
      "Disparo de Onda>>>No lyrics\n"
     ]
    },
    {
     "name": "stderr",
     "output_type": "stream",
     "text": [
      "\r",
      " 28%|██▊       | 308/1098 [08:37<21:29,  1.63s/it]"
     ]
    },
    {
     "name": "stdout",
     "output_type": "stream",
     "text": [
      "Me Persigue>>>No lyrics\n"
     ]
    },
    {
     "name": "stderr",
     "output_type": "stream",
     "text": [
      "\r",
      " 28%|██▊       | 309/1098 [08:39<21:52,  1.66s/it]"
     ]
    },
    {
     "name": "stdout",
     "output_type": "stream",
     "text": [
      "Lo Que Digo>>>No lyrics\n"
     ]
    },
    {
     "name": "stderr",
     "output_type": "stream",
     "text": [
      "\r",
      " 28%|██▊       | 310/1098 [08:41<23:46,  1.81s/it]"
     ]
    },
    {
     "name": "stdout",
     "output_type": "stream",
     "text": [
      "Llamame>>>No lyrics\n"
     ]
    },
    {
     "name": "stderr",
     "output_type": "stream",
     "text": [
      "\r",
      " 28%|██▊       | 311/1098 [08:43<23:04,  1.76s/it]"
     ]
    },
    {
     "name": "stdout",
     "output_type": "stream",
     "text": [
      "Un Regalo Tuyo>>>No lyrics\n"
     ]
    },
    {
     "name": "stderr",
     "output_type": "stream",
     "text": [
      "\r",
      " 28%|██▊       | 312/1098 [08:44<22:58,  1.75s/it]"
     ]
    },
    {
     "name": "stdout",
     "output_type": "stream",
     "text": [
      "Distinto>>>No lyrics\n"
     ]
    },
    {
     "name": "stderr",
     "output_type": "stream",
     "text": [
      "\r",
      " 29%|██▊       | 313/1098 [08:47<24:54,  1.90s/it]"
     ]
    },
    {
     "name": "stdout",
     "output_type": "stream",
     "text": [
      "La Noche del Sur>>>No lyrics\n"
     ]
    },
    {
     "name": "stderr",
     "output_type": "stream",
     "text": [
      "\r",
      " 29%|██▊       | 314/1098 [08:48<24:13,  1.85s/it]"
     ]
    },
    {
     "name": "stdout",
     "output_type": "stream",
     "text": [
      "Nuestro Amor>>>No lyrics\n"
     ]
    },
    {
     "name": "stderr",
     "output_type": "stream",
     "text": [
      " 29%|██▉       | 316/1098 [08:52<23:21,  1.79s/it]"
     ]
    },
    {
     "name": "stdout",
     "output_type": "stream",
     "text": [
      "AYER TE VI (feat. Zoe Gotusso)>>>No lyrics\n"
     ]
    },
    {
     "name": "stderr",
     "output_type": "stream",
     "text": [
      "\r",
      " 29%|██▉       | 317/1098 [08:54<24:51,  1.91s/it]"
     ]
    },
    {
     "name": "stdout",
     "output_type": "stream",
     "text": [
      "DE ESTE LADO DE LA FOTO>>>No lyrics\n"
     ]
    },
    {
     "name": "stderr",
     "output_type": "stream",
     "text": [
      "\r",
      " 29%|██▉       | 318/1098 [08:56<24:09,  1.86s/it]"
     ]
    },
    {
     "name": "stdout",
     "output_type": "stream",
     "text": [
      "PALMERAS>>>No lyrics\n"
     ]
    },
    {
     "name": "stderr",
     "output_type": "stream",
     "text": [
      "\r",
      " 29%|██▉       | 319/1098 [08:57<23:40,  1.82s/it]"
     ]
    },
    {
     "name": "stdout",
     "output_type": "stream",
     "text": [
      "PUEDE SER>>>No lyrics\n"
     ]
    },
    {
     "name": "stderr",
     "output_type": "stream",
     "text": [
      " 29%|██▉       | 321/1098 [09:00<21:56,  1.69s/it]"
     ]
    },
    {
     "name": "stdout",
     "output_type": "stream",
     "text": [
      "TODOS CON EL CELU>>>No lyrics\n"
     ]
    },
    {
     "name": "stderr",
     "output_type": "stream",
     "text": [
      "\r",
      " 29%|██▉       | 322/1098 [09:02<21:32,  1.67s/it]"
     ]
    },
    {
     "name": "stdout",
     "output_type": "stream",
     "text": [
      "ABRIR TU CORAZON>>>No lyrics\n"
     ]
    },
    {
     "name": "stderr",
     "output_type": "stream",
     "text": [
      "\r",
      " 29%|██▉       | 323/1098 [09:04<22:23,  1.73s/it]"
     ]
    },
    {
     "name": "stdout",
     "output_type": "stream",
     "text": [
      "UACHO (feat. Marilina Bertoldi)>>>No lyrics\n"
     ]
    },
    {
     "name": "stderr",
     "output_type": "stream",
     "text": [
      "\r",
      " 30%|██▉       | 324/1098 [09:06<22:03,  1.71s/it]"
     ]
    },
    {
     "name": "stdout",
     "output_type": "stream",
     "text": [
      "ENCHASTRE>>>No lyrics\n"
     ]
    },
    {
     "name": "stderr",
     "output_type": "stream",
     "text": [
      "\r",
      " 30%|██▉       | 325/1098 [09:07<22:03,  1.71s/it]"
     ]
    },
    {
     "name": "stdout",
     "output_type": "stream",
     "text": [
      "SOMOS TAN INTENSOS>>>No lyrics\n"
     ]
    },
    {
     "name": "stderr",
     "output_type": "stream",
     "text": [
      "\r",
      " 30%|██▉       | 326/1098 [09:09<23:20,  1.81s/it]"
     ]
    },
    {
     "name": "stdout",
     "output_type": "stream",
     "text": [
      "CUENTITOS>>>No lyrics\n"
     ]
    },
    {
     "name": "stderr",
     "output_type": "stream",
     "text": [
      "\r",
      " 30%|██▉       | 327/1098 [09:11<23:24,  1.82s/it]"
     ]
    },
    {
     "name": "stdout",
     "output_type": "stream",
     "text": [
      "CHOCOLATE>>>No lyrics\n"
     ]
    },
    {
     "name": "stderr",
     "output_type": "stream",
     "text": [
      "\r",
      " 30%|██▉       | 328/1098 [09:13<23:28,  1.83s/it]"
     ]
    },
    {
     "name": "stdout",
     "output_type": "stream",
     "text": [
      "UN LUGAR ADENTRO>>>No lyrics\n"
     ]
    },
    {
     "name": "stderr",
     "output_type": "stream",
     "text": [
      "\r",
      " 30%|██▉       | 329/1098 [09:15<23:05,  1.80s/it]"
     ]
    },
    {
     "name": "stdout",
     "output_type": "stream",
     "text": [
      "Parque Acuático>>>No lyrics\n"
     ]
    },
    {
     "name": "stderr",
     "output_type": "stream",
     "text": [
      "\r",
      " 30%|███       | 330/1098 [09:17<25:35,  2.00s/it]"
     ]
    },
    {
     "name": "stdout",
     "output_type": "stream",
     "text": [
      "Bossa & People>>>No lyrics\n"
     ]
    },
    {
     "name": "stderr",
     "output_type": "stream",
     "text": [
      "\r",
      " 30%|███       | 331/1098 [09:19<25:05,  1.96s/it]"
     ]
    },
    {
     "name": "stdout",
     "output_type": "stream",
     "text": [
      "Circunvalación>>>No lyrics\n"
     ]
    },
    {
     "name": "stderr",
     "output_type": "stream",
     "text": [
      "\r",
      " 30%|███       | 332/1098 [09:22<27:36,  2.16s/it]"
     ]
    },
    {
     "name": "stdout",
     "output_type": "stream",
     "text": [
      "Chiste>>>No lyrics\n"
     ]
    },
    {
     "name": "stderr",
     "output_type": "stream",
     "text": [
      "\r",
      " 30%|███       | 333/1098 [09:24<26:44,  2.10s/it]"
     ]
    },
    {
     "name": "stdout",
     "output_type": "stream",
     "text": [
      "En Avenidas>>>No lyrics\n"
     ]
    },
    {
     "name": "stderr",
     "output_type": "stream",
     "text": [
      " 31%|███       | 336/1098 [09:28<21:12,  1.67s/it]"
     ]
    },
    {
     "name": "stdout",
     "output_type": "stream",
     "text": [
      "Más o Menos Bien>>>No lyrics\n"
     ]
    },
    {
     "name": "stderr",
     "output_type": "stream",
     "text": [
      "\r",
      " 31%|███       | 337/1098 [09:30<21:49,  1.72s/it]"
     ]
    },
    {
     "name": "stdout",
     "output_type": "stream",
     "text": [
      "El Tesoro - Acústico>>>No lyrics\n"
     ]
    },
    {
     "name": "stderr",
     "output_type": "stream",
     "text": [
      " 31%|███       | 341/1098 [09:35<19:38,  1.56s/it]"
     ]
    },
    {
     "name": "stdout",
     "output_type": "stream",
     "text": [
      "Chica de Oro>>>No lyrics\n"
     ]
    },
    {
     "name": "stderr",
     "output_type": "stream",
     "text": [
      " 31%|███▏      | 344/1098 [09:39<17:53,  1.42s/it]"
     ]
    },
    {
     "name": "stdout",
     "output_type": "stream",
     "text": [
      "La Carta>>>No lyrics\n"
     ]
    },
    {
     "name": "stderr",
     "output_type": "stream",
     "text": [
      "\r",
      " 31%|███▏      | 345/1098 [09:41<20:05,  1.60s/it]"
     ]
    },
    {
     "name": "stdout",
     "output_type": "stream",
     "text": [
      "Potra>>>No lyrics\n"
     ]
    },
    {
     "name": "stderr",
     "output_type": "stream",
     "text": [
      "\r",
      " 32%|███▏      | 346/1098 [09:43<21:45,  1.74s/it]"
     ]
    },
    {
     "name": "stdout",
     "output_type": "stream",
     "text": [
      "Veni Mirá>>>No lyrics\n"
     ]
    },
    {
     "name": "stderr",
     "output_type": "stream",
     "text": [
      "\r",
      " 32%|███▏      | 347/1098 [09:45<22:54,  1.83s/it]"
     ]
    },
    {
     "name": "stdout",
     "output_type": "stream",
     "text": [
      "Vos No>>>No lyrics\n"
     ]
    },
    {
     "name": "stderr",
     "output_type": "stream",
     "text": [
      "\r",
      " 32%|███▏      | 348/1098 [09:48<26:00,  2.08s/it]"
     ]
    },
    {
     "name": "stdout",
     "output_type": "stream",
     "text": [
      "Unos Días Más>>>No lyrics\n"
     ]
    },
    {
     "name": "stderr",
     "output_type": "stream",
     "text": [
      "\r",
      " 32%|███▏      | 349/1098 [09:50<26:12,  2.10s/it]"
     ]
    },
    {
     "name": "stdout",
     "output_type": "stream",
     "text": [
      "Menos Mal>>>No lyrics\n"
     ]
    },
    {
     "name": "stderr",
     "output_type": "stream",
     "text": [
      "\r",
      " 32%|███▏      | 350/1098 [09:52<25:31,  2.05s/it]"
     ]
    },
    {
     "name": "stdout",
     "output_type": "stream",
     "text": [
      "El Enrosque>>>No lyrics\n"
     ]
    },
    {
     "name": "stderr",
     "output_type": "stream",
     "text": [
      "\r",
      " 32%|███▏      | 351/1098 [09:54<25:11,  2.02s/it]"
     ]
    },
    {
     "name": "stdout",
     "output_type": "stream",
     "text": [
      "Ya Es Tarde>>>No lyrics\n"
     ]
    },
    {
     "name": "stderr",
     "output_type": "stream",
     "text": [
      "\r",
      " 32%|███▏      | 352/1098 [09:56<25:37,  2.06s/it]"
     ]
    },
    {
     "name": "stdout",
     "output_type": "stream",
     "text": [
      "Sin un Peso>>>No lyrics\n"
     ]
    },
    {
     "name": "stderr",
     "output_type": "stream",
     "text": [
      "\r",
      " 32%|███▏      | 353/1098 [09:58<25:09,  2.03s/it]"
     ]
    },
    {
     "name": "stdout",
     "output_type": "stream",
     "text": [
      "La Espera>>>No lyrics\n"
     ]
    },
    {
     "name": "stderr",
     "output_type": "stream",
     "text": [
      "\r",
      " 32%|███▏      | 354/1098 [10:00<24:04,  1.94s/it]"
     ]
    },
    {
     "name": "stdout",
     "output_type": "stream",
     "text": [
      "Sincero>>>No lyrics\n"
     ]
    },
    {
     "name": "stderr",
     "output_type": "stream",
     "text": [
      "\r",
      " 32%|███▏      | 355/1098 [10:02<25:50,  2.09s/it]"
     ]
    },
    {
     "name": "stdout",
     "output_type": "stream",
     "text": [
      "Gracias x Nada>>>No lyrics\n"
     ]
    },
    {
     "name": "stderr",
     "output_type": "stream",
     "text": [
      "\r",
      " 32%|███▏      | 356/1098 [10:04<24:38,  1.99s/it]"
     ]
    },
    {
     "name": "stdout",
     "output_type": "stream",
     "text": [
      "Bailar Sola (feat. Florencia Lucena, Nahuel Barbero & Hernan Ortiz)>>>No lyrics\n"
     ]
    },
    {
     "name": "stderr",
     "output_type": "stream",
     "text": [
      "\r",
      " 33%|███▎      | 357/1098 [10:06<24:03,  1.95s/it]"
     ]
    },
    {
     "name": "stdout",
     "output_type": "stream",
     "text": [
      "ALGO MÁS.>>>No lyrics\n"
     ]
    },
    {
     "name": "stderr",
     "output_type": "stream",
     "text": [
      "\r",
      " 33%|███▎      | 358/1098 [10:08<23:04,  1.87s/it]"
     ]
    },
    {
     "name": "stdout",
     "output_type": "stream",
     "text": [
      "Las Cosas>>>No lyrics\n"
     ]
    },
    {
     "name": "stderr",
     "output_type": "stream",
     "text": [
      "\r",
      " 33%|███▎      | 359/1098 [10:10<24:37,  2.00s/it]"
     ]
    },
    {
     "name": "stdout",
     "output_type": "stream",
     "text": [
      "Callar>>>No lyrics\n"
     ]
    },
    {
     "name": "stderr",
     "output_type": "stream",
     "text": [
      "\r",
      " 33%|███▎      | 360/1098 [10:12<23:39,  1.92s/it]"
     ]
    },
    {
     "name": "stdout",
     "output_type": "stream",
     "text": [
      "VENIR A LA CIUDAD.>>>No lyrics\n"
     ]
    },
    {
     "name": "stderr",
     "output_type": "stream",
     "text": [
      "\r",
      " 33%|███▎      | 361/1098 [10:13<22:34,  1.84s/it]"
     ]
    },
    {
     "name": "stdout",
     "output_type": "stream",
     "text": [
      "TODO LO QUE HICIMOS.>>>No lyrics\n"
     ]
    },
    {
     "name": "stderr",
     "output_type": "stream",
     "text": [
      "\r",
      " 33%|███▎      | 362/1098 [10:15<22:10,  1.81s/it]"
     ]
    },
    {
     "name": "stdout",
     "output_type": "stream",
     "text": [
      "Bruce Willis>>>No lyrics\n"
     ]
    },
    {
     "name": "stderr",
     "output_type": "stream",
     "text": [
      "\r",
      " 33%|███▎      | 363/1098 [10:17<21:53,  1.79s/it]"
     ]
    },
    {
     "name": "stdout",
     "output_type": "stream",
     "text": [
      "Flota Flota>>>No lyrics\n"
     ]
    },
    {
     "name": "stderr",
     "output_type": "stream",
     "text": [
      "\r",
      " 33%|███▎      | 364/1098 [10:19<21:42,  1.77s/it]"
     ]
    },
    {
     "name": "stdout",
     "output_type": "stream",
     "text": [
      "Disco Majul>>>No lyrics\n"
     ]
    },
    {
     "name": "stderr",
     "output_type": "stream",
     "text": [
      "\r",
      " 33%|███▎      | 365/1098 [10:20<21:55,  1.79s/it]"
     ]
    },
    {
     "name": "stdout",
     "output_type": "stream",
     "text": [
      "Fantástico Bailable>>>No lyrics\n"
     ]
    },
    {
     "name": "stderr",
     "output_type": "stream",
     "text": [
      "\r",
      " 33%|███▎      | 366/1098 [10:22<21:41,  1.78s/it]"
     ]
    },
    {
     "name": "stdout",
     "output_type": "stream",
     "text": [
      "Efecto Mandela>>>No lyrics\n"
     ]
    },
    {
     "name": "stderr",
     "output_type": "stream",
     "text": [
      "\r",
      " 33%|███▎      | 367/1098 [10:24<23:23,  1.92s/it]"
     ]
    },
    {
     "name": "stdout",
     "output_type": "stream",
     "text": [
      "Municipálida>>>No lyrics\n"
     ]
    },
    {
     "name": "stderr",
     "output_type": "stream",
     "text": [
      "\r",
      " 34%|███▎      | 368/1098 [10:26<23:16,  1.91s/it]"
     ]
    },
    {
     "name": "stdout",
     "output_type": "stream",
     "text": [
      "Ramona>>>No lyrics\n"
     ]
    },
    {
     "name": "stderr",
     "output_type": "stream",
     "text": [
      "\r",
      " 34%|███▎      | 369/1098 [10:28<22:49,  1.88s/it]"
     ]
    },
    {
     "name": "stdout",
     "output_type": "stream",
     "text": [
      "Puchos>>>No lyrics\n"
     ]
    },
    {
     "name": "stderr",
     "output_type": "stream",
     "text": [
      "\r",
      " 34%|███▎      | 370/1098 [10:30<22:39,  1.87s/it]"
     ]
    },
    {
     "name": "stdout",
     "output_type": "stream",
     "text": [
      "Un Montón>>>No lyrics\n"
     ]
    },
    {
     "name": "stderr",
     "output_type": "stream",
     "text": [
      "\r",
      " 34%|███▍      | 371/1098 [10:32<22:54,  1.89s/it]"
     ]
    },
    {
     "name": "stdout",
     "output_type": "stream",
     "text": [
      "Turco X>>>No lyrics\n"
     ]
    },
    {
     "name": "stderr",
     "output_type": "stream",
     "text": [
      "\r",
      " 34%|███▍      | 372/1098 [10:34<23:48,  1.97s/it]"
     ]
    },
    {
     "name": "stdout",
     "output_type": "stream",
     "text": [
      "Tus Pecas - Bonus Track>>>No lyrics\n"
     ]
    },
    {
     "name": "stderr",
     "output_type": "stream",
     "text": [
      "\r",
      " 34%|███▍      | 373/1098 [10:36<22:57,  1.90s/it]"
     ]
    },
    {
     "name": "stdout",
     "output_type": "stream",
     "text": [
      "Agua Marfil>>>No lyrics\n"
     ]
    },
    {
     "name": "stderr",
     "output_type": "stream",
     "text": [
      " 34%|███▍      | 377/1098 [10:43<21:18,  1.77s/it]"
     ]
    },
    {
     "name": "stdout",
     "output_type": "stream",
     "text": [
      "Mañana>>>No lyrics\n"
     ]
    },
    {
     "name": "stderr",
     "output_type": "stream",
     "text": [
      " 35%|███▍      | 380/1098 [10:48<19:57,  1.67s/it]"
     ]
    },
    {
     "name": "stdout",
     "output_type": "stream",
     "text": [
      "Pastizal>>>No lyrics\n"
     ]
    },
    {
     "name": "stderr",
     "output_type": "stream",
     "text": [
      "\r",
      " 35%|███▍      | 381/1098 [10:49<20:10,  1.69s/it]"
     ]
    },
    {
     "name": "stdout",
     "output_type": "stream",
     "text": [
      "Sigo Sin Entenderte>>>No lyrics\n"
     ]
    },
    {
     "name": "stderr",
     "output_type": "stream",
     "text": [
      "\r",
      " 35%|███▍      | 382/1098 [10:51<20:43,  1.74s/it]"
     ]
    },
    {
     "name": "stdout",
     "output_type": "stream",
     "text": [
      "Chachachá>>>No lyrics\n"
     ]
    },
    {
     "name": "stderr",
     "output_type": "stream",
     "text": [
      " 35%|███▍      | 384/1098 [10:55<22:28,  1.89s/it]"
     ]
    },
    {
     "name": "stdout",
     "output_type": "stream",
     "text": [
      "Combustión>>>No lyrics\n"
     ]
    },
    {
     "name": "stderr",
     "output_type": "stream",
     "text": [
      "\r",
      " 35%|███▌      | 385/1098 [10:57<21:55,  1.84s/it]"
     ]
    },
    {
     "name": "stdout",
     "output_type": "stream",
     "text": [
      "Jacaranda>>>No lyrics\n"
     ]
    },
    {
     "name": "stderr",
     "output_type": "stream",
     "text": [
      " 36%|███▌      | 391/1098 [11:08<20:16,  1.72s/it]"
     ]
    },
    {
     "name": "stdout",
     "output_type": "stream",
     "text": [
      "Soy La Zoila>>>No lyrics\n"
     ]
    },
    {
     "name": "stderr",
     "output_type": "stream",
     "text": [
      " 40%|███▉      | 438/1098 [12:08<15:21,  1.40s/it]"
     ]
    },
    {
     "name": "stdout",
     "output_type": "stream",
     "text": [
      "Síntomas>>>No lyrics\n"
     ]
    },
    {
     "name": "stderr",
     "output_type": "stream",
     "text": [
      "\r",
      " 40%|███▉      | 439/1098 [12:09<16:27,  1.50s/it]"
     ]
    },
    {
     "name": "stdout",
     "output_type": "stream",
     "text": [
      "La Noche>>>No lyrics\n"
     ]
    },
    {
     "name": "stderr",
     "output_type": "stream",
     "text": [
      "\r",
      " 40%|████      | 440/1098 [12:11<17:15,  1.57s/it]"
     ]
    },
    {
     "name": "stdout",
     "output_type": "stream",
     "text": [
      "Mirada Infinita>>>No lyrics\n"
     ]
    },
    {
     "name": "stderr",
     "output_type": "stream",
     "text": [
      "\r",
      " 40%|████      | 441/1098 [12:13<17:45,  1.62s/it]"
     ]
    },
    {
     "name": "stdout",
     "output_type": "stream",
     "text": [
      "La Soledad>>>No lyrics\n"
     ]
    },
    {
     "name": "stderr",
     "output_type": "stream",
     "text": [
      "\r",
      " 40%|████      | 442/1098 [12:15<17:56,  1.64s/it]"
     ]
    },
    {
     "name": "stdout",
     "output_type": "stream",
     "text": [
      "Acuarela>>>No lyrics\n"
     ]
    },
    {
     "name": "stderr",
     "output_type": "stream",
     "text": [
      "\r",
      " 40%|████      | 443/1098 [12:16<18:05,  1.66s/it]"
     ]
    },
    {
     "name": "stdout",
     "output_type": "stream",
     "text": [
      "Las Ruinas>>>No lyrics\n"
     ]
    },
    {
     "name": "stderr",
     "output_type": "stream",
     "text": [
      "\r",
      " 40%|████      | 444/1098 [12:18<18:40,  1.71s/it]"
     ]
    },
    {
     "name": "stdout",
     "output_type": "stream",
     "text": [
      "Tantas Veces>>>No lyrics\n"
     ]
    },
    {
     "name": "stderr",
     "output_type": "stream",
     "text": [
      "\r",
      " 41%|████      | 445/1098 [12:20<18:43,  1.72s/it]"
     ]
    },
    {
     "name": "stdout",
     "output_type": "stream",
     "text": [
      "Exagero>>>No lyrics\n"
     ]
    },
    {
     "name": "stderr",
     "output_type": "stream",
     "text": [
      "\r",
      " 41%|████      | 446/1098 [12:22<18:46,  1.73s/it]"
     ]
    },
    {
     "name": "stdout",
     "output_type": "stream",
     "text": [
      "Vacío>>>No lyrics\n"
     ]
    },
    {
     "name": "stderr",
     "output_type": "stream",
     "text": [
      "\r",
      " 41%|████      | 447/1098 [12:23<18:47,  1.73s/it]"
     ]
    },
    {
     "name": "stdout",
     "output_type": "stream",
     "text": [
      "Lado B>>>No lyrics\n"
     ]
    },
    {
     "name": "stderr",
     "output_type": "stream",
     "text": [
      "\r",
      " 41%|████      | 448/1098 [12:25<18:43,  1.73s/it]"
     ]
    },
    {
     "name": "stdout",
     "output_type": "stream",
     "text": [
      "Fumar de día>>>No lyrics\n"
     ]
    },
    {
     "name": "stderr",
     "output_type": "stream",
     "text": [
      "\r",
      " 41%|████      | 449/1098 [12:27<18:07,  1.68s/it]"
     ]
    },
    {
     "name": "stdout",
     "output_type": "stream",
     "text": [
      "Racat>>>No lyrics\n"
     ]
    },
    {
     "name": "stderr",
     "output_type": "stream",
     "text": [
      " 42%|████▏     | 461/1098 [12:43<15:40,  1.48s/it]"
     ]
    },
    {
     "name": "stdout",
     "output_type": "stream",
     "text": [
      "De Pismanta a Baucacheta>>>No lyrics\n"
     ]
    },
    {
     "name": "stderr",
     "output_type": "stream",
     "text": [
      " 44%|████▎     | 478/1098 [13:05<14:31,  1.41s/it]"
     ]
    },
    {
     "name": "stdout",
     "output_type": "stream",
     "text": [
      "Porque Hoy Nací>>>No lyrics\n"
     ]
    },
    {
     "name": "stderr",
     "output_type": "stream",
     "text": [
      "\r",
      " 44%|████▎     | 479/1098 [13:07<15:32,  1.51s/it]"
     ]
    },
    {
     "name": "stdout",
     "output_type": "stream",
     "text": [
      "Sigue Feliz>>>No lyrics\n"
     ]
    },
    {
     "name": "stderr",
     "output_type": "stream",
     "text": [
      " 44%|████▍     | 481/1098 [13:11<16:46,  1.63s/it]"
     ]
    },
    {
     "name": "stdout",
     "output_type": "stream",
     "text": [
      "Cariñito>>>No lyrics\n"
     ]
    },
    {
     "name": "stderr",
     "output_type": "stream",
     "text": [
      "\r",
      " 44%|████▍     | 482/1098 [13:13<17:42,  1.72s/it]"
     ]
    },
    {
     "name": "stdout",
     "output_type": "stream",
     "text": [
      "Quiero Llegar>>>No lyrics\n"
     ]
    },
    {
     "name": "stderr",
     "output_type": "stream",
     "text": [
      "\r",
      " 44%|████▍     | 483/1098 [13:14<17:44,  1.73s/it]"
     ]
    },
    {
     "name": "stdout",
     "output_type": "stream",
     "text": [
      "Hoy Te Miré>>>No lyrics\n"
     ]
    },
    {
     "name": "stderr",
     "output_type": "stream",
     "text": [
      "\r",
      " 44%|████▍     | 484/1098 [13:16<18:13,  1.78s/it]"
     ]
    },
    {
     "name": "stdout",
     "output_type": "stream",
     "text": [
      "Camino>>>No lyrics\n"
     ]
    },
    {
     "name": "stderr",
     "output_type": "stream",
     "text": [
      "\r",
      " 44%|████▍     | 485/1098 [13:18<18:17,  1.79s/it]"
     ]
    },
    {
     "name": "stdout",
     "output_type": "stream",
     "text": [
      "Coral>>>No lyrics\n"
     ]
    },
    {
     "name": "stderr",
     "output_type": "stream",
     "text": [
      "\r",
      " 44%|████▍     | 486/1098 [13:20<18:20,  1.80s/it]"
     ]
    },
    {
     "name": "stdout",
     "output_type": "stream",
     "text": [
      "Te Quiero, Te Espero>>>No lyrics\n"
     ]
    },
    {
     "name": "stderr",
     "output_type": "stream",
     "text": [
      "\r",
      " 44%|████▍     | 487/1098 [13:22<18:08,  1.78s/it]"
     ]
    },
    {
     "name": "stdout",
     "output_type": "stream",
     "text": [
      "Luli>>>No lyrics\n"
     ]
    },
    {
     "name": "stderr",
     "output_type": "stream",
     "text": [
      "\r",
      " 44%|████▍     | 488/1098 [13:23<17:58,  1.77s/it]"
     ]
    },
    {
     "name": "stdout",
     "output_type": "stream",
     "text": [
      "Cancion de Cuna para el Niño Astronauta>>>No lyrics\n"
     ]
    },
    {
     "name": "stderr",
     "output_type": "stream",
     "text": [
      "\r",
      " 45%|████▍     | 489/1098 [13:25<17:52,  1.76s/it]"
     ]
    },
    {
     "name": "stdout",
     "output_type": "stream",
     "text": [
      "Y una Flor (El Pastito)>>>No lyrics\n"
     ]
    },
    {
     "name": "stderr",
     "output_type": "stream",
     "text": [
      "\r",
      " 45%|████▍     | 490/1098 [13:27<18:05,  1.79s/it]"
     ]
    },
    {
     "name": "stdout",
     "output_type": "stream",
     "text": [
      "Tiempo>>>No lyrics\n"
     ]
    },
    {
     "name": "stderr",
     "output_type": "stream",
     "text": [
      "\r",
      " 45%|████▍     | 491/1098 [13:29<17:56,  1.77s/it]"
     ]
    },
    {
     "name": "stdout",
     "output_type": "stream",
     "text": [
      "Y Ahora Soy>>>No lyrics\n"
     ]
    },
    {
     "name": "stderr",
     "output_type": "stream",
     "text": [
      " 45%|████▍     | 493/1098 [13:31<16:19,  1.62s/it]"
     ]
    },
    {
     "name": "stdout",
     "output_type": "stream",
     "text": [
      "Guapo Y Varon>>>No lyrics\n"
     ]
    },
    {
     "name": "stderr",
     "output_type": "stream",
     "text": [
      "\r",
      " 45%|████▍     | 494/1098 [13:34<18:13,  1.81s/it]"
     ]
    },
    {
     "name": "stdout",
     "output_type": "stream",
     "text": [
      "Las Avispas>>>No lyrics\n"
     ]
    },
    {
     "name": "stderr",
     "output_type": "stream",
     "text": [
      " 45%|████▌     | 499/1098 [13:41<14:59,  1.50s/it]"
     ]
    },
    {
     "name": "stdout",
     "output_type": "stream",
     "text": [
      "Sobredosis de Chamamé>>>No lyrics\n"
     ]
    },
    {
     "name": "stderr",
     "output_type": "stream",
     "text": [
      " 46%|████▌     | 502/1098 [13:46<17:12,  1.73s/it]"
     ]
    },
    {
     "name": "stdout",
     "output_type": "stream",
     "text": [
      "Setentista>>>No lyrics\n"
     ]
    },
    {
     "name": "stderr",
     "output_type": "stream",
     "text": [
      " 46%|████▌     | 505/1098 [13:51<16:29,  1.67s/it]"
     ]
    },
    {
     "name": "stdout",
     "output_type": "stream",
     "text": [
      "Justo Que Te Vas>>>No lyrics\n"
     ]
    },
    {
     "name": "stderr",
     "output_type": "stream",
     "text": [
      " 47%|████▋     | 513/1098 [14:03<14:57,  1.53s/it]"
     ]
    },
    {
     "name": "stdout",
     "output_type": "stream",
     "text": [
      "¿Quién Soñó En Tu Almohada?>>>No lyrics\n"
     ]
    },
    {
     "name": "stderr",
     "output_type": "stream",
     "text": [
      " 47%|████▋     | 516/1098 [14:09<16:17,  1.68s/it]"
     ]
    },
    {
     "name": "stdout",
     "output_type": "stream",
     "text": [
      "Para Vestirte Hoy>>>No lyrics\n"
     ]
    },
    {
     "name": "stderr",
     "output_type": "stream",
     "text": [
      " 47%|████▋     | 520/1098 [14:17<18:21,  1.91s/it]"
     ]
    },
    {
     "name": "stdout",
     "output_type": "stream",
     "text": [
      "Ventana>>>No lyrics\n"
     ]
    },
    {
     "name": "stderr",
     "output_type": "stream",
     "text": [
      "\r",
      " 47%|████▋     | 521/1098 [14:18<18:08,  1.89s/it]"
     ]
    },
    {
     "name": "stdout",
     "output_type": "stream",
     "text": [
      "La Reina de Marte>>>No lyrics\n"
     ]
    },
    {
     "name": "stderr",
     "output_type": "stream",
     "text": [
      " 48%|████▊     | 523/1098 [14:22<16:51,  1.76s/it]"
     ]
    },
    {
     "name": "stdout",
     "output_type": "stream",
     "text": [
      "Fantasmas>>>No lyrics\n"
     ]
    },
    {
     "name": "stderr",
     "output_type": "stream",
     "text": [
      " 48%|████▊     | 525/1098 [14:25<16:55,  1.77s/it]"
     ]
    },
    {
     "name": "stdout",
     "output_type": "stream",
     "text": [
      "Cautivo>>>No lyrics\n"
     ]
    },
    {
     "name": "stderr",
     "output_type": "stream",
     "text": [
      "\r",
      " 48%|████▊     | 526/1098 [14:27<17:57,  1.88s/it]"
     ]
    },
    {
     "name": "stdout",
     "output_type": "stream",
     "text": [
      "T'una Papita>>>No lyrics\n"
     ]
    },
    {
     "name": "stderr",
     "output_type": "stream",
     "text": [
      "\r",
      " 48%|████▊     | 527/1098 [14:29<17:31,  1.84s/it]"
     ]
    },
    {
     "name": "stdout",
     "output_type": "stream",
     "text": [
      "Celia>>>No lyrics\n"
     ]
    },
    {
     "name": "stderr",
     "output_type": "stream",
     "text": [
      "\r",
      " 48%|████▊     | 528/1098 [14:31<17:12,  1.81s/it]"
     ]
    },
    {
     "name": "stdout",
     "output_type": "stream",
     "text": [
      "Resultó Vegetariano>>>No lyrics\n"
     ]
    },
    {
     "name": "stderr",
     "output_type": "stream",
     "text": [
      "\r",
      " 48%|████▊     | 529/1098 [14:33<17:15,  1.82s/it]"
     ]
    },
    {
     "name": "stdout",
     "output_type": "stream",
     "text": [
      "Tu Última Parada>>>No lyrics\n"
     ]
    },
    {
     "name": "stderr",
     "output_type": "stream",
     "text": [
      "\r",
      " 48%|████▊     | 530/1098 [14:34<16:43,  1.77s/it]"
     ]
    },
    {
     "name": "stdout",
     "output_type": "stream",
     "text": [
      "Compadre Agarra la Onda>>>No lyrics\n"
     ]
    },
    {
     "name": "stderr",
     "output_type": "stream",
     "text": [
      "\r",
      " 48%|████▊     | 531/1098 [14:36<16:37,  1.76s/it]"
     ]
    },
    {
     "name": "stdout",
     "output_type": "stream",
     "text": [
      "Sigue Tu Vida>>>No lyrics\n"
     ]
    },
    {
     "name": "stderr",
     "output_type": "stream",
     "text": [
      " 51%|█████     | 561/1098 [15:15<13:25,  1.50s/it]"
     ]
    },
    {
     "name": "stdout",
     "output_type": "stream",
     "text": [
      "Que La D.E.A. No Me Vea (Yapa)>>>No lyrics\n"
     ]
    },
    {
     "name": "stderr",
     "output_type": "stream",
     "text": [
      " 51%|█████▏    | 565/1098 [15:21<13:14,  1.49s/it]"
     ]
    },
    {
     "name": "stdout",
     "output_type": "stream",
     "text": [
      "Hasta el Otro Carnaval>>>No lyrics\n"
     ]
    },
    {
     "name": "stderr",
     "output_type": "stream",
     "text": [
      " 52%|█████▏    | 567/1098 [15:24<14:22,  1.62s/it]"
     ]
    },
    {
     "name": "stdout",
     "output_type": "stream",
     "text": [
      "Arde la Ciudad>>>No lyrics\n"
     ]
    },
    {
     "name": "stderr",
     "output_type": "stream",
     "text": [
      " 52%|█████▏    | 574/1098 [15:35<13:30,  1.55s/it]"
     ]
    },
    {
     "name": "stdout",
     "output_type": "stream",
     "text": [
      "Añejo W - Vivo>>>No lyrics\n"
     ]
    },
    {
     "name": "stderr",
     "output_type": "stream",
     "text": [
      " 53%|█████▎    | 587/1098 [15:52<12:16,  1.44s/it]"
     ]
    },
    {
     "name": "stdout",
     "output_type": "stream",
     "text": [
      "Un Rato de Amor - Acústico>>>No lyrics\n"
     ]
    },
    {
     "name": "stderr",
     "output_type": "stream",
     "text": [
      " 54%|█████▍    | 591/1098 [15:58<12:48,  1.52s/it]"
     ]
    },
    {
     "name": "stdout",
     "output_type": "stream",
     "text": [
      "Un Mundo Mejor>>>No lyrics\n"
     ]
    },
    {
     "name": "stderr",
     "output_type": "stream",
     "text": [
      " 54%|█████▍    | 594/1098 [16:03<12:29,  1.49s/it]"
     ]
    },
    {
     "name": "stdout",
     "output_type": "stream",
     "text": [
      "Perdiste>>>No lyrics\n"
     ]
    },
    {
     "name": "stderr",
     "output_type": "stream",
     "text": [
      "\r",
      " 54%|█████▍    | 595/1098 [16:05<13:36,  1.62s/it]"
     ]
    },
    {
     "name": "stdout",
     "output_type": "stream",
     "text": [
      "Mientes>>>No lyrics\n"
     ]
    },
    {
     "name": "stderr",
     "output_type": "stream",
     "text": [
      " 54%|█████▍    | 597/1098 [16:08<14:06,  1.69s/it]"
     ]
    },
    {
     "name": "stdout",
     "output_type": "stream",
     "text": [
      "De Música Ligera - Remasterizado 2007>>>No lyrics\n"
     ]
    },
    {
     "name": "stderr",
     "output_type": "stream",
     "text": [
      " 55%|█████▍    | 601/1098 [16:13<12:09,  1.47s/it]"
     ]
    },
    {
     "name": "stdout",
     "output_type": "stream",
     "text": [
      "Arteria Ulnar>>>No lyrics\n"
     ]
    },
    {
     "name": "stderr",
     "output_type": "stream",
     "text": [
      " 55%|█████▌    | 605/1098 [16:20<12:45,  1.55s/it]"
     ]
    },
    {
     "name": "stdout",
     "output_type": "stream",
     "text": [
      "No Le Ganamos a Nadie>>>No lyrics\n"
     ]
    },
    {
     "name": "stderr",
     "output_type": "stream",
     "text": [
      " 55%|█████▌    | 607/1098 [16:23<12:50,  1.57s/it]"
     ]
    },
    {
     "name": "stdout",
     "output_type": "stream",
     "text": [
      "Contratiempos>>>No lyrics\n"
     ]
    },
    {
     "name": "stderr",
     "output_type": "stream",
     "text": [
      " 56%|█████▌    | 614/1098 [16:33<12:51,  1.59s/it]"
     ]
    },
    {
     "name": "stdout",
     "output_type": "stream",
     "text": [
      "Si Tú No Estas (Nashville)>>>No lyrics\n"
     ]
    },
    {
     "name": "stderr",
     "output_type": "stream",
     "text": [
      " 56%|█████▋    | 618/1098 [16:40<14:12,  1.78s/it]"
     ]
    },
    {
     "name": "stdout",
     "output_type": "stream",
     "text": [
      "Una Nueva Realidad>>>No lyrics\n"
     ]
    },
    {
     "name": "stderr",
     "output_type": "stream",
     "text": [
      "\r",
      " 56%|█████▋    | 619/1098 [16:42<14:20,  1.80s/it]"
     ]
    },
    {
     "name": "stdout",
     "output_type": "stream",
     "text": [
      "Cuando no estás - Jamón del medio>>>No lyrics\n"
     ]
    },
    {
     "name": "stderr",
     "output_type": "stream",
     "text": [
      "\r",
      " 56%|█████▋    | 620/1098 [16:44<14:54,  1.87s/it]"
     ]
    },
    {
     "name": "stdout",
     "output_type": "stream",
     "text": [
      "Cuando Pase El Temblor - Remasterizado 2007>>>No lyrics\n"
     ]
    },
    {
     "name": "stderr",
     "output_type": "stream",
     "text": [
      " 57%|█████▋    | 625/1098 [16:51<12:42,  1.61s/it]"
     ]
    },
    {
     "name": "stdout",
     "output_type": "stream",
     "text": [
      "Persiana Americana - Remasterizado 2007>>>No lyrics\n"
     ]
    },
    {
     "name": "stderr",
     "output_type": "stream",
     "text": [
      "\r",
      " 57%|█████▋    | 626/1098 [16:52<11:53,  1.51s/it]"
     ]
    },
    {
     "name": "stdout",
     "output_type": "stream",
     "text": [
      "Un Pacto - Live In Buenos Aires / 2001>>>No lyrics\n"
     ]
    },
    {
     "name": "stderr",
     "output_type": "stream",
     "text": [
      " 57%|█████▋    | 629/1098 [16:57<11:14,  1.44s/it]"
     ]
    },
    {
     "name": "stdout",
     "output_type": "stream",
     "text": [
      "Dale!>>>No lyrics\n"
     ]
    },
    {
     "name": "stderr",
     "output_type": "stream",
     "text": [
      " 58%|█████▊    | 632/1098 [17:01<12:26,  1.60s/it]"
     ]
    },
    {
     "name": "stdout",
     "output_type": "stream",
     "text": [
      "La Razón>>>No lyrics\n"
     ]
    },
    {
     "name": "stderr",
     "output_type": "stream",
     "text": [
      " 58%|█████▊    | 638/1098 [17:10<11:08,  1.45s/it]"
     ]
    },
    {
     "name": "stdout",
     "output_type": "stream",
     "text": [
      "Si Me Dijeras>>>No lyrics\n"
     ]
    },
    {
     "name": "stderr",
     "output_type": "stream",
     "text": [
      " 58%|█████▊    | 641/1098 [17:15<11:56,  1.57s/it]"
     ]
    },
    {
     "name": "stdout",
     "output_type": "stream",
     "text": [
      "Vasos Vacíos - Remasterizado 2008>>>No lyrics\n"
     ]
    },
    {
     "name": "stderr",
     "output_type": "stream",
     "text": [
      " 59%|█████▊    | 643/1098 [17:18<11:44,  1.55s/it]"
     ]
    },
    {
     "name": "stdout",
     "output_type": "stream",
     "text": [
      "Niebla de Otoño>>>No lyrics\n"
     ]
    },
    {
     "name": "stderr",
     "output_type": "stream",
     "text": [
      " 59%|█████▉    | 648/1098 [17:24<10:22,  1.38s/it]"
     ]
    },
    {
     "name": "stdout",
     "output_type": "stream",
     "text": [
      "Y Si Te Espero>>>No lyrics\n"
     ]
    },
    {
     "name": "stderr",
     "output_type": "stream",
     "text": [
      " 59%|█████▉    | 653/1098 [17:31<10:39,  1.44s/it]"
     ]
    },
    {
     "name": "stdout",
     "output_type": "stream",
     "text": [
      "Dame Mas>>>No lyrics\n"
     ]
    },
    {
     "name": "stderr",
     "output_type": "stream",
     "text": [
      " 60%|█████▉    | 658/1098 [17:38<10:42,  1.46s/it]"
     ]
    },
    {
     "name": "stdout",
     "output_type": "stream",
     "text": [
      "No Me Importa el Dinero (feat. Julieta Venegas) - Vivo en el Palacio de los Deportes>>>No lyrics\n"
     ]
    },
    {
     "name": "stderr",
     "output_type": "stream",
     "text": [
      "\r",
      " 60%|██████    | 659/1098 [17:40<12:12,  1.67s/it]"
     ]
    },
    {
     "name": "stdout",
     "output_type": "stream",
     "text": [
      "El Ultimo Cigarrillo>>>No lyrics\n"
     ]
    },
    {
     "name": "stderr",
     "output_type": "stream",
     "text": [
      "\r",
      " 60%|██████    | 660/1098 [17:43<13:44,  1.88s/it]"
     ]
    },
    {
     "name": "stdout",
     "output_type": "stream",
     "text": [
      "Porque te fuiste>>>No lyrics\n"
     ]
    },
    {
     "name": "stderr",
     "output_type": "stream",
     "text": [
      "\r",
      " 60%|██████    | 661/1098 [17:45<13:56,  1.91s/it]"
     ]
    },
    {
     "name": "stdout",
     "output_type": "stream",
     "text": [
      "Con La Misma Cancion>>>No lyrics\n"
     ]
    },
    {
     "name": "stderr",
     "output_type": "stream",
     "text": [
      " 61%|██████    | 667/1098 [17:55<12:52,  1.79s/it]"
     ]
    },
    {
     "name": "stdout",
     "output_type": "stream",
     "text": [
      "Yo Me Enamore>>>No lyrics\n"
     ]
    },
    {
     "name": "stderr",
     "output_type": "stream",
     "text": [
      "\r",
      " 61%|██████    | 668/1098 [17:56<12:43,  1.78s/it]"
     ]
    },
    {
     "name": "stdout",
     "output_type": "stream",
     "text": [
      "La Cumbita>>>No lyrics\n"
     ]
    },
    {
     "name": "stderr",
     "output_type": "stream",
     "text": [
      "\r",
      " 61%|██████    | 669/1098 [17:58<12:38,  1.77s/it]"
     ]
    },
    {
     "name": "stdout",
     "output_type": "stream",
     "text": [
      "Sabor Sabroson>>>No lyrics\n"
     ]
    },
    {
     "name": "stderr",
     "output_type": "stream",
     "text": [
      " 61%|██████    | 671/1098 [18:02<12:48,  1.80s/it]"
     ]
    },
    {
     "name": "stdout",
     "output_type": "stream",
     "text": [
      "Bata Boom>>>No lyrics\n"
     ]
    },
    {
     "name": "stderr",
     "output_type": "stream",
     "text": [
      "\r",
      " 61%|██████    | 672/1098 [18:03<12:39,  1.78s/it]"
     ]
    },
    {
     "name": "stdout",
     "output_type": "stream",
     "text": [
      "Me Olvide de Ti>>>No lyrics\n"
     ]
    },
    {
     "name": "stderr",
     "output_type": "stream",
     "text": [
      "\r",
      " 61%|██████▏   | 673/1098 [18:05<12:32,  1.77s/it]"
     ]
    },
    {
     "name": "stdout",
     "output_type": "stream",
     "text": [
      "Hasta Que Salga El Sol>>>No lyrics\n"
     ]
    },
    {
     "name": "stderr",
     "output_type": "stream",
     "text": [
      "\r",
      " 61%|██████▏   | 674/1098 [18:07<12:26,  1.76s/it]"
     ]
    },
    {
     "name": "stdout",
     "output_type": "stream",
     "text": [
      "Re Loco>>>No lyrics\n"
     ]
    },
    {
     "name": "stderr",
     "output_type": "stream",
     "text": [
      "\r",
      " 61%|██████▏   | 675/1098 [18:09<13:01,  1.85s/it]"
     ]
    },
    {
     "name": "stdout",
     "output_type": "stream",
     "text": [
      "Deja De Llorar>>>No lyrics\n"
     ]
    },
    {
     "name": "stderr",
     "output_type": "stream",
     "text": [
      " 62%|██████▏   | 677/1098 [18:12<11:46,  1.68s/it]"
     ]
    },
    {
     "name": "stdout",
     "output_type": "stream",
     "text": [
      "Toma La Mema>>>No lyrics\n"
     ]
    },
    {
     "name": "stderr",
     "output_type": "stream",
     "text": [
      " 62%|██████▏   | 680/1098 [18:17<11:40,  1.68s/it]"
     ]
    },
    {
     "name": "stdout",
     "output_type": "stream",
     "text": [
      "La resaka>>>No lyrics\n"
     ]
    },
    {
     "name": "stderr",
     "output_type": "stream",
     "text": [
      "\r",
      " 62%|██████▏   | 681/1098 [18:18<11:47,  1.70s/it]"
     ]
    },
    {
     "name": "stdout",
     "output_type": "stream",
     "text": [
      "Sanguijuela>>>No lyrics\n"
     ]
    },
    {
     "name": "stderr",
     "output_type": "stream",
     "text": [
      "\r",
      " 62%|██████▏   | 682/1098 [18:20<11:50,  1.71s/it]"
     ]
    },
    {
     "name": "stdout",
     "output_type": "stream",
     "text": [
      "Loba (feat. Carnal & J Alvarez)>>>No lyrics\n"
     ]
    },
    {
     "name": "stderr",
     "output_type": "stream",
     "text": [
      " 63%|██████▎   | 688/1098 [18:29<10:21,  1.52s/it]"
     ]
    },
    {
     "name": "stdout",
     "output_type": "stream",
     "text": [
      "La Butakera>>>No lyrics\n"
     ]
    },
    {
     "name": "stderr",
     "output_type": "stream",
     "text": [
      "\r",
      " 63%|██████▎   | 689/1098 [18:30<10:35,  1.55s/it]"
     ]
    },
    {
     "name": "stdout",
     "output_type": "stream",
     "text": [
      "Siempre Me Llama>>>No lyrics\n"
     ]
    },
    {
     "name": "stderr",
     "output_type": "stream",
     "text": [
      "\r",
      " 63%|██████▎   | 690/1098 [18:32<11:09,  1.64s/it]"
     ]
    },
    {
     "name": "stdout",
     "output_type": "stream",
     "text": [
      "No Lo Engañes Mas>>>No lyrics\n"
     ]
    },
    {
     "name": "stderr",
     "output_type": "stream",
     "text": [
      " 63%|██████▎   | 692/1098 [18:35<10:19,  1.53s/it]"
     ]
    },
    {
     "name": "stdout",
     "output_type": "stream",
     "text": [
      "El Polvito del Amor>>>No lyrics\n"
     ]
    },
    {
     "name": "stderr",
     "output_type": "stream",
     "text": [
      "\r",
      " 63%|██████▎   | 693/1098 [18:37<11:36,  1.72s/it]"
     ]
    },
    {
     "name": "stdout",
     "output_type": "stream",
     "text": [
      "Despojate>>>No lyrics\n"
     ]
    },
    {
     "name": "stderr",
     "output_type": "stream",
     "text": [
      "\r",
      " 63%|██████▎   | 694/1098 [18:39<11:47,  1.75s/it]"
     ]
    },
    {
     "name": "stdout",
     "output_type": "stream",
     "text": [
      "Yo Tomo Licor>>>No lyrics\n"
     ]
    },
    {
     "name": "stderr",
     "output_type": "stream",
     "text": [
      "\r",
      " 63%|██████▎   | 695/1098 [18:41<11:56,  1.78s/it]"
     ]
    },
    {
     "name": "stdout",
     "output_type": "stream",
     "text": [
      "Soy Cordobes>>>No lyrics\n"
     ]
    },
    {
     "name": "stderr",
     "output_type": "stream",
     "text": [
      " 64%|██████▎   | 699/1098 [18:46<10:15,  1.54s/it]"
     ]
    },
    {
     "name": "stdout",
     "output_type": "stream",
     "text": [
      "Juntos Al Amanecer>>>No lyrics\n"
     ]
    },
    {
     "name": "stderr",
     "output_type": "stream",
     "text": [
      " 68%|██████▊   | 744/1098 [19:45<08:07,  1.38s/it]"
     ]
    },
    {
     "name": "stdout",
     "output_type": "stream",
     "text": [
      "Dímelo - Versión Acústica>>>No lyrics\n"
     ]
    },
    {
     "name": "stderr",
     "output_type": "stream",
     "text": [
      " 69%|██████▉   | 757/1098 [20:02<06:59,  1.23s/it]"
     ]
    },
    {
     "name": "stdout",
     "output_type": "stream",
     "text": [
      "Será Que No Me Amas - En Vivo>>>No lyrics\n"
     ]
    },
    {
     "name": "stderr",
     "output_type": "stream",
     "text": [
      " 69%|██████▉   | 759/1098 [20:05<07:46,  1.38s/it]"
     ]
    },
    {
     "name": "stdout",
     "output_type": "stream",
     "text": [
      "Historia De Un Amor - En Vivo>>>No lyrics\n"
     ]
    },
    {
     "name": "stderr",
     "output_type": "stream",
     "text": [
      " 70%|███████   | 770/1098 [20:20<07:48,  1.43s/it]"
     ]
    },
    {
     "name": "stdout",
     "output_type": "stream",
     "text": [
      "El Primer Día del Resto de Mi Vida - Directo Primera Fila>>>No lyrics\n"
     ]
    },
    {
     "name": "stderr",
     "output_type": "stream",
     "text": [
      " 71%|███████   | 776/1098 [20:29<08:01,  1.49s/it]"
     ]
    },
    {
     "name": "stdout",
     "output_type": "stream",
     "text": [
      "Rosas - Directo Primera Fila>>>No lyrics\n"
     ]
    },
    {
     "name": "stderr",
     "output_type": "stream",
     "text": [
      " 71%|███████   | 778/1098 [20:33<09:09,  1.72s/it]"
     ]
    },
    {
     "name": "stdout",
     "output_type": "stream",
     "text": [
      "María (with Natalia Lafourcade) - Directo Primera Fila>>>No lyrics\n"
     ]
    },
    {
     "name": "stderr",
     "output_type": "stream",
     "text": [
      " 72%|███████▏  | 789/1098 [20:49<08:06,  1.58s/it]"
     ]
    },
    {
     "name": "stdout",
     "output_type": "stream",
     "text": [
      "Jueves - Directo Primera Fila>>>No lyrics\n"
     ]
    },
    {
     "name": "stderr",
     "output_type": "stream",
     "text": [
      " 72%|███████▏  | 795/1098 [20:58<08:02,  1.59s/it]"
     ]
    },
    {
     "name": "stdout",
     "output_type": "stream",
     "text": [
      "Cuando Dices Adios - Directo Primera Fila>>>No lyrics\n"
     ]
    },
    {
     "name": "stderr",
     "output_type": "stream",
     "text": [
      " 73%|███████▎  | 798/1098 [21:02<07:37,  1.53s/it]"
     ]
    },
    {
     "name": "stdout",
     "output_type": "stream",
     "text": [
      "Estoy Contigo>>>No lyrics\n"
     ]
    },
    {
     "name": "stderr",
     "output_type": "stream",
     "text": [
      " 73%|███████▎  | 804/1098 [21:11<07:50,  1.60s/it]"
     ]
    },
    {
     "name": "stdout",
     "output_type": "stream",
     "text": [
      "Estoy Contigo (feat. Ana Torroja, Andrés Suárez, David Otero, Funambulista, India Martinez, Iván Ferreiro, Maldita Nerea, Melendi, Rozalén & Vanesa Martin)>>>No lyrics\n"
     ]
    },
    {
     "name": "stderr",
     "output_type": "stream",
     "text": [
      " 73%|███████▎  | 807/1098 [21:15<07:21,  1.52s/it]"
     ]
    },
    {
     "name": "stdout",
     "output_type": "stream",
     "text": [
      "Ay Haiti!>>>No lyrics\n"
     ]
    },
    {
     "name": "stderr",
     "output_type": "stream",
     "text": [
      "\r",
      " 74%|███████▎  | 808/1098 [21:17<07:57,  1.65s/it]"
     ]
    },
    {
     "name": "stdout",
     "output_type": "stream",
     "text": [
      "Haizeaz Fidatu - Versión Euskera>>>No lyrics\n"
     ]
    },
    {
     "name": "stderr",
     "output_type": "stream",
     "text": [
      "\r",
      " 74%|███████▎  | 809/1098 [21:19<07:59,  1.66s/it]"
     ]
    },
    {
     "name": "stdout",
     "output_type": "stream",
     "text": [
      "No Tengo>>>No lyrics\n"
     ]
    },
    {
     "name": "stderr",
     "output_type": "stream",
     "text": [
      " 74%|███████▍  | 817/1098 [21:30<07:06,  1.52s/it]"
     ]
    },
    {
     "name": "stdout",
     "output_type": "stream",
     "text": [
      "Entre Cuatro Paredes>>>No lyrics\n"
     ]
    },
    {
     "name": "stderr",
     "output_type": "stream",
     "text": [
      " 76%|███████▌  | 829/1098 [21:46<06:28,  1.44s/it]"
     ]
    },
    {
     "name": "stdout",
     "output_type": "stream",
     "text": [
      "Para No Olvidar>>>No lyrics\n"
     ]
    },
    {
     "name": "stderr",
     "output_type": "stream",
     "text": [
      " 76%|███████▌  | 834/1098 [21:53<06:21,  1.44s/it]"
     ]
    },
    {
     "name": "stdout",
     "output_type": "stream",
     "text": [
      "El Rey del Rock 'n' Roll>>>No lyrics\n"
     ]
    },
    {
     "name": "stderr",
     "output_type": "stream",
     "text": [
      " 77%|███████▋  | 842/1098 [22:05<06:49,  1.60s/it]"
     ]
    },
    {
     "name": "stdout",
     "output_type": "stream",
     "text": [
      "Aquí la Tienes>>>No lyrics\n"
     ]
    },
    {
     "name": "stderr",
     "output_type": "stream",
     "text": [
      "\r",
      " 77%|███████▋  | 843/1098 [22:07<06:58,  1.64s/it]"
     ]
    },
    {
     "name": "stdout",
     "output_type": "stream",
     "text": [
      "Si Me Dejan>>>No lyrics\n"
     ]
    },
    {
     "name": "stderr",
     "output_type": "stream",
     "text": [
      " 77%|███████▋  | 847/1098 [22:12<06:21,  1.52s/it]"
     ]
    },
    {
     "name": "stdout",
     "output_type": "stream",
     "text": [
      "La Tregua (feat. Vicentico)>>>No lyrics\n"
     ]
    },
    {
     "name": "stderr",
     "output_type": "stream",
     "text": [
      " 77%|███████▋  | 850/1098 [22:17<06:27,  1.56s/it]"
     ]
    },
    {
     "name": "stdout",
     "output_type": "stream",
     "text": [
      "La Fortuna>>>No lyrics\n"
     ]
    },
    {
     "name": "stderr",
     "output_type": "stream",
     "text": [
      " 78%|███████▊  | 853/1098 [22:22<06:22,  1.56s/it]"
     ]
    },
    {
     "name": "stdout",
     "output_type": "stream",
     "text": [
      "Contrabando de Amor>>>No lyrics\n"
     ]
    },
    {
     "name": "stderr",
     "output_type": "stream",
     "text": [
      " 80%|████████  | 882/1098 [23:04<06:20,  1.76s/it]"
     ]
    },
    {
     "name": "stdout",
     "output_type": "stream",
     "text": [
      "Desde Lejos No Se Ve - En Vivo>>>No lyrics\n"
     ]
    },
    {
     "name": "stderr",
     "output_type": "stream",
     "text": [
      " 81%|████████  | 889/1098 [23:16<06:05,  1.75s/it]"
     ]
    },
    {
     "name": "stdout",
     "output_type": "stream",
     "text": [
      "Así de Grandes Son las Ideas>>>No lyrics\n"
     ]
    },
    {
     "name": "stderr",
     "output_type": "stream",
     "text": [
      " 82%|████████▏ | 902/1098 [23:35<05:13,  1.60s/it]"
     ]
    },
    {
     "name": "stdout",
     "output_type": "stream",
     "text": [
      "La Hormiga Brava>>>No lyrics\n"
     ]
    },
    {
     "name": "stderr",
     "output_type": "stream",
     "text": [
      " 83%|████████▎ | 916/1098 [23:56<05:10,  1.70s/it]"
     ]
    },
    {
     "name": "stdout",
     "output_type": "stream",
     "text": [
      "Suave Mix - Blass Remix>>>No lyrics\n"
     ]
    },
    {
     "name": "stderr",
     "output_type": "stream",
     "text": [
      " 84%|████████▍ | 920/1098 [24:04<05:34,  1.88s/it]"
     ]
    },
    {
     "name": "stdout",
     "output_type": "stream",
     "text": [
      "Ven Y Critícame>>>No lyrics\n"
     ]
    },
    {
     "name": "stderr",
     "output_type": "stream",
     "text": [
      " 85%|████████▍ | 933/1098 [24:23<04:06,  1.49s/it]"
     ]
    },
    {
     "name": "stdout",
     "output_type": "stream",
     "text": [
      "Frente al Río>>>No lyrics\n"
     ]
    },
    {
     "name": "stderr",
     "output_type": "stream",
     "text": [
      "\r",
      " 85%|████████▌ | 934/1098 [24:25<04:17,  1.57s/it]"
     ]
    },
    {
     "name": "stdout",
     "output_type": "stream",
     "text": [
      "Vicioso Jugador y Mujeriego>>>No lyrics\n"
     ]
    },
    {
     "name": "stderr",
     "output_type": "stream",
     "text": [
      " 87%|████████▋ | 950/1098 [24:46<03:38,  1.47s/it]"
     ]
    },
    {
     "name": "stdout",
     "output_type": "stream",
     "text": [
      "Bésame>>>No lyrics\n"
     ]
    },
    {
     "name": "stderr",
     "output_type": "stream",
     "text": [
      " 87%|████████▋ | 953/1098 [24:51<03:35,  1.49s/it]"
     ]
    },
    {
     "name": "stdout",
     "output_type": "stream",
     "text": [
      "Con Calma>>>No lyrics\n"
     ]
    },
    {
     "name": "stderr",
     "output_type": "stream",
     "text": [
      " 91%|█████████ | 999/1098 [25:52<02:34,  1.56s/it]"
     ]
    },
    {
     "name": "stdout",
     "output_type": "stream",
     "text": [
      "Instagram>>>No lyrics\n"
     ]
    },
    {
     "name": "stderr",
     "output_type": "stream",
     "text": [
      " 92%|█████████▏| 1008/1098 [26:06<02:25,  1.62s/it]"
     ]
    },
    {
     "name": "stdout",
     "output_type": "stream",
     "text": [
      "Salió El Sol - Remastered 2016>>>No lyrics\n"
     ]
    },
    {
     "name": "stderr",
     "output_type": "stream",
     "text": [
      " 93%|█████████▎| 1018/1098 [26:20<01:51,  1.40s/it]"
     ]
    },
    {
     "name": "stdout",
     "output_type": "stream",
     "text": [
      "Te Quiero Pa´Mi>>>No lyrics\n"
     ]
    },
    {
     "name": "stderr",
     "output_type": "stream",
     "text": [
      " 93%|█████████▎| 1023/1098 [26:26<01:46,  1.42s/it]"
     ]
    },
    {
     "name": "stdout",
     "output_type": "stream",
     "text": [
      "Yo No Se Que Hacer>>>No lyrics\n"
     ]
    },
    {
     "name": "stderr",
     "output_type": "stream",
     "text": [
      " 94%|█████████▎| 1029/1098 [26:34<01:38,  1.42s/it]"
     ]
    },
    {
     "name": "stdout",
     "output_type": "stream",
     "text": [
      "Pa´l recuerdo>>>No lyrics\n"
     ]
    },
    {
     "name": "stderr",
     "output_type": "stream",
     "text": [
      " 95%|█████████▍| 1041/1098 [26:51<01:20,  1.41s/it]"
     ]
    },
    {
     "name": "stdout",
     "output_type": "stream",
     "text": [
      "Sirva Otra Vuelta Pulpero>>>No lyrics\n"
     ]
    },
    {
     "name": "stderr",
     "output_type": "stream",
     "text": [
      "\r",
      " 95%|█████████▍| 1042/1098 [26:53<01:27,  1.57s/it]"
     ]
    },
    {
     "name": "stdout",
     "output_type": "stream",
     "text": [
      "Pensando en Llegar - En Vivo>>>No lyrics\n"
     ]
    },
    {
     "name": "stderr",
     "output_type": "stream",
     "text": [
      " 95%|█████████▌| 1048/1098 [27:00<01:10,  1.41s/it]"
     ]
    },
    {
     "name": "stdout",
     "output_type": "stream",
     "text": [
      "Muere monstruo, muere>>>No lyrics\n"
     ]
    },
    {
     "name": "stderr",
     "output_type": "stream",
     "text": [
      "\r",
      " 96%|█████████▌| 1049/1098 [27:03<01:19,  1.63s/it]"
     ]
    },
    {
     "name": "stdout",
     "output_type": "stream",
     "text": [
      "El Amasijo de un Gran Sueño - En Vivo>>>No lyrics\n"
     ]
    },
    {
     "name": "stderr",
     "output_type": "stream",
     "text": [
      " 96%|█████████▌| 1052/1098 [27:07<01:16,  1.66s/it]"
     ]
    },
    {
     "name": "stdout",
     "output_type": "stream",
     "text": [
      "Popurrí - En Vivo>>>No lyrics\n"
     ]
    },
    {
     "name": "stderr",
     "output_type": "stream",
     "text": [
      "\r",
      " 96%|█████████▌| 1053/1098 [27:09<01:14,  1.65s/it]"
     ]
    },
    {
     "name": "stdout",
     "output_type": "stream",
     "text": [
      "Todo Es en Vano, Si No Hay Amor - En Vivo>>>No lyrics\n"
     ]
    },
    {
     "name": "stderr",
     "output_type": "stream",
     "text": [
      " 96%|█████████▋| 1057/1098 [27:17<01:13,  1.79s/it]"
     ]
    },
    {
     "name": "stdout",
     "output_type": "stream",
     "text": [
      "La Máquina de Picar Carne - En Vivo>>>No lyrics\n"
     ]
    },
    {
     "name": "stderr",
     "output_type": "stream",
     "text": [
      " 97%|█████████▋| 1061/1098 [27:24<01:07,  1.84s/it]"
     ]
    },
    {
     "name": "stdout",
     "output_type": "stream",
     "text": [
      "Debes Saberlo - En Vivo>>>No lyrics\n"
     ]
    },
    {
     "name": "stderr",
     "output_type": "stream",
     "text": [
      " 98%|█████████▊| 1071/1098 [27:38<00:42,  1.57s/it]"
     ]
    },
    {
     "name": "stdout",
     "output_type": "stream",
     "text": [
      "De los Pagos del Tiempo>>>No lyrics\n"
     ]
    },
    {
     "name": "stderr",
     "output_type": "stream",
     "text": [
      "\r",
      " 98%|█████████▊| 1072/1098 [27:40<00:42,  1.65s/it]"
     ]
    },
    {
     "name": "stdout",
     "output_type": "stream",
     "text": [
      "Si Se Calla el Cantor>>>No lyrics\n"
     ]
    },
    {
     "name": "stderr",
     "output_type": "stream",
     "text": [
      " 98%|█████████▊| 1075/1098 [27:45<00:36,  1.61s/it]"
     ]
    },
    {
     "name": "stdout",
     "output_type": "stream",
     "text": [
      "Cuando Duerma la Ciudad>>>No lyrics\n"
     ]
    },
    {
     "name": "stderr",
     "output_type": "stream",
     "text": [
      " 98%|█████████▊| 1077/1098 [27:48<00:34,  1.62s/it]"
     ]
    },
    {
     "name": "stdout",
     "output_type": "stream",
     "text": [
      "Amores Como el Nuestro>>>No lyrics\n"
     ]
    },
    {
     "name": "stderr",
     "output_type": "stream",
     "text": [
      " 98%|█████████▊| 1079/1098 [27:52<00:34,  1.82s/it]"
     ]
    },
    {
     "name": "stdout",
     "output_type": "stream",
     "text": [
      "Gente Que No>>>No lyrics\n"
     ]
    },
    {
     "name": "stderr",
     "output_type": "stream",
     "text": [
      "\r",
      " 98%|█████████▊| 1080/1098 [27:53<00:32,  1.80s/it]"
     ]
    },
    {
     "name": "stdout",
     "output_type": "stream",
     "text": [
      "Re Loco Re Mamado>>>No lyrics\n"
     ]
    },
    {
     "name": "stderr",
     "output_type": "stream",
     "text": [
      "\r",
      " 98%|█████████▊| 1081/1098 [27:55<00:29,  1.76s/it]"
     ]
    },
    {
     "name": "stdout",
     "output_type": "stream",
     "text": [
      "Atrevida>>>No lyrics\n"
     ]
    },
    {
     "name": "stderr",
     "output_type": "stream",
     "text": [
      "\r",
      " 99%|█████████▊| 1082/1098 [27:57<00:29,  1.83s/it]"
     ]
    },
    {
     "name": "stdout",
     "output_type": "stream",
     "text": [
      "Menea para mi>>>No lyrics\n"
     ]
    },
    {
     "name": "stderr",
     "output_type": "stream",
     "text": [
      "\r",
      " 99%|█████████▊| 1083/1098 [27:59<00:27,  1.81s/it]"
     ]
    },
    {
     "name": "stdout",
     "output_type": "stream",
     "text": [
      "Mirá Como Está La Vagancia>>>No lyrics\n"
     ]
    },
    {
     "name": "stderr",
     "output_type": "stream",
     "text": [
      "\r",
      " 99%|█████████▊| 1084/1098 [28:01<00:25,  1.82s/it]"
     ]
    },
    {
     "name": "stdout",
     "output_type": "stream",
     "text": [
      "Batalla Villera>>>No lyrics\n"
     ]
    },
    {
     "name": "stderr",
     "output_type": "stream",
     "text": [
      "\r",
      " 99%|█████████▉| 1085/1098 [28:02<00:23,  1.79s/it]"
     ]
    },
    {
     "name": "stdout",
     "output_type": "stream",
     "text": [
      "Pucho Loco>>>No lyrics\n"
     ]
    },
    {
     "name": "stderr",
     "output_type": "stream",
     "text": [
      " 99%|█████████▉| 1087/1098 [28:06<00:19,  1.76s/it]"
     ]
    },
    {
     "name": "stdout",
     "output_type": "stream",
     "text": [
      "Poli en Acción>>>No lyrics\n"
     ]
    },
    {
     "name": "stderr",
     "output_type": "stream",
     "text": [
      "\r",
      " 99%|█████████▉| 1088/1098 [28:08<00:18,  1.88s/it]"
     ]
    },
    {
     "name": "stdout",
     "output_type": "stream",
     "text": [
      "Que Cara de Idiota Que Tiene Tu Novio>>>No lyrics\n"
     ]
    },
    {
     "name": "stderr",
     "output_type": "stream",
     "text": [
      "\r",
      " 99%|█████████▉| 1089/1098 [28:10<00:16,  1.81s/it]"
     ]
    },
    {
     "name": "stdout",
     "output_type": "stream",
     "text": [
      "Su Mujer>>>No lyrics\n"
     ]
    },
    {
     "name": "stderr",
     "output_type": "stream",
     "text": [
      " 99%|█████████▉| 1091/1098 [28:15<00:15,  2.21s/it]"
     ]
    },
    {
     "name": "stdout",
     "output_type": "stream",
     "text": [
      "Somos Nosotros la Hinchada>>>No lyrics\n"
     ]
    },
    {
     "name": "stderr",
     "output_type": "stream",
     "text": [
      "\r",
      " 99%|█████████▉| 1092/1098 [28:17<00:12,  2.07s/it]"
     ]
    },
    {
     "name": "stdout",
     "output_type": "stream",
     "text": [
      "Tres Teclado al Pedo>>>No lyrics\n"
     ]
    },
    {
     "name": "stderr",
     "output_type": "stream",
     "text": [
      "100%|█████████▉| 1094/1098 [28:20<00:07,  1.90s/it]"
     ]
    },
    {
     "name": "stdout",
     "output_type": "stream",
     "text": [
      "Cumbia en la Playa>>>No lyrics\n"
     ]
    },
    {
     "name": "stderr",
     "output_type": "stream",
     "text": [
      "\r",
      "100%|█████████▉| 1095/1098 [28:22<00:05,  1.85s/it]"
     ]
    },
    {
     "name": "stdout",
     "output_type": "stream",
     "text": [
      "Los Dueños de Pabellon>>>No lyrics\n"
     ]
    },
    {
     "name": "stderr",
     "output_type": "stream",
     "text": [
      "\r",
      "100%|█████████▉| 1096/1098 [28:24<00:04,  2.07s/it]"
     ]
    },
    {
     "name": "stdout",
     "output_type": "stream",
     "text": [
      "Loro Volvé a Tu Jaula>>>No lyrics\n"
     ]
    },
    {
     "name": "stderr",
     "output_type": "stream",
     "text": [
      "\r",
      "100%|█████████▉| 1097/1098 [28:26<00:01,  1.97s/it]"
     ]
    },
    {
     "name": "stdout",
     "output_type": "stream",
     "text": [
      "Solo Aspirina>>>No lyrics\n"
     ]
    },
    {
     "name": "stderr",
     "output_type": "stream",
     "text": [
      "100%|██████████| 1098/1098 [28:28<00:00,  1.56s/it]"
     ]
    },
    {
     "name": "stdout",
     "output_type": "stream",
     "text": [
      "Sufre Cheto>>>No lyrics\n"
     ]
    },
    {
     "name": "stderr",
     "output_type": "stream",
     "text": [
      "\n"
     ]
    }
   ],
   "source": [
    "all_songs = songs_df.copy()\n",
    "all_songs = all_songs.T.to_dict().values()\n",
    "all_songs = add_lyrics_to_data(all_songs)\n",
    "#i=0\n",
    "#for song in all_songs:\n",
    "#    i+=1\n",
    "#    print(song[\"artists\"][0])\n",
    "#    if i > 10:\n",
    "#        break\n",
    "#all_songs"
   ]
  },
  {
   "cell_type": "code",
   "execution_count": 47,
   "metadata": {},
   "outputs": [
    {
     "data": {
      "text/plain": [
       "1098"
      ]
     },
     "execution_count": 47,
     "metadata": {},
     "output_type": "execute_result"
    }
   ],
   "source": [
    "songs_base = pd.DataFrame(all_songs)\n",
    "len(all_songs)\n"
   ]
  },
  {
   "cell_type": "code",
   "execution_count": 50,
   "metadata": {},
   "outputs": [
    {
     "data": {
      "text/html": [
       "<div>\n",
       "<style scoped>\n",
       "    .dataframe tbody tr th:only-of-type {\n",
       "        vertical-align: middle;\n",
       "    }\n",
       "\n",
       "    .dataframe tbody tr th {\n",
       "        vertical-align: top;\n",
       "    }\n",
       "\n",
       "    .dataframe thead th {\n",
       "        text-align: right;\n",
       "    }\n",
       "</style>\n",
       "<table border=\"1\" class=\"dataframe\">\n",
       "  <thead>\n",
       "    <tr style=\"text-align: right;\">\n",
       "      <th></th>\n",
       "      <th>album_id</th>\n",
       "      <th>album_name</th>\n",
       "      <th>artists</th>\n",
       "      <th>artists_id</th>\n",
       "      <th>audio_features</th>\n",
       "      <th>genres</th>\n",
       "      <th>lyrics</th>\n",
       "      <th>song_id</th>\n",
       "      <th>song_name</th>\n",
       "    </tr>\n",
       "  </thead>\n",
       "  <tbody>\n",
       "    <tr>\n",
       "      <th>744</th>\n",
       "      <td>2Z1OKCVyqJ1lMHTU612E07</td>\n",
       "      <td>No Hay Imposibles</td>\n",
       "      <td>[Chayanne]</td>\n",
       "      <td>[1JbemQ1fPt2YmSLjAFhPBv]</td>\n",
       "      <td>{'danceability': 0.557, 'energy': 0.523, 'key'...</td>\n",
       "      <td>[latin, latin pop, puerto rican pop, tropical]</td>\n",
       "      <td>[siento, palabra, llegar, a, milimetro, y, esf...</td>\n",
       "      <td>5BHOvdkbRanV1tIWaxKSvR</td>\n",
       "      <td>Siento</td>\n",
       "    </tr>\n",
       "    <tr>\n",
       "      <th>850</th>\n",
       "      <td>4SiLNaIeJ75aIJz13HjLZr</td>\n",
       "      <td>Esto Es Estopa (Directo Acústico)</td>\n",
       "      <td>[Estopa, Vicentico]</td>\n",
       "      <td>[5ZqnEfVdEGmoPxtELhN7ai, 25THA9HUHoxpCT4LBp7UsZ]</td>\n",
       "      <td>{'danceability': 0.665, 'energy': 0.907, 'key'...</td>\n",
       "      <td>[rumba, spanish pop]</td>\n",
       "      <td>[fuí, a, orillar, reír, y, ver, estar, vi, hab...</td>\n",
       "      <td>5WYAUge1BJ98gSmxH9AbzG</td>\n",
       "      <td>Tu Calorro (feat. Vicentico) - Directo Acústico</td>\n",
       "    </tr>\n",
       "    <tr>\n",
       "      <th>7</th>\n",
       "      <td>5IyVKrEhTZhhTbUsB8xdl6</td>\n",
       "      <td>Mundo Guanaco</td>\n",
       "      <td>[Almafuerte]</td>\n",
       "      <td>[6qYd7xlmeeeDkPfx6mZ9PV]</td>\n",
       "      <td>{'danceability': 0.577, 'energy': 0.85, 'key':...</td>\n",
       "      <td>[argentine heavy metal, argentine metal, argen...</td>\n",
       "      <td>[mañana, y, achique, pibe, marchar, pedalear, ...</td>\n",
       "      <td>6p5SbKcAnIECU3hoFkZlPQ</td>\n",
       "      <td>El Pibe Tigre</td>\n",
       "    </tr>\n",
       "  </tbody>\n",
       "</table>\n",
       "</div>"
      ],
      "text/plain": [
       "                   album_id                         album_name  \\\n",
       "744  2Z1OKCVyqJ1lMHTU612E07                  No Hay Imposibles   \n",
       "850  4SiLNaIeJ75aIJz13HjLZr  Esto Es Estopa (Directo Acústico)   \n",
       "7    5IyVKrEhTZhhTbUsB8xdl6                      Mundo Guanaco   \n",
       "\n",
       "                 artists                                        artists_id  \\\n",
       "744           [Chayanne]                          [1JbemQ1fPt2YmSLjAFhPBv]   \n",
       "850  [Estopa, Vicentico]  [5ZqnEfVdEGmoPxtELhN7ai, 25THA9HUHoxpCT4LBp7UsZ]   \n",
       "7           [Almafuerte]                          [6qYd7xlmeeeDkPfx6mZ9PV]   \n",
       "\n",
       "                                        audio_features  \\\n",
       "744  {'danceability': 0.557, 'energy': 0.523, 'key'...   \n",
       "850  {'danceability': 0.665, 'energy': 0.907, 'key'...   \n",
       "7    {'danceability': 0.577, 'energy': 0.85, 'key':...   \n",
       "\n",
       "                                                genres  \\\n",
       "744     [latin, latin pop, puerto rican pop, tropical]   \n",
       "850                               [rumba, spanish pop]   \n",
       "7    [argentine heavy metal, argentine metal, argen...   \n",
       "\n",
       "                                                lyrics  \\\n",
       "744  [siento, palabra, llegar, a, milimetro, y, esf...   \n",
       "850  [fuí, a, orillar, reír, y, ver, estar, vi, hab...   \n",
       "7    [mañana, y, achique, pibe, marchar, pedalear, ...   \n",
       "\n",
       "                    song_id                                        song_name  \n",
       "744  5BHOvdkbRanV1tIWaxKSvR                                           Siento  \n",
       "850  5WYAUge1BJ98gSmxH9AbzG  Tu Calorro (feat. Vicentico) - Directo Acústico  \n",
       "7    6p5SbKcAnIECU3hoFkZlPQ                                    El Pibe Tigre  "
      ]
     },
     "execution_count": 50,
     "metadata": {},
     "output_type": "execute_result"
    }
   ],
   "source": [
    "# sanitize\n",
    "bool_series = pd.notnull(songs_base[\"lyrics\"])\n",
    "songs_base = songs_base[bool_series]\n",
    "songs_base.sample(3)"
   ]
  },
  {
   "cell_type": "markdown",
   "metadata": {},
   "source": [
    "#### Notas del profe\n",
    "\n",
    "Primero, la letra en sí no se usa, igual que el nombre de la canción. Los n gramas tampoco.\n",
    "\n",
    "Lo que sí se puede usar son datos obtenidos en base al texto de las canciones, el ejemplo por excelencia es hacer sentiment analysis\n",
    "\n",
    "Ver\n",
    "https://elitedatascience.com/python-nlp-libraries\n"
   ]
  },
  {
   "cell_type": "markdown",
   "metadata": {},
   "source": [
    "### 2) Elegir tres modelos de clasificadores multiclase\n",
    "\n",
    "Aquí escogeremos tres modelos diferentes y luego compararemos su rendimiento para esta tarea. El procedimiento será el siguiente:\n",
    "- Inicializar los modelos\n",
    "- Entrenarlos usando el split **train** de los datos\n",
    "\n",
    "**Recomendación:**\n",
    "- Prestar atención a la [documentación de sklearn](https://scikit-learn.org/stable/)"
   ]
  },
  {
   "cell_type": "code",
   "execution_count": null,
   "metadata": {},
   "outputs": [],
   "source": []
  },
  {
   "cell_type": "markdown",
   "metadata": {},
   "source": [
    "### 3) Informe: Comparar el rendimiento de los modelos\n",
    "\n",
    "Una vez entrenados los tres modelos, compararemos su rendimiento:\n",
    "- Correr los modelos usando el split **test**\n",
    "- Obtener el reporte de clasificación y la matriz de confusión para cada modelo\n",
    "- Graficar llevando a 2 dimensiones nuestro split **test** pintando con colores diferentes según la etiqueta correspondiente.\n",
    "- Graficar de manera similar los resultados obtenidos con cada clasificador y sobre esto la función de clasificación obtenida.\n",
    "- Guardar los modelos usando **pickle**\n",
    "- Discutir los resultados obtenidos\n",
    "\n",
    "**Recomendación:**\n",
    "- Prestar atención a la [documentación de sklearn](https://scikit-learn.org/stable/)"
   ]
  },
  {
   "cell_type": "code",
   "execution_count": null,
   "metadata": {},
   "outputs": [],
   "source": []
  },
  {
   "cell_type": "markdown",
   "metadata": {},
   "source": [
    "### 4) Tareas adicionales:\n",
    "\n",
    "Estas tareas servirán para extrapolar un poco el trabajo básico, y también sumarán puntos extra. Deben elegir una o más de las siguientes:\n",
    "-  Análisis sobre el balance de clases del dataset, balanceo usando **subsampling** u **oversampling** y comparación de resultados vs el modelo básico\n",
    "- Optimización de hiperparámetros y comparación de resultados vs el modelo básico\n",
    "- Graficar importancia de features\n",
    "- Graficar correlación de features\n",
    "\n",
    "**Recomendación:**\n",
    "- Hacer varias ahora puede ahorrarles tiempo en el futuro"
   ]
  },
  {
   "cell_type": "code",
   "execution_count": null,
   "metadata": {},
   "outputs": [],
   "source": []
  }
 ],
 "metadata": {
  "kernelspec": {
   "display_name": "Python 3",
   "language": "python",
   "name": "python3"
  },
  "language_info": {
   "codemirror_mode": {
    "name": "ipython",
    "version": 3
   },
   "file_extension": ".py",
   "mimetype": "text/x-python",
   "name": "python",
   "nbconvert_exporter": "python",
   "pygments_lexer": "ipython3",
   "version": "3.6.9"
  }
 },
 "nbformat": 4,
 "nbformat_minor": 2
}
